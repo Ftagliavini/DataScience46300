{
 "cells": [
  {
   "cell_type": "code",
   "execution_count": null,
   "id": "3b7e084e-08ea-4838-b94c-ba7225860cff",
   "metadata": {},
   "outputs": [],
   "source": []
  },
  {
   "cell_type": "code",
   "execution_count": null,
   "id": "0a85627c-9821-4b8f-b252-1648230de510",
   "metadata": {},
   "outputs": [],
   "source": []
  },
  {
   "cell_type": "markdown",
   "id": "f157778c",
   "metadata": {},
   "source": [
    "# Entrega N° 10 - Algoritmo de Machine Learning"
   ]
  },
  {
   "cell_type": "markdown",
   "id": "f4dc327c",
   "metadata": {},
   "source": [
    "\n",
    "|Autor|Fecha|\n",
    "|:----:|:----:|\n",
    "|Francisco Tagliavini|2024-03-04|\n"
   ]
  },
  {
   "cell_type": "markdown",
   "id": "a73000b8",
   "metadata": {},
   "source": [
    "## Motivo\n",
    "\n",
    "Determinación de capacidad adquisitiva de las personas, ingreso anual"
   ]
  },
  {
   "cell_type": "markdown",
   "id": "4d818f83",
   "metadata": {},
   "source": [
    "## Audiencia\n",
    "\n",
    "Puede haber intereses respecto a nivel academico obtenido.\n",
    "Para entidades de crédito de acuerdo a capacidad de pago."
   ]
  },
  {
   "cell_type": "markdown",
   "id": "a93aaf9c",
   "metadata": {},
   "source": [
    "## Contexto comercial\n",
    "\n",
    "Brindar información de de capacidad de ingreso y crédito de las personas.\n",
    "Para poder determinar si tiene capacidad de pago de deuda."
   ]
  },
  {
   "cell_type": "markdown",
   "id": "9a433db1",
   "metadata": {},
   "source": [
    "## OBJETIVO:\n",
    "\n",
    "Se propone predecir mediante ML si una persona puede superar un cierto ingreso anual o no.\n",
    "En este análisis el resultado presenta solo 2 opciones, siendo la variable categórica y dicotómica.['<50k' ; '>50k']\n",
    "El dataset propuesto ya cuente con información de la variable a predecir.\n",
    "En este escenario el MODELO propuesto es de CLASIFICACIÓN.\n",
    "\n",
    "Asimismo, las categorías existentes del datasets nos permiten poder trabajar con algunas relaciones e intentar establecer si existe algun tipo de correlación más alta entre algunas de estas con otras variables ademas de la variable objetivo.\n",
    "\n",
    "Para este tipo de análisis se puede utilizar el método de Hipótesis nula, en dónde proponemos una conclusión a la que debemos rechazar, por ejemplo:\n",
    "\n",
    "* Las mujeres tienen ingrresos significativamente más bajos que los hombre\n",
    "* Las persinas que trabajan menos horas tienen ingresos significativamente más bajos\n",
    "* Las personas de raza ' Amer-Indian-Eskimo' tienen ingresos mas bajos\n",
    "* Las personas de america latina tienen ingresos menores\n",
    "* Las personas con mayores niveles de educación alcanzados son mayormente casados\n",
    "\n",
    "Las condiciones de rechazo, se establecen a partir de un humbral de confiabibilidad, en donde se observa que la condicion de la Hipótesis nula queda por fuera del nivel de confiaza, esta es rechazada - indicando que no hay información suficiente en la muestra (o dataset) que permita validar la hipótesis planteada.\n",
    "\n",
    "Para una primera aproximación, con un análisis bivariado mediante una gráfica de mapa de puntos (scatter plot) se prodría visualizar si existe algún tipo de relación.\n"
   ]
  },
  {
   "cell_type": "markdown",
   "id": "ca672d7a",
   "metadata": {},
   "source": [
    "## Interes por análisis del dataset con un método no supervisado [Parte II]\n",
    "\n",
    "Se prodría analizar el DataSet sin el valor de la etiqueta, analizar mediante un sistema no supervisado y analizar mediate el método k-mains y el método de codos si el posible detetar más categorías.\n"
   ]
  },
  {
   "cell_type": "markdown",
   "id": "c7f5f890",
   "metadata": {},
   "source": [
    "# Cargo las librerias que voy a utilizar"
   ]
  },
  {
   "cell_type": "code",
   "execution_count": null,
   "id": "8ff412ab",
   "metadata": {},
   "outputs": [],
   "source": [
    "import numpy as np\n",
    "import pandas as pd\n",
    "import matplotlib as mpl\n",
    "import matplotlib.pyplot as plt\n",
    "import seaborn as sns"
   ]
  },
  {
   "cell_type": "markdown",
   "id": "436d9796",
   "metadata": {},
   "source": [
    "# 1.- Leo el dataset (archivo.csv)\n",
    "* Me fijo si se lee bien con los primeros 3 registros"
   ]
  },
  {
   "cell_type": "code",
   "execution_count": null,
   "id": "ce79baf9",
   "metadata": {},
   "outputs": [],
   "source": [
    "df = pd.read_csv('dataset.csv')\n",
    "df.head(3)"
   ]
  },
  {
   "cell_type": "markdown",
   "id": "bfff1565",
   "metadata": {},
   "source": [
    "# 2.- Analisis exploratorio de datos (EDA)"
   ]
  },
  {
   "cell_type": "markdown",
   "id": "2affb46d",
   "metadata": {},
   "source": [
    "## 2.1.- Acercamiento al dataset"
   ]
  },
  {
   "cell_type": "markdown",
   "id": "53205f88",
   "metadata": {},
   "source": [
    "### Pruebo con el método info()\n",
    "Resumen del dataset luego de la carga"
   ]
  },
  {
   "cell_type": "code",
   "execution_count": null,
   "id": "b4f02e25",
   "metadata": {
    "scrolled": true
   },
   "outputs": [],
   "source": [
    "df.info()"
   ]
  },
  {
   "cell_type": "markdown",
   "id": "bc453531",
   "metadata": {},
   "source": [
    "# sigo analizando el tamaño del data set\n",
    "Determino cunatos registros tiene el dataset y sus campos"
   ]
  },
  {
   "cell_type": "code",
   "execution_count": null,
   "id": "d3d39061",
   "metadata": {},
   "outputs": [],
   "source": [
    "df.shape"
   ]
  },
  {
   "cell_type": "markdown",
   "id": "81f72d87",
   "metadata": {},
   "source": [
    "## Analizo los campos numericos media, mediana, min, max y percentiles\n",
    "Analizo solo los campos que son numéricos para establecer las variaciones, dispersión y demas valores de tendencia central para tener una idea/detalle del campo"
   ]
  },
  {
   "cell_type": "code",
   "execution_count": null,
   "id": "fff7bbca",
   "metadata": {
    "scrolled": true
   },
   "outputs": [],
   "source": [
    "df.describe().T"
   ]
  },
  {
   "cell_type": "markdown",
   "id": "eeda9fb2",
   "metadata": {},
   "source": [
    "## Veo los campos disponibles\n",
    "Listo todos los nombres de las columnas"
   ]
  },
  {
   "cell_type": "code",
   "execution_count": null,
   "id": "cae37c9d",
   "metadata": {},
   "outputs": [],
   "source": [
    "df.columns"
   ]
  },
  {
   "cell_type": "markdown",
   "id": "26df65ce",
   "metadata": {},
   "source": [
    "## Consulto por lo tipos de datos de los campos del dataset...\n",
    "Veo que tipo de datos tiene cada campos del dataset"
   ]
  },
  {
   "cell_type": "code",
   "execution_count": null,
   "id": "af274e26",
   "metadata": {},
   "outputs": [],
   "source": [
    "df.dtypes"
   ]
  },
  {
   "cell_type": "markdown",
   "id": "48826063",
   "metadata": {},
   "source": [
    "\n",
    "## Modelo de ML de clasificación o supervisado en donde ya se encuentra dentro del data set una muestra del universo de ingresos con datos de la variable\n",
    "## El objetivo es encontrar un modelo a partir de un entrenamiento (FIT) basado en una fracción del dataset para luego realizar una prueba (TEST) del modelo para obtener una buena predicción y así poder realizar predicciones para futuros casos"
   ]
  },
  {
   "cell_type": "markdown",
   "id": "542802fa",
   "metadata": {},
   "source": [
    "## **Distribución de la variable dependiente **\n",
    "### Vamos a conocer como es la variable a determinar"
   ]
  },
  {
   "cell_type": "code",
   "execution_count": null,
   "id": "b8b3e01b",
   "metadata": {},
   "outputs": [],
   "source": [
    "df['income'].value_counts().plot(kind='bar')"
   ]
  },
  {
   "cell_type": "markdown",
   "id": "9ff29329",
   "metadata": {},
   "source": [
    "# Diccionario de campos y variables\n",
    "\n",
    "* age numerico entero - puedo analizar la distribución de rango etarios de la población del dataset (74 categorias de edad)\n",
    "* workclass: string (8 categorias) hay un valor no definido \n",
    "* fnlwgt: \n",
    "* education: string (16 categorias)\n",
    "* education-num: numerico entero\n",
    "* marital-status: string (7 categorias)\n",
    "* occupation: string (15 categorias)\n",
    "* relationship: string (6 categorias)\n",
    "* race: string (6 categorias)\n",
    "* sex: string (2 categorias)\n",
    "* capital-gain:\n",
    "* capital-loss:\n",
    "* hours-per-week:\n",
    "* native-country:\n",
    "* income:"
   ]
  },
  {
   "cell_type": "markdown",
   "id": "8e8634b8",
   "metadata": {},
   "source": [
    "## 2.2.- Exploración y Limpieza de datos\n",
    "\n",
    "##### Manupulación de datos, vistas, formatos, automatización de ETL\n",
    "\n",
    "##### Detección de nulos, detección de duplicados, detección de outliers\n",
    "\n",
    "##### Determinacion de métodos de rellenados/reemplazo/eliminación (cuantitativo - cualitativo/categórico)\n",
    "\n",
    "##### Creación de nuevos campos - categorias"
   ]
  },
  {
   "cell_type": "code",
   "execution_count": null,
   "id": "accec6fe",
   "metadata": {
    "scrolled": true
   },
   "outputs": [],
   "source": [
    "df.head()"
   ]
  },
  {
   "cell_type": "markdown",
   "id": "2fe30d18",
   "metadata": {},
   "source": [
    "### Elimino la columna 'Unnamed:0'\n",
    "#### sobre el mismo dataframe"
   ]
  },
  {
   "cell_type": "code",
   "execution_count": null,
   "id": "76e2001f",
   "metadata": {
    "scrolled": true
   },
   "outputs": [],
   "source": [
    "df.drop(\"Unnamed: 0\", axis=1,inplace=True)\n",
    "df.head()"
   ]
  },
  {
   "cell_type": "code",
   "execution_count": null,
   "id": "e7f16fd7",
   "metadata": {},
   "outputs": [],
   "source": [
    "df.plot(kind=\"scatter\",     # Create a scatterplot\n",
    "              x='education-num',          # Put carat on the x axis\n",
    "              y='education',          # Put price on the y axis\n",
    "              figsize=(12,6))"
   ]
  },
  {
   "cell_type": "markdown",
   "id": "bb3a5f5f",
   "metadata": {},
   "source": [
    "### Acá vemos que hay una relación biunívoca (biyectiva) entre 'education' y 'education-num'\n",
    "### es decir representan lo mismo, este valor esta duplicado y no aporta valor al dataset\n",
    "### se propone eliminar"
   ]
  },
  {
   "cell_type": "code",
   "execution_count": null,
   "id": "9f659e59",
   "metadata": {},
   "outputs": [],
   "source": [
    "df.drop('education-num', axis=1,inplace=True)\n",
    "df.head()"
   ]
  },
  {
   "cell_type": "code",
   "execution_count": null,
   "id": "43cb25fe",
   "metadata": {},
   "outputs": [],
   "source": [
    "df['capital-gain'].value_counts()"
   ]
  },
  {
   "cell_type": "code",
   "execution_count": null,
   "id": "98f53518",
   "metadata": {},
   "outputs": [],
   "source": [
    "df['capital-loss'].value_counts()"
   ]
  },
  {
   "cell_type": "markdown",
   "id": "f84803a6",
   "metadata": {},
   "source": [
    "## los campos de 'capital-gain' y 'capital-loss' tienen la mayor parte de los registros cargados con valor '0'\n",
    "## no aportan nada concluyente - propongo eliminarlos"
   ]
  },
  {
   "cell_type": "code",
   "execution_count": null,
   "id": "a96f6693",
   "metadata": {},
   "outputs": [],
   "source": [
    "df.drop('capital-gain', axis=1,inplace=True)\n",
    "df.drop('capital-loss', axis=1,inplace=True)\n",
    "df.head()"
   ]
  },
  {
   "cell_type": "markdown",
   "id": "807bf6df",
   "metadata": {},
   "source": [
    "### 2.2.1.- MANEJO DE NULOS Y CARACTERES ESPECIALES"
   ]
  },
  {
   "cell_type": "markdown",
   "id": "eb9fcde8",
   "metadata": {},
   "source": [
    " #### Uso de la librería missigno"
   ]
  },
  {
   "cell_type": "code",
   "execution_count": null,
   "id": "7dad50ad",
   "metadata": {},
   "outputs": [],
   "source": [
    "!pip install missingno"
   ]
  },
  {
   "cell_type": "code",
   "execution_count": null,
   "id": "86cf8456",
   "metadata": {},
   "outputs": [],
   "source": [
    "import missingno as msno"
   ]
  },
  {
   "cell_type": "code",
   "execution_count": null,
   "id": "428d3eae",
   "metadata": {},
   "outputs": [],
   "source": [
    "msno.matrix(df)"
   ]
  },
  {
   "cell_type": "markdown",
   "id": "df024456",
   "metadata": {},
   "source": [
    "### Veo 3 columnas con valores nulos\n",
    "### vamos a realizar un primer análisis de cada una"
   ]
  },
  {
   "cell_type": "code",
   "execution_count": null,
   "id": "1e791917",
   "metadata": {},
   "outputs": [],
   "source": [
    "df['workclass'].value_counts().plot(kind='bar')"
   ]
  },
  {
   "cell_type": "markdown",
   "id": "9db3dc0c",
   "metadata": {},
   "source": [
    "## Se observa que hay registros en el dataset 'workclass' con signo '?'\n",
    "## Se debe analizar rellenado"
   ]
  },
  {
   "cell_type": "code",
   "execution_count": null,
   "id": "6be82ab8",
   "metadata": {
    "scrolled": true
   },
   "outputs": [],
   "source": [
    "df['occupation'].value_counts().plot(kind='bar')"
   ]
  },
  {
   "cell_type": "markdown",
   "id": "e7733709",
   "metadata": {},
   "source": [
    "## Se observa que hay registros en el dataset 'occupation' con signo '?'\n",
    "## Se debe analizar rellenado"
   ]
  },
  {
   "cell_type": "code",
   "execution_count": null,
   "id": "8a3496f1",
   "metadata": {},
   "outputs": [],
   "source": [
    "df['native-country'].value_counts().plot(kind='bar')"
   ]
  },
  {
   "cell_type": "markdown",
   "id": "42e5b69a",
   "metadata": {},
   "source": [
    "## Se observa que hay registros en el dataset 'native-country' con signo '?'\n",
    "## Se debe analizar rellenado"
   ]
  },
  {
   "cell_type": "code",
   "execution_count": null,
   "id": "3eb26a90",
   "metadata": {},
   "outputs": [],
   "source": [
    "df.isna().sum()"
   ]
  },
  {
   "cell_type": "markdown",
   "id": "1d3a4f52",
   "metadata": {},
   "source": [
    "## vamos a limpiar los registros '?'"
   ]
  },
  {
   "cell_type": "code",
   "execution_count": null,
   "id": "31e1cd19",
   "metadata": {},
   "outputs": [],
   "source": [
    "pd.crosstab(index=df['occupation'],columns=df['workclass'])"
   ]
  },
  {
   "cell_type": "markdown",
   "id": "93e8f078",
   "metadata": {},
   "source": [
    "### Si elimino los registros que tengan '?' limpio el datasets\n",
    "### Si elimino por el campo ' occupation' elimino la categiría 'Never-worked'\n",
    "### Total son 1843 registros sobre 48842"
   ]
  },
  {
   "cell_type": "code",
   "execution_count": null,
   "id": "670281e8",
   "metadata": {},
   "outputs": [],
   "source": [
    "indices_borrar = df[df['occupation'] == '?'].index\n",
    "df1 = df.drop(indices_borrar)"
   ]
  },
  {
   "cell_type": "code",
   "execution_count": null,
   "id": "7bb0bf16",
   "metadata": {},
   "outputs": [],
   "source": [
    "df1['occupation'].value_counts()"
   ]
  },
  {
   "cell_type": "code",
   "execution_count": null,
   "id": "0a07417c",
   "metadata": {},
   "outputs": [],
   "source": [
    "df1['workclass'].value_counts()"
   ]
  },
  {
   "cell_type": "code",
   "execution_count": null,
   "id": "d2d0bf30",
   "metadata": {},
   "outputs": [],
   "source": [
    "df1.shape"
   ]
  },
  {
   "cell_type": "code",
   "execution_count": null,
   "id": "a9793302",
   "metadata": {},
   "outputs": [],
   "source": [
    "df1.isna().sum()"
   ]
  },
  {
   "cell_type": "markdown",
   "id": "fec3cb21",
   "metadata": {},
   "source": [
    "##### También parece que tienen la misma distribución de campos nulos\n",
    "##### Vamos a verificarlo"
   ]
  },
  {
   "cell_type": "code",
   "execution_count": null,
   "id": "f4eb8b0e",
   "metadata": {},
   "outputs": [],
   "source": [
    "#total de nulos en 'occupation'\n",
    "df1['occupation'].isna().sum()"
   ]
  },
  {
   "cell_type": "code",
   "execution_count": null,
   "id": "4f8786e9",
   "metadata": {
    "scrolled": true
   },
   "outputs": [],
   "source": [
    "df1['occupation'].value_counts()"
   ]
  },
  {
   "cell_type": "code",
   "execution_count": null,
   "id": "3f1ffb4d",
   "metadata": {},
   "outputs": [],
   "source": [
    "#total de nulos en 'workclass'\n",
    "df1['workclass'].isna().sum()"
   ]
  },
  {
   "cell_type": "code",
   "execution_count": null,
   "id": "2e07bb23",
   "metadata": {},
   "outputs": [],
   "source": [
    "df1['workclass'].value_counts()"
   ]
  },
  {
   "cell_type": "code",
   "execution_count": null,
   "id": "305aa318",
   "metadata": {},
   "outputs": [],
   "source": [
    "df1.loc[df1['workclass'].isna()][['workclass','occupation','native-country']].count()"
   ]
  },
  {
   "cell_type": "markdown",
   "id": "8e7a496c",
   "metadata": {},
   "source": [
    "### Todos nan de 'workclass' son nan en 'occupation'"
   ]
  },
  {
   "cell_type": "code",
   "execution_count": null,
   "id": "c855beb3",
   "metadata": {},
   "outputs": [],
   "source": [
    "indice_nulos = df1[df1['workclass'].isna()].index\n",
    "df1.drop(indice_nulos,inplace=True)\n",
    "df1.shape"
   ]
  },
  {
   "cell_type": "code",
   "execution_count": null,
   "id": "e5e00c27",
   "metadata": {},
   "outputs": [],
   "source": [
    "df1.isna().sum()"
   ]
  },
  {
   "cell_type": "code",
   "execution_count": null,
   "id": "b980587b",
   "metadata": {},
   "outputs": [],
   "source": [
    "df1[df1['occupation'].isna()]"
   ]
  },
  {
   "cell_type": "markdown",
   "id": "c6d69fae",
   "metadata": {},
   "source": [
    "### estos 3 registros corresponden a la categoría 'Never-worked'"
   ]
  },
  {
   "cell_type": "code",
   "execution_count": null,
   "id": "d3ec9633",
   "metadata": {},
   "outputs": [],
   "source": [
    "indice_never_worked = df1[df1['occupation'].isna()].index\n",
    "df1.drop(indice_never_worked, inplace=True)\n",
    "df1.shape"
   ]
  },
  {
   "cell_type": "code",
   "execution_count": null,
   "id": "236923e9",
   "metadata": {},
   "outputs": [],
   "source": [
    "df1.isna().sum()"
   ]
  },
  {
   "cell_type": "code",
   "execution_count": null,
   "id": "acf18d42",
   "metadata": {},
   "outputs": [],
   "source": [
    "df1.loc[df1['native-country'].isna()]"
   ]
  },
  {
   "cell_type": "markdown",
   "id": "cfddd385",
   "metadata": {},
   "source": [
    "## Me quedan estos 255 registros que no tienen 'native-country'\n",
    "## Tengo que elegir \n",
    "### eliminar, rellenar con la moda (usa)"
   ]
  },
  {
   "cell_type": "markdown",
   "id": "7a7f8399",
   "metadata": {},
   "source": [
    "### CONCLUSIONES ELIMINAR NULOS\n",
    "1.- El objetivo es poder predecir si una persona puede o no ganar más de U$S50k anualmente...\n",
    "2.- Las personas que nunca trabajaron y participaron son muy pocas...pero es correcto que no hayan aportado ocupación.\n",
    "3.- En total tenemos casi 49.000 registros\n",
    "4.- Se observa que se indican horas de trabajo e incluso algunos han indicado ganancias\n",
    "5.- Existe algún aporte/valor de información asociada a las personas que nunca trabajaron o las que no detallaron su occupación\n",
    "6.- Es un segmento/muestra de la población válida, es posible inferir que no es suficientemente representativa\n",
    "\n",
    "Se pueden eliminar los registros que tengan np.nan en los campos 'occupation' y 'workclass'\n"
   ]
  },
  {
   "cell_type": "markdown",
   "id": "ad4a8a43",
   "metadata": {},
   "source": [
    "1.- Hay 1836 registros en los cuales no se informa 'occupation' ni 'workclass'\n",
    "2.- hay registros que fueron registrados con '?' otros vacíos 'null'/'nan'\n",
    "3.- Tienen ambos campos una correlación fuerte y se podría eliminar una.\n",
    "4.- 'workclass' tiene 9 categorias\n",
    "5.- 'occupation' tiene 15 categorias\n"
   ]
  },
  {
   "cell_type": "markdown",
   "id": "a3dc137b",
   "metadata": {},
   "source": [
    "### 2.2.2.- DUPLICADOS"
   ]
  },
  {
   "cell_type": "code",
   "execution_count": null,
   "id": "3a185e7e",
   "metadata": {},
   "outputs": [],
   "source": [
    "df1.duplicated().sum()"
   ]
  },
  {
   "cell_type": "code",
   "execution_count": null,
   "id": "57e746cb",
   "metadata": {
    "scrolled": true
   },
   "outputs": [],
   "source": [
    "df1[df1.duplicated()]"
   ]
  },
  {
   "cell_type": "markdown",
   "id": "df6b0948",
   "metadata": {},
   "source": [
    "### No observo duplicados - en principio descarto hacer algo con estos registros"
   ]
  },
  {
   "cell_type": "markdown",
   "id": "9edad275",
   "metadata": {},
   "source": [
    "# Análisis storytelling"
   ]
  },
  {
   "cell_type": "markdown",
   "id": "6adec18e",
   "metadata": {
    "scrolled": true
   },
   "source": [
    "### 1.- Cómo se encuentra distribuida la muestra respecto al sexo?"
   ]
  },
  {
   "cell_type": "code",
   "execution_count": null,
   "id": "e69e0327",
   "metadata": {
    "scrolled": true
   },
   "outputs": [],
   "source": [
    "df1['sex'].value_counts().plot(kind='pie', title= 'Distribución por sexo en el dataset',legend=True, ylabel='')"
   ]
  },
  {
   "cell_type": "markdown",
   "id": "b5b46f23",
   "metadata": {},
   "source": [
    "## más registros de hombres que mujeres"
   ]
  },
  {
   "cell_type": "markdown",
   "id": "a5aa7680",
   "metadata": {},
   "source": [
    "## 2.- Distribución de acuerdo a la raza"
   ]
  },
  {
   "cell_type": "code",
   "execution_count": null,
   "id": "19002d48",
   "metadata": {},
   "outputs": [],
   "source": [
    "df1['race'].value_counts().plot(kind='bar')"
   ]
  },
  {
   "cell_type": "markdown",
   "id": "ed0f19a3",
   "metadata": {},
   "source": [
    "## predominio de raza blanca"
   ]
  },
  {
   "cell_type": "markdown",
   "id": "56cd3d8e",
   "metadata": {},
   "source": [
    "## 3.- Distribución de acuerdo al nivel de educacion"
   ]
  },
  {
   "cell_type": "code",
   "execution_count": null,
   "id": "be49ac30",
   "metadata": {},
   "outputs": [],
   "source": [
    "df1['education'].value_counts().plot(kind='bar',figsize=(12,6))"
   ]
  },
  {
   "cell_type": "markdown",
   "id": "516898de",
   "metadata": {},
   "source": [
    "## los primeras 3 categorías sellevan un número mayoritario de registros"
   ]
  },
  {
   "cell_type": "markdown",
   "id": "8f0fb82b",
   "metadata": {},
   "source": [
    "## 4.- Distribución por relación/vínculo "
   ]
  },
  {
   "cell_type": "code",
   "execution_count": null,
   "id": "527d93ed",
   "metadata": {
    "scrolled": true
   },
   "outputs": [],
   "source": [
    "df1['marital-status'].value_counts().plot(kind='bar')"
   ]
  },
  {
   "cell_type": "markdown",
   "id": "1d81dab5",
   "metadata": {},
   "source": [
    "## predomina casados"
   ]
  },
  {
   "cell_type": "markdown",
   "id": "38c26271-6faf-4d53-92c6-c3e718cd24dd",
   "metadata": {},
   "source": [
    "### Hay 3 categorias que corresponden a Married.\n",
    "### propongo unificar las categorías a una sola..."
   ]
  },
  {
   "cell_type": "code",
   "execution_count": null,
   "id": "cf6c56f1-811d-40a5-800d-005f311a7a7e",
   "metadata": {},
   "outputs": [],
   "source": [
    "df1['marital-status'].unique()"
   ]
  },
  {
   "cell_type": "code",
   "execution_count": null,
   "id": "7c04e78f-6e32-46ec-a046-809934ee19b0",
   "metadata": {},
   "outputs": [],
   "source": [
    "df1['marital-status'].nunique()"
   ]
  },
  {
   "cell_type": "code",
   "execution_count": null,
   "id": "689d9add-3d98-475c-b01e-304bc822ba0c",
   "metadata": {},
   "outputs": [],
   "source": [
    "df1['marital-status'] = df1['marital-status'].apply(lambda x: 'Married' if 'Married' in x else x)"
   ]
  },
  {
   "cell_type": "code",
   "execution_count": null,
   "id": "8d5eef11-deb1-4e9d-9021-c33f6b19a4f7",
   "metadata": {},
   "outputs": [],
   "source": [
    "df1.head()"
   ]
  },
  {
   "cell_type": "code",
   "execution_count": null,
   "id": "d29a94f8-9fc5-4390-be91-75ecbe0e5bdf",
   "metadata": {},
   "outputs": [],
   "source": [
    "df1['marital-status'].nunique()"
   ]
  },
  {
   "cell_type": "code",
   "execution_count": null,
   "id": "407f09c1-51ff-433f-be2b-b2ebcacc2542",
   "metadata": {},
   "outputs": [],
   "source": [
    "df1['marital-status'].value_counts().plot(kind='bar')"
   ]
  },
  {
   "cell_type": "markdown",
   "id": "1f726b24",
   "metadata": {},
   "source": [
    "## 5.- Distribución de acuerdo al rol dentro de la relación"
   ]
  },
  {
   "cell_type": "code",
   "execution_count": null,
   "id": "b5dba66c",
   "metadata": {
    "scrolled": true
   },
   "outputs": [],
   "source": [
    "df1['relationship'].value_counts().plot(kind='bar')"
   ]
  },
  {
   "cell_type": "markdown",
   "id": "e29d9f64",
   "metadata": {},
   "source": [
    "## Parece que tiene cierto sentido por el predominio de hombres y estadi civil casado"
   ]
  },
  {
   "cell_type": "markdown",
   "id": "5e4e671c",
   "metadata": {},
   "source": [
    "## 6.- Distribución de edades"
   ]
  },
  {
   "cell_type": "code",
   "execution_count": null,
   "id": "5a2fefb7",
   "metadata": {
    "scrolled": true
   },
   "outputs": [],
   "source": [
    "df1['age'].value_counts().plot(kind='bar',figsize=(12,6),title='Distribución edades',ylabel='Ocurrencia')"
   ]
  },
  {
   "cell_type": "markdown",
   "id": "b4db2916",
   "metadata": {},
   "source": [
    "## para la edad conviene analizar armar binds y armar rango de edades"
   ]
  },
  {
   "cell_type": "code",
   "execution_count": null,
   "id": "5015e54b-531b-4d11-ad1f-5632e7886767",
   "metadata": {},
   "outputs": [],
   "source": [
    "np.bincount(df1['age'])"
   ]
  },
  {
   "cell_type": "code",
   "execution_count": null,
   "id": "ae5b9513-d9ca-4cd6-930b-f6aba4a05132",
   "metadata": {},
   "outputs": [],
   "source": [
    "np.histogram_bin_edges(df1['age'],bins='fd',range=(df1['age'].min(),df1['age'].max()))\n",
    "#‘fd’ (Freedman Diaconis Estimator)\n",
    "#'strurges' optimal for gaussian data and underestimates number of bins for large non-gaussian datasets"
   ]
  },
  {
   "cell_type": "code",
   "execution_count": null,
   "id": "e382814a-6ce5-4a1a-8121-41c86ef87a80",
   "metadata": {},
   "outputs": [],
   "source": [
    "np.histogram_bin_edges(df1['age'],bins='sturges',range=(df1['age'].min(),df1['age'].max()))"
   ]
  },
  {
   "cell_type": "code",
   "execution_count": null,
   "id": "cd47b926-8e9b-4222-a53f-e36598e1f8bb",
   "metadata": {},
   "outputs": [],
   "source": [
    "hist,bin_edges = np.histogram(df1['age'])\n",
    "print(hist)\n",
    "print(bin_edges)"
   ]
  },
  {
   "cell_type": "code",
   "execution_count": null,
   "id": "8c4e10a5-f3ac-42a5-9c73-63ba1d02a39c",
   "metadata": {},
   "outputs": [],
   "source": [
    "plt.figure(figsize=[12,6])\n",
    "\n",
    "plt.bar(bin_edges[:-1], hist, color='#0504aa',alpha=0.7) #, width = 0.5\n",
    "plt.xlim(0, max(bin_edges))\n",
    "plt.grid(axis='y', alpha=0.75)\n",
    "plt.xlabel('edades',fontsize=15)\n",
    "plt.ylabel('Frequency',fontsize=15)\n",
    "plt.xticks(fontsize=15)\n",
    "plt.yticks(fontsize=15)\n",
    "plt.ylabel('Frequency',fontsize=15)\n",
    "plt.title('Distribucion de edades',fontsize=15)\n",
    "plt.show()"
   ]
  },
  {
   "cell_type": "markdown",
   "id": "3fe52cfd",
   "metadata": {},
   "source": [
    "## 7.- Distribución de clases de trabajo"
   ]
  },
  {
   "cell_type": "code",
   "execution_count": null,
   "id": "c0df1a98",
   "metadata": {
    "scrolled": true
   },
   "outputs": [],
   "source": [
    "df1['workclass'].value_counts().plot(kind='bar',figsize=(10,4),title='Distribución clases de trabajos',ylabel='Ocurrencia')"
   ]
  },
  {
   "cell_type": "markdown",
   "id": "a01edc07",
   "metadata": {},
   "source": [
    "## El sector privado es el sector que más requiere de trabajadores"
   ]
  },
  {
   "cell_type": "markdown",
   "id": "f6932d86",
   "metadata": {},
   "source": [
    "# Data wrangling\n"
   ]
  },
  {
   "cell_type": "code",
   "execution_count": null,
   "id": "71067823",
   "metadata": {},
   "outputs": [],
   "source": [
    "df1.info()"
   ]
  },
  {
   "cell_type": "markdown",
   "id": "2436e092",
   "metadata": {},
   "source": [
    "## Reviso que campos tienen NaN y su cantidad"
   ]
  },
  {
   "cell_type": "code",
   "execution_count": null,
   "id": "1d0061d6",
   "metadata": {
    "scrolled": true
   },
   "outputs": [],
   "source": [
    "df1.isna().sum()"
   ]
  },
  {
   "cell_type": "markdown",
   "id": "fbe6b8b9",
   "metadata": {},
   "source": [
    "### Hay que analizar 'Native-country' que tiene 255 registros con nan"
   ]
  },
  {
   "cell_type": "code",
   "execution_count": null,
   "id": "ba6a5284",
   "metadata": {},
   "outputs": [],
   "source": [
    "df1.shape"
   ]
  },
  {
   "cell_type": "code",
   "execution_count": null,
   "id": "17849485",
   "metadata": {},
   "outputs": [],
   "source": [
    "sum(df1.isna().sum())"
   ]
  },
  {
   "cell_type": "code",
   "execution_count": null,
   "id": "45fb3fcd",
   "metadata": {},
   "outputs": [],
   "source": [
    "df1[df1['native-country'].isna()]"
   ]
  },
  {
   "cell_type": "code",
   "execution_count": null,
   "id": "88458f80",
   "metadata": {},
   "outputs": [],
   "source": [
    "moda_nacionalidad=df1['native-country'].mode()[0]\n",
    "moda_nacionalidad"
   ]
  },
  {
   "cell_type": "code",
   "execution_count": null,
   "id": "3258ed8f",
   "metadata": {},
   "outputs": [],
   "source": [
    "df1['native-country'].value_counts()"
   ]
  },
  {
   "cell_type": "markdown",
   "id": "ab1f9a13",
   "metadata": {},
   "source": [
    "### Me encontré con 556 registros '?' en la columna 'native-country'!!!"
   ]
  },
  {
   "cell_type": "code",
   "execution_count": null,
   "id": "64c74165",
   "metadata": {},
   "outputs": [],
   "source": [
    "df1[df1['native-country'] == '?']"
   ]
  },
  {
   "cell_type": "code",
   "execution_count": null,
   "id": "2fa67f05",
   "metadata": {},
   "outputs": [],
   "source": [
    "df1['native-country'].fillna(value=moda_nacionalidad,inplace=True)"
   ]
  },
  {
   "cell_type": "code",
   "execution_count": null,
   "id": "09e12660",
   "metadata": {},
   "outputs": [],
   "source": [
    "df1.isna().sum()"
   ]
  },
  {
   "cell_type": "code",
   "execution_count": null,
   "id": "b7760968",
   "metadata": {},
   "outputs": [],
   "source": [
    "df1.replace(to_replace='?',value=moda_nacionalidad,inplace=True)\n",
    "df1['native-country'].value_counts()"
   ]
  },
  {
   "cell_type": "code",
   "execution_count": null,
   "id": "f099ea5b",
   "metadata": {},
   "outputs": [],
   "source": [
    "df1.describe(include='all').T"
   ]
  },
  {
   "cell_type": "code",
   "execution_count": null,
   "id": "0d3a3507",
   "metadata": {},
   "outputs": [],
   "source": [
    "df1.head()"
   ]
  },
  {
   "cell_type": "code",
   "execution_count": null,
   "id": "79253f4f",
   "metadata": {},
   "outputs": [],
   "source": [
    "df1.info()"
   ]
  },
  {
   "cell_type": "markdown",
   "id": "ede3e60f",
   "metadata": {},
   "source": [
    "## Análisis de OUTLIERS para los campos numéricos"
   ]
  },
  {
   "cell_type": "code",
   "execution_count": null,
   "id": "c2e1ca9e",
   "metadata": {
    "scrolled": true
   },
   "outputs": [],
   "source": [
    "df1['age'].plot(kind='box')"
   ]
  },
  {
   "cell_type": "code",
   "execution_count": null,
   "id": "0fc39c3c",
   "metadata": {},
   "outputs": [],
   "source": [
    "q4_edad = np.percentile(df1['age'],95)\n",
    "q1_edad = np.percentile(df1['age'],5)\n",
    "print('Analisis intercuartil para edad')\n",
    "print(f'percentile q4 es:', q4_edad)\n",
    "print(f'percentile q1 es:', q1_edad)"
   ]
  },
  {
   "cell_type": "code",
   "execution_count": null,
   "id": "93e0d7ea",
   "metadata": {},
   "outputs": [],
   "source": [
    "df1['age'][df1['age'] > q4_edad].count()"
   ]
  },
  {
   "cell_type": "markdown",
   "id": "d0e0b7fa",
   "metadata": {},
   "source": [
    "### tenemos 2166 registros con personas que estan con edades superiores al cuartil 95 (cola superior)\n",
    "#### esto podría indicar un problema social respecto a la clase pasiva..."
   ]
  },
  {
   "cell_type": "code",
   "execution_count": null,
   "id": "f32f8253",
   "metadata": {
    "scrolled": true
   },
   "outputs": [],
   "source": [
    "df1['fnlwgt'].plot(kind='box')"
   ]
  },
  {
   "cell_type": "code",
   "execution_count": null,
   "id": "1ec93ff2",
   "metadata": {},
   "outputs": [],
   "source": [
    "q4_fnlwgt = np.percentile(df1['fnlwgt'],95)\n",
    "q1_fnlwgt = np.percentile(df1['fnlwgt'],5)\n",
    "print('Analisis intercuartil para fnlwgt')\n",
    "print(f'percentile q4 es:', q4_fnlwgt)\n",
    "print(f'percentile q1 es:', q1_fnlwgt)"
   ]
  },
  {
   "cell_type": "markdown",
   "id": "d9689a5c",
   "metadata": {},
   "source": [
    "### Este campo no se que información puede brindar...es candidato a eliminarse del dataset..."
   ]
  },
  {
   "cell_type": "code",
   "execution_count": null,
   "id": "5549945f",
   "metadata": {},
   "outputs": [],
   "source": [
    "df1['hours-per-week'].plot(kind='box')"
   ]
  },
  {
   "cell_type": "code",
   "execution_count": null,
   "id": "88c257fe",
   "metadata": {},
   "outputs": [],
   "source": [
    "q4_horas = np.percentile(df1['hours-per-week'],95)\n",
    "q1_horas = np.percentile(df1['hours-per-week'],5)\n",
    "print('Analisis intercuartil para Horas trabajadas por semana')\n",
    "print(f'percentile q4 es:', q4_horas)\n",
    "print(f'percentile q1 es:', q1_horas)"
   ]
  },
  {
   "cell_type": "code",
   "execution_count": null,
   "id": "bf4f8bd6",
   "metadata": {},
   "outputs": [],
   "source": [
    "df1['hours-per-week'][df1['hours-per-week'].isin([q1_horas,q4_horas])].count()"
   ]
  },
  {
   "cell_type": "code",
   "execution_count": null,
   "id": "93893364",
   "metadata": {},
   "outputs": [],
   "source": [
    "df_final = df1.drop('fnlwgt',axis=1)\n",
    "df_final.head()"
   ]
  },
  {
   "cell_type": "markdown",
   "id": "9dc96489",
   "metadata": {},
   "source": [
    "# Algunos análisis y procesamientos adicionales"
   ]
  },
  {
   "cell_type": "markdown",
   "id": "d5adb319",
   "metadata": {},
   "source": [
    "from sklearn.preprocessing import OrdinalEncoder\n",
    "import sys\n",
    "import joblib\n",
    "sys.modules['sklearn.externals.joblib'] = joblib\n",
    "from mlxtend.feature_selection import SequentialFeatureSelector as SFS\n",
    "from sklearn.linear_model import LinearRegression\n",
    "import pandas.testing\n",
    "\n",
    "#Clasificacion\n",
    "from sklearn.ensemble import RandomForestClassifier\n",
    "from sklearn.model_selection import train_test_split\n",
    "from sklearn import metrics\n",
    "\n",
    "#regresión\n",
    "from sklearn import datasets, linear_model\n",
    "from sklearn.metrics import mean_squared_error, r2_score"
   ]
  },
  {
   "cell_type": "code",
   "execution_count": null,
   "id": "7859fb61",
   "metadata": {},
   "outputs": [],
   "source": [
    "df_x = df_final.drop('income',axis=1)\n",
    "df_y = df_final['income']"
   ]
  },
  {
   "cell_type": "code",
   "execution_count": null,
   "id": "1fdec5e9",
   "metadata": {},
   "outputs": [],
   "source": [
    "df_x.head()"
   ]
  },
  {
   "cell_type": "code",
   "execution_count": null,
   "id": "0404ace2",
   "metadata": {},
   "outputs": [],
   "source": [
    "df_y.head()"
   ]
  },
  {
   "cell_type": "code",
   "execution_count": null,
   "id": "c9a07d04-6959-4c65-9fe2-42ed13fe1658",
   "metadata": {},
   "outputs": [],
   "source": [
    "df_y.value_counts()"
   ]
  },
  {
   "cell_type": "code",
   "execution_count": null,
   "id": "0748d344",
   "metadata": {},
   "outputs": [],
   "source": [
    "df_x.info()"
   ]
  },
  {
   "cell_type": "code",
   "execution_count": null,
   "id": "c5f60d78-5c83-4c5c-80de-527647da46fd",
   "metadata": {},
   "outputs": [],
   "source": [
    "print(df_x.shape,df_y.shape)"
   ]
  },
  {
   "cell_type": "code",
   "execution_count": null,
   "id": "60bd8e4c",
   "metadata": {},
   "outputs": [],
   "source": [
    "columnas = df_x.select_dtypes(exclude=['int64']).columns\n",
    "for i in columnas:\n",
    "    categorias = df_x[i].unique()\n",
    "    print(f'-------- \\n Campo: {i} \\n Categorias: {categorias} \\n---------\\n')"
   ]
  },
  {
   "cell_type": "markdown",
   "id": "dcc5eec8",
   "metadata": {},
   "source": [
    "### son todas categóricas - debería convenrtirlas a numericas para mejorar el tratamiento ML"
   ]
  },
  {
   "cell_type": "code",
   "execution_count": null,
   "id": "014911be",
   "metadata": {},
   "outputs": [],
   "source": [
    "from sklearn.preprocessing import OrdinalEncoder"
   ]
  },
  {
   "cell_type": "code",
   "execution_count": null,
   "id": "845ff475",
   "metadata": {},
   "outputs": [],
   "source": [
    "encoder = OrdinalEncoder()"
   ]
  },
  {
   "cell_type": "code",
   "execution_count": null,
   "id": "85d7e61d",
   "metadata": {},
   "outputs": [],
   "source": [
    "encoder.fit(df_x)"
   ]
  },
  {
   "cell_type": "code",
   "execution_count": null,
   "id": "15d2b3f2",
   "metadata": {},
   "outputs": [],
   "source": [
    "columnas = df_x.select_dtypes(exclude=['int64']).columns\n",
    "for i in columnas:\n",
    "    nuevo_campo = 'encoder_'+ i\n",
    "    df_x[nuevo_campo] = encoder.fit_transform(df_x[[i]])\n"
   ]
  },
  {
   "cell_type": "code",
   "execution_count": null,
   "id": "92782c93",
   "metadata": {
    "scrolled": true
   },
   "outputs": [],
   "source": [
    "df_x.head()"
   ]
  },
  {
   "cell_type": "code",
   "execution_count": null,
   "id": "3b064c62",
   "metadata": {
    "scrolled": true
   },
   "outputs": [],
   "source": [
    "df_x.info()"
   ]
  },
  {
   "cell_type": "code",
   "execution_count": null,
   "id": "2076fc08",
   "metadata": {},
   "outputs": [],
   "source": [
    "df_x.describe().T"
   ]
  },
  {
   "cell_type": "code",
   "execution_count": null,
   "id": "ec574f94",
   "metadata": {
    "scrolled": true
   },
   "outputs": [],
   "source": [
    "columnas_num = df_x.select_dtypes(exclude=['object']).columns\n",
    "df_x_num = df_x[columnas_num]\n",
    "df_x_num.head()"
   ]
  },
  {
   "cell_type": "code",
   "execution_count": null,
   "id": "3ad125d6",
   "metadata": {},
   "outputs": [],
   "source": [
    "df_x_num.boxplot(figsize=(12,6))"
   ]
  },
  {
   "cell_type": "code",
   "execution_count": null,
   "id": "1fdd9c4d",
   "metadata": {},
   "outputs": [],
   "source": [
    "df_x_num.columns"
   ]
  },
  {
   "cell_type": "code",
   "execution_count": null,
   "id": "e871dfd7",
   "metadata": {},
   "outputs": [],
   "source": [
    "df_x_num['encoder_workclass'].value_counts()"
   ]
  },
  {
   "cell_type": "markdown",
   "id": "0f7dd840",
   "metadata": {},
   "source": [
    "#### en una primera aproximación vemos que no es necesario realizar una normalización. (0 - 100)\n",
    "### seguimos teniendo muchos OUTLIERS"
   ]
  },
  {
   "cell_type": "code",
   "execution_count": null,
   "id": "91d50725",
   "metadata": {},
   "outputs": [],
   "source": [
    "#Pearson Correlation\n",
    "corr_matrix = df_x_num.corr()\n",
    "\n",
    "print(corr_matrix)"
   ]
  },
  {
   "cell_type": "code",
   "execution_count": null,
   "id": "89cca205",
   "metadata": {},
   "outputs": [],
   "source": [
    "plt.style.use('bmh')\n",
    "fig, ax = plt.subplots(figsize=(10,6))\n",
    "\n",
    "sns.heatmap(df_x_num.corr(), annot=True, ax=ax)\n",
    "#, cmap=sns.cubehelix_palette(as_cmap=True)"
   ]
  },
  {
   "cell_type": "markdown",
   "id": "07d64bb5",
   "metadata": {},
   "source": [
    "### como las variables no son compatibles con distribuciones normales, pruebo la correlación con un método que se ajusta mejor y no se ve afectado por lo outliers"
   ]
  },
  {
   "cell_type": "code",
   "execution_count": null,
   "id": "28d4e849",
   "metadata": {},
   "outputs": [],
   "source": [
    "fig, ax = plt.subplots(figsize=(10,6))\n",
    "sns.heatmap(df_x_num.corr(method='spearman'), annot=True, ax=ax)"
   ]
  },
  {
   "cell_type": "markdown",
   "id": "366476ac",
   "metadata": {},
   "source": [
    "### Veo una correlación 'fuerte' [> 0,62]  entre 'sex' y 'relatioship'\n",
    "### Parecería que tiene más sentido contar con un datos asociado a 'sex' en el dataset que 'relationship'\n",
    "### Pero sex es dicotómica...[0,1]...no es correcta esta relación"
   ]
  },
  {
   "cell_type": "code",
   "execution_count": null,
   "id": "ffd3c276",
   "metadata": {},
   "outputs": [],
   "source": [
    "plt.figure(figsize=(14,8))\n",
    "sns.regplot(x='encoder_sex', y='encoder_relationship', data=df_x_num)\n",
    "plt.title('Sex vs Relationship')"
   ]
  },
  {
   "cell_type": "code",
   "execution_count": null,
   "id": "bf91038f-6485-40be-9134-2449f9a05f37",
   "metadata": {},
   "outputs": [],
   "source": [
    "corr_matrix_sp = df_x_num.corr(method='spearman')\n",
    "sorted_mat = corr_matrix_sp.unstack().sort_values()\n",
    "sorted_mat"
   ]
  },
  {
   "cell_type": "code",
   "execution_count": null,
   "id": "7c3bbd0e-94ae-458d-bb52-37c2ee4fb231",
   "metadata": {
    "scrolled": true
   },
   "outputs": [],
   "source": [
    "corr_alta = corr_matrix_sp[corr_matrix_sp>=.6]\n",
    "\n",
    "plt.figure(figsize=(12,8))\n",
    "sns.heatmap(corr_alta, cmap=\"Blues\")"
   ]
  },
  {
   "cell_type": "code",
   "execution_count": null,
   "id": "9cddd5ea-f824-48c5-ad66-0e9b6cc852b9",
   "metadata": {},
   "outputs": [],
   "source": [
    "def coefcorr(x: pd.DataFrame, thres: float):\n",
    "    #generate corr\n",
    "    xCorr = x.corr('spearman')\n",
    "    #filter corr by thres\n",
    "    xFiltered = xCorr[((xCorr >= thres) | (xCorr <= -thres)) & (xCorr !=1.000)]\n",
    "    #change dataframe format\n",
    "    xFlattened = xFiltered.unstack().drop_duplicates().reset_index().sort_values(0, ascending= False).dropna()\n",
    "    #rename columns\n",
    "    xFlattened.columns = ['Variable_1', 'Variable_2', 'corr_value']\n",
    "    return xFlattened\n",
    "\n",
    "coefcorr(df_x_num, 0.5)"
   ]
  },
  {
   "cell_type": "code",
   "execution_count": null,
   "id": "a9fa0a1c-2172-4954-af2a-5904cd2e374d",
   "metadata": {},
   "outputs": [],
   "source": [
    "#plt.figure(figsize=(14,8))\n",
    "#plt.figure(dpi=120)\n",
    "sns.pairplot(data=df_x)\n",
    "plt.show()"
   ]
  },
  {
   "cell_type": "code",
   "execution_count": null,
   "id": "c277a67d-d729-434f-8fc4-8a6d2aca9642",
   "metadata": {
    "scrolled": true
   },
   "outputs": [],
   "source": [
    "plt.figure(figsize=(14, 14))\n",
    "\n",
    "g = sns.pairplot(df_x_num[['age', 'hours-per-week', 'encoder_education', 'encoder_occupation', 'encoder_race', 'encoder_sex']], diag_kind='kde');"
   ]
  },
  {
   "cell_type": "code",
   "execution_count": null,
   "id": "940091db-affa-44f9-84c5-e2778755df3e",
   "metadata": {
    "scrolled": true
   },
   "outputs": [],
   "source": [
    "for i in df_x_num.columns:\n",
    "    # Calcular la media\n",
    "    media = df_x_num[i].mean()\n",
    "\n",
    "    # Calcular la mediana\n",
    "    mediana = df_x_num[i].median()\n",
    "\n",
    "    # Calcular la moda\n",
    "    moda = df_x_num[i].mode().values[0]\n",
    "\n",
    "    # Calcular la asimetría\n",
    "    asimetria = df_x_num[i].skew()\n",
    "    \n",
    "    # Imprimir los resultados\n",
    "    print(\"Media:\", media)\n",
    "    print(\"Mediana:\", mediana)\n",
    "    print(\"Moda:\", moda)\n",
    "    print(\"Asimetría:\", asimetria)\n",
    "    "
   ]
  },
  {
   "cell_type": "code",
   "execution_count": null,
   "id": "17e92780-af7d-45f3-b18b-96e6a02b7996",
   "metadata": {},
   "outputs": [],
   "source": [
    "import scipy\n",
    "scipy.stats.describe(df_x['age'])"
   ]
  },
  {
   "cell_type": "code",
   "execution_count": null,
   "id": "91898c15-0821-48d2-bfe2-0eed1c1e65db",
   "metadata": {},
   "outputs": [],
   "source": [
    "plt.figure(figsize=(14,8))\n",
    "sns.histplot(data=df_x,x='workclass',hue='sex')\n",
    "plt.title('Histograma workclass por sexo')\n",
    "plt.show()"
   ]
  },
  {
   "cell_type": "code",
   "execution_count": null,
   "id": "bc9df2db-562d-4315-9a83-f8050f79af9b",
   "metadata": {},
   "outputs": [],
   "source": [
    "plt.figure(figsize=(14,8))\n",
    "\n",
    "g = sns.FacetGrid(df_x,col = 'sex',margin_titles=True)\n",
    "\n",
    "g.map(sns.histplot,'workclass')\n",
    "g.add_legend()\n",
    "#rotate x-axis labels\n",
    "plt.xticks(rotation='vertical')\n",
    "plt.show()"
   ]
  },
  {
   "cell_type": "code",
   "execution_count": null,
   "id": "6367bb0f-5866-47c8-97b2-edf7c6420d8c",
   "metadata": {},
   "outputs": [],
   "source": [
    "sns.histplot(data=df_x, x=\"workclass\", hue=\"sex\", multiple=\"dodge\", shrink=.8)\n",
    "plt.xticks(rotation='vertical')\n",
    "plt.show()"
   ]
  },
  {
   "cell_type": "code",
   "execution_count": null,
   "id": "9f9161e7-5f81-4bf5-ba10-bb8dbc1810c2",
   "metadata": {},
   "outputs": [],
   "source": [
    "plt.figure(figsize=(14,8))\n",
    "sns.FacetGrid(df_x,hue = 'sex').map(plt.scatter,'hours-per-week','education').add_legend();\n",
    "plt.show()"
   ]
  },
  {
   "cell_type": "markdown",
   "id": "ac1df21a-9542-4900-b85a-86d9d2ed524d",
   "metadata": {},
   "source": [
    "# Normalización\n",
    "## https://www.geeksforgeeks.org/standardscaler-minmaxscaler-and-robustscaler-techniques-ml/"
   ]
  },
  {
   "cell_type": "code",
   "execution_count": null,
   "id": "ae52c612-aa62-427b-a0a1-9283dc89b1c9",
   "metadata": {},
   "outputs": [],
   "source": [
    "df_x.head()"
   ]
  },
  {
   "cell_type": "code",
   "execution_count": null,
   "id": "50707fd2-d156-48f8-81f3-edd19b3cbfc3",
   "metadata": {},
   "outputs": [],
   "source": []
  },
  {
   "cell_type": "markdown",
   "id": "9924514f-a97f-4ed8-ad7e-f97f932cca9a",
   "metadata": {},
   "source": [
    "# Algoritmos de Machine Learning\n",
    "## Aprendizage supervizado\n",
    "### https://scikit-learn.org/stable/supervised_learning.html#supervised-learning"
   ]
  },
  {
   "cell_type": "markdown",
   "id": "15694464-965e-41ae-8e33-96c5cd1e2873",
   "metadata": {},
   "source": [
    "### 1. Modelo Lineal"
   ]
  },
  {
   "cell_type": "code",
   "execution_count": null,
   "id": "758c9b8b-03a8-4477-81e4-7c8f368128f7",
   "metadata": {},
   "outputs": [],
   "source": []
  }
 ],
 "metadata": {
  "kernelspec": {
   "display_name": "Python 3 (ipykernel)",
   "language": "python",
   "name": "python3"
  },
  "language_info": {
   "codemirror_mode": {
    "name": "ipython",
    "version": 3
   },
   "file_extension": ".py",
   "mimetype": "text/x-python",
   "name": "python",
   "nbconvert_exporter": "python",
   "pygments_lexer": "ipython3",
   "version": "3.10.13"
  }
 },
 "nbformat": 4,
 "nbformat_minor": 5
}
