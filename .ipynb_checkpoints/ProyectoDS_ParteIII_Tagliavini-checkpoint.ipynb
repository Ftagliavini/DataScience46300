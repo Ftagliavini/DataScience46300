{
 "cells": [
  {
   "cell_type": "markdown",
   "id": "f157778c",
   "metadata": {},
   "source": [
    "# Entrega N° 5 - ProyectoDS_ParteIII"
   ]
  },
  {
   "cell_type": "markdown",
   "id": "f4dc327c",
   "metadata": {},
   "source": [
    "\n",
    "|Autor|Fecha|\n",
    "|:----:|:----:|\n",
    "|Francisco Tagliavini|2023-11-29|\n"
   ]
  },
  {
   "cell_type": "markdown",
   "id": "a73000b8",
   "metadata": {},
   "source": [
    "## Motivo\n",
    "\n",
    "Determinación de capacidad adquisitiva de las personas, ingreso anual"
   ]
  },
  {
   "cell_type": "markdown",
   "id": "4d818f83",
   "metadata": {},
   "source": [
    "## Audiencia\n",
    "\n",
    "Puede haber intereses respecto a nivel academico obtenido.\n",
    "Para entidades de crédito de acuerdo a capacidad de pago."
   ]
  },
  {
   "cell_type": "markdown",
   "id": "a93aaf9c",
   "metadata": {},
   "source": [
    "## Contexto comercial\n",
    "\n",
    "Brindar información de de capacidad de ingreso y crédito de las personas.\n",
    "Para poder determinar si tiene capacidad de pago de deuda."
   ]
  },
  {
   "cell_type": "markdown",
   "id": "9a433db1",
   "metadata": {},
   "source": [
    "## OBJETIVO:\n",
    "\n",
    "Se propone predecir mediante ML si una persona puede superar un cierto ingreso anual o no.\n",
    "En este análisis el resultado presenta solo 2 opciones, siendo la variable categórica y dicotómica.['<50k' ; '>50k']\n",
    "El dataset propuesto ya cuente con información de la variable a predecir.\n",
    "En este escenario el MODELO propuesto es de CLASIFICACIÓN.\n",
    "\n",
    "Asimismo, las categorías existentes del datasets nos permiten poder trabajar con algunas relaciones e intentar establecer si existe algun tipo de correlación más alta entre algunas de estas con otras variables ademas de la variable objetivo.\n",
    "\n",
    "Para este tipo de análisis se puede utilizar el método de Hipótesis nula, en dónde proponemos una conclusión a la que debemos rechazar, por ejemplo:\n",
    "\n",
    "* Las mujeres tienen ingrresos significativamente más bajos que los hombre\n",
    "* Las persinas que trabajan menos horas tienen ingresos significativamente más bajos\n",
    "* Las personas de raza ' Amer-Indian-Eskimo' tienen ingresos mas bajos\n",
    "* Las personas de america latina tienen ingresos menores\n",
    "* Las personas con mayores niveles de educación alcanzados son mayormente casados\n",
    "\n",
    "Las condiciones de rechazo, se establecen a partir de un humbral de confiabibilidad, en donde se observa que la condicion de la Hipótesis nula queda por fuera del nivel de confiaza, esta es rechazada - indicando que no hay información suficiente en la muestra (o dataset) que permita validar la hipótesis planteada.\n",
    "\n",
    "Para una primera aproximación, con un análisis bivariado mediante una gráfica de mapa de puntos (scatter plot) se prodría visualizar si existe algún tipo de relación.\n"
   ]
  },
  {
   "cell_type": "markdown",
   "id": "ca672d7a",
   "metadata": {},
   "source": [
    "## Interes por análisis del dataset con un método no supervisado [Parte II]\n",
    "\n",
    "Se prodría analizar el DataSet sin el valor de la etiqueta, analizar mediante un sistema no supervisado y analizar mediate el método k-mains y el método de codos si el posible detetar más categorías.\n"
   ]
  },
  {
   "cell_type": "markdown",
   "id": "c7f5f890",
   "metadata": {},
   "source": [
    "# Cargo las librerias que voy a utilizar"
   ]
  },
  {
   "cell_type": "code",
   "execution_count": 1,
   "id": "8ff412ab",
   "metadata": {},
   "outputs": [],
   "source": [
    "import numpy as np\n",
    "import pandas as pd\n",
    "import matplotlib as mpl\n",
    "import matplotlib.pyplot as plt\n",
    "import seaborn as sns"
   ]
  },
  {
   "cell_type": "code",
   "execution_count": 2,
   "id": "892c20f1",
   "metadata": {},
   "outputs": [
    {
     "name": "stdout",
     "output_type": "stream",
     "text": [
      "Defaulting to user installation because normal site-packages is not writeable\n",
      "Requirement already satisfied: mlxtend in c:\\users\\ftagliavini\\appdata\\roaming\\python\\python310\\site-packages (0.23.0)\n",
      "Requirement already satisfied: scipy>=1.2.1 in c:\\programdata\\miniconda3\\lib\\site-packages (from mlxtend) (1.11.3)\n",
      "Requirement already satisfied: numpy>=1.16.2 in c:\\programdata\\miniconda3\\lib\\site-packages (from mlxtend) (1.26.0)\n",
      "Requirement already satisfied: pandas>=0.24.2 in c:\\programdata\\miniconda3\\lib\\site-packages (from mlxtend) (2.1.1)\n",
      "Requirement already satisfied: scikit-learn>=1.0.2 in c:\\programdata\\miniconda3\\lib\\site-packages (from mlxtend) (1.3.0)\n",
      "Requirement already satisfied: matplotlib>=3.0.0 in c:\\programdata\\miniconda3\\lib\\site-packages (from mlxtend) (3.7.2)\n",
      "Requirement already satisfied: joblib>=0.13.2 in c:\\programdata\\miniconda3\\lib\\site-packages (from mlxtend) (1.2.0)\n",
      "Requirement already satisfied: contourpy>=1.0.1 in c:\\programdata\\miniconda3\\lib\\site-packages (from matplotlib>=3.0.0->mlxtend) (1.0.5)\n",
      "Requirement already satisfied: cycler>=0.10 in c:\\programdata\\miniconda3\\lib\\site-packages (from matplotlib>=3.0.0->mlxtend) (0.11.0)\n",
      "Requirement already satisfied: fonttools>=4.22.0 in c:\\programdata\\miniconda3\\lib\\site-packages (from matplotlib>=3.0.0->mlxtend) (4.25.0)\n",
      "Requirement already satisfied: kiwisolver>=1.0.1 in c:\\programdata\\miniconda3\\lib\\site-packages (from matplotlib>=3.0.0->mlxtend) (1.4.4)\n",
      "Requirement already satisfied: packaging>=20.0 in c:\\programdata\\miniconda3\\lib\\site-packages (from matplotlib>=3.0.0->mlxtend) (23.1)\n",
      "Requirement already satisfied: pillow>=6.2.0 in c:\\programdata\\miniconda3\\lib\\site-packages (from matplotlib>=3.0.0->mlxtend) (10.0.1)\n",
      "Requirement already satisfied: pyparsing<3.1,>=2.3.1 in c:\\programdata\\miniconda3\\lib\\site-packages (from matplotlib>=3.0.0->mlxtend) (3.0.9)\n",
      "Requirement already satisfied: python-dateutil>=2.7 in c:\\programdata\\miniconda3\\lib\\site-packages (from matplotlib>=3.0.0->mlxtend) (2.8.2)\n",
      "Requirement already satisfied: pytz>=2020.1 in c:\\programdata\\miniconda3\\lib\\site-packages (from pandas>=0.24.2->mlxtend) (2023.3.post1)\n",
      "Requirement already satisfied: tzdata>=2022.1 in c:\\programdata\\miniconda3\\lib\\site-packages (from pandas>=0.24.2->mlxtend) (2023.3)\n",
      "Requirement already satisfied: threadpoolctl>=2.0.0 in c:\\programdata\\miniconda3\\lib\\site-packages (from scikit-learn>=1.0.2->mlxtend) (2.2.0)\n",
      "Requirement already satisfied: six>=1.5 in c:\\programdata\\miniconda3\\lib\\site-packages (from python-dateutil>=2.7->matplotlib>=3.0.0->mlxtend) (1.16.0)\n"
     ]
    }
   ],
   "source": [
    "!pip install mlxtend"
   ]
  },
  {
   "cell_type": "code",
   "execution_count": 3,
   "id": "ef5faddc",
   "metadata": {
    "scrolled": true
   },
   "outputs": [
    {
     "ename": "ModuleNotFoundError",
     "evalue": "No module named 'statsmodels'",
     "output_type": "error",
     "traceback": [
      "\u001b[1;31m---------------------------------------------------------------------------\u001b[0m",
      "\u001b[1;31mModuleNotFoundError\u001b[0m                       Traceback (most recent call last)",
      "Cell \u001b[1;32mIn[3], line 9\u001b[0m\n\u001b[0;32m      6\u001b[0m \u001b[38;5;28;01mfrom\u001b[39;00m \u001b[38;5;21;01msklearn\u001b[39;00m\u001b[38;5;21;01m.\u001b[39;00m\u001b[38;5;21;01mlinear_model\u001b[39;00m \u001b[38;5;28;01mimport\u001b[39;00m LinearRegression\n\u001b[0;32m      8\u001b[0m \u001b[38;5;28;01mimport\u001b[39;00m \u001b[38;5;21;01mpandas\u001b[39;00m\u001b[38;5;21;01m.\u001b[39;00m\u001b[38;5;21;01mtesting\u001b[39;00m\n\u001b[1;32m----> 9\u001b[0m \u001b[38;5;28;01mimport\u001b[39;00m \u001b[38;5;21;01mstatsmodels\u001b[39;00m\u001b[38;5;21;01m.\u001b[39;00m\u001b[38;5;21;01mapi\u001b[39;00m \u001b[38;5;28;01mas\u001b[39;00m \u001b[38;5;21;01msm\u001b[39;00m\n\u001b[0;32m     10\u001b[0m \u001b[38;5;28;01mimport\u001b[39;00m \u001b[38;5;21;01mpandas\u001b[39;00m\u001b[38;5;21;01m.\u001b[39;00m\u001b[38;5;21;01mutil\u001b[39;00m\u001b[38;5;21;01m.\u001b[39;00m\u001b[38;5;21;01mtesting\u001b[39;00m \u001b[38;5;28;01mas\u001b[39;00m \u001b[38;5;21;01mtm\u001b[39;00m\n",
      "\u001b[1;31mModuleNotFoundError\u001b[0m: No module named 'statsmodels'"
     ]
    }
   ],
   "source": [
    "from sklearn.preprocessing import OrdinalEncoder\n",
    "import sys\n",
    "import joblib\n",
    "sys.modules['sklearn.externals.joblib'] = joblib\n",
    "from mlxtend.feature_selection import SequentialFeatureSelector as SFS\n",
    "from sklearn.linear_model import LinearRegression\n",
    "\n",
    "import pandas.testing\n",
    "import statsmodels.api as sm\n",
    "import pandas.util.testing as tm"
   ]
  },
  {
   "cell_type": "code",
   "execution_count": 75,
   "id": "878f14a7",
   "metadata": {},
   "outputs": [],
   "source": [
    "#Clasificacion\n",
    "from sklearn.ensemble import RandomForestClassifier\n",
    "from sklearn.model_selection import train_test_split\n",
    "from sklearn import metrics\n"
   ]
  },
  {
   "cell_type": "code",
   "execution_count": 83,
   "id": "10298d3b",
   "metadata": {},
   "outputs": [],
   "source": [
    "#regresión\n",
    "from sklearn import datasets, linear_model\n",
    "from sklearn.metrics import mean_squared_error, r2_score"
   ]
  },
  {
   "cell_type": "markdown",
   "id": "436d9796",
   "metadata": {},
   "source": [
    "# Leo el dataset (archivo.csv)\n",
    "* Me fijo si se lee bien con los primeros 3 registros"
   ]
  },
  {
   "cell_type": "code",
   "execution_count": 5,
   "id": "ce79baf9",
   "metadata": {},
   "outputs": [
    {
     "data": {
      "text/html": [
       "<div>\n",
       "<style scoped>\n",
       "    .dataframe tbody tr th:only-of-type {\n",
       "        vertical-align: middle;\n",
       "    }\n",
       "\n",
       "    .dataframe tbody tr th {\n",
       "        vertical-align: top;\n",
       "    }\n",
       "\n",
       "    .dataframe thead th {\n",
       "        text-align: right;\n",
       "    }\n",
       "</style>\n",
       "<table border=\"1\" class=\"dataframe\">\n",
       "  <thead>\n",
       "    <tr style=\"text-align: right;\">\n",
       "      <th></th>\n",
       "      <th>Unnamed: 0</th>\n",
       "      <th>age</th>\n",
       "      <th>workclass</th>\n",
       "      <th>fnlwgt</th>\n",
       "      <th>education</th>\n",
       "      <th>education-num</th>\n",
       "      <th>marital-status</th>\n",
       "      <th>occupation</th>\n",
       "      <th>relationship</th>\n",
       "      <th>race</th>\n",
       "      <th>sex</th>\n",
       "      <th>capital-gain</th>\n",
       "      <th>capital-loss</th>\n",
       "      <th>hours-per-week</th>\n",
       "      <th>native-country</th>\n",
       "      <th>income</th>\n",
       "    </tr>\n",
       "  </thead>\n",
       "  <tbody>\n",
       "    <tr>\n",
       "      <th>0</th>\n",
       "      <td>0</td>\n",
       "      <td>39</td>\n",
       "      <td>State-gov</td>\n",
       "      <td>77516</td>\n",
       "      <td>Bachelors</td>\n",
       "      <td>13</td>\n",
       "      <td>Never-married</td>\n",
       "      <td>Adm-clerical</td>\n",
       "      <td>Not-in-family</td>\n",
       "      <td>White</td>\n",
       "      <td>Male</td>\n",
       "      <td>2174</td>\n",
       "      <td>0</td>\n",
       "      <td>40</td>\n",
       "      <td>United-States</td>\n",
       "      <td>&lt;=50K</td>\n",
       "    </tr>\n",
       "    <tr>\n",
       "      <th>1</th>\n",
       "      <td>1</td>\n",
       "      <td>50</td>\n",
       "      <td>Self-emp-not-inc</td>\n",
       "      <td>83311</td>\n",
       "      <td>Bachelors</td>\n",
       "      <td>13</td>\n",
       "      <td>Married-civ-spouse</td>\n",
       "      <td>Exec-managerial</td>\n",
       "      <td>Husband</td>\n",
       "      <td>White</td>\n",
       "      <td>Male</td>\n",
       "      <td>0</td>\n",
       "      <td>0</td>\n",
       "      <td>13</td>\n",
       "      <td>United-States</td>\n",
       "      <td>&lt;=50K</td>\n",
       "    </tr>\n",
       "    <tr>\n",
       "      <th>2</th>\n",
       "      <td>2</td>\n",
       "      <td>38</td>\n",
       "      <td>Private</td>\n",
       "      <td>215646</td>\n",
       "      <td>HS-grad</td>\n",
       "      <td>9</td>\n",
       "      <td>Divorced</td>\n",
       "      <td>Handlers-cleaners</td>\n",
       "      <td>Not-in-family</td>\n",
       "      <td>White</td>\n",
       "      <td>Male</td>\n",
       "      <td>0</td>\n",
       "      <td>0</td>\n",
       "      <td>40</td>\n",
       "      <td>United-States</td>\n",
       "      <td>&lt;=50K</td>\n",
       "    </tr>\n",
       "  </tbody>\n",
       "</table>\n",
       "</div>"
      ],
      "text/plain": [
       "   Unnamed: 0  age         workclass  fnlwgt  education  education-num  \\\n",
       "0           0   39         State-gov   77516  Bachelors             13   \n",
       "1           1   50  Self-emp-not-inc   83311  Bachelors             13   \n",
       "2           2   38           Private  215646    HS-grad              9   \n",
       "\n",
       "       marital-status         occupation   relationship   race   sex  \\\n",
       "0       Never-married       Adm-clerical  Not-in-family  White  Male   \n",
       "1  Married-civ-spouse    Exec-managerial        Husband  White  Male   \n",
       "2            Divorced  Handlers-cleaners  Not-in-family  White  Male   \n",
       "\n",
       "   capital-gain  capital-loss  hours-per-week native-country income  \n",
       "0          2174             0              40  United-States  <=50K  \n",
       "1             0             0              13  United-States  <=50K  \n",
       "2             0             0              40  United-States  <=50K  "
      ]
     },
     "execution_count": 5,
     "metadata": {},
     "output_type": "execute_result"
    }
   ],
   "source": [
    "df = pd.read_csv('dataset.csv')\n",
    "df.head(3)"
   ]
  },
  {
   "cell_type": "markdown",
   "id": "bfff1565",
   "metadata": {},
   "source": [
    "# Analisis exploratorio de datos (EDA)"
   ]
  },
  {
   "cell_type": "markdown",
   "id": "53205f88",
   "metadata": {},
   "source": [
    "### Pruebo con el método info()\n",
    "Resumen del dataset luego de la carga"
   ]
  },
  {
   "cell_type": "code",
   "execution_count": 6,
   "id": "b4f02e25",
   "metadata": {
    "scrolled": true
   },
   "outputs": [
    {
     "name": "stdout",
     "output_type": "stream",
     "text": [
      "<class 'pandas.core.frame.DataFrame'>\n",
      "RangeIndex: 48842 entries, 0 to 48841\n",
      "Data columns (total 16 columns):\n",
      " #   Column          Non-Null Count  Dtype \n",
      "---  ------          --------------  ----- \n",
      " 0   Unnamed: 0      48842 non-null  int64 \n",
      " 1   age             48842 non-null  int64 \n",
      " 2   workclass       47879 non-null  object\n",
      " 3   fnlwgt          48842 non-null  int64 \n",
      " 4   education       48842 non-null  object\n",
      " 5   education-num   48842 non-null  int64 \n",
      " 6   marital-status  48842 non-null  object\n",
      " 7   occupation      47876 non-null  object\n",
      " 8   relationship    48842 non-null  object\n",
      " 9   race            48842 non-null  object\n",
      " 10  sex             48842 non-null  object\n",
      " 11  capital-gain    48842 non-null  int64 \n",
      " 12  capital-loss    48842 non-null  int64 \n",
      " 13  hours-per-week  48842 non-null  int64 \n",
      " 14  native-country  48568 non-null  object\n",
      " 15  income          48842 non-null  object\n",
      "dtypes: int64(7), object(9)\n",
      "memory usage: 6.0+ MB\n"
     ]
    }
   ],
   "source": [
    "df.info()"
   ]
  },
  {
   "cell_type": "markdown",
   "id": "bc453531",
   "metadata": {},
   "source": [
    "# sigo analizando el tamaño del data set\n",
    "Determino cunatos registros tiene el dataset y sus campos"
   ]
  },
  {
   "cell_type": "code",
   "execution_count": 7,
   "id": "d3d39061",
   "metadata": {},
   "outputs": [
    {
     "data": {
      "text/plain": [
       "(48842, 16)"
      ]
     },
     "execution_count": 7,
     "metadata": {},
     "output_type": "execute_result"
    }
   ],
   "source": [
    "df.shape"
   ]
  },
  {
   "cell_type": "markdown",
   "id": "81f72d87",
   "metadata": {},
   "source": [
    "## Analizo los campos numericos media, mediana, min, max y percentiles\n",
    "Analizo solo los campos que son numéricos para establecer las variaciones, dispersión y demas valores de tendencia central para tener una idea/detalle del campo"
   ]
  },
  {
   "cell_type": "code",
   "execution_count": 8,
   "id": "fff7bbca",
   "metadata": {
    "scrolled": true
   },
   "outputs": [
    {
     "data": {
      "text/html": [
       "<div>\n",
       "<style scoped>\n",
       "    .dataframe tbody tr th:only-of-type {\n",
       "        vertical-align: middle;\n",
       "    }\n",
       "\n",
       "    .dataframe tbody tr th {\n",
       "        vertical-align: top;\n",
       "    }\n",
       "\n",
       "    .dataframe thead th {\n",
       "        text-align: right;\n",
       "    }\n",
       "</style>\n",
       "<table border=\"1\" class=\"dataframe\">\n",
       "  <thead>\n",
       "    <tr style=\"text-align: right;\">\n",
       "      <th></th>\n",
       "      <th>count</th>\n",
       "      <th>mean</th>\n",
       "      <th>std</th>\n",
       "      <th>min</th>\n",
       "      <th>25%</th>\n",
       "      <th>50%</th>\n",
       "      <th>75%</th>\n",
       "      <th>max</th>\n",
       "    </tr>\n",
       "  </thead>\n",
       "  <tbody>\n",
       "    <tr>\n",
       "      <th>Unnamed: 0</th>\n",
       "      <td>48842.0</td>\n",
       "      <td>24420.500000</td>\n",
       "      <td>14099.615261</td>\n",
       "      <td>0.0</td>\n",
       "      <td>12210.25</td>\n",
       "      <td>24420.5</td>\n",
       "      <td>36630.75</td>\n",
       "      <td>48841.0</td>\n",
       "    </tr>\n",
       "    <tr>\n",
       "      <th>age</th>\n",
       "      <td>48842.0</td>\n",
       "      <td>38.643585</td>\n",
       "      <td>13.710510</td>\n",
       "      <td>17.0</td>\n",
       "      <td>28.00</td>\n",
       "      <td>37.0</td>\n",
       "      <td>48.00</td>\n",
       "      <td>90.0</td>\n",
       "    </tr>\n",
       "    <tr>\n",
       "      <th>fnlwgt</th>\n",
       "      <td>48842.0</td>\n",
       "      <td>189664.134597</td>\n",
       "      <td>105604.025423</td>\n",
       "      <td>12285.0</td>\n",
       "      <td>117550.50</td>\n",
       "      <td>178144.5</td>\n",
       "      <td>237642.00</td>\n",
       "      <td>1490400.0</td>\n",
       "    </tr>\n",
       "    <tr>\n",
       "      <th>education-num</th>\n",
       "      <td>48842.0</td>\n",
       "      <td>10.078089</td>\n",
       "      <td>2.570973</td>\n",
       "      <td>1.0</td>\n",
       "      <td>9.00</td>\n",
       "      <td>10.0</td>\n",
       "      <td>12.00</td>\n",
       "      <td>16.0</td>\n",
       "    </tr>\n",
       "    <tr>\n",
       "      <th>capital-gain</th>\n",
       "      <td>48842.0</td>\n",
       "      <td>1079.067626</td>\n",
       "      <td>7452.019058</td>\n",
       "      <td>0.0</td>\n",
       "      <td>0.00</td>\n",
       "      <td>0.0</td>\n",
       "      <td>0.00</td>\n",
       "      <td>99999.0</td>\n",
       "    </tr>\n",
       "    <tr>\n",
       "      <th>capital-loss</th>\n",
       "      <td>48842.0</td>\n",
       "      <td>87.502314</td>\n",
       "      <td>403.004552</td>\n",
       "      <td>0.0</td>\n",
       "      <td>0.00</td>\n",
       "      <td>0.0</td>\n",
       "      <td>0.00</td>\n",
       "      <td>4356.0</td>\n",
       "    </tr>\n",
       "    <tr>\n",
       "      <th>hours-per-week</th>\n",
       "      <td>48842.0</td>\n",
       "      <td>40.422382</td>\n",
       "      <td>12.391444</td>\n",
       "      <td>1.0</td>\n",
       "      <td>40.00</td>\n",
       "      <td>40.0</td>\n",
       "      <td>45.00</td>\n",
       "      <td>99.0</td>\n",
       "    </tr>\n",
       "  </tbody>\n",
       "</table>\n",
       "</div>"
      ],
      "text/plain": [
       "                  count           mean            std      min        25%  \\\n",
       "Unnamed: 0      48842.0   24420.500000   14099.615261      0.0   12210.25   \n",
       "age             48842.0      38.643585      13.710510     17.0      28.00   \n",
       "fnlwgt          48842.0  189664.134597  105604.025423  12285.0  117550.50   \n",
       "education-num   48842.0      10.078089       2.570973      1.0       9.00   \n",
       "capital-gain    48842.0    1079.067626    7452.019058      0.0       0.00   \n",
       "capital-loss    48842.0      87.502314     403.004552      0.0       0.00   \n",
       "hours-per-week  48842.0      40.422382      12.391444      1.0      40.00   \n",
       "\n",
       "                     50%        75%        max  \n",
       "Unnamed: 0       24420.5   36630.75    48841.0  \n",
       "age                 37.0      48.00       90.0  \n",
       "fnlwgt          178144.5  237642.00  1490400.0  \n",
       "education-num       10.0      12.00       16.0  \n",
       "capital-gain         0.0       0.00    99999.0  \n",
       "capital-loss         0.0       0.00     4356.0  \n",
       "hours-per-week      40.0      45.00       99.0  "
      ]
     },
     "execution_count": 8,
     "metadata": {},
     "output_type": "execute_result"
    }
   ],
   "source": [
    "df.describe().T"
   ]
  },
  {
   "cell_type": "markdown",
   "id": "eeda9fb2",
   "metadata": {},
   "source": [
    "## Veo los campos disponibles\n",
    "Listo todos los nombres de las columnas"
   ]
  },
  {
   "cell_type": "code",
   "execution_count": 9,
   "id": "cae37c9d",
   "metadata": {
    "scrolled": false
   },
   "outputs": [
    {
     "data": {
      "text/plain": [
       "Index(['Unnamed: 0', 'age', 'workclass', 'fnlwgt', 'education',\n",
       "       'education-num', 'marital-status', 'occupation', 'relationship', 'race',\n",
       "       'sex', 'capital-gain', 'capital-loss', 'hours-per-week',\n",
       "       'native-country', 'income'],\n",
       "      dtype='object')"
      ]
     },
     "execution_count": 9,
     "metadata": {},
     "output_type": "execute_result"
    }
   ],
   "source": [
    "df.columns"
   ]
  },
  {
   "cell_type": "markdown",
   "id": "26df65ce",
   "metadata": {},
   "source": [
    "## Consulto por lo tipos de datos de los campos del dataset...\n",
    "Veo que tipo de datos tiene cada campos del dataset"
   ]
  },
  {
   "cell_type": "code",
   "execution_count": 10,
   "id": "af274e26",
   "metadata": {
    "scrolled": false
   },
   "outputs": [
    {
     "data": {
      "text/plain": [
       "Unnamed: 0         int64\n",
       "age                int64\n",
       "workclass         object\n",
       "fnlwgt             int64\n",
       "education         object\n",
       "education-num      int64\n",
       "marital-status    object\n",
       "occupation        object\n",
       "relationship      object\n",
       "race              object\n",
       "sex               object\n",
       "capital-gain       int64\n",
       "capital-loss       int64\n",
       "hours-per-week     int64\n",
       "native-country    object\n",
       "income            object\n",
       "dtype: object"
      ]
     },
     "execution_count": 10,
     "metadata": {},
     "output_type": "execute_result"
    }
   ],
   "source": [
    "df.dtypes"
   ]
  },
  {
   "cell_type": "markdown",
   "id": "48826063",
   "metadata": {},
   "source": [
    "**Los campos numericos son todos de tipo Integer**"
   ]
  },
  {
   "cell_type": "markdown",
   "id": "9ff29329",
   "metadata": {},
   "source": [
    "# Diccionario de campos y variables\n",
    "\n",
    "* age numerico entero - puedo analizar la distribución de rango etarios de la población del dataset (74 categorias de edad)\n",
    "* workclass: string (8 categorias) hay un valor no definido \n",
    "* fnlwgt: \n",
    "* education: string (16 categorias)\n",
    "* education-num: numerico entero\n",
    "* marital-status: string (7 categorias)\n",
    "* occupation: string (15 categorias)\n",
    "* relationship: string (6 categorias)\n",
    "* race: string (6 categorias)\n",
    "* sex: string (2 categorias)\n",
    "* capital-gain:\n",
    "* capital-loss:\n",
    "* hours-per-week:\n",
    "* native-country:\n",
    "* income:"
   ]
  },
  {
   "cell_type": "markdown",
   "id": "8e8634b8",
   "metadata": {},
   "source": [
    "# Analizo valores repetidos o categorias de cada campo"
   ]
  },
  {
   "cell_type": "code",
   "execution_count": 11,
   "id": "4c3786dc",
   "metadata": {},
   "outputs": [
    {
     "data": {
      "text/plain": [
       "age\n",
       "36    1348\n",
       "35    1337\n",
       "33    1335\n",
       "23    1329\n",
       "31    1325\n",
       "      ... \n",
       "88       6\n",
       "85       5\n",
       "87       3\n",
       "89       2\n",
       "86       1\n",
       "Name: count, Length: 74, dtype: int64"
      ]
     },
     "execution_count": 11,
     "metadata": {},
     "output_type": "execute_result"
    }
   ],
   "source": [
    "df['age'].value_counts()"
   ]
  },
  {
   "cell_type": "code",
   "execution_count": 12,
   "id": "d4461c12",
   "metadata": {},
   "outputs": [
    {
     "data": {
      "text/plain": [
       "workclass\n",
       "Private             33906\n",
       "Self-emp-not-inc     3862\n",
       "Local-gov            3136\n",
       "State-gov            1981\n",
       "?                    1836\n",
       "Self-emp-inc         1695\n",
       "Federal-gov          1432\n",
       "Without-pay            21\n",
       "Never-worked           10\n",
       "Name: count, dtype: int64"
      ]
     },
     "execution_count": 12,
     "metadata": {},
     "output_type": "execute_result"
    }
   ],
   "source": [
    "df['workclass'].value_counts()"
   ]
  },
  {
   "cell_type": "code",
   "execution_count": 13,
   "id": "fc92a1ad",
   "metadata": {},
   "outputs": [
    {
     "data": {
      "text/plain": [
       "education\n",
       "HS-grad         15784\n",
       "Some-college    10878\n",
       "Bachelors        8025\n",
       "Masters          2657\n",
       "Assoc-voc        2061\n",
       "11th             1812\n",
       "Assoc-acdm       1601\n",
       "10th             1389\n",
       "7th-8th           955\n",
       "Prof-school       834\n",
       "9th               756\n",
       "12th              657\n",
       "Doctorate         594\n",
       "5th-6th           509\n",
       "1st-4th           247\n",
       "Preschool          83\n",
       "Name: count, dtype: int64"
      ]
     },
     "execution_count": 13,
     "metadata": {},
     "output_type": "execute_result"
    }
   ],
   "source": [
    "df['education'].value_counts()"
   ]
  },
  {
   "cell_type": "code",
   "execution_count": 14,
   "id": "a48b663c",
   "metadata": {},
   "outputs": [
    {
     "data": {
      "text/plain": [
       "education-num\n",
       "9     15784\n",
       "10    10878\n",
       "13     8025\n",
       "14     2657\n",
       "11     2061\n",
       "7      1812\n",
       "12     1601\n",
       "6      1389\n",
       "4       955\n",
       "15      834\n",
       "5       756\n",
       "8       657\n",
       "16      594\n",
       "3       509\n",
       "2       247\n",
       "1        83\n",
       "Name: count, dtype: int64"
      ]
     },
     "execution_count": 14,
     "metadata": {},
     "output_type": "execute_result"
    }
   ],
   "source": [
    "df['education-num'].value_counts()"
   ]
  },
  {
   "cell_type": "code",
   "execution_count": 15,
   "id": "dd289a0d",
   "metadata": {},
   "outputs": [
    {
     "data": {
      "text/plain": [
       "marital-status\n",
       "Married-civ-spouse       22379\n",
       "Never-married            16117\n",
       "Divorced                  6633\n",
       "Separated                 1530\n",
       "Widowed                   1518\n",
       "Married-spouse-absent      628\n",
       "Married-AF-spouse           37\n",
       "Name: count, dtype: int64"
      ]
     },
     "execution_count": 15,
     "metadata": {},
     "output_type": "execute_result"
    }
   ],
   "source": [
    "df['marital-status'].value_counts()"
   ]
  },
  {
   "cell_type": "code",
   "execution_count": 16,
   "id": "155dbeb3",
   "metadata": {
    "scrolled": true
   },
   "outputs": [
    {
     "data": {
      "text/plain": [
       "occupation\n",
       "Prof-specialty       6172\n",
       "Craft-repair         6112\n",
       "Exec-managerial      6086\n",
       "Adm-clerical         5611\n",
       "Sales                5504\n",
       "Other-service        4923\n",
       "Machine-op-inspct    3022\n",
       "Transport-moving     2355\n",
       "Handlers-cleaners    2072\n",
       "?                    1843\n",
       "Farming-fishing      1490\n",
       "Tech-support         1446\n",
       "Protective-serv       983\n",
       "Priv-house-serv       242\n",
       "Armed-Forces           15\n",
       "Name: count, dtype: int64"
      ]
     },
     "execution_count": 16,
     "metadata": {},
     "output_type": "execute_result"
    }
   ],
   "source": [
    "df['occupation'].value_counts()"
   ]
  },
  {
   "cell_type": "code",
   "execution_count": 17,
   "id": "770cc43d",
   "metadata": {},
   "outputs": [
    {
     "data": {
      "text/plain": [
       "relationship\n",
       "Husband           19716\n",
       "Not-in-family     12583\n",
       "Own-child          7581\n",
       "Unmarried          5125\n",
       "Wife               2331\n",
       "Other-relative     1506\n",
       "Name: count, dtype: int64"
      ]
     },
     "execution_count": 17,
     "metadata": {},
     "output_type": "execute_result"
    }
   ],
   "source": [
    "df['relationship'].value_counts()"
   ]
  },
  {
   "cell_type": "code",
   "execution_count": 18,
   "id": "1715aa5f",
   "metadata": {
    "scrolled": true
   },
   "outputs": [
    {
     "data": {
      "text/plain": [
       "race\n",
       "White                 41762\n",
       "Black                  4685\n",
       "Asian-Pac-Islander     1519\n",
       "Amer-Indian-Eskimo      470\n",
       "Other                   406\n",
       "Name: count, dtype: int64"
      ]
     },
     "execution_count": 18,
     "metadata": {},
     "output_type": "execute_result"
    }
   ],
   "source": [
    "df['race'].value_counts()"
   ]
  },
  {
   "cell_type": "code",
   "execution_count": 19,
   "id": "3223fefa",
   "metadata": {
    "scrolled": true
   },
   "outputs": [
    {
     "data": {
      "text/plain": [
       "sex\n",
       "Male      32650\n",
       "Female    16192\n",
       "Name: count, dtype: int64"
      ]
     },
     "execution_count": 19,
     "metadata": {},
     "output_type": "execute_result"
    }
   ],
   "source": [
    "df['sex'].value_counts()"
   ]
  },
  {
   "cell_type": "code",
   "execution_count": 20,
   "id": "b910f8c1",
   "metadata": {
    "scrolled": false
   },
   "outputs": [
    {
     "data": {
      "text/plain": [
       "capital-gain\n",
       "0        44807\n",
       "15024      513\n",
       "7688       410\n",
       "7298       364\n",
       "99999      244\n",
       "         ...  \n",
       "22040        1\n",
       "2387         1\n",
       "1639         1\n",
       "1111         1\n",
       "6612         1\n",
       "Name: count, Length: 123, dtype: int64"
      ]
     },
     "execution_count": 20,
     "metadata": {},
     "output_type": "execute_result"
    }
   ],
   "source": [
    "df['capital-gain'].value_counts()"
   ]
  },
  {
   "cell_type": "code",
   "execution_count": 21,
   "id": "de645b84",
   "metadata": {},
   "outputs": [
    {
     "data": {
      "text/plain": [
       "capital-loss\n",
       "0       46560\n",
       "1902      304\n",
       "1977      253\n",
       "1887      233\n",
       "2415       72\n",
       "        ...  \n",
       "1539        1\n",
       "1870        1\n",
       "1911        1\n",
       "2465        1\n",
       "1421        1\n",
       "Name: count, Length: 99, dtype: int64"
      ]
     },
     "execution_count": 21,
     "metadata": {},
     "output_type": "execute_result"
    }
   ],
   "source": [
    "df['capital-loss'].value_counts()"
   ]
  },
  {
   "cell_type": "markdown",
   "id": "9fc86af4",
   "metadata": {},
   "source": [
    "|Variable Name|Role|Type|Demographic|Description|Units|Missing Values|\n",
    "|:----|:----|:----|:----|:----|:----|:----|\n",
    "|age|Feature|Integer|Age|N/A||no|\n",
    "|workclass|Feature|Categorical|Income|Private, Self-emp-not-inc, Self-emp-inc, Federal-gov, Local-gov, State-gov, Without-pay, Never-worked||yes|\n",
    "|fnlwgt|Feature|Integer||||no|\n",
    "|education|Feature|Categorical|Education Level|Bachelors, Some-college, 11th, HS-grad, Prof-school, Assoc-acdm, Assoc-voc, 9th, 7th-8th, 12th, Masters, 1st-4th, 10th, Doctorate, 5th-6th, Preschool||no|\n",
    "|education-num|Feature|Integer|Education Level|||no|\n",
    "|marital-status|Feature|Categorical|Other|Married-civ-spouse, Divorced, Never-married, Separated, Widowed, Married-spouse-absent, Married-AF-spouse|||no|\n",
    "|occupation|Feature|Categorical|Other|Tech-support, Craft-repair, Other-service, Sales, Exec-managerial, Prof-specialty, Handlers-cleaners, Machine-op-inspct, Adm-clerical, Farming-fishing, Transport-moving, Priv-house-serv, Protective-serv, Armed-Forces|||yes|\n",
    "|relationship|Feature|Categorical|Other|Wife, Own-child, Husband, Not-in-family, Other-relative, Unmarried|||no|\n",
    "|race|Feature|Categorical|Race|White, Asian-Pac-Islander, Amer-Indian-Eskimo, Other, Black|||no|\n",
    "|sex|Feature|Binary|Sex|Female, Male|||no|\n",
    "|capital-gain|Feature|Integer||||no|\n",
    "|capital-loss|Feature|Integer||||no|\n",
    "|hours-per-week|Feature|Integer||||no|\n",
    "|native-country|Feature|Categorical|Other|United-States, Cambodia, England, Puerto-Rico, Canada, Germany, Outlying-US(Guam-USVI-etc), India, Japan, Greece, South, China, Cuba, Iran, Honduras, Philippines, Italy, Poland, Jamaica, Vietnam, Mexico, Portugal, Ireland, France, Dominican-Republic, Laos, Ecuador, Taiwan, Haiti, Columbia, Hungary, Guatemala, Nicaragua, Scotland, Thailand, Yugoslavia, El-Salvador, Trinadad&Tobago, Peru, Hong, Holand-Netherlands|||yes|\n",
    "|income|Target|Binary|Income|>50K, <=50K||no|"
   ]
  },
  {
   "cell_type": "markdown",
   "id": "21eb1ef6",
   "metadata": {},
   "source": [
    "# vamos con los gráficos de MATPLOTLIB"
   ]
  },
  {
   "cell_type": "code",
   "execution_count": null,
   "id": "812d9fa3",
   "metadata": {
    "scrolled": true
   },
   "outputs": [],
   "source": [
    "#Me fijo los estilos disponibles\n",
    "import matplotlib as mpl\n",
    "mpl.style.available"
   ]
  },
  {
   "cell_type": "code",
   "execution_count": null,
   "id": "cbad87fc",
   "metadata": {},
   "outputs": [],
   "source": [
    "#Selecciono un estilo\n",
    "mpl.style.use('bmh')"
   ]
  },
  {
   "cell_type": "markdown",
   "id": "e68085aa",
   "metadata": {},
   "source": [
    "## Análisis univariable"
   ]
  },
  {
   "cell_type": "code",
   "execution_count": null,
   "id": "b6d11462",
   "metadata": {},
   "outputs": [],
   "source": [
    "fig, ax = plt.subplots(figsize=(12,6))\n",
    "ax.hist(df['age'])\n",
    "ax.set_title('Distribucion de edades del dataset')\n",
    "ax.set_xlabel('Edades')\n",
    "ax.set_ylabel('Cantidad de registros')\n",
    "ax.set(xlim=(0, 100), xticks=np.arange(0, 100,10),\n",
    "       ylim=(0, 10000), yticks=np.arange(0, 10000,1000))\n",
    "plt.show()"
   ]
  },
  {
   "cell_type": "code",
   "execution_count": null,
   "id": "1ab376bf",
   "metadata": {
    "scrolled": true
   },
   "outputs": [],
   "source": [
    "fig, ax = plt.subplots(figsize=(12,6))\n",
    "ax.boxplot(df['age'])\n",
    "ax.set_title('Distribucion de edades del dataset')\n",
    "ax.set_xlabel('')\n",
    "ax.set_ylabel('Edad')\n",
    "\n",
    "plt.show()"
   ]
  },
  {
   "cell_type": "markdown",
   "id": "8a41265f",
   "metadata": {},
   "source": [
    "observamos varios valores outliers que pueden correr el valor de la media...se debería analizar cuanto se corre la media y la mediana.\n",
    "Considerar esto para el relleno de datos o valores NaN"
   ]
  },
  {
   "cell_type": "markdown",
   "id": "81068f4b",
   "metadata": {},
   "source": [
    "Voy a repetir la grafica eliminando los outliers para limpiar un poco el ploteo"
   ]
  },
  {
   "cell_type": "code",
   "execution_count": null,
   "id": "c12d0a6c",
   "metadata": {},
   "outputs": [],
   "source": [
    "fig, ax = plt.subplots(figsize=(12,6))\n",
    "ax.boxplot(df['age'],showfliers=False)\n",
    "ax.set_title('Distribucion de edades del dataset')\n",
    "ax.set_xlabel('')\n",
    "ax.set_ylabel('Edades')\n",
    "\n",
    "plt.show()"
   ]
  },
  {
   "cell_type": "code",
   "execution_count": null,
   "id": "963914e1",
   "metadata": {},
   "outputs": [],
   "source": [
    "fig, ax = plt.subplots(figsize=(12,6))\n",
    "ax.hist(df['hours-per-week'])\n",
    "ax.set_title('Distribucion de horas laborales semanales')\n",
    "ax.set_xlabel('Cantidad de registros')\n",
    "ax.set_ylabel('')\n",
    "ax.set(xlim=(0, 100), xticks=np.arange(0, 110,10),\n",
    "       ylim=(0, 30000), yticks=np.arange(0, 33000,3000))\n",
    "plt.show()"
   ]
  },
  {
   "cell_type": "code",
   "execution_count": null,
   "id": "c787b3f7",
   "metadata": {},
   "outputs": [],
   "source": [
    "fig, ax = plt.subplots(figsize=(12,6))\n",
    "ax.boxplot(df['hours-per-week'])\n",
    "ax.set_title('Distribucion de horas laborales semanales')\n",
    "ax.set_xlabel('Cantidad de registros')\n",
    "ax.set_ylabel('')\n",
    "\n",
    "plt.show()"
   ]
  },
  {
   "cell_type": "code",
   "execution_count": null,
   "id": "99e570ed",
   "metadata": {},
   "outputs": [],
   "source": [
    "fig, ax = plt.subplots(figsize=(12,6))\n",
    "ax.boxplot(df['hours-per-week'],showfliers=False)\n",
    "ax.set_title('Distribucion de horas laborales semanales')\n",
    "ax.set_xlabel('Cantidad de registros')\n",
    "ax.set_ylabel('')\n",
    "\n",
    "plt.show()"
   ]
  },
  {
   "cell_type": "code",
   "execution_count": null,
   "id": "af06501b",
   "metadata": {},
   "outputs": [],
   "source": [
    "fig, ax = plt.subplots(figsize=(12,6))\n",
    "ax.hist(df['capital-gain'])\n",
    "ax.set_title('Distribucion de ingresos anuales')\n",
    "ax.set_xlabel('Ingresos (U$S)')\n",
    "ax.set_ylabel('Cantidad de registros')\n",
    "ax.set(xlim=(0, 100000), xticks=np.arange(0, 110000,10000),\n",
    "       ylim=(0, 50000), yticks=np.arange(0, 55000,5000))\n",
    "plt.show()"
   ]
  },
  {
   "cell_type": "code",
   "execution_count": null,
   "id": "fa3139c7",
   "metadata": {},
   "outputs": [],
   "source": [
    "fig, ax = plt.subplots(figsize=(12,6))\n",
    "ax.boxplot(df['capital-gain'])\n",
    "ax.set_title('Distribucion de ingresos anuales')\n",
    "ax.set_xlabel('Ingresos (U$S)')\n",
    "ax.set_ylabel('Cantidad de registros')\n",
    "\n",
    "plt.show()"
   ]
  },
  {
   "cell_type": "code",
   "execution_count": null,
   "id": "192bbc65",
   "metadata": {},
   "outputs": [],
   "source": [
    "fig, ax = plt.subplots(figsize=(12,6))\n",
    "ax.boxplot(df['capital-gain'],showfliers=False)\n",
    "ax.set_title('Distribucion de ingresos anuales')\n",
    "ax.set_xlabel('Ingresos (U$S)')\n",
    "ax.set_ylabel('Cantidad de registros')\n",
    "\n",
    "plt.show()"
   ]
  },
  {
   "cell_type": "markdown",
   "id": "9b6170de",
   "metadata": {},
   "source": [
    "## Análisis multivariado"
   ]
  },
  {
   "cell_type": "code",
   "execution_count": null,
   "id": "2ae36706",
   "metadata": {},
   "outputs": [],
   "source": [
    "test_1 = df.loc[df['sex'] == 'Female',['sex','capital-gain']]\n",
    "\n",
    "x = df['sex']\n",
    "y = df['capital-gain']\n",
    "\n",
    "fig, ax = plt.subplots()\n",
    "\n",
    "ax.scatter(x, y)\n",
    "\n",
    "#ax.set(xlim=(0, 8), xticks=np.arange(1, 8),\n",
    "#       ylim=(0, 8), yticks=np.arange(1, 8))\n",
    "\n",
    "plt.show()"
   ]
  },
  {
   "cell_type": "code",
   "execution_count": null,
   "id": "31311ca8",
   "metadata": {},
   "outputs": [],
   "source": [
    "x = df['capital-loss']\n",
    "y = df['capital-gain']\n",
    "\n",
    "fig, ax = plt.subplots()\n",
    "\n",
    "ax.scatter(x, y)\n",
    "\n",
    "#ax.set(xlim=(0, 8), xticks=np.arange(1, 8),\n",
    "#       ylim=(0, 8), yticks=np.arange(1, 8))\n",
    "\n",
    "plt.show()"
   ]
  },
  {
   "cell_type": "code",
   "execution_count": null,
   "id": "665d34e4",
   "metadata": {},
   "outputs": [],
   "source": [
    "x = df['hours-per-week']\n",
    "y = df['capital-gain']\n",
    "\n",
    "fig, ax = plt.subplots()\n",
    "\n",
    "ax.scatter(x, y)\n",
    "\n",
    "#ax.set(xlim=(0, 8), xticks=np.arange(1, 8),\n",
    "#       ylim=(0, 8), yticks=np.arange(1, 8))\n",
    "\n",
    "plt.show()"
   ]
  },
  {
   "cell_type": "markdown",
   "id": "f6932d86",
   "metadata": {},
   "source": [
    "# Data wrangling\n"
   ]
  },
  {
   "cell_type": "code",
   "execution_count": 22,
   "id": "71067823",
   "metadata": {},
   "outputs": [
    {
     "name": "stdout",
     "output_type": "stream",
     "text": [
      "<class 'pandas.core.frame.DataFrame'>\n",
      "RangeIndex: 48842 entries, 0 to 48841\n",
      "Data columns (total 16 columns):\n",
      " #   Column          Non-Null Count  Dtype \n",
      "---  ------          --------------  ----- \n",
      " 0   Unnamed: 0      48842 non-null  int64 \n",
      " 1   age             48842 non-null  int64 \n",
      " 2   workclass       47879 non-null  object\n",
      " 3   fnlwgt          48842 non-null  int64 \n",
      " 4   education       48842 non-null  object\n",
      " 5   education-num   48842 non-null  int64 \n",
      " 6   marital-status  48842 non-null  object\n",
      " 7   occupation      47876 non-null  object\n",
      " 8   relationship    48842 non-null  object\n",
      " 9   race            48842 non-null  object\n",
      " 10  sex             48842 non-null  object\n",
      " 11  capital-gain    48842 non-null  int64 \n",
      " 12  capital-loss    48842 non-null  int64 \n",
      " 13  hours-per-week  48842 non-null  int64 \n",
      " 14  native-country  48568 non-null  object\n",
      " 15  income          48842 non-null  object\n",
      "dtypes: int64(7), object(9)\n",
      "memory usage: 6.0+ MB\n"
     ]
    }
   ],
   "source": [
    "df.info()"
   ]
  },
  {
   "cell_type": "markdown",
   "id": "fbe6b8b9",
   "metadata": {},
   "source": [
    "### Hay algunas columnas que tienen menos cantidad de registros\n",
    "2, 7, 14"
   ]
  },
  {
   "cell_type": "markdown",
   "id": "2436e092",
   "metadata": {},
   "source": [
    "## Reviso que campos tienen NaN y su cantidad"
   ]
  },
  {
   "cell_type": "code",
   "execution_count": 23,
   "id": "1d0061d6",
   "metadata": {
    "scrolled": true
   },
   "outputs": [
    {
     "data": {
      "text/plain": [
       "Unnamed: 0          0\n",
       "age                 0\n",
       "workclass         963\n",
       "fnlwgt              0\n",
       "education           0\n",
       "education-num       0\n",
       "marital-status      0\n",
       "occupation        966\n",
       "relationship        0\n",
       "race                0\n",
       "sex                 0\n",
       "capital-gain        0\n",
       "capital-loss        0\n",
       "hours-per-week      0\n",
       "native-country    274\n",
       "income              0\n",
       "dtype: int64"
      ]
     },
     "execution_count": 23,
     "metadata": {},
     "output_type": "execute_result"
    }
   ],
   "source": [
    "df.isna().sum()"
   ]
  },
  {
   "cell_type": "markdown",
   "id": "1e0e4852",
   "metadata": {},
   "source": [
    "### Confirmo que las columnas con menos registros tienen campos NaN"
   ]
  },
  {
   "cell_type": "code",
   "execution_count": 24,
   "id": "ba6a5284",
   "metadata": {},
   "outputs": [
    {
     "data": {
      "text/plain": [
       "(48842, 16)"
      ]
     },
     "execution_count": 24,
     "metadata": {},
     "output_type": "execute_result"
    }
   ],
   "source": [
    "df.shape"
   ]
  },
  {
   "cell_type": "code",
   "execution_count": 25,
   "id": "17849485",
   "metadata": {},
   "outputs": [
    {
     "data": {
      "text/plain": [
       "2203"
      ]
     },
     "execution_count": 25,
     "metadata": {},
     "output_type": "execute_result"
    }
   ],
   "source": [
    "sum(df.isna().sum())"
   ]
  },
  {
   "cell_type": "code",
   "execution_count": 26,
   "id": "b3bcbb7d",
   "metadata": {},
   "outputs": [
    {
     "data": {
      "text/plain": [
       "workclass         object\n",
       "occupation        object\n",
       "native-country    object\n",
       "dtype: object"
      ]
     },
     "execution_count": 26,
     "metadata": {},
     "output_type": "execute_result"
    }
   ],
   "source": [
    "df[['workclass','occupation','native-country']].dtypes"
   ]
  },
  {
   "cell_type": "markdown",
   "id": "b1d52972",
   "metadata": {},
   "source": [
    "## total de registros del dataset son más de 48.842 y encontramos  2.203 NaN\n",
    "## Son campos del tipo objeto (string) no es posible reemplazarlos por otros medidas de tendencia central "
   ]
  },
  {
   "cell_type": "code",
   "execution_count": 27,
   "id": "31332706",
   "metadata": {},
   "outputs": [
    {
     "data": {
      "text/plain": [
       "array(['State-gov', 'Self-emp-not-inc', 'Private', 'Federal-gov',\n",
       "       'Local-gov', '?', 'Self-emp-inc', 'Without-pay', 'Never-worked',\n",
       "       nan], dtype=object)"
      ]
     },
     "execution_count": 27,
     "metadata": {},
     "output_type": "execute_result"
    }
   ],
   "source": [
    "df['workclass'].unique()"
   ]
  },
  {
   "cell_type": "code",
   "execution_count": 28,
   "id": "78c6bf0d",
   "metadata": {},
   "outputs": [
    {
     "data": {
      "text/plain": [
       "array(['Adm-clerical', 'Exec-managerial', 'Handlers-cleaners',\n",
       "       'Prof-specialty', 'Other-service', 'Sales', 'Craft-repair',\n",
       "       'Transport-moving', 'Farming-fishing', 'Machine-op-inspct',\n",
       "       'Tech-support', '?', 'Protective-serv', 'Armed-Forces',\n",
       "       'Priv-house-serv', nan], dtype=object)"
      ]
     },
     "execution_count": 28,
     "metadata": {},
     "output_type": "execute_result"
    }
   ],
   "source": [
    "df['occupation'].unique()"
   ]
  },
  {
   "cell_type": "code",
   "execution_count": 29,
   "id": "70d14750",
   "metadata": {},
   "outputs": [
    {
     "data": {
      "text/plain": [
       "array(['United-States', 'Cuba', 'Jamaica', 'India', '?', 'Mexico',\n",
       "       'South', 'Puerto-Rico', 'Honduras', 'England', 'Canada', 'Germany',\n",
       "       'Iran', 'Philippines', 'Italy', 'Poland', 'Columbia', 'Cambodia',\n",
       "       'Thailand', 'Ecuador', 'Laos', 'Taiwan', 'Haiti', 'Portugal',\n",
       "       'Dominican-Republic', 'El-Salvador', 'France', 'Guatemala',\n",
       "       'China', 'Japan', 'Yugoslavia', 'Peru',\n",
       "       'Outlying-US(Guam-USVI-etc)', 'Scotland', 'Trinadad&Tobago',\n",
       "       'Greece', 'Nicaragua', 'Vietnam', 'Hong', 'Ireland', 'Hungary',\n",
       "       'Holand-Netherlands', nan], dtype=object)"
      ]
     },
     "execution_count": 29,
     "metadata": {},
     "output_type": "execute_result"
    }
   ],
   "source": [
    "df['native-country'].unique()"
   ]
  },
  {
   "cell_type": "markdown",
   "id": "09cbc163",
   "metadata": {},
   "source": [
    "### Vemos que ademas de NaN también hay campos con '?' \n",
    "Vamos a reemplazar el valor por NaN"
   ]
  },
  {
   "cell_type": "code",
   "execution_count": 30,
   "id": "9bc7c1b5",
   "metadata": {},
   "outputs": [
    {
     "data": {
      "text/plain": [
       "48842"
      ]
     },
     "execution_count": 30,
     "metadata": {},
     "output_type": "execute_result"
    }
   ],
   "source": [
    "df['workclass'].size"
   ]
  },
  {
   "cell_type": "markdown",
   "id": "2dfbaf92",
   "metadata": {},
   "source": [
    "### Pruebo escribi un código para recorrer el campo y encontrar el caracter extraño '?'"
   ]
  },
  {
   "cell_type": "code",
   "execution_count": 31,
   "id": "41dc1600",
   "metadata": {},
   "outputs": [
    {
     "name": "stdout",
     "output_type": "stream",
     "text": [
      "1836\n"
     ]
    }
   ],
   "source": [
    "j = 0\n",
    "for i in enumerate(df['workclass']):\n",
    "    #print(i)\n",
    "    if i[1] == '?':\n",
    "        #print('entro!')\n",
    "        j += 1\n",
    "    else:\n",
    "        j += 0\n",
    "print(j)"
   ]
  },
  {
   "cell_type": "markdown",
   "id": "ad36f4a2",
   "metadata": {},
   "source": [
    "### Funcionó! - Ahora intento crear una funcion\n",
    "### Llamo a la función y la paso los parámetros del campo y el valor que estoy buscando"
   ]
  },
  {
   "cell_type": "code",
   "execution_count": 32,
   "id": "ce91ef91",
   "metadata": {},
   "outputs": [],
   "source": [
    "def cuento_raro1(serie1,valor):\n",
    "    j = 0\n",
    "    for i in enumerate(serie1):\n",
    "        #print(i)\n",
    "        if i[1] == valor:\n",
    "            #print('entro!')\n",
    "            j += 1\n",
    "        else:\n",
    "            j += 0\n",
    "    return j"
   ]
  },
  {
   "cell_type": "code",
   "execution_count": 33,
   "id": "9bf8e9b8",
   "metadata": {
    "scrolled": true
   },
   "outputs": [
    {
     "data": {
      "text/plain": [
       "1836"
      ]
     },
     "execution_count": 33,
     "metadata": {},
     "output_type": "execute_result"
    }
   ],
   "source": [
    "cuento_raro1(df['workclass'],'?')"
   ]
  },
  {
   "cell_type": "code",
   "execution_count": 34,
   "id": "8d817270",
   "metadata": {},
   "outputs": [
    {
     "data": {
      "text/plain": [
       "1843"
      ]
     },
     "execution_count": 34,
     "metadata": {},
     "output_type": "execute_result"
    }
   ],
   "source": [
    "cuento_raro1(df['occupation'],'?')"
   ]
  },
  {
   "cell_type": "code",
   "execution_count": 35,
   "id": "f8476dff",
   "metadata": {},
   "outputs": [
    {
     "data": {
      "text/plain": [
       "583"
      ]
     },
     "execution_count": 35,
     "metadata": {},
     "output_type": "execute_result"
    }
   ],
   "source": [
    "cuento_raro1(df['native-country'], '?')"
   ]
  },
  {
   "cell_type": "markdown",
   "id": "86e33c94",
   "metadata": {},
   "source": [
    "## voy a reemplazar '?' por NaN porque podemos contar mejor los missing values"
   ]
  },
  {
   "cell_type": "code",
   "execution_count": 36,
   "id": "2cef422d",
   "metadata": {},
   "outputs": [],
   "source": [
    "df = df.replace('?', np.nan)"
   ]
  },
  {
   "cell_type": "code",
   "execution_count": 37,
   "id": "5286134d",
   "metadata": {},
   "outputs": [
    {
     "data": {
      "text/plain": [
       "6465"
      ]
     },
     "execution_count": 37,
     "metadata": {},
     "output_type": "execute_result"
    }
   ],
   "source": [
    "sum(df.isna().sum())"
   ]
  },
  {
   "cell_type": "code",
   "execution_count": 38,
   "id": "541d5fe3",
   "metadata": {},
   "outputs": [
    {
     "data": {
      "text/html": [
       "<div>\n",
       "<style scoped>\n",
       "    .dataframe tbody tr th:only-of-type {\n",
       "        vertical-align: middle;\n",
       "    }\n",
       "\n",
       "    .dataframe tbody tr th {\n",
       "        vertical-align: top;\n",
       "    }\n",
       "\n",
       "    .dataframe thead th {\n",
       "        text-align: right;\n",
       "    }\n",
       "</style>\n",
       "<table border=\"1\" class=\"dataframe\">\n",
       "  <thead>\n",
       "    <tr style=\"text-align: right;\">\n",
       "      <th></th>\n",
       "      <th>Unnamed: 0</th>\n",
       "      <th>age</th>\n",
       "      <th>workclass</th>\n",
       "      <th>fnlwgt</th>\n",
       "      <th>education</th>\n",
       "      <th>education-num</th>\n",
       "      <th>marital-status</th>\n",
       "      <th>occupation</th>\n",
       "      <th>relationship</th>\n",
       "      <th>race</th>\n",
       "      <th>sex</th>\n",
       "      <th>capital-gain</th>\n",
       "      <th>capital-loss</th>\n",
       "      <th>hours-per-week</th>\n",
       "      <th>native-country</th>\n",
       "      <th>income</th>\n",
       "    </tr>\n",
       "  </thead>\n",
       "  <tbody>\n",
       "    <tr>\n",
       "      <th>0</th>\n",
       "      <td>0</td>\n",
       "      <td>39</td>\n",
       "      <td>State-gov</td>\n",
       "      <td>77516</td>\n",
       "      <td>Bachelors</td>\n",
       "      <td>13</td>\n",
       "      <td>Never-married</td>\n",
       "      <td>Adm-clerical</td>\n",
       "      <td>Not-in-family</td>\n",
       "      <td>White</td>\n",
       "      <td>Male</td>\n",
       "      <td>2174</td>\n",
       "      <td>0</td>\n",
       "      <td>40</td>\n",
       "      <td>United-States</td>\n",
       "      <td>&lt;=50K</td>\n",
       "    </tr>\n",
       "    <tr>\n",
       "      <th>1</th>\n",
       "      <td>1</td>\n",
       "      <td>50</td>\n",
       "      <td>Self-emp-not-inc</td>\n",
       "      <td>83311</td>\n",
       "      <td>Bachelors</td>\n",
       "      <td>13</td>\n",
       "      <td>Married-civ-spouse</td>\n",
       "      <td>Exec-managerial</td>\n",
       "      <td>Husband</td>\n",
       "      <td>White</td>\n",
       "      <td>Male</td>\n",
       "      <td>0</td>\n",
       "      <td>0</td>\n",
       "      <td>13</td>\n",
       "      <td>United-States</td>\n",
       "      <td>&lt;=50K</td>\n",
       "    </tr>\n",
       "    <tr>\n",
       "      <th>2</th>\n",
       "      <td>2</td>\n",
       "      <td>38</td>\n",
       "      <td>Private</td>\n",
       "      <td>215646</td>\n",
       "      <td>HS-grad</td>\n",
       "      <td>9</td>\n",
       "      <td>Divorced</td>\n",
       "      <td>Handlers-cleaners</td>\n",
       "      <td>Not-in-family</td>\n",
       "      <td>White</td>\n",
       "      <td>Male</td>\n",
       "      <td>0</td>\n",
       "      <td>0</td>\n",
       "      <td>40</td>\n",
       "      <td>United-States</td>\n",
       "      <td>&lt;=50K</td>\n",
       "    </tr>\n",
       "    <tr>\n",
       "      <th>3</th>\n",
       "      <td>3</td>\n",
       "      <td>53</td>\n",
       "      <td>Private</td>\n",
       "      <td>234721</td>\n",
       "      <td>11th</td>\n",
       "      <td>7</td>\n",
       "      <td>Married-civ-spouse</td>\n",
       "      <td>Handlers-cleaners</td>\n",
       "      <td>Husband</td>\n",
       "      <td>Black</td>\n",
       "      <td>Male</td>\n",
       "      <td>0</td>\n",
       "      <td>0</td>\n",
       "      <td>40</td>\n",
       "      <td>United-States</td>\n",
       "      <td>&lt;=50K</td>\n",
       "    </tr>\n",
       "    <tr>\n",
       "      <th>4</th>\n",
       "      <td>4</td>\n",
       "      <td>28</td>\n",
       "      <td>Private</td>\n",
       "      <td>338409</td>\n",
       "      <td>Bachelors</td>\n",
       "      <td>13</td>\n",
       "      <td>Married-civ-spouse</td>\n",
       "      <td>Prof-specialty</td>\n",
       "      <td>Wife</td>\n",
       "      <td>Black</td>\n",
       "      <td>Female</td>\n",
       "      <td>0</td>\n",
       "      <td>0</td>\n",
       "      <td>40</td>\n",
       "      <td>Cuba</td>\n",
       "      <td>&lt;=50K</td>\n",
       "    </tr>\n",
       "  </tbody>\n",
       "</table>\n",
       "</div>"
      ],
      "text/plain": [
       "   Unnamed: 0  age         workclass  fnlwgt  education  education-num  \\\n",
       "0           0   39         State-gov   77516  Bachelors             13   \n",
       "1           1   50  Self-emp-not-inc   83311  Bachelors             13   \n",
       "2           2   38           Private  215646    HS-grad              9   \n",
       "3           3   53           Private  234721       11th              7   \n",
       "4           4   28           Private  338409  Bachelors             13   \n",
       "\n",
       "       marital-status         occupation   relationship   race     sex  \\\n",
       "0       Never-married       Adm-clerical  Not-in-family  White    Male   \n",
       "1  Married-civ-spouse    Exec-managerial        Husband  White    Male   \n",
       "2            Divorced  Handlers-cleaners  Not-in-family  White    Male   \n",
       "3  Married-civ-spouse  Handlers-cleaners        Husband  Black    Male   \n",
       "4  Married-civ-spouse     Prof-specialty           Wife  Black  Female   \n",
       "\n",
       "   capital-gain  capital-loss  hours-per-week native-country income  \n",
       "0          2174             0              40  United-States  <=50K  \n",
       "1             0             0              13  United-States  <=50K  \n",
       "2             0             0              40  United-States  <=50K  \n",
       "3             0             0              40  United-States  <=50K  \n",
       "4             0             0              40           Cuba  <=50K  "
      ]
     },
     "execution_count": 38,
     "metadata": {},
     "output_type": "execute_result"
    }
   ],
   "source": [
    "df.head()"
   ]
  },
  {
   "cell_type": "code",
   "execution_count": 39,
   "id": "2c10ba52",
   "metadata": {},
   "outputs": [],
   "source": [
    "df_sin_na = df"
   ]
  },
  {
   "cell_type": "code",
   "execution_count": 40,
   "id": "1d7753ba",
   "metadata": {},
   "outputs": [
    {
     "data": {
      "text/plain": [
       "6465"
      ]
     },
     "execution_count": 40,
     "metadata": {},
     "output_type": "execute_result"
    }
   ],
   "source": [
    "sum(df_sin_na.isna().sum())"
   ]
  },
  {
   "cell_type": "code",
   "execution_count": 41,
   "id": "00e44f7e",
   "metadata": {},
   "outputs": [
    {
     "data": {
      "text/plain": [
       "Unnamed: 0           0\n",
       "age                  0\n",
       "workclass         2799\n",
       "fnlwgt               0\n",
       "education            0\n",
       "education-num        0\n",
       "marital-status       0\n",
       "occupation        2809\n",
       "relationship         0\n",
       "race                 0\n",
       "sex                  0\n",
       "capital-gain         0\n",
       "capital-loss         0\n",
       "hours-per-week       0\n",
       "native-country     857\n",
       "income               0\n",
       "dtype: int64"
      ]
     },
     "execution_count": 41,
     "metadata": {},
     "output_type": "execute_result"
    }
   ],
   "source": [
    "df.isna().sum()"
   ]
  },
  {
   "cell_type": "code",
   "execution_count": 42,
   "id": "3abfbfe2",
   "metadata": {},
   "outputs": [
    {
     "data": {
      "text/plain": [
       "Unnamed: 0        45222\n",
       "age               45222\n",
       "workclass         45222\n",
       "fnlwgt            45222\n",
       "education         45222\n",
       "education-num     45222\n",
       "marital-status    45222\n",
       "occupation        45222\n",
       "relationship      45222\n",
       "race              45222\n",
       "sex               45222\n",
       "capital-gain      45222\n",
       "capital-loss      45222\n",
       "hours-per-week    45222\n",
       "native-country    45222\n",
       "income            45222\n",
       "dtype: int64"
      ]
     },
     "execution_count": 42,
     "metadata": {},
     "output_type": "execute_result"
    }
   ],
   "source": [
    "df_sin_na.dropna(subset=['workclass','occupation','native-country'], inplace= False).count()"
   ]
  },
  {
   "cell_type": "code",
   "execution_count": 43,
   "id": "2d28f556",
   "metadata": {},
   "outputs": [],
   "source": [
    "df_sin_na = df_sin_na.dropna(subset=['workclass','occupation','native-country'])"
   ]
  },
  {
   "cell_type": "code",
   "execution_count": 44,
   "id": "b5d493b1",
   "metadata": {},
   "outputs": [
    {
     "data": {
      "text/plain": [
       "(45222, 16)"
      ]
     },
     "execution_count": 44,
     "metadata": {},
     "output_type": "execute_result"
    }
   ],
   "source": [
    "df_sin_na.shape"
   ]
  },
  {
   "cell_type": "code",
   "execution_count": 45,
   "id": "37ed88c7",
   "metadata": {},
   "outputs": [
    {
     "data": {
      "text/plain": [
       "(48842, 16)"
      ]
     },
     "execution_count": 45,
     "metadata": {},
     "output_type": "execute_result"
    }
   ],
   "source": [
    "df.shape"
   ]
  },
  {
   "cell_type": "code",
   "execution_count": 46,
   "id": "d4a2ac57",
   "metadata": {},
   "outputs": [
    {
     "data": {
      "text/plain": [
       "3620"
      ]
     },
     "execution_count": 46,
     "metadata": {},
     "output_type": "execute_result"
    }
   ],
   "source": [
    "48842-45222"
   ]
  },
  {
   "cell_type": "markdown",
   "id": "04953808",
   "metadata": {},
   "source": [
    "## Se eliminaron 3.620 registros, menos de los 6.465, se entiende que en algunos registros tenian esos campos con NaN"
   ]
  },
  {
   "cell_type": "markdown",
   "id": "b6835d6e",
   "metadata": {},
   "source": [
    "## analizando perdidas de datos en el datasets..."
   ]
  },
  {
   "cell_type": "code",
   "execution_count": 47,
   "id": "22a24ff0",
   "metadata": {},
   "outputs": [
    {
     "name": "stdout",
     "output_type": "stream",
     "text": [
      "la perdida por eliminación de registros es de un : 7.41 %\n",
      "la perdida por eliminación de 3 columnas es de un : 18.75 %\n"
     ]
    }
   ],
   "source": [
    "print(f'la perdida por eliminación de registros es de un : {3620/48842 * 100:.2f} %')\n",
    "print(f'la perdida por eliminación de 3 columnas es de un : {3/16 * 100:.2f} %')"
   ]
  },
  {
   "cell_type": "markdown",
   "id": "895cc2eb",
   "metadata": {},
   "source": [
    "## De esta primera parte se perdió 7,41% de registros\n",
    "## La eliminación de registros tiene un menor impacto que eliminar el campo completo "
   ]
  },
  {
   "cell_type": "markdown",
   "id": "58317309",
   "metadata": {},
   "source": [
    "# 3.- Método de Feature Selection\n",
    "## Reduccion de la dimensionalidad"
   ]
  },
  {
   "cell_type": "markdown",
   "id": "42eb040e",
   "metadata": {},
   "source": [
    "### Revision de corelaciones"
   ]
  },
  {
   "cell_type": "code",
   "execution_count": 48,
   "id": "82d65bc7",
   "metadata": {},
   "outputs": [
    {
     "name": "stdout",
     "output_type": "stream",
     "text": [
      "<class 'pandas.core.frame.DataFrame'>\n",
      "Index: 45222 entries, 0 to 48841\n",
      "Data columns (total 16 columns):\n",
      " #   Column          Non-Null Count  Dtype \n",
      "---  ------          --------------  ----- \n",
      " 0   Unnamed: 0      45222 non-null  int64 \n",
      " 1   age             45222 non-null  int64 \n",
      " 2   workclass       45222 non-null  object\n",
      " 3   fnlwgt          45222 non-null  int64 \n",
      " 4   education       45222 non-null  object\n",
      " 5   education-num   45222 non-null  int64 \n",
      " 6   marital-status  45222 non-null  object\n",
      " 7   occupation      45222 non-null  object\n",
      " 8   relationship    45222 non-null  object\n",
      " 9   race            45222 non-null  object\n",
      " 10  sex             45222 non-null  object\n",
      " 11  capital-gain    45222 non-null  int64 \n",
      " 12  capital-loss    45222 non-null  int64 \n",
      " 13  hours-per-week  45222 non-null  int64 \n",
      " 14  native-country  45222 non-null  object\n",
      " 15  income          45222 non-null  object\n",
      "dtypes: int64(7), object(9)\n",
      "memory usage: 5.9+ MB\n"
     ]
    }
   ],
   "source": [
    "df_sin_na.info()"
   ]
  },
  {
   "cell_type": "code",
   "execution_count": 49,
   "id": "8cdd77f0",
   "metadata": {},
   "outputs": [],
   "source": [
    "# elimino del dataset la variable objetivo\n",
    "X = df_sin_na.drop('income', axis=1)\n",
    "X = X.drop('Unnamed: 0',axis=1)"
   ]
  },
  {
   "cell_type": "code",
   "execution_count": 50,
   "id": "82c61585",
   "metadata": {},
   "outputs": [
    {
     "name": "stdout",
     "output_type": "stream",
     "text": [
      "<class 'pandas.core.frame.DataFrame'>\n",
      "Index: 45222 entries, 0 to 48841\n",
      "Data columns (total 14 columns):\n",
      " #   Column          Non-Null Count  Dtype \n",
      "---  ------          --------------  ----- \n",
      " 0   age             45222 non-null  int64 \n",
      " 1   workclass       45222 non-null  object\n",
      " 2   fnlwgt          45222 non-null  int64 \n",
      " 3   education       45222 non-null  object\n",
      " 4   education-num   45222 non-null  int64 \n",
      " 5   marital-status  45222 non-null  object\n",
      " 6   occupation      45222 non-null  object\n",
      " 7   relationship    45222 non-null  object\n",
      " 8   race            45222 non-null  object\n",
      " 9   sex             45222 non-null  object\n",
      " 10  capital-gain    45222 non-null  int64 \n",
      " 11  capital-loss    45222 non-null  int64 \n",
      " 12  hours-per-week  45222 non-null  int64 \n",
      " 13  native-country  45222 non-null  object\n",
      "dtypes: int64(6), object(8)\n",
      "memory usage: 5.2+ MB\n"
     ]
    }
   ],
   "source": [
    "X.info()"
   ]
  },
  {
   "cell_type": "code",
   "execution_count": 51,
   "id": "e3202840",
   "metadata": {},
   "outputs": [
    {
     "data": {
      "text/html": [
       "<div>\n",
       "<style scoped>\n",
       "    .dataframe tbody tr th:only-of-type {\n",
       "        vertical-align: middle;\n",
       "    }\n",
       "\n",
       "    .dataframe tbody tr th {\n",
       "        vertical-align: top;\n",
       "    }\n",
       "\n",
       "    .dataframe thead th {\n",
       "        text-align: right;\n",
       "    }\n",
       "</style>\n",
       "<table border=\"1\" class=\"dataframe\">\n",
       "  <thead>\n",
       "    <tr style=\"text-align: right;\">\n",
       "      <th></th>\n",
       "      <th>age</th>\n",
       "      <th>workclass</th>\n",
       "      <th>fnlwgt</th>\n",
       "      <th>education</th>\n",
       "      <th>education-num</th>\n",
       "      <th>marital-status</th>\n",
       "      <th>occupation</th>\n",
       "      <th>relationship</th>\n",
       "      <th>race</th>\n",
       "      <th>sex</th>\n",
       "      <th>capital-gain</th>\n",
       "      <th>capital-loss</th>\n",
       "      <th>hours-per-week</th>\n",
       "      <th>native-country</th>\n",
       "    </tr>\n",
       "  </thead>\n",
       "  <tbody>\n",
       "    <tr>\n",
       "      <th>0</th>\n",
       "      <td>39</td>\n",
       "      <td>State-gov</td>\n",
       "      <td>77516</td>\n",
       "      <td>Bachelors</td>\n",
       "      <td>13</td>\n",
       "      <td>Never-married</td>\n",
       "      <td>Adm-clerical</td>\n",
       "      <td>Not-in-family</td>\n",
       "      <td>White</td>\n",
       "      <td>Male</td>\n",
       "      <td>2174</td>\n",
       "      <td>0</td>\n",
       "      <td>40</td>\n",
       "      <td>United-States</td>\n",
       "    </tr>\n",
       "    <tr>\n",
       "      <th>1</th>\n",
       "      <td>50</td>\n",
       "      <td>Self-emp-not-inc</td>\n",
       "      <td>83311</td>\n",
       "      <td>Bachelors</td>\n",
       "      <td>13</td>\n",
       "      <td>Married-civ-spouse</td>\n",
       "      <td>Exec-managerial</td>\n",
       "      <td>Husband</td>\n",
       "      <td>White</td>\n",
       "      <td>Male</td>\n",
       "      <td>0</td>\n",
       "      <td>0</td>\n",
       "      <td>13</td>\n",
       "      <td>United-States</td>\n",
       "    </tr>\n",
       "    <tr>\n",
       "      <th>2</th>\n",
       "      <td>38</td>\n",
       "      <td>Private</td>\n",
       "      <td>215646</td>\n",
       "      <td>HS-grad</td>\n",
       "      <td>9</td>\n",
       "      <td>Divorced</td>\n",
       "      <td>Handlers-cleaners</td>\n",
       "      <td>Not-in-family</td>\n",
       "      <td>White</td>\n",
       "      <td>Male</td>\n",
       "      <td>0</td>\n",
       "      <td>0</td>\n",
       "      <td>40</td>\n",
       "      <td>United-States</td>\n",
       "    </tr>\n",
       "    <tr>\n",
       "      <th>3</th>\n",
       "      <td>53</td>\n",
       "      <td>Private</td>\n",
       "      <td>234721</td>\n",
       "      <td>11th</td>\n",
       "      <td>7</td>\n",
       "      <td>Married-civ-spouse</td>\n",
       "      <td>Handlers-cleaners</td>\n",
       "      <td>Husband</td>\n",
       "      <td>Black</td>\n",
       "      <td>Male</td>\n",
       "      <td>0</td>\n",
       "      <td>0</td>\n",
       "      <td>40</td>\n",
       "      <td>United-States</td>\n",
       "    </tr>\n",
       "    <tr>\n",
       "      <th>4</th>\n",
       "      <td>28</td>\n",
       "      <td>Private</td>\n",
       "      <td>338409</td>\n",
       "      <td>Bachelors</td>\n",
       "      <td>13</td>\n",
       "      <td>Married-civ-spouse</td>\n",
       "      <td>Prof-specialty</td>\n",
       "      <td>Wife</td>\n",
       "      <td>Black</td>\n",
       "      <td>Female</td>\n",
       "      <td>0</td>\n",
       "      <td>0</td>\n",
       "      <td>40</td>\n",
       "      <td>Cuba</td>\n",
       "    </tr>\n",
       "  </tbody>\n",
       "</table>\n",
       "</div>"
      ],
      "text/plain": [
       "   age         workclass  fnlwgt  education  education-num  \\\n",
       "0   39         State-gov   77516  Bachelors             13   \n",
       "1   50  Self-emp-not-inc   83311  Bachelors             13   \n",
       "2   38           Private  215646    HS-grad              9   \n",
       "3   53           Private  234721       11th              7   \n",
       "4   28           Private  338409  Bachelors             13   \n",
       "\n",
       "       marital-status         occupation   relationship   race     sex  \\\n",
       "0       Never-married       Adm-clerical  Not-in-family  White    Male   \n",
       "1  Married-civ-spouse    Exec-managerial        Husband  White    Male   \n",
       "2            Divorced  Handlers-cleaners  Not-in-family  White    Male   \n",
       "3  Married-civ-spouse  Handlers-cleaners        Husband  Black    Male   \n",
       "4  Married-civ-spouse     Prof-specialty           Wife  Black  Female   \n",
       "\n",
       "   capital-gain  capital-loss  hours-per-week native-country  \n",
       "0          2174             0              40  United-States  \n",
       "1             0             0              13  United-States  \n",
       "2             0             0              40  United-States  \n",
       "3             0             0              40  United-States  \n",
       "4             0             0              40           Cuba  "
      ]
     },
     "execution_count": 51,
     "metadata": {},
     "output_type": "execute_result"
    }
   ],
   "source": [
    "X.head()"
   ]
  },
  {
   "cell_type": "code",
   "execution_count": 53,
   "id": "febfcbe1",
   "metadata": {},
   "outputs": [],
   "source": [
    "encoder = OrdinalEncoder()"
   ]
  },
  {
   "cell_type": "code",
   "execution_count": 54,
   "id": "18ec6607",
   "metadata": {},
   "outputs": [
    {
     "data": {
      "text/html": [
       "<div>\n",
       "<style scoped>\n",
       "    .dataframe tbody tr th:only-of-type {\n",
       "        vertical-align: middle;\n",
       "    }\n",
       "\n",
       "    .dataframe tbody tr th {\n",
       "        vertical-align: top;\n",
       "    }\n",
       "\n",
       "    .dataframe thead th {\n",
       "        text-align: right;\n",
       "    }\n",
       "</style>\n",
       "<table border=\"1\" class=\"dataframe\">\n",
       "  <thead>\n",
       "    <tr style=\"text-align: right;\">\n",
       "      <th></th>\n",
       "      <th>age</th>\n",
       "      <th>workclass</th>\n",
       "      <th>fnlwgt</th>\n",
       "      <th>education</th>\n",
       "      <th>education-num</th>\n",
       "      <th>marital-status</th>\n",
       "      <th>occupation</th>\n",
       "      <th>relationship</th>\n",
       "      <th>race</th>\n",
       "      <th>sex</th>\n",
       "      <th>...</th>\n",
       "      <th>hours-per-week</th>\n",
       "      <th>native-country</th>\n",
       "      <th>workclass_encoded</th>\n",
       "      <th>education_encoded</th>\n",
       "      <th>marital-status_encoder</th>\n",
       "      <th>occupation_encoder</th>\n",
       "      <th>relationship_encoder</th>\n",
       "      <th>race_encoder</th>\n",
       "      <th>sex_encoder</th>\n",
       "      <th>native-country_encoder</th>\n",
       "    </tr>\n",
       "  </thead>\n",
       "  <tbody>\n",
       "    <tr>\n",
       "      <th>0</th>\n",
       "      <td>39</td>\n",
       "      <td>State-gov</td>\n",
       "      <td>77516</td>\n",
       "      <td>Bachelors</td>\n",
       "      <td>13</td>\n",
       "      <td>Never-married</td>\n",
       "      <td>Adm-clerical</td>\n",
       "      <td>Not-in-family</td>\n",
       "      <td>White</td>\n",
       "      <td>Male</td>\n",
       "      <td>...</td>\n",
       "      <td>40</td>\n",
       "      <td>United-States</td>\n",
       "      <td>5.0</td>\n",
       "      <td>9.0</td>\n",
       "      <td>4.0</td>\n",
       "      <td>0.0</td>\n",
       "      <td>1.0</td>\n",
       "      <td>4.0</td>\n",
       "      <td>1.0</td>\n",
       "      <td>38.0</td>\n",
       "    </tr>\n",
       "    <tr>\n",
       "      <th>1</th>\n",
       "      <td>50</td>\n",
       "      <td>Self-emp-not-inc</td>\n",
       "      <td>83311</td>\n",
       "      <td>Bachelors</td>\n",
       "      <td>13</td>\n",
       "      <td>Married-civ-spouse</td>\n",
       "      <td>Exec-managerial</td>\n",
       "      <td>Husband</td>\n",
       "      <td>White</td>\n",
       "      <td>Male</td>\n",
       "      <td>...</td>\n",
       "      <td>13</td>\n",
       "      <td>United-States</td>\n",
       "      <td>4.0</td>\n",
       "      <td>9.0</td>\n",
       "      <td>2.0</td>\n",
       "      <td>3.0</td>\n",
       "      <td>0.0</td>\n",
       "      <td>4.0</td>\n",
       "      <td>1.0</td>\n",
       "      <td>38.0</td>\n",
       "    </tr>\n",
       "    <tr>\n",
       "      <th>2</th>\n",
       "      <td>38</td>\n",
       "      <td>Private</td>\n",
       "      <td>215646</td>\n",
       "      <td>HS-grad</td>\n",
       "      <td>9</td>\n",
       "      <td>Divorced</td>\n",
       "      <td>Handlers-cleaners</td>\n",
       "      <td>Not-in-family</td>\n",
       "      <td>White</td>\n",
       "      <td>Male</td>\n",
       "      <td>...</td>\n",
       "      <td>40</td>\n",
       "      <td>United-States</td>\n",
       "      <td>2.0</td>\n",
       "      <td>11.0</td>\n",
       "      <td>0.0</td>\n",
       "      <td>5.0</td>\n",
       "      <td>1.0</td>\n",
       "      <td>4.0</td>\n",
       "      <td>1.0</td>\n",
       "      <td>38.0</td>\n",
       "    </tr>\n",
       "    <tr>\n",
       "      <th>3</th>\n",
       "      <td>53</td>\n",
       "      <td>Private</td>\n",
       "      <td>234721</td>\n",
       "      <td>11th</td>\n",
       "      <td>7</td>\n",
       "      <td>Married-civ-spouse</td>\n",
       "      <td>Handlers-cleaners</td>\n",
       "      <td>Husband</td>\n",
       "      <td>Black</td>\n",
       "      <td>Male</td>\n",
       "      <td>...</td>\n",
       "      <td>40</td>\n",
       "      <td>United-States</td>\n",
       "      <td>2.0</td>\n",
       "      <td>1.0</td>\n",
       "      <td>2.0</td>\n",
       "      <td>5.0</td>\n",
       "      <td>0.0</td>\n",
       "      <td>2.0</td>\n",
       "      <td>1.0</td>\n",
       "      <td>38.0</td>\n",
       "    </tr>\n",
       "    <tr>\n",
       "      <th>4</th>\n",
       "      <td>28</td>\n",
       "      <td>Private</td>\n",
       "      <td>338409</td>\n",
       "      <td>Bachelors</td>\n",
       "      <td>13</td>\n",
       "      <td>Married-civ-spouse</td>\n",
       "      <td>Prof-specialty</td>\n",
       "      <td>Wife</td>\n",
       "      <td>Black</td>\n",
       "      <td>Female</td>\n",
       "      <td>...</td>\n",
       "      <td>40</td>\n",
       "      <td>Cuba</td>\n",
       "      <td>2.0</td>\n",
       "      <td>9.0</td>\n",
       "      <td>2.0</td>\n",
       "      <td>9.0</td>\n",
       "      <td>5.0</td>\n",
       "      <td>2.0</td>\n",
       "      <td>0.0</td>\n",
       "      <td>4.0</td>\n",
       "    </tr>\n",
       "  </tbody>\n",
       "</table>\n",
       "<p>5 rows × 22 columns</p>\n",
       "</div>"
      ],
      "text/plain": [
       "   age         workclass  fnlwgt  education  education-num  \\\n",
       "0   39         State-gov   77516  Bachelors             13   \n",
       "1   50  Self-emp-not-inc   83311  Bachelors             13   \n",
       "2   38           Private  215646    HS-grad              9   \n",
       "3   53           Private  234721       11th              7   \n",
       "4   28           Private  338409  Bachelors             13   \n",
       "\n",
       "       marital-status         occupation   relationship   race     sex  ...  \\\n",
       "0       Never-married       Adm-clerical  Not-in-family  White    Male  ...   \n",
       "1  Married-civ-spouse    Exec-managerial        Husband  White    Male  ...   \n",
       "2            Divorced  Handlers-cleaners  Not-in-family  White    Male  ...   \n",
       "3  Married-civ-spouse  Handlers-cleaners        Husband  Black    Male  ...   \n",
       "4  Married-civ-spouse     Prof-specialty           Wife  Black  Female  ...   \n",
       "\n",
       "   hours-per-week  native-country  workclass_encoded education_encoded  \\\n",
       "0              40   United-States                5.0               9.0   \n",
       "1              13   United-States                4.0               9.0   \n",
       "2              40   United-States                2.0              11.0   \n",
       "3              40   United-States                2.0               1.0   \n",
       "4              40            Cuba                2.0               9.0   \n",
       "\n",
       "   marital-status_encoder  occupation_encoder  relationship_encoder  \\\n",
       "0                     4.0                 0.0                   1.0   \n",
       "1                     2.0                 3.0                   0.0   \n",
       "2                     0.0                 5.0                   1.0   \n",
       "3                     2.0                 5.0                   0.0   \n",
       "4                     2.0                 9.0                   5.0   \n",
       "\n",
       "   race_encoder  sex_encoder  native-country_encoder  \n",
       "0           4.0          1.0                    38.0  \n",
       "1           4.0          1.0                    38.0  \n",
       "2           4.0          1.0                    38.0  \n",
       "3           2.0          1.0                    38.0  \n",
       "4           2.0          0.0                     4.0  \n",
       "\n",
       "[5 rows x 22 columns]"
      ]
     },
     "execution_count": 54,
     "metadata": {},
     "output_type": "execute_result"
    }
   ],
   "source": [
    "#Hago una clasificación numérica para la columna 'workclass' porque es un string y la convierto en categórica numérica\n",
    "\n",
    "X['workclass_encoded'] = encoder.fit_transform(X[['workclass']])\n",
    "X['education_encoded'] = encoder.fit_transform(X[['education']])\n",
    "X['marital-status_encoder'] = encoder.fit_transform(X[['marital-status']])\n",
    "X['occupation_encoder'] = encoder.fit_transform(X[['occupation']])\n",
    "X['relationship_encoder'] = encoder.fit_transform(X[['relationship']])\n",
    "X['race_encoder'] = encoder.fit_transform(X[['race']])\n",
    "X['sex_encoder'] = encoder.fit_transform(X[['sex']])\n",
    "X['native-country_encoder'] = encoder.fit_transform(X[['native-country']])\n",
    "\n",
    "X.head()"
   ]
  },
  {
   "cell_type": "code",
   "execution_count": 55,
   "id": "e1e7fee4",
   "metadata": {},
   "outputs": [
    {
     "data": {
      "text/plain": [
       "array([[0.],\n",
       "       [0.],\n",
       "       [0.],\n",
       "       ...,\n",
       "       [1.],\n",
       "       [1.],\n",
       "       [3.]])"
      ]
     },
     "execution_count": 55,
     "metadata": {},
     "output_type": "execute_result"
    }
   ],
   "source": [
    "y = encoder.fit_transform(df_sin_na[['income']])\n",
    "y"
   ]
  },
  {
   "cell_type": "code",
   "execution_count": 58,
   "id": "32875e1b",
   "metadata": {},
   "outputs": [],
   "source": [
    "X_sin_str = X[['age','fnlwgt','capital-gain','capital-loss','hours-per-week','workclass_encoded',\n",
    "              'education_encoded','marital-status_encoder','occupation_encoder','relationship_encoder','race_encoder',\n",
    "             'sex_encoder','native-country_encoder']]\n",
    "#parece que el education-num es igual a education_encoded"
   ]
  },
  {
   "cell_type": "code",
   "execution_count": 59,
   "id": "d276b93a",
   "metadata": {
    "scrolled": true
   },
   "outputs": [
    {
     "data": {
      "text/html": [
       "<div>\n",
       "<style scoped>\n",
       "    .dataframe tbody tr th:only-of-type {\n",
       "        vertical-align: middle;\n",
       "    }\n",
       "\n",
       "    .dataframe tbody tr th {\n",
       "        vertical-align: top;\n",
       "    }\n",
       "\n",
       "    .dataframe thead th {\n",
       "        text-align: right;\n",
       "    }\n",
       "</style>\n",
       "<table border=\"1\" class=\"dataframe\">\n",
       "  <thead>\n",
       "    <tr style=\"text-align: right;\">\n",
       "      <th></th>\n",
       "      <th>age</th>\n",
       "      <th>fnlwgt</th>\n",
       "      <th>capital-gain</th>\n",
       "      <th>capital-loss</th>\n",
       "      <th>hours-per-week</th>\n",
       "      <th>workclass_encoded</th>\n",
       "      <th>education_encoded</th>\n",
       "      <th>marital-status_encoder</th>\n",
       "      <th>occupation_encoder</th>\n",
       "      <th>relationship_encoder</th>\n",
       "      <th>race_encoder</th>\n",
       "      <th>sex_encoder</th>\n",
       "      <th>native-country_encoder</th>\n",
       "    </tr>\n",
       "  </thead>\n",
       "  <tbody>\n",
       "    <tr>\n",
       "      <th>0</th>\n",
       "      <td>39</td>\n",
       "      <td>77516</td>\n",
       "      <td>2174</td>\n",
       "      <td>0</td>\n",
       "      <td>40</td>\n",
       "      <td>5.0</td>\n",
       "      <td>9.0</td>\n",
       "      <td>4.0</td>\n",
       "      <td>0.0</td>\n",
       "      <td>1.0</td>\n",
       "      <td>4.0</td>\n",
       "      <td>1.0</td>\n",
       "      <td>38.0</td>\n",
       "    </tr>\n",
       "    <tr>\n",
       "      <th>1</th>\n",
       "      <td>50</td>\n",
       "      <td>83311</td>\n",
       "      <td>0</td>\n",
       "      <td>0</td>\n",
       "      <td>13</td>\n",
       "      <td>4.0</td>\n",
       "      <td>9.0</td>\n",
       "      <td>2.0</td>\n",
       "      <td>3.0</td>\n",
       "      <td>0.0</td>\n",
       "      <td>4.0</td>\n",
       "      <td>1.0</td>\n",
       "      <td>38.0</td>\n",
       "    </tr>\n",
       "    <tr>\n",
       "      <th>2</th>\n",
       "      <td>38</td>\n",
       "      <td>215646</td>\n",
       "      <td>0</td>\n",
       "      <td>0</td>\n",
       "      <td>40</td>\n",
       "      <td>2.0</td>\n",
       "      <td>11.0</td>\n",
       "      <td>0.0</td>\n",
       "      <td>5.0</td>\n",
       "      <td>1.0</td>\n",
       "      <td>4.0</td>\n",
       "      <td>1.0</td>\n",
       "      <td>38.0</td>\n",
       "    </tr>\n",
       "    <tr>\n",
       "      <th>3</th>\n",
       "      <td>53</td>\n",
       "      <td>234721</td>\n",
       "      <td>0</td>\n",
       "      <td>0</td>\n",
       "      <td>40</td>\n",
       "      <td>2.0</td>\n",
       "      <td>1.0</td>\n",
       "      <td>2.0</td>\n",
       "      <td>5.0</td>\n",
       "      <td>0.0</td>\n",
       "      <td>2.0</td>\n",
       "      <td>1.0</td>\n",
       "      <td>38.0</td>\n",
       "    </tr>\n",
       "    <tr>\n",
       "      <th>4</th>\n",
       "      <td>28</td>\n",
       "      <td>338409</td>\n",
       "      <td>0</td>\n",
       "      <td>0</td>\n",
       "      <td>40</td>\n",
       "      <td>2.0</td>\n",
       "      <td>9.0</td>\n",
       "      <td>2.0</td>\n",
       "      <td>9.0</td>\n",
       "      <td>5.0</td>\n",
       "      <td>2.0</td>\n",
       "      <td>0.0</td>\n",
       "      <td>4.0</td>\n",
       "    </tr>\n",
       "  </tbody>\n",
       "</table>\n",
       "</div>"
      ],
      "text/plain": [
       "   age  fnlwgt  capital-gain  capital-loss  hours-per-week  workclass_encoded  \\\n",
       "0   39   77516          2174             0              40                5.0   \n",
       "1   50   83311             0             0              13                4.0   \n",
       "2   38  215646             0             0              40                2.0   \n",
       "3   53  234721             0             0              40                2.0   \n",
       "4   28  338409             0             0              40                2.0   \n",
       "\n",
       "   education_encoded  marital-status_encoder  occupation_encoder  \\\n",
       "0                9.0                     4.0                 0.0   \n",
       "1                9.0                     2.0                 3.0   \n",
       "2               11.0                     0.0                 5.0   \n",
       "3                1.0                     2.0                 5.0   \n",
       "4                9.0                     2.0                 9.0   \n",
       "\n",
       "   relationship_encoder  race_encoder  sex_encoder  native-country_encoder  \n",
       "0                   1.0           4.0          1.0                    38.0  \n",
       "1                   0.0           4.0          1.0                    38.0  \n",
       "2                   1.0           4.0          1.0                    38.0  \n",
       "3                   0.0           2.0          1.0                    38.0  \n",
       "4                   5.0           2.0          0.0                     4.0  "
      ]
     },
     "execution_count": 59,
     "metadata": {},
     "output_type": "execute_result"
    }
   ],
   "source": [
    "X_sin_str.head()"
   ]
  },
  {
   "cell_type": "code",
   "execution_count": 61,
   "id": "b1edb938",
   "metadata": {},
   "outputs": [
    {
     "data": {
      "text/html": [
       "<div>\n",
       "<style scoped>\n",
       "    .dataframe tbody tr th:only-of-type {\n",
       "        vertical-align: middle;\n",
       "    }\n",
       "\n",
       "    .dataframe tbody tr th {\n",
       "        vertical-align: top;\n",
       "    }\n",
       "\n",
       "    .dataframe thead th {\n",
       "        text-align: right;\n",
       "    }\n",
       "</style>\n",
       "<table border=\"1\" class=\"dataframe\">\n",
       "  <thead>\n",
       "    <tr style=\"text-align: right;\">\n",
       "      <th></th>\n",
       "      <th>count</th>\n",
       "      <th>mean</th>\n",
       "      <th>std</th>\n",
       "      <th>min</th>\n",
       "      <th>25%</th>\n",
       "      <th>50%</th>\n",
       "      <th>75%</th>\n",
       "      <th>max</th>\n",
       "    </tr>\n",
       "  </thead>\n",
       "  <tbody>\n",
       "    <tr>\n",
       "      <th>age</th>\n",
       "      <td>45222.0</td>\n",
       "      <td>38.547941</td>\n",
       "      <td>13.217870</td>\n",
       "      <td>17.0</td>\n",
       "      <td>28.00</td>\n",
       "      <td>37.0</td>\n",
       "      <td>47.0</td>\n",
       "      <td>90.0</td>\n",
       "    </tr>\n",
       "    <tr>\n",
       "      <th>fnlwgt</th>\n",
       "      <td>45222.0</td>\n",
       "      <td>189734.734311</td>\n",
       "      <td>105639.195134</td>\n",
       "      <td>13492.0</td>\n",
       "      <td>117388.25</td>\n",
       "      <td>178316.0</td>\n",
       "      <td>237926.0</td>\n",
       "      <td>1490400.0</td>\n",
       "    </tr>\n",
       "    <tr>\n",
       "      <th>capital-gain</th>\n",
       "      <td>45222.0</td>\n",
       "      <td>1101.430344</td>\n",
       "      <td>7506.430084</td>\n",
       "      <td>0.0</td>\n",
       "      <td>0.00</td>\n",
       "      <td>0.0</td>\n",
       "      <td>0.0</td>\n",
       "      <td>99999.0</td>\n",
       "    </tr>\n",
       "    <tr>\n",
       "      <th>capital-loss</th>\n",
       "      <td>45222.0</td>\n",
       "      <td>88.595418</td>\n",
       "      <td>404.956092</td>\n",
       "      <td>0.0</td>\n",
       "      <td>0.00</td>\n",
       "      <td>0.0</td>\n",
       "      <td>0.0</td>\n",
       "      <td>4356.0</td>\n",
       "    </tr>\n",
       "    <tr>\n",
       "      <th>hours-per-week</th>\n",
       "      <td>45222.0</td>\n",
       "      <td>40.938017</td>\n",
       "      <td>12.007508</td>\n",
       "      <td>1.0</td>\n",
       "      <td>40.00</td>\n",
       "      <td>40.0</td>\n",
       "      <td>45.0</td>\n",
       "      <td>99.0</td>\n",
       "    </tr>\n",
       "    <tr>\n",
       "      <th>workclass_encoded</th>\n",
       "      <td>45222.0</td>\n",
       "      <td>2.204502</td>\n",
       "      <td>0.958122</td>\n",
       "      <td>0.0</td>\n",
       "      <td>2.00</td>\n",
       "      <td>2.0</td>\n",
       "      <td>2.0</td>\n",
       "      <td>6.0</td>\n",
       "    </tr>\n",
       "    <tr>\n",
       "      <th>education_encoded</th>\n",
       "      <td>45222.0</td>\n",
       "      <td>10.313321</td>\n",
       "      <td>3.817014</td>\n",
       "      <td>0.0</td>\n",
       "      <td>9.00</td>\n",
       "      <td>11.0</td>\n",
       "      <td>12.0</td>\n",
       "      <td>15.0</td>\n",
       "    </tr>\n",
       "    <tr>\n",
       "      <th>marital-status_encoder</th>\n",
       "      <td>45222.0</td>\n",
       "      <td>2.585180</td>\n",
       "      <td>1.500458</td>\n",
       "      <td>0.0</td>\n",
       "      <td>2.00</td>\n",
       "      <td>2.0</td>\n",
       "      <td>4.0</td>\n",
       "      <td>6.0</td>\n",
       "    </tr>\n",
       "    <tr>\n",
       "      <th>occupation_encoder</th>\n",
       "      <td>45222.0</td>\n",
       "      <td>5.969572</td>\n",
       "      <td>4.026400</td>\n",
       "      <td>0.0</td>\n",
       "      <td>2.00</td>\n",
       "      <td>6.0</td>\n",
       "      <td>9.0</td>\n",
       "      <td>13.0</td>\n",
       "    </tr>\n",
       "    <tr>\n",
       "      <th>relationship_encoder</th>\n",
       "      <td>45222.0</td>\n",
       "      <td>1.412697</td>\n",
       "      <td>1.597227</td>\n",
       "      <td>0.0</td>\n",
       "      <td>0.00</td>\n",
       "      <td>1.0</td>\n",
       "      <td>3.0</td>\n",
       "      <td>5.0</td>\n",
       "    </tr>\n",
       "    <tr>\n",
       "      <th>race_encoder</th>\n",
       "      <td>45222.0</td>\n",
       "      <td>3.680288</td>\n",
       "      <td>0.832353</td>\n",
       "      <td>0.0</td>\n",
       "      <td>4.00</td>\n",
       "      <td>4.0</td>\n",
       "      <td>4.0</td>\n",
       "      <td>4.0</td>\n",
       "    </tr>\n",
       "    <tr>\n",
       "      <th>sex_encoder</th>\n",
       "      <td>45222.0</td>\n",
       "      <td>0.675048</td>\n",
       "      <td>0.468362</td>\n",
       "      <td>0.0</td>\n",
       "      <td>0.00</td>\n",
       "      <td>1.0</td>\n",
       "      <td>1.0</td>\n",
       "      <td>1.0</td>\n",
       "    </tr>\n",
       "    <tr>\n",
       "      <th>native-country_encoder</th>\n",
       "      <td>45222.0</td>\n",
       "      <td>36.401022</td>\n",
       "      <td>6.079856</td>\n",
       "      <td>0.0</td>\n",
       "      <td>38.00</td>\n",
       "      <td>38.0</td>\n",
       "      <td>38.0</td>\n",
       "      <td>40.0</td>\n",
       "    </tr>\n",
       "  </tbody>\n",
       "</table>\n",
       "</div>"
      ],
      "text/plain": [
       "                          count           mean            std      min  \\\n",
       "age                     45222.0      38.547941      13.217870     17.0   \n",
       "fnlwgt                  45222.0  189734.734311  105639.195134  13492.0   \n",
       "capital-gain            45222.0    1101.430344    7506.430084      0.0   \n",
       "capital-loss            45222.0      88.595418     404.956092      0.0   \n",
       "hours-per-week          45222.0      40.938017      12.007508      1.0   \n",
       "workclass_encoded       45222.0       2.204502       0.958122      0.0   \n",
       "education_encoded       45222.0      10.313321       3.817014      0.0   \n",
       "marital-status_encoder  45222.0       2.585180       1.500458      0.0   \n",
       "occupation_encoder      45222.0       5.969572       4.026400      0.0   \n",
       "relationship_encoder    45222.0       1.412697       1.597227      0.0   \n",
       "race_encoder            45222.0       3.680288       0.832353      0.0   \n",
       "sex_encoder             45222.0       0.675048       0.468362      0.0   \n",
       "native-country_encoder  45222.0      36.401022       6.079856      0.0   \n",
       "\n",
       "                              25%       50%       75%        max  \n",
       "age                         28.00      37.0      47.0       90.0  \n",
       "fnlwgt                  117388.25  178316.0  237926.0  1490400.0  \n",
       "capital-gain                 0.00       0.0       0.0    99999.0  \n",
       "capital-loss                 0.00       0.0       0.0     4356.0  \n",
       "hours-per-week              40.00      40.0      45.0       99.0  \n",
       "workclass_encoded            2.00       2.0       2.0        6.0  \n",
       "education_encoded            9.00      11.0      12.0       15.0  \n",
       "marital-status_encoder       2.00       2.0       4.0        6.0  \n",
       "occupation_encoder           2.00       6.0       9.0       13.0  \n",
       "relationship_encoder         0.00       1.0       3.0        5.0  \n",
       "race_encoder                 4.00       4.0       4.0        4.0  \n",
       "sex_encoder                  0.00       1.0       1.0        1.0  \n",
       "native-country_encoder      38.00      38.0      38.0       40.0  "
      ]
     },
     "execution_count": 61,
     "metadata": {},
     "output_type": "execute_result"
    }
   ],
   "source": [
    "X_sin_str.describe().T"
   ]
  },
  {
   "cell_type": "markdown",
   "id": "734be6d9",
   "metadata": {},
   "source": [
    "### Veo que quizas es necesario realizar una normalización en los campos (fnlwgt, capital-gain, capital-loss)"
   ]
  },
  {
   "cell_type": "markdown",
   "id": "52f29530",
   "metadata": {},
   "source": [
    "### Voy a verificar con la matriz de correlación sin realizar ninguna normalización "
   ]
  },
  {
   "cell_type": "code",
   "execution_count": 62,
   "id": "b340e4f6",
   "metadata": {},
   "outputs": [
    {
     "name": "stdout",
     "output_type": "stream",
     "text": [
      "                             age    fnlwgt  capital-gain  capital-loss  \\\n",
      "age                     1.000000 -0.075792      0.079683      0.059351   \n",
      "fnlwgt                 -0.075792  1.000000     -0.004110     -0.004349   \n",
      "capital-gain            0.079683 -0.004110      1.000000     -0.032102   \n",
      "capital-loss            0.059351 -0.004349     -0.032102      1.000000   \n",
      "hours-per-week          0.101992 -0.018679      0.083880      0.054195   \n",
      "workclass_encoded       0.085892 -0.034970      0.034543      0.008233   \n",
      "education_encoded      -0.003511 -0.025318      0.029889      0.016877   \n",
      "marital-status_encoder -0.271623  0.033096     -0.042399     -0.034820   \n",
      "occupation_encoder     -0.004474 -0.002036      0.019435      0.015267   \n",
      "relationship_encoder   -0.247564  0.009909     -0.056818     -0.058425   \n",
      "race_encoder            0.023776 -0.029188      0.014078      0.020955   \n",
      "sex_encoder             0.082053  0.027240      0.047444      0.046457   \n",
      "native-country_encoder -0.003180 -0.061098      0.007643      0.005955   \n",
      "\n",
      "                        hours-per-week  workclass_encoded  education_encoded  \\\n",
      "age                           0.101992           0.085892          -0.003511   \n",
      "fnlwgt                       -0.018679          -0.034970          -0.025318   \n",
      "capital-gain                  0.083880           0.034543           0.029889   \n",
      "capital-loss                  0.054195           0.008233           0.016877   \n",
      "hours-per-week                1.000000           0.051366           0.060887   \n",
      "workclass_encoded             0.051366           1.000000           0.017846   \n",
      "education_encoded             0.060887           0.017846           1.000000   \n",
      "marital-status_encoder       -0.183178          -0.033221          -0.041520   \n",
      "occupation_encoder            0.016160           0.017508          -0.033499   \n",
      "relationship_encoder         -0.259194          -0.065049          -0.013179   \n",
      "race_encoder                  0.044738           0.049765           0.011457   \n",
      "sex_encoder                   0.231425           0.069638          -0.027569   \n",
      "native-country_encoder        0.007554           0.003889           0.077893   \n",
      "\n",
      "                        marital-status_encoder  occupation_encoder  \\\n",
      "age                                  -0.271623           -0.004474   \n",
      "fnlwgt                                0.033096           -0.002036   \n",
      "capital-gain                         -0.042399            0.019435   \n",
      "capital-loss                         -0.034820            0.015267   \n",
      "hours-per-week                       -0.183178            0.016160   \n",
      "workclass_encoded                    -0.033221            0.017508   \n",
      "education_encoded                    -0.041520           -0.033499   \n",
      "marital-status_encoder                1.000000            0.016399   \n",
      "occupation_encoder                    0.016399            1.000000   \n",
      "relationship_encoder                  0.180436           -0.051644   \n",
      "race_encoder                         -0.070302           -0.000026   \n",
      "sex_encoder                          -0.120008            0.056625   \n",
      "native-country_encoder               -0.022721           -0.002848   \n",
      "\n",
      "                        relationship_encoder  race_encoder  sex_encoder  \\\n",
      "age                                -0.247564      0.023776     0.082053   \n",
      "fnlwgt                              0.009909     -0.029188     0.027240   \n",
      "capital-gain                       -0.056818      0.014078     0.047444   \n",
      "capital-loss                       -0.058425      0.020955     0.046457   \n",
      "hours-per-week                     -0.259194      0.044738     0.231425   \n",
      "workclass_encoded                  -0.065049      0.049765     0.069638   \n",
      "education_encoded                  -0.013179      0.011457    -0.027569   \n",
      "marital-status_encoder              0.180436     -0.070302    -0.120008   \n",
      "occupation_encoder                 -0.051644     -0.000026     0.056625   \n",
      "relationship_encoder                1.000000     -0.118584    -0.582974   \n",
      "race_encoder                       -0.118584      1.000000     0.088935   \n",
      "sex_encoder                        -0.582974      0.088935     1.000000   \n",
      "native-country_encoder             -0.007144      0.124342    -0.004170   \n",
      "\n",
      "                        native-country_encoder  \n",
      "age                                  -0.003180  \n",
      "fnlwgt                               -0.061098  \n",
      "capital-gain                          0.007643  \n",
      "capital-loss                          0.005955  \n",
      "hours-per-week                        0.007554  \n",
      "workclass_encoded                     0.003889  \n",
      "education_encoded                     0.077893  \n",
      "marital-status_encoder               -0.022721  \n",
      "occupation_encoder                   -0.002848  \n",
      "relationship_encoder                 -0.007144  \n",
      "race_encoder                          0.124342  \n",
      "sex_encoder                          -0.004170  \n",
      "native-country_encoder                1.000000  \n"
     ]
    }
   ],
   "source": [
    "corr_matrix = X_sin_str.corr()\n",
    "\n",
    "print(corr_matrix)"
   ]
  },
  {
   "cell_type": "markdown",
   "id": "01df971f",
   "metadata": {},
   "source": [
    "## parece que no hay una clara dependencia entre los campos..."
   ]
  },
  {
   "cell_type": "markdown",
   "id": "63feba95",
   "metadata": {},
   "source": [
    "## Voy a analizar esto mismo pero con las librerías"
   ]
  },
  {
   "cell_type": "code",
   "execution_count": 63,
   "id": "0b415909",
   "metadata": {},
   "outputs": [],
   "source": [
    "sfs = SFS(LinearRegression(),\n",
    "          k_features=11,\n",
    "          forward=True,\n",
    "          floating=False,\n",
    "          scoring = 'r2',\n",
    "          cv = 0)"
   ]
  },
  {
   "cell_type": "code",
   "execution_count": 64,
   "id": "19043149",
   "metadata": {},
   "outputs": [],
   "source": [
    "X1 = X_sin_str"
   ]
  },
  {
   "cell_type": "code",
   "execution_count": 65,
   "id": "51bb9165",
   "metadata": {},
   "outputs": [
    {
     "data": {
      "text/plain": [
       "('age',\n",
       " 'capital-gain',\n",
       " 'capital-loss',\n",
       " 'hours-per-week',\n",
       " 'workclass_encoded',\n",
       " 'education_encoded',\n",
       " 'marital-status_encoder',\n",
       " 'occupation_encoder',\n",
       " 'relationship_encoder',\n",
       " 'race_encoder',\n",
       " 'sex_encoder')"
      ]
     },
     "execution_count": 65,
     "metadata": {},
     "output_type": "execute_result"
    }
   ],
   "source": [
    "sfs.fit(X1, y)\n",
    "sfs.k_feature_names_     #Lista final de features"
   ]
  },
  {
   "cell_type": "markdown",
   "id": "7e4a672a",
   "metadata": {},
   "source": [
    "### Entiende que no se puede reducir ningún campo..."
   ]
  },
  {
   "cell_type": "markdown",
   "id": "30b144d4",
   "metadata": {},
   "source": [
    "## Voy por la normalización a ver si cambia algo"
   ]
  },
  {
   "cell_type": "code",
   "execution_count": 66,
   "id": "a49e51bc",
   "metadata": {},
   "outputs": [],
   "source": [
    "from sklearn.preprocessing import MinMaxScaler\n",
    "\n",
    "ms = MinMaxScaler()\n",
    "\n",
    "X1_normal = ms.fit_transform(X1)"
   ]
  },
  {
   "cell_type": "code",
   "execution_count": 68,
   "id": "d8a86e7b",
   "metadata": {},
   "outputs": [
    {
     "data": {
      "text/plain": [
       "array([[0.30136986, 0.04335003, 0.02174022, ..., 1.        , 1.        ,\n",
       "        0.95      ],\n",
       "       [0.45205479, 0.04727376, 0.        , ..., 1.        , 1.        ,\n",
       "        0.95      ],\n",
       "       [0.28767123, 0.1368765 , 0.        , ..., 1.        , 1.        ,\n",
       "        0.95      ],\n",
       "       ...,\n",
       "       [0.28767123, 0.24476203, 0.        , ..., 1.        , 1.        ,\n",
       "        0.95      ],\n",
       "       [0.36986301, 0.04766648, 0.05455055, ..., 0.25      , 1.        ,\n",
       "        0.95      ],\n",
       "       [0.24657534, 0.11419533, 0.        , ..., 1.        , 1.        ,\n",
       "        0.95      ]])"
      ]
     },
     "execution_count": 68,
     "metadata": {},
     "output_type": "execute_result"
    }
   ],
   "source": [
    "X1_normal"
   ]
  },
  {
   "cell_type": "code",
   "execution_count": 70,
   "id": "bbdc75b3",
   "metadata": {},
   "outputs": [],
   "source": [
    "columnas: np.array = X1.columns"
   ]
  },
  {
   "cell_type": "code",
   "execution_count": 71,
   "id": "499fb805",
   "metadata": {},
   "outputs": [],
   "source": [
    "X1_normal = pd.DataFrame(X1_normal, columns=[columnas])"
   ]
  },
  {
   "cell_type": "code",
   "execution_count": 72,
   "id": "59c74b80",
   "metadata": {
    "scrolled": true
   },
   "outputs": [
    {
     "data": {
      "text/html": [
       "<div>\n",
       "<style scoped>\n",
       "    .dataframe tbody tr th:only-of-type {\n",
       "        vertical-align: middle;\n",
       "    }\n",
       "\n",
       "    .dataframe tbody tr th {\n",
       "        vertical-align: top;\n",
       "    }\n",
       "\n",
       "    .dataframe thead tr th {\n",
       "        text-align: left;\n",
       "    }\n",
       "</style>\n",
       "<table border=\"1\" class=\"dataframe\">\n",
       "  <thead>\n",
       "    <tr>\n",
       "      <th></th>\n",
       "      <th>age</th>\n",
       "      <th>fnlwgt</th>\n",
       "      <th>capital-gain</th>\n",
       "      <th>capital-loss</th>\n",
       "      <th>hours-per-week</th>\n",
       "      <th>workclass_encoded</th>\n",
       "      <th>education_encoded</th>\n",
       "      <th>marital-status_encoder</th>\n",
       "      <th>occupation_encoder</th>\n",
       "      <th>relationship_encoder</th>\n",
       "      <th>race_encoder</th>\n",
       "      <th>sex_encoder</th>\n",
       "      <th>native-country_encoder</th>\n",
       "    </tr>\n",
       "  </thead>\n",
       "  <tbody>\n",
       "    <tr>\n",
       "      <th>0</th>\n",
       "      <td>0.301370</td>\n",
       "      <td>0.043350</td>\n",
       "      <td>0.02174</td>\n",
       "      <td>0.0</td>\n",
       "      <td>0.397959</td>\n",
       "      <td>0.833333</td>\n",
       "      <td>0.600000</td>\n",
       "      <td>0.666667</td>\n",
       "      <td>0.000000</td>\n",
       "      <td>0.2</td>\n",
       "      <td>1.0</td>\n",
       "      <td>1.0</td>\n",
       "      <td>0.95</td>\n",
       "    </tr>\n",
       "    <tr>\n",
       "      <th>1</th>\n",
       "      <td>0.452055</td>\n",
       "      <td>0.047274</td>\n",
       "      <td>0.00000</td>\n",
       "      <td>0.0</td>\n",
       "      <td>0.122449</td>\n",
       "      <td>0.666667</td>\n",
       "      <td>0.600000</td>\n",
       "      <td>0.333333</td>\n",
       "      <td>0.230769</td>\n",
       "      <td>0.0</td>\n",
       "      <td>1.0</td>\n",
       "      <td>1.0</td>\n",
       "      <td>0.95</td>\n",
       "    </tr>\n",
       "    <tr>\n",
       "      <th>2</th>\n",
       "      <td>0.287671</td>\n",
       "      <td>0.136877</td>\n",
       "      <td>0.00000</td>\n",
       "      <td>0.0</td>\n",
       "      <td>0.397959</td>\n",
       "      <td>0.333333</td>\n",
       "      <td>0.733333</td>\n",
       "      <td>0.000000</td>\n",
       "      <td>0.384615</td>\n",
       "      <td>0.2</td>\n",
       "      <td>1.0</td>\n",
       "      <td>1.0</td>\n",
       "      <td>0.95</td>\n",
       "    </tr>\n",
       "    <tr>\n",
       "      <th>3</th>\n",
       "      <td>0.493151</td>\n",
       "      <td>0.149792</td>\n",
       "      <td>0.00000</td>\n",
       "      <td>0.0</td>\n",
       "      <td>0.397959</td>\n",
       "      <td>0.333333</td>\n",
       "      <td>0.066667</td>\n",
       "      <td>0.333333</td>\n",
       "      <td>0.384615</td>\n",
       "      <td>0.0</td>\n",
       "      <td>0.5</td>\n",
       "      <td>1.0</td>\n",
       "      <td>0.95</td>\n",
       "    </tr>\n",
       "    <tr>\n",
       "      <th>4</th>\n",
       "      <td>0.150685</td>\n",
       "      <td>0.219998</td>\n",
       "      <td>0.00000</td>\n",
       "      <td>0.0</td>\n",
       "      <td>0.397959</td>\n",
       "      <td>0.333333</td>\n",
       "      <td>0.600000</td>\n",
       "      <td>0.333333</td>\n",
       "      <td>0.692308</td>\n",
       "      <td>1.0</td>\n",
       "      <td>0.5</td>\n",
       "      <td>0.0</td>\n",
       "      <td>0.10</td>\n",
       "    </tr>\n",
       "  </tbody>\n",
       "</table>\n",
       "</div>"
      ],
      "text/plain": [
       "        age    fnlwgt capital-gain capital-loss hours-per-week  \\\n",
       "0  0.301370  0.043350      0.02174          0.0       0.397959   \n",
       "1  0.452055  0.047274      0.00000          0.0       0.122449   \n",
       "2  0.287671  0.136877      0.00000          0.0       0.397959   \n",
       "3  0.493151  0.149792      0.00000          0.0       0.397959   \n",
       "4  0.150685  0.219998      0.00000          0.0       0.397959   \n",
       "\n",
       "  workclass_encoded education_encoded marital-status_encoder  \\\n",
       "0          0.833333          0.600000               0.666667   \n",
       "1          0.666667          0.600000               0.333333   \n",
       "2          0.333333          0.733333               0.000000   \n",
       "3          0.333333          0.066667               0.333333   \n",
       "4          0.333333          0.600000               0.333333   \n",
       "\n",
       "  occupation_encoder relationship_encoder race_encoder sex_encoder  \\\n",
       "0           0.000000                  0.2          1.0         1.0   \n",
       "1           0.230769                  0.0          1.0         1.0   \n",
       "2           0.384615                  0.2          1.0         1.0   \n",
       "3           0.384615                  0.0          0.5         1.0   \n",
       "4           0.692308                  1.0          0.5         0.0   \n",
       "\n",
       "  native-country_encoder  \n",
       "0                   0.95  \n",
       "1                   0.95  \n",
       "2                   0.95  \n",
       "3                   0.95  \n",
       "4                   0.10  "
      ]
     },
     "execution_count": 72,
     "metadata": {},
     "output_type": "execute_result"
    }
   ],
   "source": [
    "X1_normal.head()"
   ]
  },
  {
   "cell_type": "code",
   "execution_count": 73,
   "id": "d52cbe0b",
   "metadata": {},
   "outputs": [
    {
     "name": "stdout",
     "output_type": "stream",
     "text": [
      "                             age    fnlwgt capital-gain capital-loss  \\\n",
      "age                     1.000000 -0.075792     0.079683     0.059351   \n",
      "fnlwgt                 -0.075792  1.000000    -0.004110    -0.004349   \n",
      "capital-gain            0.079683 -0.004110     1.000000    -0.032102   \n",
      "capital-loss            0.059351 -0.004349    -0.032102     1.000000   \n",
      "hours-per-week          0.101992 -0.018679     0.083880     0.054195   \n",
      "workclass_encoded       0.085892 -0.034970     0.034543     0.008233   \n",
      "education_encoded      -0.003511 -0.025318     0.029889     0.016877   \n",
      "marital-status_encoder -0.271623  0.033096    -0.042399    -0.034820   \n",
      "occupation_encoder     -0.004474 -0.002036     0.019435     0.015267   \n",
      "relationship_encoder   -0.247564  0.009909    -0.056818    -0.058425   \n",
      "race_encoder            0.023776 -0.029188     0.014078     0.020955   \n",
      "sex_encoder             0.082053  0.027240     0.047444     0.046457   \n",
      "native-country_encoder -0.003180 -0.061098     0.007643     0.005955   \n",
      "\n",
      "                       hours-per-week workclass_encoded education_encoded  \\\n",
      "age                          0.101992          0.085892         -0.003511   \n",
      "fnlwgt                      -0.018679         -0.034970         -0.025318   \n",
      "capital-gain                 0.083880          0.034543          0.029889   \n",
      "capital-loss                 0.054195          0.008233          0.016877   \n",
      "hours-per-week               1.000000          0.051366          0.060887   \n",
      "workclass_encoded            0.051366          1.000000          0.017846   \n",
      "education_encoded            0.060887          0.017846          1.000000   \n",
      "marital-status_encoder      -0.183178         -0.033221         -0.041520   \n",
      "occupation_encoder           0.016160          0.017508         -0.033499   \n",
      "relationship_encoder        -0.259194         -0.065049         -0.013179   \n",
      "race_encoder                 0.044738          0.049765          0.011457   \n",
      "sex_encoder                  0.231425          0.069638         -0.027569   \n",
      "native-country_encoder       0.007554          0.003889          0.077893   \n",
      "\n",
      "                       marital-status_encoder occupation_encoder  \\\n",
      "age                                 -0.271623          -0.004474   \n",
      "fnlwgt                               0.033096          -0.002036   \n",
      "capital-gain                        -0.042399           0.019435   \n",
      "capital-loss                        -0.034820           0.015267   \n",
      "hours-per-week                      -0.183178           0.016160   \n",
      "workclass_encoded                   -0.033221           0.017508   \n",
      "education_encoded                   -0.041520          -0.033499   \n",
      "marital-status_encoder               1.000000           0.016399   \n",
      "occupation_encoder                   0.016399           1.000000   \n",
      "relationship_encoder                 0.180436          -0.051644   \n",
      "race_encoder                        -0.070302          -0.000026   \n",
      "sex_encoder                         -0.120008           0.056625   \n",
      "native-country_encoder              -0.022721          -0.002848   \n",
      "\n",
      "                       relationship_encoder race_encoder sex_encoder  \\\n",
      "age                               -0.247564     0.023776    0.082053   \n",
      "fnlwgt                             0.009909    -0.029188    0.027240   \n",
      "capital-gain                      -0.056818     0.014078    0.047444   \n",
      "capital-loss                      -0.058425     0.020955    0.046457   \n",
      "hours-per-week                    -0.259194     0.044738    0.231425   \n",
      "workclass_encoded                 -0.065049     0.049765    0.069638   \n",
      "education_encoded                 -0.013179     0.011457   -0.027569   \n",
      "marital-status_encoder             0.180436    -0.070302   -0.120008   \n",
      "occupation_encoder                -0.051644    -0.000026    0.056625   \n",
      "relationship_encoder               1.000000    -0.118584   -0.582974   \n",
      "race_encoder                      -0.118584     1.000000    0.088935   \n",
      "sex_encoder                       -0.582974     0.088935    1.000000   \n",
      "native-country_encoder            -0.007144     0.124342   -0.004170   \n",
      "\n",
      "                       native-country_encoder  \n",
      "age                                 -0.003180  \n",
      "fnlwgt                              -0.061098  \n",
      "capital-gain                         0.007643  \n",
      "capital-loss                         0.005955  \n",
      "hours-per-week                       0.007554  \n",
      "workclass_encoded                    0.003889  \n",
      "education_encoded                    0.077893  \n",
      "marital-status_encoder              -0.022721  \n",
      "occupation_encoder                  -0.002848  \n",
      "relationship_encoder                -0.007144  \n",
      "race_encoder                         0.124342  \n",
      "sex_encoder                         -0.004170  \n",
      "native-country_encoder               1.000000  \n"
     ]
    }
   ],
   "source": [
    "corr_matrix_normal = X1_normal.corr()\n",
    "\n",
    "print(corr_matrix_normal)"
   ]
  },
  {
   "cell_type": "code",
   "execution_count": 74,
   "id": "02ccae15",
   "metadata": {},
   "outputs": [
    {
     "data": {
      "text/plain": [
       "(('age',),\n",
       " ('capital-gain',),\n",
       " ('capital-loss',),\n",
       " ('hours-per-week',),\n",
       " ('workclass_encoded',),\n",
       " ('education_encoded',),\n",
       " ('marital-status_encoder',),\n",
       " ('occupation_encoder',),\n",
       " ('relationship_encoder',),\n",
       " ('race_encoder',),\n",
       " ('sex_encoder',))"
      ]
     },
     "execution_count": 74,
     "metadata": {},
     "output_type": "execute_result"
    }
   ],
   "source": [
    "sfs.fit(X1_normal, y)\n",
    "sfs.k_feature_names_     #Lista final de features"
   ]
  },
  {
   "cell_type": "markdown",
   "id": "c8d99c4a",
   "metadata": {},
   "source": [
    "## No cambia nada luego de la normalización\n",
    "## Hay que llevar todos los campos al modelo"
   ]
  },
  {
   "cell_type": "markdown",
   "id": "89e315ce",
   "metadata": {},
   "source": [
    "### Clasificación"
   ]
  },
  {
   "cell_type": "code",
   "execution_count": 77,
   "id": "1b60c55c",
   "metadata": {},
   "outputs": [
    {
     "name": "stdout",
     "output_type": "stream",
     "text": [
      "<class 'pandas.core.frame.DataFrame'>\n",
      "RangeIndex: 45222 entries, 0 to 45221\n",
      "Data columns (total 13 columns):\n",
      " #   Column                     Non-Null Count  Dtype  \n",
      "---  ------                     --------------  -----  \n",
      " 0   (age,)                     45222 non-null  float64\n",
      " 1   (fnlwgt,)                  45222 non-null  float64\n",
      " 2   (capital-gain,)            45222 non-null  float64\n",
      " 3   (capital-loss,)            45222 non-null  float64\n",
      " 4   (hours-per-week,)          45222 non-null  float64\n",
      " 5   (workclass_encoded,)       45222 non-null  float64\n",
      " 6   (education_encoded,)       45222 non-null  float64\n",
      " 7   (marital-status_encoder,)  45222 non-null  float64\n",
      " 8   (occupation_encoder,)      45222 non-null  float64\n",
      " 9   (relationship_encoder,)    45222 non-null  float64\n",
      " 10  (race_encoder,)            45222 non-null  float64\n",
      " 11  (sex_encoder,)             45222 non-null  float64\n",
      " 12  (native-country_encoder,)  45222 non-null  float64\n",
      "dtypes: float64(13)\n",
      "memory usage: 4.5 MB\n"
     ]
    }
   ],
   "source": [
    "X1_normal.info()"
   ]
  },
  {
   "cell_type": "code",
   "execution_count": 78,
   "id": "709f99aa",
   "metadata": {},
   "outputs": [
    {
     "name": "stderr",
     "output_type": "stream",
     "text": [
      "C:\\ProgramData\\miniconda3\\lib\\site-packages\\sklearn\\base.py:1151: DataConversionWarning: A column-vector y was passed when a 1d array was expected. Please change the shape of y to (n_samples,), for example using ravel().\n",
      "  return fit_method(estimator, *args, **kwargs)\n"
     ]
    }
   ],
   "source": [
    "# definimos matriz de diseño X y vector respuesta y\n",
    "X_clasificacion = X1_normal\n",
    "y_clasificacion = y\n",
    "# Separamos en entrenamiento/test en razon 80/20 %\n",
    "X_train, X_test, y_train, y_test = train_test_split(X_clasificacion,y_clasificacion,test_size=0.2, random_state=1)\n",
    "# Creamos un modelo Random Forest con parametros por defect\n",
    "modelo = RandomForestClassifier(random_state=1)\n",
    "modelo.fit(X_train, y_train)\n",
    "# Obtenemos las predicciones del modelo con X_test\n",
    "preds = modelo.predict(X_test)"
   ]
  },
  {
   "cell_type": "code",
   "execution_count": 84,
   "id": "09a7387f",
   "metadata": {},
   "outputs": [
    {
     "ename": "AttributeError",
     "evalue": "module 'sklearn.metrics' has no attribute 'plot_confusion_matrix'",
     "output_type": "error",
     "traceback": [
      "\u001b[1;31m---------------------------------------------------------------------------\u001b[0m",
      "\u001b[1;31mAttributeError\u001b[0m                            Traceback (most recent call last)",
      "Cell \u001b[1;32mIn[84], line 2\u001b[0m\n\u001b[0;32m      1\u001b[0m plt\u001b[38;5;241m.\u001b[39mfigure(figsize\u001b[38;5;241m=\u001b[39m(\u001b[38;5;241m10\u001b[39m,\u001b[38;5;241m6\u001b[39m))\n\u001b[1;32m----> 2\u001b[0m \u001b[43mmetrics\u001b[49m\u001b[38;5;241;43m.\u001b[39;49m\u001b[43mplot_confusion_matrix\u001b[49m(modelo, X_test, y_test, display_labels\u001b[38;5;241m=\u001b[39m[\u001b[38;5;124m'\u001b[39m\u001b[38;5;124mNegative\u001b[39m\u001b[38;5;124m'\u001b[39m, \u001b[38;5;124m'\u001b[39m\u001b[38;5;124mPositive\u001b[39m\u001b[38;5;124m'\u001b[39m])\n",
      "\u001b[1;31mAttributeError\u001b[0m: module 'sklearn.metrics' has no attribute 'plot_confusion_matrix'"
     ]
    },
    {
     "data": {
      "text/plain": [
       "<Figure size 1000x600 with 0 Axes>"
      ]
     },
     "metadata": {},
     "output_type": "display_data"
    }
   ],
   "source": [
    "plt.figure(figsize=(10,6))\n",
    "metrics.plot_confusion_matrix(modelo, X_test, y_test, display_labels=['Negative', 'Positive'])"
   ]
  },
  {
   "cell_type": "code",
   "execution_count": 80,
   "id": "026fea09",
   "metadata": {},
   "outputs": [
    {
     "data": {
      "text/plain": [
       "array([3673,  483,  265,   67, 1895,  234,  136,   33,  448,   93,  821,\n",
       "        135,  262,   53,  385,   62], dtype=int64)"
      ]
     },
     "execution_count": 80,
     "metadata": {},
     "output_type": "execute_result"
    }
   ],
   "source": [
    "confusion = metrics.confusion_matrix(y_test, preds)\n",
    "confusion.ravel()"
   ]
  },
  {
   "cell_type": "markdown",
   "id": "08d9970a",
   "metadata": {},
   "source": [
    "## Me dan multiples campos de la matriz de confusion"
   ]
  },
  {
   "cell_type": "code",
   "execution_count": 81,
   "id": "5357a495",
   "metadata": {},
   "outputs": [
    {
     "data": {
      "text/plain": [
       "0.5295743504698729"
      ]
     },
     "execution_count": 81,
     "metadata": {},
     "output_type": "execute_result"
    }
   ],
   "source": [
    "accuracy = metrics.accuracy_score(y_test, preds)\n",
    "accuracy"
   ]
  },
  {
   "cell_type": "code",
   "execution_count": 82,
   "id": "9eb4f9be",
   "metadata": {},
   "outputs": [
    {
     "name": "stdout",
     "output_type": "stream",
     "text": [
      "              precision    recall  f1-score   support\n",
      "\n",
      "         0.0       0.59      0.82      0.68      4488\n",
      "         1.0       0.27      0.10      0.15      2298\n",
      "         2.0       0.51      0.55      0.53      1497\n",
      "         3.0       0.21      0.08      0.12       762\n",
      "\n",
      "    accuracy                           0.53      9045\n",
      "   macro avg       0.39      0.39      0.37      9045\n",
      "weighted avg       0.46      0.53      0.47      9045\n",
      "\n"
     ]
    }
   ],
   "source": [
    "# Todas las metricas en uno\n",
    "print(metrics.classification_report(y_test, preds))"
   ]
  },
  {
   "cell_type": "markdown",
   "id": "f25e84e5",
   "metadata": {},
   "source": [
    "### Regresión"
   ]
  },
  {
   "cell_type": "code",
   "execution_count": 86,
   "id": "4dedeedc",
   "metadata": {},
   "outputs": [],
   "source": [
    "X_regresion = X1_normal\n",
    "y_regresion = y"
   ]
  },
  {
   "cell_type": "code",
   "execution_count": 87,
   "id": "def0fea9",
   "metadata": {},
   "outputs": [],
   "source": [
    "from sklearn.model_selection import train_test_split\n",
    "X_train,X_test,y_train,y_test = train_test_split(X_regresion,y_regresion,test_size=0.2,random_state=2)\n",
    "from sklearn.linear_model import LinearRegression\n",
    "# crear el modelo\n",
    "lr = LinearRegression()\n",
    "# Ajustar el modelo con X_train y y_train\n",
    "lr.fit(X_train,y_train)\n",
    "# PRedecir con X_test\n",
    "y_pred = lr.predict(X_test)"
   ]
  },
  {
   "cell_type": "code",
   "execution_count": 88,
   "id": "b48ecb57",
   "metadata": {},
   "outputs": [
    {
     "name": "stdout",
     "output_type": "stream",
     "text": [
      "MAE 0.7599298595130058\n"
     ]
    }
   ],
   "source": [
    "from sklearn.metrics import mean_absolute_error\n",
    "print(\"MAE\",mean_absolute_error(y_test,y_pred))"
   ]
  },
  {
   "cell_type": "code",
   "execution_count": 89,
   "id": "342b113c",
   "metadata": {},
   "outputs": [
    {
     "name": "stdout",
     "output_type": "stream",
     "text": [
      "MSE 0.8224044701377135\n"
     ]
    }
   ],
   "source": [
    "from sklearn.metrics import mean_squared_error\n",
    "print(\"MSE\",mean_squared_error(y_test,y_pred))"
   ]
  },
  {
   "cell_type": "code",
   "execution_count": 90,
   "id": "d2506e0a",
   "metadata": {},
   "outputs": [
    {
     "name": "stdout",
     "output_type": "stream",
     "text": [
      "RMSE 0.9068651885135482\n"
     ]
    }
   ],
   "source": [
    "print(\"RMSE\",np.sqrt(mean_squared_error(y_test,y_pred)))"
   ]
  },
  {
   "cell_type": "code",
   "execution_count": 91,
   "id": "bc51636f",
   "metadata": {},
   "outputs": [
    {
     "name": "stdout",
     "output_type": "stream",
     "text": [
      "0.1459488046493035\n"
     ]
    }
   ],
   "source": [
    "from sklearn.metrics import r2_score\n",
    "r2 = r2_score(y_test,y_pred)\n",
    "print(r2)"
   ]
  },
  {
   "cell_type": "markdown",
   "id": "4e7664fe",
   "metadata": {},
   "source": [
    "# 4.- Elegir un método de regresión o clasificación\n",
    "## Para entrenar los datos"
   ]
  },
  {
   "cell_type": "code",
   "execution_count": null,
   "id": "215fba6b",
   "metadata": {},
   "outputs": [],
   "source": []
  },
  {
   "cell_type": "markdown",
   "id": "4c857f3f",
   "metadata": {},
   "source": [
    "# 5.- Cálculos de métricas para validar el modelo"
   ]
  },
  {
   "cell_type": "code",
   "execution_count": null,
   "id": "c5069e73",
   "metadata": {},
   "outputs": [],
   "source": []
  },
  {
   "cell_type": "markdown",
   "id": "1f6fc0fb",
   "metadata": {},
   "source": [
    "# 6.- Generar conclusiones"
   ]
  },
  {
   "cell_type": "code",
   "execution_count": null,
   "id": "9604e814",
   "metadata": {},
   "outputs": [],
   "source": []
  },
  {
   "cell_type": "code",
   "execution_count": null,
   "id": "b2bd1330",
   "metadata": {},
   "outputs": [],
   "source": []
  }
 ],
 "metadata": {
  "kernelspec": {
   "display_name": "Python 3 (ipykernel)",
   "language": "python",
   "name": "python3"
  },
  "language_info": {
   "codemirror_mode": {
    "name": "ipython",
    "version": 3
   },
   "file_extension": ".py",
   "mimetype": "text/x-python",
   "name": "python",
   "nbconvert_exporter": "python",
   "pygments_lexer": "ipython3",
   "version": "3.10.13"
  }
 },
 "nbformat": 4,
 "nbformat_minor": 5
}
