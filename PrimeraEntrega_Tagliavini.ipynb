{
 "cells": [
  {
   "cell_type": "markdown",
   "id": "f157778c",
   "metadata": {},
   "source": [
    "# Entrega N° 6 - Primera entrega"
   ]
  },
  {
   "cell_type": "markdown",
   "id": "f4dc327c",
   "metadata": {},
   "source": [
    "\n",
    "|Autor|Fecha|\n",
    "|:----:|:----:|\n",
    "|Francisco Tagliavini|2023-12-06|\n"
   ]
  },
  {
   "cell_type": "markdown",
   "id": "cbd89689",
   "metadata": {},
   "source": [
    "# 1.- DEFINICIÓN DE ONJETIVOS"
   ]
  },
  {
   "cell_type": "markdown",
   "id": "a73000b8",
   "metadata": {},
   "source": [
    "## Motivo\n",
    "\n",
    "Determinación de capacidad adquisitiva de las personas, ingreso anual"
   ]
  },
  {
   "cell_type": "markdown",
   "id": "4d818f83",
   "metadata": {},
   "source": [
    "## Audiencia\n",
    "\n",
    "Puede haber intereses respecto a nivel academico obtenido.\n",
    "Para entidades de crédito de acuerdo a capacidad de pago."
   ]
  },
  {
   "cell_type": "markdown",
   "id": "a93aaf9c",
   "metadata": {},
   "source": [
    "# 2.- Contexto comercial\n",
    "\n",
    "Unidad de negocios de crédito de un banco.\n",
    "\n",
    "Brindar información de de capacidad de ingreso y crédito de las personas O individuos.\n",
    "Para poder determinar si tiene capacidad para tomar deuda deuda."
   ]
  },
  {
   "cell_type": "markdown",
   "id": "a8f179c4",
   "metadata": {},
   "source": [
    "# 3.- Problema comercial"
   ]
  },
  {
   "cell_type": "markdown",
   "id": "9a433db1",
   "metadata": {},
   "source": [
    "## OBJETIVO:\n",
    "\n",
    "Se propone predecir mediante ML si una persona puede superar un cierto ingreso anual o no.\n",
    "En este análisis el resultado presenta solo 2 opciones, siendo la variable categórica y dicotómica.['<50k' ; '>50k']\n",
    "El dataset propuesto ya cuente con información de la variable a predecir.\n",
    "En este escenario el MODELO propuesto es de CLASIFICACIÓN.\n",
    "\n",
    "Asimismo, las categorías existentes del datasets nos permiten poder trabajar con algunas relaciones e intentar establecer si existe algun tipo de correlación más alta entre algunas de estas con otras variables ademas de la variable objetivo.\n",
    "\n",
    "Parte del objetivo es inferir ingresos a partir de características indirectas, como por ejemplo, si el sexo, la raza, la nacionalidad o el nivel de estudio puede estimarse el ingreso. Suele suceder que las personas no informan sus ingresos, en particular suele suceder el niveles sociales altos (cola derecha) - en general los ingresos bajos suele informarse con mayor detalle."
   ]
  },
  {
   "cell_type": "markdown",
   "id": "dac23aa3",
   "metadata": {},
   "source": [
    "Para este tipo de análisis se puede utilizar el método de Hipótesis nula, en dónde proponemos una conclusión a la que debemos rechazar, por ejemplo:\n",
    "\n",
    "* Las mujeres tienen ingrresos significativamente más bajos que los hombre\n",
    "* Las persinas que trabajan menos horas tienen ingresos significativamente más bajos\n",
    "* Las personas de raza ' Amer-Indian-Eskimo' tienen ingresos mas bajos\n",
    "* Las personas de america latina tienen ingresos menores\n",
    "* Las personas con mayores niveles de educación alcanzados son mayormente casados\n",
    "\n",
    "Las condiciones de rechazo, se establecen a partir de un humbral de confiabibilidad, en donde se observa que la condicion de la Hipótesis nula queda por fuera del nivel de confiaza, esta es rechazada - indicando que no hay información suficiente en la muestra (o dataset) que permita validar la hipótesis planteada.\n",
    "\n",
    "Para una primera aproximación, con un análisis bivariado mediante una gráfica de mapa de puntos (scatter plot) se prodría visualizar si existe algún tipo de relación.\n"
   ]
  },
  {
   "cell_type": "markdown",
   "id": "ca672d7a",
   "metadata": {},
   "source": [
    "## Interes por análisis del dataset con un método no supervisado [Parte II]\n",
    "\n",
    "Se prodría analizar el DataSet sin el valor de la etiqueta, analizar mediante un sistema no supervisado y analizar mediate el método k-mains y el método de codos si el posible detetar más categorías.\n"
   ]
  },
  {
   "cell_type": "markdown",
   "id": "9643bb9d",
   "metadata": {},
   "source": [
    "# 4.- DATA ADQUISITION"
   ]
  },
  {
   "cell_type": "markdown",
   "id": "c7f5f890",
   "metadata": {},
   "source": [
    "## Cargo las librerias que voy a utilizar"
   ]
  },
  {
   "cell_type": "code",
   "execution_count": null,
   "id": "8ff412ab",
   "metadata": {},
   "outputs": [],
   "source": [
    "import numpy as np\n",
    "import pandas as pd\n",
    "import matplotlib as mpl\n",
    "import matplotlib.pyplot as plt\n",
    "import seaborn as sns"
   ]
  },
  {
   "cell_type": "code",
   "execution_count": null,
   "id": "892c20f1",
   "metadata": {},
   "outputs": [],
   "source": [
    "!pip install mlxtend"
   ]
  },
  {
   "cell_type": "code",
   "execution_count": null,
   "id": "ef5faddc",
   "metadata": {
    "scrolled": true
   },
   "outputs": [],
   "source": [
    "from sklearn.preprocessing import OrdinalEncoder\n",
    "import sys\n",
    "import joblib\n",
    "sys.modules['sklearn.externals.joblib'] = joblib\n",
    "from mlxtend.feature_selection import SequentialFeatureSelector as SFS\n",
    "from sklearn.linear_model import LinearRegression\n",
    "\n",
    "import pandas.testing\n",
    "\n",
    "\n",
    "# NO ME FUNCIONAN!\n",
    "    #import statsmodels.api as sm\n",
    "    #import pandas.util.testing as tm"
   ]
  },
  {
   "cell_type": "code",
   "execution_count": null,
   "id": "878f14a7",
   "metadata": {},
   "outputs": [],
   "source": [
    "#Clasificacion\n",
    "from sklearn.ensemble import RandomForestClassifier\n",
    "from sklearn.model_selection import train_test_split\n",
    "from sklearn import metrics\n"
   ]
  },
  {
   "cell_type": "code",
   "execution_count": null,
   "id": "10298d3b",
   "metadata": {},
   "outputs": [],
   "source": [
    "#regresión\n",
    "from sklearn import datasets, linear_model\n",
    "from sklearn.metrics import mean_squared_error, r2_score"
   ]
  },
  {
   "cell_type": "markdown",
   "id": "436d9796",
   "metadata": {},
   "source": [
    "## Leo el dataset (archivo.csv)\n",
    "* Me fijo si se lee bien con los primeros 3 registros"
   ]
  },
  {
   "cell_type": "code",
   "execution_count": null,
   "id": "ce79baf9",
   "metadata": {},
   "outputs": [],
   "source": [
    "df = pd.read_csv('dataset.csv')\n",
    "df.head(3)"
   ]
  },
  {
   "cell_type": "markdown",
   "id": "bfff1565",
   "metadata": {},
   "source": [
    "# 5.- Analisis exploratorio de datos (EDA)"
   ]
  },
  {
   "cell_type": "markdown",
   "id": "53205f88",
   "metadata": {},
   "source": [
    "### Pruebo con el método info()\n",
    "Resumen del dataset luego de la carga"
   ]
  },
  {
   "cell_type": "code",
   "execution_count": null,
   "id": "b4f02e25",
   "metadata": {
    "scrolled": true
   },
   "outputs": [],
   "source": [
    "df.info()"
   ]
  },
  {
   "cell_type": "markdown",
   "id": "bc453531",
   "metadata": {},
   "source": [
    "# sigo analizando el tamaño del data set\n",
    "Determino cunatos registros tiene el dataset y sus campos"
   ]
  },
  {
   "cell_type": "code",
   "execution_count": null,
   "id": "d3d39061",
   "metadata": {},
   "outputs": [],
   "source": [
    "df.shape"
   ]
  },
  {
   "cell_type": "markdown",
   "id": "81f72d87",
   "metadata": {},
   "source": [
    "## Analizo los campos numericos media, mediana, min, max y percentiles\n",
    "Analizo solo los campos que son numéricos para establecer las variaciones, dispersión y demas valores de tendencia central para tener una idea/detalle del campo"
   ]
  },
  {
   "cell_type": "code",
   "execution_count": null,
   "id": "fff7bbca",
   "metadata": {
    "scrolled": true
   },
   "outputs": [],
   "source": [
    "df.describe().T"
   ]
  },
  {
   "cell_type": "markdown",
   "id": "eeda9fb2",
   "metadata": {},
   "source": [
    "## Veo los campos disponibles\n",
    "Listo todos los nombres de las columnas"
   ]
  },
  {
   "cell_type": "code",
   "execution_count": null,
   "id": "cae37c9d",
   "metadata": {
    "scrolled": false
   },
   "outputs": [],
   "source": [
    "df.columns"
   ]
  },
  {
   "cell_type": "markdown",
   "id": "26df65ce",
   "metadata": {},
   "source": [
    "## Consulto por lo tipos de datos de los campos del dataset...\n",
    "Veo que tipo de datos tiene cada campos del dataset"
   ]
  },
  {
   "cell_type": "code",
   "execution_count": null,
   "id": "af274e26",
   "metadata": {
    "scrolled": false
   },
   "outputs": [],
   "source": [
    "df.dtypes"
   ]
  },
  {
   "cell_type": "markdown",
   "id": "48826063",
   "metadata": {},
   "source": [
    "**Los campos numericos son todos de tipo Integer**"
   ]
  },
  {
   "cell_type": "markdown",
   "id": "9ff29329",
   "metadata": {},
   "source": [
    "# Diccionario de campos y variables\n",
    "\n",
    "* age numerico entero - puedo analizar la distribución de rango etarios de la población del dataset (74 categorias de edad)\n",
    "* workclass: string (8 categorias) hay un valor no definido \n",
    "* fnlwgt: \n",
    "* education: string (16 categorias)\n",
    "* education-num: numerico entero\n",
    "* marital-status: string (7 categorias)\n",
    "* occupation: string (15 categorias)\n",
    "* relationship: string (6 categorias)\n",
    "* race: string (6 categorias)\n",
    "* sex: string (2 categorias)\n",
    "* capital-gain:\n",
    "* capital-loss:\n",
    "* hours-per-week:\n",
    "* native-country:\n",
    "* income:"
   ]
  },
  {
   "cell_type": "markdown",
   "id": "8e8634b8",
   "metadata": {},
   "source": [
    "# Analizo valores repetidos o categorias de cada campo"
   ]
  },
  {
   "cell_type": "code",
   "execution_count": null,
   "id": "4c3786dc",
   "metadata": {},
   "outputs": [],
   "source": [
    "df['age'].value_counts()"
   ]
  },
  {
   "cell_type": "code",
   "execution_count": null,
   "id": "d4461c12",
   "metadata": {},
   "outputs": [],
   "source": [
    "df['workclass'].value_counts()"
   ]
  },
  {
   "cell_type": "code",
   "execution_count": null,
   "id": "fc92a1ad",
   "metadata": {},
   "outputs": [],
   "source": [
    "df['education'].value_counts()"
   ]
  },
  {
   "cell_type": "code",
   "execution_count": null,
   "id": "a48b663c",
   "metadata": {},
   "outputs": [],
   "source": [
    "df['education-num'].value_counts()"
   ]
  },
  {
   "cell_type": "code",
   "execution_count": null,
   "id": "dd289a0d",
   "metadata": {},
   "outputs": [],
   "source": [
    "df['marital-status'].value_counts()"
   ]
  },
  {
   "cell_type": "code",
   "execution_count": null,
   "id": "155dbeb3",
   "metadata": {
    "scrolled": true
   },
   "outputs": [],
   "source": [
    "df['occupation'].value_counts()"
   ]
  },
  {
   "cell_type": "code",
   "execution_count": null,
   "id": "770cc43d",
   "metadata": {},
   "outputs": [],
   "source": [
    "df['relationship'].value_counts()"
   ]
  },
  {
   "cell_type": "code",
   "execution_count": null,
   "id": "1715aa5f",
   "metadata": {
    "scrolled": true
   },
   "outputs": [],
   "source": [
    "df['race'].value_counts()"
   ]
  },
  {
   "cell_type": "code",
   "execution_count": null,
   "id": "3223fefa",
   "metadata": {
    "scrolled": true
   },
   "outputs": [],
   "source": [
    "df['sex'].value_counts()"
   ]
  },
  {
   "cell_type": "code",
   "execution_count": null,
   "id": "b910f8c1",
   "metadata": {
    "scrolled": false
   },
   "outputs": [],
   "source": [
    "df['capital-gain'].value_counts()"
   ]
  },
  {
   "cell_type": "code",
   "execution_count": null,
   "id": "de645b84",
   "metadata": {},
   "outputs": [],
   "source": [
    "df['capital-loss'].value_counts()"
   ]
  },
  {
   "cell_type": "markdown",
   "id": "9fc86af4",
   "metadata": {},
   "source": [
    "|Variable Name|Role|Type|Demographic|Description|Units|Missing Values|\n",
    "|:----|:----|:----|:----|:----|:----|:----|\n",
    "|age|Feature|Integer|Age|N/A||no|\n",
    "|workclass|Feature|Categorical|Income|Private, Self-emp-not-inc, Self-emp-inc, Federal-gov, Local-gov, State-gov, Without-pay, Never-worked||yes|\n",
    "|fnlwgt|Feature|Integer||||no|\n",
    "|education|Feature|Categorical|Education Level|Bachelors, Some-college, 11th, HS-grad, Prof-school, Assoc-acdm, Assoc-voc, 9th, 7th-8th, 12th, Masters, 1st-4th, 10th, Doctorate, 5th-6th, Preschool||no|\n",
    "|education-num|Feature|Integer|Education Level|||no|\n",
    "|marital-status|Feature|Categorical|Other|Married-civ-spouse, Divorced, Never-married, Separated, Widowed, Married-spouse-absent, Married-AF-spouse|||no|\n",
    "|occupation|Feature|Categorical|Other|Tech-support, Craft-repair, Other-service, Sales, Exec-managerial, Prof-specialty, Handlers-cleaners, Machine-op-inspct, Adm-clerical, Farming-fishing, Transport-moving, Priv-house-serv, Protective-serv, Armed-Forces|||yes|\n",
    "|relationship|Feature|Categorical|Other|Wife, Own-child, Husband, Not-in-family, Other-relative, Unmarried|||no|\n",
    "|race|Feature|Categorical|Race|White, Asian-Pac-Islander, Amer-Indian-Eskimo, Other, Black|||no|\n",
    "|sex|Feature|Binary|Sex|Female, Male|||no|\n",
    "|capital-gain|Feature|Integer||||no|\n",
    "|capital-loss|Feature|Integer||||no|\n",
    "|hours-per-week|Feature|Integer||||no|\n",
    "|native-country|Feature|Categorical|Other|United-States, Cambodia, England, Puerto-Rico, Canada, Germany, Outlying-US(Guam-USVI-etc), India, Japan, Greece, South, China, Cuba, Iran, Honduras, Philippines, Italy, Poland, Jamaica, Vietnam, Mexico, Portugal, Ireland, France, Dominican-Republic, Laos, Ecuador, Taiwan, Haiti, Columbia, Hungary, Guatemala, Nicaragua, Scotland, Thailand, Yugoslavia, El-Salvador, Trinadad&Tobago, Peru, Hong, Holand-Netherlands|||yes|\n",
    "|income|Target|Binary|Income|>50K, <=50K||no|"
   ]
  },
  {
   "cell_type": "markdown",
   "id": "21eb1ef6",
   "metadata": {},
   "source": [
    "# vamos con los gráficos de MATPLOTLIB"
   ]
  },
  {
   "cell_type": "code",
   "execution_count": null,
   "id": "812d9fa3",
   "metadata": {
    "scrolled": true
   },
   "outputs": [],
   "source": [
    "#Me fijo los estilos disponibles\n",
    "import matplotlib as mpl\n",
    "#mpl.style.available"
   ]
  },
  {
   "cell_type": "code",
   "execution_count": null,
   "id": "cbad87fc",
   "metadata": {},
   "outputs": [],
   "source": [
    "#Selecciono un estilo\n",
    "mpl.style.use('bmh')"
   ]
  },
  {
   "cell_type": "markdown",
   "id": "e68085aa",
   "metadata": {},
   "source": [
    "## Análisis univariable"
   ]
  },
  {
   "cell_type": "markdown",
   "id": "065906bd",
   "metadata": {},
   "source": [
    "### Analisis del campo edades"
   ]
  },
  {
   "cell_type": "code",
   "execution_count": null,
   "id": "b6d11462",
   "metadata": {},
   "outputs": [],
   "source": [
    "fig, ax = plt.subplots(figsize=(12,6))\n",
    "ax.hist(df['age'])\n",
    "ax.set_title('Distribucion de edades del dataset')\n",
    "ax.set_xlabel('Edades')\n",
    "ax.set_ylabel('Cantidad de registros')\n",
    "ax.set(xlim=(0, 100), xticks=np.arange(0, 100,10),\n",
    "       ylim=(0, 10000), yticks=np.arange(0, 10000,1000))\n",
    "plt.show()"
   ]
  },
  {
   "cell_type": "code",
   "execution_count": null,
   "id": "1ab376bf",
   "metadata": {
    "scrolled": true
   },
   "outputs": [],
   "source": [
    "fig, ax = plt.subplots(figsize=(12,6))\n",
    "ax.boxplot(df['age'])\n",
    "ax.set_title('Distribucion de edades del dataset')\n",
    "ax.set_xlabel('')\n",
    "ax.set_ylabel('Edad')\n",
    "\n",
    "plt.show()"
   ]
  },
  {
   "cell_type": "markdown",
   "id": "8a41265f",
   "metadata": {},
   "source": [
    "observamos varios valores outliers que pueden correr el valor de la media...se debería analizar cuanto se corre la media y la mediana.\n",
    "Considerar esto para el relleno de datos o valores NaN"
   ]
  },
  {
   "cell_type": "markdown",
   "id": "81068f4b",
   "metadata": {},
   "source": [
    "Voy a repetir la grafica eliminando los outliers para limpiar un poco el ploteo"
   ]
  },
  {
   "cell_type": "code",
   "execution_count": null,
   "id": "c12d0a6c",
   "metadata": {},
   "outputs": [],
   "source": [
    "fig, ax = plt.subplots(figsize=(12,6))\n",
    "ax.boxplot(df['age'],showfliers=False)\n",
    "ax.set_title('Distribucion de edades del dataset')\n",
    "ax.set_xlabel('')\n",
    "ax.set_ylabel('Edades')\n",
    "\n",
    "plt.show()"
   ]
  },
  {
   "cell_type": "markdown",
   "id": "21877708",
   "metadata": {},
   "source": [
    "### Análisis del campo Horas laborales semanales"
   ]
  },
  {
   "cell_type": "code",
   "execution_count": null,
   "id": "963914e1",
   "metadata": {},
   "outputs": [],
   "source": [
    "fig, ax = plt.subplots(figsize=(12,6))\n",
    "ax.hist(df['hours-per-week'])\n",
    "ax.set_title('Distribucion de horas laborales semanales')\n",
    "ax.set_xlabel('Cantidad de registros')\n",
    "ax.set_ylabel('')\n",
    "ax.set(xlim=(0, 100), xticks=np.arange(0, 110,10),\n",
    "       ylim=(0, 30000), yticks=np.arange(0, 33000,3000))\n",
    "plt.show()"
   ]
  },
  {
   "cell_type": "code",
   "execution_count": null,
   "id": "c787b3f7",
   "metadata": {},
   "outputs": [],
   "source": [
    "fig, ax = plt.subplots(figsize=(12,6))\n",
    "ax.boxplot(df['hours-per-week'])\n",
    "ax.set_title('Distribucion de horas laborales semanales')\n",
    "ax.set_xlabel('Cantidad de registros')\n",
    "ax.set_ylabel('')\n",
    "\n",
    "plt.show()"
   ]
  },
  {
   "cell_type": "code",
   "execution_count": null,
   "id": "99e570ed",
   "metadata": {},
   "outputs": [],
   "source": [
    "fig, ax = plt.subplots(figsize=(12,6))\n",
    "ax.boxplot(df['hours-per-week'],showfliers=False)\n",
    "ax.set_title('Distribucion de horas laborales semanales')\n",
    "ax.set_xlabel('Cantidad de registros')\n",
    "ax.set_ylabel('')\n",
    "\n",
    "plt.show()"
   ]
  },
  {
   "cell_type": "markdown",
   "id": "99d8adb0",
   "metadata": {},
   "source": [
    "### Análisis de Capital-gain"
   ]
  },
  {
   "cell_type": "code",
   "execution_count": null,
   "id": "af06501b",
   "metadata": {},
   "outputs": [],
   "source": [
    "fig, ax = plt.subplots(figsize=(12,6))\n",
    "ax.his(df['capital-gain'])\n",
    "ax.set_title('Distribucion de ingresos anuales')\n",
    "ax.set_xlabel('Ingresos (U$S)')\n",
    "ax.set_ylabel('Cantidad de registros')\n",
    "ax.set(xlim=(0, 100000), xticks=np.arange(0, 110000,10000),\n",
    "       ylim=(0, 50000), yticks=np.arange(0, 55000,5000))\n",
    "plt.show()"
   ]
  },
  {
   "cell_type": "code",
   "execution_count": null,
   "id": "fa3139c7",
   "metadata": {},
   "outputs": [],
   "source": [
    "fig, ax = plt.subplots(figsize=(12,6))\n",
    "ax.boxplot(df['capital-gain'])\n",
    "ax.set_title('Distribucion de ingresos anuales')\n",
    "ax.set_xlabel('Ingresos (U$S)')\n",
    "ax.set_ylabel('Cantidad de registros')\n",
    "\n",
    "plt.show()"
   ]
  },
  {
   "cell_type": "code",
   "execution_count": null,
   "id": "192bbc65",
   "metadata": {},
   "outputs": [],
   "source": [
    "fig, ax = plt.subplots(figsize=(12,6))\n",
    "ax.boxplot(df['capital-gain'],showfliers=False)\n",
    "ax.set_title('Distribucion de ingresos anuales')\n",
    "ax.set_xlabel('Ingresos (U$S)')\n",
    "ax.set_ylabel('Cantidad de registros')\n",
    "\n",
    "plt.show()"
   ]
  },
  {
   "cell_type": "markdown",
   "id": "3b2bd2dc",
   "metadata": {},
   "source": [
    "### Anlñapisis de Capital-loss"
   ]
  },
  {
   "cell_type": "code",
   "execution_count": null,
   "id": "6c79598c",
   "metadata": {
    "scrolled": true
   },
   "outputs": [],
   "source": [
    "fig, ax = plt.subplots(figsize=(12,6))\n",
    "ax.hist(df['capital-loss'])\n",
    "ax.set_title('Distribucion de perdidas anuales')\n",
    "ax.set_xlabel('Ingresos (U$S)')\n",
    "ax.set_ylabel('Cantidad de registros')\n",
    "ax.set(xlim=(0, 5000), xticks=np.arange(0, 6000,100),\n",
    "       ylim=(0, 50000), yticks=np.arange(0, 55000,5000))\n",
    "plt.show()"
   ]
  },
  {
   "cell_type": "code",
   "execution_count": null,
   "id": "d5b23e0a",
   "metadata": {},
   "outputs": [],
   "source": [
    "# Mejorar la resolución del gréfico"
   ]
  },
  {
   "cell_type": "code",
   "execution_count": null,
   "id": "d2a89b9f",
   "metadata": {
    "scrolled": true
   },
   "outputs": [],
   "source": [
    "fig, ax = plt.subplots(figsize=(12,6))\n",
    "ax.hist(df['capital-loss'])\n",
    "ax.set_title('Distribucion de perdidas anuales')\n",
    "ax.set_xlabel('Ingresos (U$S)')\n",
    "ax.set_ylabel('Cantidad de registros')\n",
    "ax.set(xlim=(0, 4000), xticks=np.arange(0, 4000,200),\n",
    "       ylim=(0, 50000), yticks=np.arange(0, 55000,5000))\n",
    "plt.show()"
   ]
  },
  {
   "cell_type": "code",
   "execution_count": null,
   "id": "c2840034",
   "metadata": {},
   "outputs": [],
   "source": [
    "df['sex'].value_counts()"
   ]
  },
  {
   "cell_type": "markdown",
   "id": "9b6170de",
   "metadata": {},
   "source": [
    "## Análisis multivariado"
   ]
  },
  {
   "cell_type": "code",
   "execution_count": null,
   "id": "2ae36706",
   "metadata": {
    "scrolled": true
   },
   "outputs": [],
   "source": [
    "x = df['sex']\n",
    "y = df['capital-gain']\n",
    "\n",
    "fig, ax = plt.subplots()\n",
    "\n",
    "ax.scatter(x, y)\n",
    "\n",
    "#ax.set(xlim=(0, 8), xticks=np.arange(1, 8),\n",
    "#       ylim=(0, 8), yticks=np.arange(1, 8))\n",
    "\n",
    "plt.show()"
   ]
  },
  {
   "cell_type": "code",
   "execution_count": null,
   "id": "a8c95fef",
   "metadata": {
    "scrolled": true
   },
   "outputs": [],
   "source": [
    "x = df['age']\n",
    "y = df['capital-gain']\n",
    "\n",
    "fig, ax = plt.subplots()\n",
    "\n",
    "ax.scatter(x, y)\n",
    "\n",
    "#ax.set(xlim=(0, 8), xticks=np.arange(1, 8),\n",
    "#       ylim=(0, 8), yticks=np.arange(1, 8))\n",
    "\n",
    "plt.show()"
   ]
  },
  {
   "cell_type": "code",
   "execution_count": null,
   "id": "4eee1d34",
   "metadata": {},
   "outputs": [],
   "source": [
    "x = df['education']\n",
    "y = df['capital-gain']\n",
    "\n",
    "fig, ax = plt.subplots()\n",
    "\n",
    "ax.scatter(x, y)\n",
    "\n",
    "#ax.set(xlim=(0, 8), xticks=np.arange(1, 8),\n",
    "#       ylim=(0, 8), yticks=np.arange(1, 8))\n",
    "\n",
    "plt.show()"
   ]
  },
  {
   "cell_type": "code",
   "execution_count": null,
   "id": "31311ca8",
   "metadata": {},
   "outputs": [],
   "source": [
    "x = df['capital-loss']\n",
    "y = df['capital-gain']\n",
    "\n",
    "fig, ax = plt.subplots()\n",
    "\n",
    "ax.scatter(x, y)\n",
    "\n",
    "#ax.set(xlim=(0, 8), xticks=np.arange(1, 8),\n",
    "#       ylim=(0, 8), yticks=np.arange(1, 8))\n",
    "\n",
    "plt.show()"
   ]
  },
  {
   "cell_type": "code",
   "execution_count": null,
   "id": "21f43c4b",
   "metadata": {},
   "outputs": [],
   "source": [
    "x = df['relationship']\n",
    "y = df['capital-gain']\n",
    "\n",
    "fig, ax = plt.subplots()\n",
    "\n",
    "ax.scatter(x, y)\n",
    "\n",
    "#ax.set(xlim=(0, 8), xticks=np.arange(1, 8),\n",
    "#       ylim=(0, 8), yticks=np.arange(1, 8))\n",
    "\n",
    "plt.show()"
   ]
  },
  {
   "cell_type": "code",
   "execution_count": null,
   "id": "665d34e4",
   "metadata": {},
   "outputs": [],
   "source": [
    "x = df['hours-per-week']\n",
    "y = df['capital-gain']\n",
    "\n",
    "fig, ax = plt.subplots()\n",
    "\n",
    "ax.scatter(x, y)\n",
    "\n",
    "#ax.set(xlim=(0, 8), xticks=np.arange(1, 8),\n",
    "#       ylim=(0, 8), yticks=np.arange(1, 8))\n",
    "\n",
    "plt.show()"
   ]
  },
  {
   "cell_type": "code",
   "execution_count": null,
   "id": "61194ee3",
   "metadata": {},
   "outputs": [],
   "source": [
    "x = df['race']\n",
    "y = df['capital-gain']\n",
    "\n",
    "fig, ax = plt.subplots()\n",
    "\n",
    "ax.scatter(x, y)\n",
    "\n",
    "#ax.set(xlim=(0, 8), xticks=np.arange(1, 8),\n",
    "#       ylim=(0, 8), yticks=np.arange(1, 8))\n",
    "\n",
    "plt.show()"
   ]
  },
  {
   "cell_type": "markdown",
   "id": "f6932d86",
   "metadata": {},
   "source": [
    "# 6.- Data wrangling\n"
   ]
  },
  {
   "cell_type": "code",
   "execution_count": null,
   "id": "71067823",
   "metadata": {},
   "outputs": [],
   "source": [
    "df.info()"
   ]
  },
  {
   "cell_type": "markdown",
   "id": "fbe6b8b9",
   "metadata": {},
   "source": [
    "### Hay algunas columnas que tienen menos cantidad de registros\n",
    "2, 7, 14"
   ]
  },
  {
   "cell_type": "markdown",
   "id": "2436e092",
   "metadata": {},
   "source": [
    "## Reviso que campos tienen NaN y su cantidad"
   ]
  },
  {
   "cell_type": "code",
   "execution_count": null,
   "id": "1d0061d6",
   "metadata": {
    "scrolled": true
   },
   "outputs": [],
   "source": [
    "df.isna().sum()"
   ]
  },
  {
   "cell_type": "code",
   "execution_count": null,
   "id": "bc990c21",
   "metadata": {},
   "outputs": [],
   "source": [
    "sns.heatmap(df.isna(), cbar=False)"
   ]
  },
  {
   "cell_type": "markdown",
   "id": "1e0e4852",
   "metadata": {},
   "source": [
    "### Confirmo que las columnas con menos registros tienen campos NaN"
   ]
  },
  {
   "cell_type": "code",
   "execution_count": null,
   "id": "ba6a5284",
   "metadata": {},
   "outputs": [],
   "source": [
    "df.shape"
   ]
  },
  {
   "cell_type": "code",
   "execution_count": null,
   "id": "17849485",
   "metadata": {},
   "outputs": [],
   "source": [
    "sum(df.isna().sum())"
   ]
  },
  {
   "cell_type": "code",
   "execution_count": null,
   "id": "b3bcbb7d",
   "metadata": {},
   "outputs": [],
   "source": [
    "df[['workclass','occupation','native-country']].dtypes"
   ]
  },
  {
   "cell_type": "markdown",
   "id": "b1d52972",
   "metadata": {},
   "source": [
    "## total de registros del dataset son más de 48.842 y encontramos  2.203 NaN\n",
    "## Son campos del tipo objeto (string) no es posible reemplazarlos por otros medidas de tendencia central "
   ]
  },
  {
   "cell_type": "code",
   "execution_count": null,
   "id": "31332706",
   "metadata": {},
   "outputs": [],
   "source": [
    "df['workclass'].unique()"
   ]
  },
  {
   "cell_type": "code",
   "execution_count": null,
   "id": "78c6bf0d",
   "metadata": {},
   "outputs": [],
   "source": [
    "df['occupation'].unique()"
   ]
  },
  {
   "cell_type": "code",
   "execution_count": null,
   "id": "70d14750",
   "metadata": {},
   "outputs": [],
   "source": [
    "df['native-country'].unique()"
   ]
  },
  {
   "cell_type": "markdown",
   "id": "09cbc163",
   "metadata": {},
   "source": [
    "### Vemos que ademas de NaN también hay campos con '?' \n",
    "Vamos a reemplazar el valor por NaN"
   ]
  },
  {
   "cell_type": "code",
   "execution_count": null,
   "id": "9bc7c1b5",
   "metadata": {},
   "outputs": [],
   "source": [
    "df['workclass'].size"
   ]
  },
  {
   "cell_type": "markdown",
   "id": "2dfbaf92",
   "metadata": {},
   "source": [
    "### Pruebo escribi un código para recorrer el campo y encontrar el caracter extraño '?'"
   ]
  },
  {
   "cell_type": "code",
   "execution_count": null,
   "id": "41dc1600",
   "metadata": {},
   "outputs": [],
   "source": [
    "j = 0\n",
    "for i in enumerate(df['workclass']):\n",
    "    #print(i)\n",
    "    if i[1] == '?':\n",
    "        #print('entro!')\n",
    "        j += 1\n",
    "    else:\n",
    "        j += 0\n",
    "print(j)"
   ]
  },
  {
   "cell_type": "markdown",
   "id": "ad36f4a2",
   "metadata": {},
   "source": [
    "### Funcionó! - Ahora intento crear una funcion\n",
    "### Llamo a la función y la paso los parámetros del campo y el valor que estoy buscando"
   ]
  },
  {
   "cell_type": "code",
   "execution_count": null,
   "id": "ce91ef91",
   "metadata": {},
   "outputs": [],
   "source": [
    "def cuento_raro1(serie1,valor):\n",
    "    j = 0\n",
    "    for i in enumerate(serie1):\n",
    "        #print(i)\n",
    "        if i[1] == valor:\n",
    "            #print('entro!')\n",
    "            j += 1\n",
    "        else:\n",
    "            j += 0\n",
    "    return j"
   ]
  },
  {
   "cell_type": "code",
   "execution_count": null,
   "id": "9bf8e9b8",
   "metadata": {
    "scrolled": true
   },
   "outputs": [],
   "source": [
    "cuento_raro1(df['workclass'],'?')"
   ]
  },
  {
   "cell_type": "code",
   "execution_count": null,
   "id": "8d817270",
   "metadata": {},
   "outputs": [],
   "source": [
    "cuento_raro1(df['occupation'],'?')"
   ]
  },
  {
   "cell_type": "code",
   "execution_count": null,
   "id": "f8476dff",
   "metadata": {},
   "outputs": [],
   "source": [
    "cuento_raro1(df['native-country'], '?')"
   ]
  },
  {
   "cell_type": "markdown",
   "id": "86e33c94",
   "metadata": {},
   "source": [
    "## voy a reemplazar '?' por NaN porque podemos contar mejor los missing values"
   ]
  },
  {
   "cell_type": "code",
   "execution_count": null,
   "id": "2cef422d",
   "metadata": {},
   "outputs": [],
   "source": [
    "df = df.replace('?', np.nan)"
   ]
  },
  {
   "cell_type": "code",
   "execution_count": null,
   "id": "5286134d",
   "metadata": {},
   "outputs": [],
   "source": [
    "sum(df.isna().sum())"
   ]
  },
  {
   "cell_type": "code",
   "execution_count": null,
   "id": "541d5fe3",
   "metadata": {},
   "outputs": [],
   "source": [
    "df.head()"
   ]
  },
  {
   "cell_type": "code",
   "execution_count": null,
   "id": "1676b82a",
   "metadata": {
    "scrolled": true
   },
   "outputs": [],
   "source": [
    "sns.heatmap(df.isna(), cbar=False)"
   ]
  },
  {
   "cell_type": "code",
   "execution_count": null,
   "id": "2c10ba52",
   "metadata": {},
   "outputs": [],
   "source": [
    "df_sin_na = df"
   ]
  },
  {
   "cell_type": "code",
   "execution_count": null,
   "id": "1d7753ba",
   "metadata": {},
   "outputs": [],
   "source": [
    "sum(df_sin_na.isna().sum())"
   ]
  },
  {
   "cell_type": "code",
   "execution_count": null,
   "id": "00e44f7e",
   "metadata": {},
   "outputs": [],
   "source": [
    "df.isna().sum()"
   ]
  },
  {
   "cell_type": "code",
   "execution_count": null,
   "id": "3abfbfe2",
   "metadata": {},
   "outputs": [],
   "source": [
    "df_sin_na.dropna(subset=['workclass','occupation','native-country'], inplace= False).count()"
   ]
  },
  {
   "cell_type": "code",
   "execution_count": null,
   "id": "2d28f556",
   "metadata": {},
   "outputs": [],
   "source": [
    "df_sin_na = df_sin_na.dropna(subset=['workclass','occupation','native-country'])"
   ]
  },
  {
   "cell_type": "code",
   "execution_count": null,
   "id": "b5d493b1",
   "metadata": {},
   "outputs": [],
   "source": [
    "df_sin_na.shape"
   ]
  },
  {
   "cell_type": "code",
   "execution_count": null,
   "id": "37ed88c7",
   "metadata": {},
   "outputs": [],
   "source": [
    "df.shape"
   ]
  },
  {
   "cell_type": "code",
   "execution_count": null,
   "id": "d4a2ac57",
   "metadata": {},
   "outputs": [],
   "source": [
    "48842-45222"
   ]
  },
  {
   "cell_type": "markdown",
   "id": "04953808",
   "metadata": {},
   "source": [
    "## Se eliminaron 3.620 registros, menos de los 6.465, se entiende que en algunos registros tenian esos campos con NaN"
   ]
  },
  {
   "cell_type": "markdown",
   "id": "b6835d6e",
   "metadata": {},
   "source": [
    "## analizando perdidas de datos en el datasets..."
   ]
  },
  {
   "cell_type": "code",
   "execution_count": null,
   "id": "22a24ff0",
   "metadata": {},
   "outputs": [],
   "source": [
    "print(f'la perdida por eliminación de registros es de un : {3620/48842 * 100:.2f} %')\n",
    "print(f'la perdida por eliminación de 3 columnas es de un : {3/16 * 100:.2f} %')"
   ]
  },
  {
   "cell_type": "markdown",
   "id": "895cc2eb",
   "metadata": {},
   "source": [
    "## De esta primera parte se perdió 7,41% de registros\n",
    "## La eliminación de registros tiene un menor impacto que eliminar el campo completo "
   ]
  },
  {
   "cell_type": "code",
   "execution_count": null,
   "id": "52f0a703",
   "metadata": {},
   "outputs": [],
   "source": [
    "sns.heatmap(df_sin_na.isna(), cbar=False)"
   ]
  },
  {
   "cell_type": "markdown",
   "id": "58317309",
   "metadata": {},
   "source": [
    "# 6.- Método de Feature Selection\n",
    "## Reduccion de la dimensionalidad"
   ]
  },
  {
   "cell_type": "markdown",
   "id": "42eb040e",
   "metadata": {},
   "source": [
    "### Revision de corelaciones"
   ]
  },
  {
   "cell_type": "code",
   "execution_count": null,
   "id": "82d65bc7",
   "metadata": {},
   "outputs": [],
   "source": [
    "df_sin_na.info()"
   ]
  },
  {
   "cell_type": "code",
   "execution_count": null,
   "id": "8cdd77f0",
   "metadata": {},
   "outputs": [],
   "source": [
    "# elimino del dataset la variable objetivo\n",
    "X = df_sin_na.drop('income', axis=1)\n",
    "X = X.drop('Unnamed: 0',axis=1)"
   ]
  },
  {
   "cell_type": "code",
   "execution_count": null,
   "id": "82c61585",
   "metadata": {},
   "outputs": [],
   "source": [
    "X.info()"
   ]
  },
  {
   "cell_type": "code",
   "execution_count": null,
   "id": "e3202840",
   "metadata": {},
   "outputs": [],
   "source": [
    "X.head()"
   ]
  },
  {
   "cell_type": "code",
   "execution_count": null,
   "id": "febfcbe1",
   "metadata": {},
   "outputs": [],
   "source": [
    "encoder = OrdinalEncoder()"
   ]
  },
  {
   "cell_type": "code",
   "execution_count": null,
   "id": "18ec6607",
   "metadata": {},
   "outputs": [],
   "source": [
    "#Hago una clasificación numérica para la columna 'workclass' porque es un string y la convierto en categórica numérica\n",
    "\n",
    "X['workclass_encoded'] = encoder.fit_transform(X[['workclass']])\n",
    "X['education_encoded'] = encoder.fit_transform(X[['education']])\n",
    "X['marital-status_encoder'] = encoder.fit_transform(X[['marital-status']])\n",
    "X['occupation_encoder'] = encoder.fit_transform(X[['occupation']])\n",
    "X['relationship_encoder'] = encoder.fit_transform(X[['relationship']])\n",
    "X['race_encoder'] = encoder.fit_transform(X[['race']])\n",
    "X['sex_encoder'] = encoder.fit_transform(X[['sex']])\n",
    "X['native-country_encoder'] = encoder.fit_transform(X[['native-country']])\n",
    "\n",
    "X.head()"
   ]
  },
  {
   "cell_type": "code",
   "execution_count": null,
   "id": "e1e7fee4",
   "metadata": {},
   "outputs": [],
   "source": [
    "y = encoder.fit_transform(df_sin_na[['income']])\n",
    "y"
   ]
  },
  {
   "cell_type": "code",
   "execution_count": null,
   "id": "32875e1b",
   "metadata": {},
   "outputs": [],
   "source": [
    "X_sin_str = X[['age','fnlwgt','capital-gain','capital-loss','hours-per-week','workclass_encoded',\n",
    "              'education_encoded','marital-status_encoder','occupation_encoder','relationship_encoder','race_encoder',\n",
    "             'sex_encoder','native-country_encoder']]\n",
    "#parece que el education-num es igual a education_encoded"
   ]
  },
  {
   "cell_type": "code",
   "execution_count": null,
   "id": "d276b93a",
   "metadata": {
    "scrolled": true
   },
   "outputs": [],
   "source": [
    "X_sin_str.head()"
   ]
  },
  {
   "cell_type": "code",
   "execution_count": null,
   "id": "b1edb938",
   "metadata": {},
   "outputs": [],
   "source": [
    "X_sin_str.describe().T"
   ]
  },
  {
   "cell_type": "markdown",
   "id": "734be6d9",
   "metadata": {},
   "source": [
    "### Veo que quizas es necesario realizar una normalización en los campos (fnlwgt, capital-gain, capital-loss)"
   ]
  },
  {
   "cell_type": "markdown",
   "id": "52f29530",
   "metadata": {},
   "source": [
    "### Voy a verificar con la matriz de correlación sin realizar ninguna normalización "
   ]
  },
  {
   "cell_type": "code",
   "execution_count": null,
   "id": "b340e4f6",
   "metadata": {},
   "outputs": [],
   "source": [
    "corr_matrix = X_sin_str.corr()\n",
    "\n",
    "print(corr_matrix)"
   ]
  },
  {
   "cell_type": "markdown",
   "id": "01df971f",
   "metadata": {},
   "source": [
    "## parece que no hay una clara dependencia entre los campos..."
   ]
  },
  {
   "cell_type": "markdown",
   "id": "63feba95",
   "metadata": {},
   "source": [
    "## Voy a analizar esto mismo pero con las librerías"
   ]
  },
  {
   "cell_type": "code",
   "execution_count": null,
   "id": "0b415909",
   "metadata": {},
   "outputs": [],
   "source": [
    "sfs = SFS(LinearRegression(),\n",
    "          k_features=11,\n",
    "          forward=True,\n",
    "          floating=False,\n",
    "          scoring = 'r2',\n",
    "          cv = 0)"
   ]
  },
  {
   "cell_type": "code",
   "execution_count": null,
   "id": "19043149",
   "metadata": {},
   "outputs": [],
   "source": [
    "X1 = X_sin_str"
   ]
  },
  {
   "cell_type": "code",
   "execution_count": null,
   "id": "51bb9165",
   "metadata": {},
   "outputs": [],
   "source": [
    "sfs.fit(X1, y)\n",
    "sfs.k_feature_names_     #Lista final de features"
   ]
  },
  {
   "cell_type": "markdown",
   "id": "7e4a672a",
   "metadata": {},
   "source": [
    "### Entiende que no se puede reducir ningún campo..."
   ]
  },
  {
   "cell_type": "markdown",
   "id": "30b144d4",
   "metadata": {},
   "source": [
    "## Voy por la normalización a ver si cambia algo"
   ]
  },
  {
   "cell_type": "code",
   "execution_count": null,
   "id": "a49e51bc",
   "metadata": {},
   "outputs": [],
   "source": [
    "from sklearn.preprocessing import MinMaxScaler\n",
    "\n",
    "ms = MinMaxScaler()\n",
    "\n",
    "X1_normal = ms.fit_transform(X1)"
   ]
  },
  {
   "cell_type": "code",
   "execution_count": null,
   "id": "d8a86e7b",
   "metadata": {},
   "outputs": [],
   "source": [
    "X1_normal"
   ]
  },
  {
   "cell_type": "code",
   "execution_count": null,
   "id": "bbdc75b3",
   "metadata": {},
   "outputs": [],
   "source": [
    "columnas: np.array = X1.columns"
   ]
  },
  {
   "cell_type": "code",
   "execution_count": null,
   "id": "499fb805",
   "metadata": {},
   "outputs": [],
   "source": [
    "X1_normal = pd.DataFrame(X1_normal, columns=[columnas])"
   ]
  },
  {
   "cell_type": "code",
   "execution_count": null,
   "id": "59c74b80",
   "metadata": {
    "scrolled": true
   },
   "outputs": [],
   "source": [
    "X1_normal.head()"
   ]
  },
  {
   "cell_type": "code",
   "execution_count": null,
   "id": "d52cbe0b",
   "metadata": {},
   "outputs": [],
   "source": [
    "corr_matrix_normal = X1_normal.corr()\n",
    "\n",
    "print(corr_matrix_normal)"
   ]
  },
  {
   "cell_type": "code",
   "execution_count": null,
   "id": "02ccae15",
   "metadata": {},
   "outputs": [],
   "source": [
    "sfs.fit(X1_normal, y)\n",
    "sfs.k_feature_names_     #Lista final de features"
   ]
  },
  {
   "cell_type": "markdown",
   "id": "c8d99c4a",
   "metadata": {},
   "source": [
    "## No cambia nada luego de la normalización\n",
    "## Hay que llevar todos los campos al modelo"
   ]
  },
  {
   "cell_type": "markdown",
   "id": "89e315ce",
   "metadata": {},
   "source": [
    "### Clasificación"
   ]
  },
  {
   "cell_type": "code",
   "execution_count": null,
   "id": "1b60c55c",
   "metadata": {},
   "outputs": [],
   "source": [
    "X1_normal.info()"
   ]
  },
  {
   "cell_type": "code",
   "execution_count": null,
   "id": "709f99aa",
   "metadata": {},
   "outputs": [],
   "source": [
    "# definimos matriz de diseño X y vector respuesta y\n",
    "X_clasificacion = X1_normal\n",
    "y_clasificacion = y\n",
    "# Separamos en entrenamiento/test en razon 80/20 %\n",
    "X_train, X_test, y_train, y_test = train_test_split(X_clasificacion,y_clasificacion,test_size=0.2, random_state=1)\n",
    "# Creamos un modelo Random Forest con parametros por defect\n",
    "modelo = RandomForestClassifier(random_state=1)\n",
    "modelo.fit(X_train, y_train)\n",
    "# Obtenemos las predicciones del modelo con X_test\n",
    "preds = modelo.predict(X_test)"
   ]
  },
  {
   "cell_type": "code",
   "execution_count": null,
   "id": "09a7387f",
   "metadata": {},
   "outputs": [],
   "source": [
    "plt.figure(figsize=(10,6))\n",
    "metrics.plot_confusion_matrix(modelo, X_test, y_test, display_labels=['Negative', 'Positive'])"
   ]
  },
  {
   "cell_type": "code",
   "execution_count": null,
   "id": "026fea09",
   "metadata": {},
   "outputs": [],
   "source": [
    "confusion = metrics.confusion_matrix(y_test, preds)\n",
    "confusion.ravel()"
   ]
  },
  {
   "cell_type": "markdown",
   "id": "08d9970a",
   "metadata": {},
   "source": [
    "## Me dan multiples campos de la matriz de confusion"
   ]
  },
  {
   "cell_type": "code",
   "execution_count": null,
   "id": "5357a495",
   "metadata": {},
   "outputs": [],
   "source": [
    "accuracy = metrics.accuracy_score(y_test, preds)\n",
    "accuracy"
   ]
  },
  {
   "cell_type": "code",
   "execution_count": null,
   "id": "9eb4f9be",
   "metadata": {},
   "outputs": [],
   "source": [
    "# Todas las metricas en uno\n",
    "print(metrics.classification_report(y_test, preds))"
   ]
  },
  {
   "cell_type": "markdown",
   "id": "f25e84e5",
   "metadata": {},
   "source": [
    "### Regresión"
   ]
  },
  {
   "cell_type": "code",
   "execution_count": null,
   "id": "4dedeedc",
   "metadata": {},
   "outputs": [],
   "source": [
    "X_regresion = X1_normal\n",
    "y_regresion = y"
   ]
  },
  {
   "cell_type": "code",
   "execution_count": null,
   "id": "def0fea9",
   "metadata": {},
   "outputs": [],
   "source": [
    "from sklearn.model_selection import train_test_split\n",
    "X_train,X_test,y_train,y_test = train_test_split(X_regresion,y_regresion,test_size=0.2,random_state=2)\n",
    "from sklearn.linear_model import LinearRegression\n",
    "# crear el modelo\n",
    "lr = LinearRegression()\n",
    "# Ajustar el modelo con X_train y y_train\n",
    "lr.fit(X_train,y_train)\n",
    "# PRedecir con X_test\n",
    "y_pred = lr.predict(X_test)"
   ]
  },
  {
   "cell_type": "code",
   "execution_count": null,
   "id": "b48ecb57",
   "metadata": {},
   "outputs": [],
   "source": [
    "from sklearn.metrics import mean_absolute_error\n",
    "print(\"MAE\",mean_absolute_error(y_test,y_pred))"
   ]
  },
  {
   "cell_type": "code",
   "execution_count": null,
   "id": "342b113c",
   "metadata": {},
   "outputs": [],
   "source": [
    "from sklearn.metrics import mean_squared_error\n",
    "print(\"MSE\",mean_squared_error(y_test,y_pred))"
   ]
  },
  {
   "cell_type": "code",
   "execution_count": null,
   "id": "d2506e0a",
   "metadata": {},
   "outputs": [],
   "source": [
    "print(\"RMSE\",np.sqrt(mean_squared_error(y_test,y_pred)))"
   ]
  },
  {
   "cell_type": "code",
   "execution_count": null,
   "id": "bc51636f",
   "metadata": {},
   "outputs": [],
   "source": [
    "from sklearn.metrics import r2_score\n",
    "r2 = r2_score(y_test,y_pred)\n",
    "print(r2)"
   ]
  },
  {
   "cell_type": "markdown",
   "id": "1f6fc0fb",
   "metadata": {},
   "source": [
    "# 6.- Generar conclusiones"
   ]
  },
  {
   "cell_type": "markdown",
   "id": "50aedf32",
   "metadata": {},
   "source": [
    "## Tendría que analizar si es conveniente avanzar con el Analisis de los OUTLIERS!\n",
    "## En búsqueda de obtener alguna conclusión respecto a las otras variables"
   ]
  },
  {
   "cell_type": "markdown",
   "id": "4e7664fe",
   "metadata": {},
   "source": [
    "#  Elegir un método de regresión o clasificación\n",
    "## Para entrenar los datos"
   ]
  },
  {
   "cell_type": "code",
   "execution_count": null,
   "id": "215fba6b",
   "metadata": {},
   "outputs": [],
   "source": []
  },
  {
   "cell_type": "markdown",
   "id": "4c857f3f",
   "metadata": {},
   "source": [
    "# Cálculos de métricas para validar el modelo"
   ]
  },
  {
   "cell_type": "code",
   "execution_count": null,
   "id": "da814a87",
   "metadata": {},
   "outputs": [],
   "source": []
  }
 ],
 "metadata": {
  "kernelspec": {
   "display_name": "Python 3 (ipykernel)",
   "language": "python",
   "name": "python3"
  },
  "language_info": {
   "codemirror_mode": {
    "name": "ipython",
    "version": 3
   },
   "file_extension": ".py",
   "mimetype": "text/x-python",
   "name": "python",
   "nbconvert_exporter": "python",
   "pygments_lexer": "ipython3",
   "version": "3.10.13"
  }
 },
 "nbformat": 4,
 "nbformat_minor": 5
}
