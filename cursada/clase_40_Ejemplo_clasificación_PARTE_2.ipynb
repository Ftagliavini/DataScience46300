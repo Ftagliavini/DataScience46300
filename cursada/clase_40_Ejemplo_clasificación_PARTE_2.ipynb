{
 "cells": [
  {
   "cell_type": "markdown",
   "metadata": {
    "id": "3D0EwI36E2Wv"
   },
   "source": [
    "# CLASE 40 - Introducción al ML\n",
    "### Coderhouse - Data Science\n"
   ]
  },
  {
   "cell_type": "markdown",
   "metadata": {
    "id": "FlKBrJTDkq6W"
   },
   "source": [
    "# Ejemplo\n",
    "\n",
    "El conjunto de datos reune una serie de características socioeconómicas tanto categóricas como numéricas. El objetivo es construir un clasificador que determine si la persona tiene una ganancia alta al año (más de 50K USD) o baja (menos de 50K USD al año). A continuación encuentra una descripción de las características:\n",
    "\n",
    "Etiqueta:\n",
    "* income: >50K, <=50K.\n",
    "Características:\n",
    "* age: Variable continua.\n",
    "* workclass: Private, Self-emp-not-inc, Self-emp-inc, Federal-gov, Local-gov, State-gov, Without-pay, Never-worked.\n",
    "* fnlwgt: Variable continua.\n",
    "* education: Bachelors, Some-college, 11th, HS-grad, Prof-school, Assoc-acdm, Assoc-voc, 9th, 7th-8th, 12th, Masters, 1st-4th, 10th, Doctorate, 5th-6th, Preschool.\n",
    "* education-num: Variable continua.\n",
    "* marital-status: Married-civ-spouse, Divorced, Never-married, Separated, Widowed, Married-spouse-absent, Married-AF-spouse.\n",
    "* occupation: Tech-support, Craft-repair, Other-service, Sales, Exec-managerial, Prof-specialty, Handlers-cleaners, Machine-op-inspct, Adm-clerical, Farming-fishing, Transport-moving, Priv-house-serv, Protective-serv, Armed-Forces.\n",
    "* relationship: Wife, Own-child, Husband, Not-in-family, Other-relative, Unmarried.\n",
    "* race: White, Asian-Pac-Islander, Amer-Indian-Eskimo, Other, Black.\n",
    "* sex: Female, Male.\n",
    "* capital-gain: Variable continua.\n",
    "* capital-loss: Variable continua.\n",
    "* hours-per-week: Variable continua.\n",
    "* native-country: United-States, Cambodia, England, Puerto-Rico, Canada, Germany, Outlying-US(Guam-USVI-etc), India, Japan, Greece, South, China, Cuba, Iran, Honduras, Philippines, Italy, Poland, Jamaica, Vietnam, Mexico, Portugal, Ireland, France, Dominican-Republic, Laos, Ecuador, Taiwan, Haiti, Columbia, Hungary, Guatemala, Nicaragua, Scotland, Thailand, Yugoslavia, El-Salvador, Trinadad&Tobago, Peru, Hong, Holand-Netherlands."
   ]
  },
  {
   "cell_type": "code",
   "execution_count": null,
   "metadata": {
    "id": "RNIlyqI8C6Vt"
   },
   "outputs": [],
   "source": [
    "import pandas as pd\n",
    "import numpy as np\n",
    "from sklearn.metrics import accuracy_score"
   ]
  },
  {
   "cell_type": "code",
   "execution_count": null,
   "metadata": {
    "colab": {
     "base_uri": "https://localhost:8080/",
     "height": 282
    },
    "id": "vQY9eWCIE6WM",
    "outputId": "d1c4845e-9019-434d-9e0c-d157799b8d2f"
   },
   "outputs": [
    {
     "data": {
      "text/html": [
       "<div>\n",
       "<style scoped>\n",
       "    .dataframe tbody tr th:only-of-type {\n",
       "        vertical-align: middle;\n",
       "    }\n",
       "\n",
       "    .dataframe tbody tr th {\n",
       "        vertical-align: top;\n",
       "    }\n",
       "\n",
       "    .dataframe thead th {\n",
       "        text-align: right;\n",
       "    }\n",
       "</style>\n",
       "<table border=\"1\" class=\"dataframe\">\n",
       "  <thead>\n",
       "    <tr style=\"text-align: right;\">\n",
       "      <th></th>\n",
       "      <th>age</th>\n",
       "      <th>workclass</th>\n",
       "      <th>fnlwgt</th>\n",
       "      <th>education</th>\n",
       "      <th>educational-num</th>\n",
       "      <th>marital-status</th>\n",
       "      <th>occupation</th>\n",
       "      <th>relationship</th>\n",
       "      <th>race</th>\n",
       "      <th>gender</th>\n",
       "      <th>capital-gain</th>\n",
       "      <th>capital-loss</th>\n",
       "      <th>hours-per-week</th>\n",
       "      <th>native-country</th>\n",
       "      <th>income</th>\n",
       "    </tr>\n",
       "  </thead>\n",
       "  <tbody>\n",
       "    <tr>\n",
       "      <th>0</th>\n",
       "      <td>25</td>\n",
       "      <td>Private</td>\n",
       "      <td>226802</td>\n",
       "      <td>11th</td>\n",
       "      <td>7</td>\n",
       "      <td>Never-married</td>\n",
       "      <td>Machine-op-inspct</td>\n",
       "      <td>Own-child</td>\n",
       "      <td>Black</td>\n",
       "      <td>Male</td>\n",
       "      <td>0</td>\n",
       "      <td>0</td>\n",
       "      <td>40</td>\n",
       "      <td>United-States</td>\n",
       "      <td>&lt;=50K</td>\n",
       "    </tr>\n",
       "    <tr>\n",
       "      <th>1</th>\n",
       "      <td>38</td>\n",
       "      <td>Private</td>\n",
       "      <td>89814</td>\n",
       "      <td>HS-grad</td>\n",
       "      <td>9</td>\n",
       "      <td>Married-civ-spouse</td>\n",
       "      <td>Farming-fishing</td>\n",
       "      <td>Husband</td>\n",
       "      <td>White</td>\n",
       "      <td>Male</td>\n",
       "      <td>0</td>\n",
       "      <td>0</td>\n",
       "      <td>50</td>\n",
       "      <td>United-States</td>\n",
       "      <td>&lt;=50K</td>\n",
       "    </tr>\n",
       "    <tr>\n",
       "      <th>2</th>\n",
       "      <td>28</td>\n",
       "      <td>Local-gov</td>\n",
       "      <td>336951</td>\n",
       "      <td>Assoc-acdm</td>\n",
       "      <td>12</td>\n",
       "      <td>Married-civ-spouse</td>\n",
       "      <td>Protective-serv</td>\n",
       "      <td>Husband</td>\n",
       "      <td>White</td>\n",
       "      <td>Male</td>\n",
       "      <td>0</td>\n",
       "      <td>0</td>\n",
       "      <td>40</td>\n",
       "      <td>United-States</td>\n",
       "      <td>&gt;50K</td>\n",
       "    </tr>\n",
       "  </tbody>\n",
       "</table>\n",
       "</div>"
      ],
      "text/plain": [
       "   age  workclass  fnlwgt   education  educational-num      marital-status  \\\n",
       "0   25    Private  226802        11th                7       Never-married   \n",
       "1   38    Private   89814     HS-grad                9  Married-civ-spouse   \n",
       "2   28  Local-gov  336951  Assoc-acdm               12  Married-civ-spouse   \n",
       "\n",
       "          occupation relationship   race gender  capital-gain  capital-loss  \\\n",
       "0  Machine-op-inspct    Own-child  Black   Male             0             0   \n",
       "1    Farming-fishing      Husband  White   Male             0             0   \n",
       "2    Protective-serv      Husband  White   Male             0             0   \n",
       "\n",
       "   hours-per-week native-country income  \n",
       "0              40  United-States  <=50K  \n",
       "1              50  United-States  <=50K  \n",
       "2              40  United-States   >50K  "
      ]
     },
     "execution_count": 2,
     "metadata": {},
     "output_type": "execute_result"
    }
   ],
   "source": [
    "df = pd.read_csv(\"adult.csv\")\n",
    "df.head(3)"
   ]
  },
  {
   "cell_type": "code",
   "execution_count": null,
   "metadata": {
    "colab": {
     "base_uri": "https://localhost:8080/",
     "height": 364
    },
    "id": "Bjzyuig_FEjL",
    "outputId": "ad16711b-13c8-4b2f-d17f-bda42a62ad88"
   },
   "outputs": [
    {
     "name": "stdout",
     "output_type": "stream",
     "text": [
      "<class 'pandas.core.frame.DataFrame'>\n",
      "RangeIndex: 48842 entries, 0 to 48841\n",
      "Data columns (total 15 columns):\n",
      " #   Column           Non-Null Count  Dtype \n",
      "---  ------           --------------  ----- \n",
      " 0   age              48842 non-null  int64 \n",
      " 1   workclass        48842 non-null  object\n",
      " 2   fnlwgt           48842 non-null  int64 \n",
      " 3   education        48842 non-null  object\n",
      " 4   educational-num  48842 non-null  int64 \n",
      " 5   marital-status   48842 non-null  object\n",
      " 6   occupation       48842 non-null  object\n",
      " 7   relationship     48842 non-null  object\n",
      " 8   race             48842 non-null  object\n",
      " 9   gender           48842 non-null  object\n",
      " 10  capital-gain     48842 non-null  int64 \n",
      " 11  capital-loss     48842 non-null  int64 \n",
      " 12  hours-per-week   48842 non-null  int64 \n",
      " 13  native-country   48842 non-null  object\n",
      " 14  income           48842 non-null  object\n",
      "dtypes: int64(6), object(9)\n",
      "memory usage: 5.6+ MB\n"
     ]
    }
   ],
   "source": [
    "df.info()"
   ]
  },
  {
   "cell_type": "markdown",
   "metadata": {
    "id": "Y4fC8a760s-g"
   },
   "source": [
    "En este conjunto de datos los faltantes están identificados como \"?\", entonces vamos a contarlos:"
   ]
  },
  {
   "cell_type": "code",
   "execution_count": null,
   "metadata": {
    "colab": {
     "base_uri": "https://localhost:8080/",
     "height": 35
    },
    "id": "04-nUS2uFD-y",
    "outputId": "78de8bf7-66e3-4e41-dfdb-ba76ca60038e"
   },
   "outputs": [
    {
     "name": "stdout",
     "output_type": "stream",
     "text": [
      "Porcentaje faltante: 5.7307235575938735 %\n"
     ]
    }
   ],
   "source": [
    "print(\"Porcentaje faltante: {} %\".format((sum(df[\"workclass\"]==\"?\")/df[\"workclass\"].count())*100))"
   ]
  },
  {
   "cell_type": "code",
   "execution_count": null,
   "metadata": {
    "colab": {
     "base_uri": "https://localhost:8080/",
     "height": 35
    },
    "id": "FFLQMveFGHFR",
    "outputId": "90e75d52-1e2d-47da-b4b1-008ab9f41d8f"
   },
   "outputs": [
    {
     "name": "stdout",
     "output_type": "stream",
     "text": [
      "Porcentaje faltante: 5.751197739650301 %\n"
     ]
    }
   ],
   "source": [
    "print(\"Porcentaje faltante: {} %\".format((sum(df[\"occupation\"]==\"?\")/df[\"occupation\"].count())*100))"
   ]
  },
  {
   "cell_type": "code",
   "execution_count": null,
   "metadata": {
    "colab": {
     "base_uri": "https://localhost:8080/",
     "height": 35
    },
    "id": "0yddkVlUGYL4",
    "outputId": "ddd79db2-b7cf-4d80-e2c9-51eaae3a6428"
   },
   "outputs": [
    {
     "name": "stdout",
     "output_type": "stream",
     "text": [
      "Porcentaje faltante: 1.7546374022357807 %\n"
     ]
    }
   ],
   "source": [
    "print(\"Porcentaje faltante: {} %\".format((sum(df[\"native-country\"]==\"?\")/df[\"native-country\"].count())*100))"
   ]
  },
  {
   "cell_type": "code",
   "execution_count": null,
   "metadata": {
    "id": "e3bmIjFj0s-i",
    "outputId": "49bf2b23-7035-40d2-bc89-5f2fa49fc88e"
   },
   "outputs": [
    {
     "data": {
      "text/plain": [
       "(48842, 15)"
      ]
     },
     "execution_count": 7,
     "metadata": {},
     "output_type": "execute_result"
    }
   ],
   "source": [
    "df.shape"
   ]
  },
  {
   "cell_type": "code",
   "execution_count": null,
   "metadata": {
    "id": "hO94sIl9HT7m"
   },
   "outputs": [],
   "source": [
    "# Vamos a quitar todos los faltantes por simplicidad\n",
    "df = df[df[\"workclass\"] != \"?\"]\n",
    "df = df[df[\"occupation\"] != \"?\"]\n",
    "df = df[df[\"native-country\"] != \"?\"]"
   ]
  },
  {
   "cell_type": "code",
   "execution_count": null,
   "metadata": {
    "colab": {
     "base_uri": "https://localhost:8080/",
     "height": 35
    },
    "id": "Si_3vy1bII6d",
    "outputId": "dbce6450-1b0d-47b4-ebdc-88007da1db4e"
   },
   "outputs": [
    {
     "data": {
      "text/plain": [
       "(45222, 15)"
      ]
     },
     "execution_count": 9,
     "metadata": {},
     "output_type": "execute_result"
    }
   ],
   "source": [
    "df.shape"
   ]
  },
  {
   "cell_type": "code",
   "execution_count": null,
   "metadata": {
    "colab": {
     "base_uri": "https://localhost:8080/",
     "height": 69
    },
    "id": "5VLIeaU8Idns",
    "outputId": "d38c96af-2516-49e0-d536-e242a8ad8fa0"
   },
   "outputs": [
    {
     "data": {
      "text/plain": [
       "<=50K    0.752156\n",
       ">50K     0.247844\n",
       "Name: income, dtype: float64"
      ]
     },
     "execution_count": 10,
     "metadata": {},
     "output_type": "execute_result"
    }
   ],
   "source": [
    "df[\"income\"].value_counts(normalize=True)#desbalanceados"
   ]
  },
  {
   "cell_type": "code",
   "execution_count": null,
   "metadata": {
    "colab": {
     "base_uri": "https://localhost:8080/",
     "height": 294
    },
    "id": "L3FInmoyJIFS",
    "outputId": "ba821249-ab4c-4816-b000-ae4520d0f903"
   },
   "outputs": [
    {
     "data": {
      "text/html": [
       "<div>\n",
       "<style scoped>\n",
       "    .dataframe tbody tr th:only-of-type {\n",
       "        vertical-align: middle;\n",
       "    }\n",
       "\n",
       "    .dataframe tbody tr th {\n",
       "        vertical-align: top;\n",
       "    }\n",
       "\n",
       "    .dataframe thead th {\n",
       "        text-align: right;\n",
       "    }\n",
       "</style>\n",
       "<table border=\"1\" class=\"dataframe\">\n",
       "  <thead>\n",
       "    <tr style=\"text-align: right;\">\n",
       "      <th></th>\n",
       "      <th>age</th>\n",
       "      <th>fnlwgt</th>\n",
       "      <th>educational-num</th>\n",
       "      <th>capital-gain</th>\n",
       "      <th>capital-loss</th>\n",
       "      <th>hours-per-week</th>\n",
       "    </tr>\n",
       "  </thead>\n",
       "  <tbody>\n",
       "    <tr>\n",
       "      <th>count</th>\n",
       "      <td>45222.000000</td>\n",
       "      <td>4.522200e+04</td>\n",
       "      <td>45222.000000</td>\n",
       "      <td>45222.000000</td>\n",
       "      <td>45222.000000</td>\n",
       "      <td>45222.000000</td>\n",
       "    </tr>\n",
       "    <tr>\n",
       "      <th>mean</th>\n",
       "      <td>38.547941</td>\n",
       "      <td>1.897347e+05</td>\n",
       "      <td>10.118460</td>\n",
       "      <td>1101.430344</td>\n",
       "      <td>88.595418</td>\n",
       "      <td>40.938017</td>\n",
       "    </tr>\n",
       "    <tr>\n",
       "      <th>std</th>\n",
       "      <td>13.217870</td>\n",
       "      <td>1.056392e+05</td>\n",
       "      <td>2.552881</td>\n",
       "      <td>7506.430084</td>\n",
       "      <td>404.956092</td>\n",
       "      <td>12.007508</td>\n",
       "    </tr>\n",
       "    <tr>\n",
       "      <th>min</th>\n",
       "      <td>17.000000</td>\n",
       "      <td>1.349200e+04</td>\n",
       "      <td>1.000000</td>\n",
       "      <td>0.000000</td>\n",
       "      <td>0.000000</td>\n",
       "      <td>1.000000</td>\n",
       "    </tr>\n",
       "    <tr>\n",
       "      <th>25%</th>\n",
       "      <td>28.000000</td>\n",
       "      <td>1.173882e+05</td>\n",
       "      <td>9.000000</td>\n",
       "      <td>0.000000</td>\n",
       "      <td>0.000000</td>\n",
       "      <td>40.000000</td>\n",
       "    </tr>\n",
       "    <tr>\n",
       "      <th>50%</th>\n",
       "      <td>37.000000</td>\n",
       "      <td>1.783160e+05</td>\n",
       "      <td>10.000000</td>\n",
       "      <td>0.000000</td>\n",
       "      <td>0.000000</td>\n",
       "      <td>40.000000</td>\n",
       "    </tr>\n",
       "    <tr>\n",
       "      <th>75%</th>\n",
       "      <td>47.000000</td>\n",
       "      <td>2.379260e+05</td>\n",
       "      <td>13.000000</td>\n",
       "      <td>0.000000</td>\n",
       "      <td>0.000000</td>\n",
       "      <td>45.000000</td>\n",
       "    </tr>\n",
       "    <tr>\n",
       "      <th>max</th>\n",
       "      <td>90.000000</td>\n",
       "      <td>1.490400e+06</td>\n",
       "      <td>16.000000</td>\n",
       "      <td>99999.000000</td>\n",
       "      <td>4356.000000</td>\n",
       "      <td>99.000000</td>\n",
       "    </tr>\n",
       "  </tbody>\n",
       "</table>\n",
       "</div>"
      ],
      "text/plain": [
       "                age        fnlwgt  educational-num  capital-gain  \\\n",
       "count  45222.000000  4.522200e+04     45222.000000  45222.000000   \n",
       "mean      38.547941  1.897347e+05        10.118460   1101.430344   \n",
       "std       13.217870  1.056392e+05         2.552881   7506.430084   \n",
       "min       17.000000  1.349200e+04         1.000000      0.000000   \n",
       "25%       28.000000  1.173882e+05         9.000000      0.000000   \n",
       "50%       37.000000  1.783160e+05        10.000000      0.000000   \n",
       "75%       47.000000  2.379260e+05        13.000000      0.000000   \n",
       "max       90.000000  1.490400e+06        16.000000  99999.000000   \n",
       "\n",
       "       capital-loss  hours-per-week  \n",
       "count  45222.000000    45222.000000  \n",
       "mean      88.595418       40.938017  \n",
       "std      404.956092       12.007508  \n",
       "min        0.000000        1.000000  \n",
       "25%        0.000000       40.000000  \n",
       "50%        0.000000       40.000000  \n",
       "75%        0.000000       45.000000  \n",
       "max     4356.000000       99.000000  "
      ]
     },
     "execution_count": 11,
     "metadata": {},
     "output_type": "execute_result"
    }
   ],
   "source": [
    "df.describe()"
   ]
  },
  {
   "cell_type": "code",
   "execution_count": null,
   "metadata": {
    "colab": {
     "base_uri": "https://localhost:8080/",
     "height": 2063
    },
    "id": "NuOOhyOFJm6L",
    "outputId": "cd8a28e1-1afd-46ce-f50a-582dd6617c83"
   },
   "outputs": [
    {
     "name": "stdout",
     "output_type": "stream",
     "text": [
      "Para la columna workclass la distribución es:\n",
      " Private             0.736522\n",
      "Self-emp-not-inc    0.083941\n",
      "Local-gov           0.068551\n",
      "State-gov           0.043032\n",
      "Self-emp-inc        0.036398\n",
      "Federal-gov         0.031091\n",
      "Without-pay         0.000464\n",
      "Name: workclass, dtype: float64\n",
      "Para la columna race la distribución es:\n",
      " White                 0.860267\n",
      "Black                 0.093494\n",
      "Asian-Pac-Islander    0.028813\n",
      "Amer-Indian-Eskimo    0.009619\n",
      "Other                 0.007806\n",
      "Name: race, dtype: float64\n",
      "Para la columna education la distribución es:\n",
      " HS-grad         0.326898\n",
      "Some-college    0.218898\n",
      "Bachelors       0.167396\n",
      "Masters         0.055592\n",
      "Assoc-voc       0.043320\n",
      "11th            0.035801\n",
      "Assoc-acdm      0.033324\n",
      "10th            0.027044\n",
      "7th-8th         0.018199\n",
      "Prof-school     0.017359\n",
      "9th             0.014948\n",
      "12th            0.012759\n",
      "Doctorate       0.012030\n",
      "5th-6th         0.009929\n",
      "1st-4th         0.004909\n",
      "Preschool       0.001592\n",
      "Name: education, dtype: float64\n",
      "Para la columna marital-status la distribución es:\n",
      " Married-civ-spouse       0.465592\n",
      "Never-married            0.322807\n",
      "Divorced                 0.139246\n",
      "Separated                0.031202\n",
      "Widowed                  0.028238\n",
      "Married-spouse-absent    0.012206\n",
      "Married-AF-spouse        0.000708\n",
      "Name: marital-status, dtype: float64\n",
      "Para la columna occupation la distribución es:\n",
      " Craft-repair         0.133121\n",
      "Prof-specialty       0.132856\n",
      "Exec-managerial      0.132325\n",
      "Adm-clerical         0.122507\n",
      "Sales                0.119588\n",
      "Other-service        0.106320\n",
      "Machine-op-inspct    0.065676\n",
      "Transport-moving     0.051214\n",
      "Handlers-cleaners    0.045243\n",
      "Farming-fishing      0.032727\n",
      "Tech-support         0.031401\n",
      "Protective-serv      0.021582\n",
      "Priv-house-serv      0.005130\n",
      "Armed-Forces         0.000310\n",
      "Name: occupation, dtype: float64\n",
      "Para la columna relationship la distribución es:\n",
      " Husband           0.412764\n",
      "Not-in-family     0.258768\n",
      "Own-child         0.146522\n",
      "Unmarried         0.105878\n",
      "Wife              0.046239\n",
      "Other-relative    0.029831\n",
      "Name: relationship, dtype: float64\n",
      "Para la columna gender la distribución es:\n",
      " Male      0.675048\n",
      "Female    0.324952\n",
      "Name: gender, dtype: float64\n",
      "Para la columna native-country la distribución es:\n",
      " United-States                 0.913095\n",
      "Mexico                        0.019968\n",
      "Philippines                   0.006258\n",
      "Germany                       0.004268\n",
      "Puerto-Rico                   0.003870\n",
      "Canada                        0.003604\n",
      "El-Salvador                   0.003251\n",
      "India                         0.003251\n",
      "Cuba                          0.002941\n",
      "England                       0.002631\n",
      "China                         0.002499\n",
      "Jamaica                       0.002278\n",
      "South                         0.002233\n",
      "Italy                         0.002211\n",
      "Dominican-Republic            0.002145\n",
      "Japan                         0.001968\n",
      "Guatemala                     0.001902\n",
      "Vietnam                       0.001835\n",
      "Columbia                      0.001813\n",
      "Poland                        0.001791\n",
      "Haiti                         0.001526\n",
      "Portugal                      0.001371\n",
      "Iran                          0.001238\n",
      "Taiwan                        0.001216\n",
      "Greece                        0.001084\n",
      "Nicaragua                     0.001061\n",
      "Peru                          0.000995\n",
      "Ecuador                       0.000951\n",
      "France                        0.000796\n",
      "Ireland                       0.000796\n",
      "Thailand                      0.000641\n",
      "Hong                          0.000619\n",
      "Cambodia                      0.000575\n",
      "Trinadad&Tobago               0.000575\n",
      "Yugoslavia                    0.000509\n",
      "Outlying-US(Guam-USVI-etc)    0.000486\n",
      "Laos                          0.000464\n",
      "Scotland                      0.000442\n",
      "Honduras                      0.000420\n",
      "Hungary                       0.000398\n",
      "Holand-Netherlands            0.000022\n",
      "Name: native-country, dtype: float64\n",
      "Para la columna income la distribución es:\n",
      " <=50K    0.752156\n",
      ">50K     0.247844\n",
      "Name: income, dtype: float64\n"
     ]
    }
   ],
   "source": [
    "for col in ['workclass', 'race', 'education','marital-status',\n",
    "            'occupation','relationship', 'gender', 'native-country', 'income']:\n",
    "    print(\"Para la columna {} la distribución es:\\n {}\".format(col, df[col].value_counts(normalize=True)))"
   ]
  },
  {
   "cell_type": "code",
   "execution_count": null,
   "metadata": {
    "id": "5wrk6NRMLDy5"
   },
   "outputs": [],
   "source": [
    "def married_or_not_married(marital_status):\n",
    "    if marital_status in ['Married-AF-spouse', 'Married-civ-spouse', 'Married-spouse-absent']:\n",
    "        return 'married'\n",
    "    else:\n",
    "        return 'not married'"
   ]
  },
  {
   "cell_type": "code",
   "execution_count": null,
   "metadata": {
    "colab": {
     "base_uri": "https://localhost:8080/",
     "height": 35
    },
    "id": "SBHmBJSzMETi",
    "outputId": "ea245745-843f-4d3d-9249-e35cedf707f8"
   },
   "outputs": [
    {
     "data": {
      "text/plain": [
       "'married'"
      ]
     },
     "execution_count": 14,
     "metadata": {},
     "output_type": "execute_result"
    }
   ],
   "source": [
    "married_or_not_married(df[\"marital-status\"][3])"
   ]
  },
  {
   "cell_type": "code",
   "execution_count": null,
   "metadata": {
    "colab": {
     "base_uri": "https://localhost:8080/",
     "height": 35
    },
    "id": "t5jaHBQjMVPp",
    "outputId": "1ed79283-10da-4206-9357-db33447a6fe0"
   },
   "outputs": [
    {
     "data": {
      "text/plain": [
       "'Married-civ-spouse'"
      ]
     },
     "execution_count": 15,
     "metadata": {},
     "output_type": "execute_result"
    }
   ],
   "source": [
    "df[\"marital-status\"][3]"
   ]
  },
  {
   "cell_type": "code",
   "execution_count": null,
   "metadata": {
    "id": "TgcEc2uxMY64"
   },
   "outputs": [],
   "source": [
    "df[\"marital-status\"] = df[\"marital-status\"].apply(married_or_not_married)"
   ]
  },
  {
   "cell_type": "code",
   "execution_count": null,
   "metadata": {
    "colab": {
     "base_uri": "https://localhost:8080/",
     "height": 69
    },
    "id": "lteXKrc-MoJ3",
    "outputId": "de1e87ff-f639-4a25-9d0f-2a23338af2c5"
   },
   "outputs": [
    {
     "data": {
      "text/plain": [
       "not married    23583\n",
       "married        21639\n",
       "Name: marital-status, dtype: int64"
      ]
     },
     "execution_count": 17,
     "metadata": {},
     "output_type": "execute_result"
    }
   ],
   "source": [
    "df[\"marital-status\"].value_counts()"
   ]
  },
  {
   "cell_type": "code",
   "execution_count": null,
   "metadata": {
    "id": "JftmXcL_NQGn"
   },
   "outputs": [],
   "source": [
    "category_col = ['workclass', 'race', 'education','marital-status',\n",
    "                'occupation','relationship', 'gender', 'native-country', 'income']\n",
    "for col in category_col:\n",
    "    b, c = np.unique(df[col], return_inverse=True)\n",
    "    df[col] = c"
   ]
  },
  {
   "cell_type": "code",
   "execution_count": null,
   "metadata": {
    "colab": {
     "base_uri": "https://localhost:8080/",
     "height": 257
    },
    "id": "owua9QSzNdrx",
    "outputId": "bc7beee1-0e93-4d6b-b24a-6beea46ce374"
   },
   "outputs": [
    {
     "data": {
      "text/html": [
       "<div>\n",
       "<style scoped>\n",
       "    .dataframe tbody tr th:only-of-type {\n",
       "        vertical-align: middle;\n",
       "    }\n",
       "\n",
       "    .dataframe tbody tr th {\n",
       "        vertical-align: top;\n",
       "    }\n",
       "\n",
       "    .dataframe thead th {\n",
       "        text-align: right;\n",
       "    }\n",
       "</style>\n",
       "<table border=\"1\" class=\"dataframe\">\n",
       "  <thead>\n",
       "    <tr style=\"text-align: right;\">\n",
       "      <th></th>\n",
       "      <th>age</th>\n",
       "      <th>workclass</th>\n",
       "      <th>fnlwgt</th>\n",
       "      <th>education</th>\n",
       "      <th>educational-num</th>\n",
       "      <th>marital-status</th>\n",
       "      <th>occupation</th>\n",
       "      <th>relationship</th>\n",
       "      <th>race</th>\n",
       "      <th>gender</th>\n",
       "      <th>capital-gain</th>\n",
       "      <th>capital-loss</th>\n",
       "      <th>hours-per-week</th>\n",
       "      <th>native-country</th>\n",
       "      <th>income</th>\n",
       "    </tr>\n",
       "  </thead>\n",
       "  <tbody>\n",
       "    <tr>\n",
       "      <th>0</th>\n",
       "      <td>25</td>\n",
       "      <td>2</td>\n",
       "      <td>226802</td>\n",
       "      <td>1</td>\n",
       "      <td>7</td>\n",
       "      <td>1</td>\n",
       "      <td>6</td>\n",
       "      <td>3</td>\n",
       "      <td>2</td>\n",
       "      <td>1</td>\n",
       "      <td>0</td>\n",
       "      <td>0</td>\n",
       "      <td>40</td>\n",
       "      <td>38</td>\n",
       "      <td>0</td>\n",
       "    </tr>\n",
       "    <tr>\n",
       "      <th>1</th>\n",
       "      <td>38</td>\n",
       "      <td>2</td>\n",
       "      <td>89814</td>\n",
       "      <td>11</td>\n",
       "      <td>9</td>\n",
       "      <td>0</td>\n",
       "      <td>4</td>\n",
       "      <td>0</td>\n",
       "      <td>4</td>\n",
       "      <td>1</td>\n",
       "      <td>0</td>\n",
       "      <td>0</td>\n",
       "      <td>50</td>\n",
       "      <td>38</td>\n",
       "      <td>0</td>\n",
       "    </tr>\n",
       "    <tr>\n",
       "      <th>2</th>\n",
       "      <td>28</td>\n",
       "      <td>1</td>\n",
       "      <td>336951</td>\n",
       "      <td>7</td>\n",
       "      <td>12</td>\n",
       "      <td>0</td>\n",
       "      <td>10</td>\n",
       "      <td>0</td>\n",
       "      <td>4</td>\n",
       "      <td>1</td>\n",
       "      <td>0</td>\n",
       "      <td>0</td>\n",
       "      <td>40</td>\n",
       "      <td>38</td>\n",
       "      <td>1</td>\n",
       "    </tr>\n",
       "    <tr>\n",
       "      <th>3</th>\n",
       "      <td>44</td>\n",
       "      <td>2</td>\n",
       "      <td>160323</td>\n",
       "      <td>15</td>\n",
       "      <td>10</td>\n",
       "      <td>0</td>\n",
       "      <td>6</td>\n",
       "      <td>0</td>\n",
       "      <td>2</td>\n",
       "      <td>1</td>\n",
       "      <td>7688</td>\n",
       "      <td>0</td>\n",
       "      <td>40</td>\n",
       "      <td>38</td>\n",
       "      <td>1</td>\n",
       "    </tr>\n",
       "    <tr>\n",
       "      <th>5</th>\n",
       "      <td>34</td>\n",
       "      <td>2</td>\n",
       "      <td>198693</td>\n",
       "      <td>0</td>\n",
       "      <td>6</td>\n",
       "      <td>1</td>\n",
       "      <td>7</td>\n",
       "      <td>1</td>\n",
       "      <td>4</td>\n",
       "      <td>1</td>\n",
       "      <td>0</td>\n",
       "      <td>0</td>\n",
       "      <td>30</td>\n",
       "      <td>38</td>\n",
       "      <td>0</td>\n",
       "    </tr>\n",
       "  </tbody>\n",
       "</table>\n",
       "</div>"
      ],
      "text/plain": [
       "   age  workclass  fnlwgt  education  educational-num  marital-status  \\\n",
       "0   25          2  226802          1                7               1   \n",
       "1   38          2   89814         11                9               0   \n",
       "2   28          1  336951          7               12               0   \n",
       "3   44          2  160323         15               10               0   \n",
       "5   34          2  198693          0                6               1   \n",
       "\n",
       "   occupation  relationship  race  gender  capital-gain  capital-loss  \\\n",
       "0           6             3     2       1             0             0   \n",
       "1           4             0     4       1             0             0   \n",
       "2          10             0     4       1             0             0   \n",
       "3           6             0     2       1          7688             0   \n",
       "5           7             1     4       1             0             0   \n",
       "\n",
       "   hours-per-week  native-country  income  \n",
       "0              40              38       0  \n",
       "1              50              38       0  \n",
       "2              40              38       1  \n",
       "3              40              38       1  \n",
       "5              30              38       0  "
      ]
     },
     "execution_count": 19,
     "metadata": {},
     "output_type": "execute_result"
    }
   ],
   "source": [
    "df.head(5)"
   ]
  },
  {
   "cell_type": "code",
   "execution_count": null,
   "metadata": {
    "id": "f7TNnSYf0s-m"
   },
   "outputs": [],
   "source": [
    "from sklearn.preprocessing import MinMaxScaler\n",
    "MM = MinMaxScaler()#? porque quiero representar los datos de manera fidedigna a lo que esta en el dataset\n",
    "df[['age','capital-gain','capital-loss','hours-per-week']]= MM.fit(df[['age','capital-gain',\n",
    "                                                            'capital-loss','hours-per-week']])\n",
    "df[['age','capital-gain','capital-loss','hours-per-week']]= MM.transform(df[['age','capital-gain',\n",
    "                                                            'capital-loss','hours-per-week']])"
   ]
  },
  {
   "cell_type": "code",
   "execution_count": null,
   "metadata": {
    "id": "wwgssa5NNuLH"
   },
   "outputs": [],
   "source": [
    "X = df[['age','capital-gain', 'capital-loss','hours-per-week','workclass',\n",
    "        'education','educational-num','marital-status',\n",
    "        'occupation','relationship','race','gender', 'native-country']]"
   ]
  },
  {
   "cell_type": "code",
   "execution_count": null,
   "metadata": {
    "id": "802xgaVGOTBX"
   },
   "outputs": [],
   "source": [
    "y = df[\"income\"]"
   ]
  },
  {
   "cell_type": "code",
   "execution_count": null,
   "metadata": {
    "id": "uOXOpAQ3Omj2"
   },
   "outputs": [],
   "source": [
    "from sklearn.model_selection import train_test_split"
   ]
  },
  {
   "cell_type": "code",
   "execution_count": null,
   "metadata": {
    "colab": {
     "base_uri": "https://localhost:8080/",
     "height": 87
    },
    "id": "xjI50W1cOxiW",
    "outputId": "fc4f1559-6f03-4e9e-c44b-420150d98930"
   },
   "outputs": [
    {
     "name": "stdout",
     "output_type": "stream",
     "text": [
      "(31655, 13)\n",
      "(13567, 13)\n",
      "(31655,)\n",
      "(13567,)\n"
     ]
    }
   ],
   "source": [
    "X_train, X_test, y_train, y_test = train_test_split(X, y, test_size=0.3, stratify=y,\n",
    "                                                    random_state=42)\n",
    "print(X_train.shape)\n",
    "print(X_test.shape)\n",
    "print(y_train.shape)\n",
    "print(y_test.shape)"
   ]
  },
  {
   "cell_type": "code",
   "execution_count": null,
   "metadata": {
    "id": "bbgatGghPb2F"
   },
   "outputs": [],
   "source": [
    "import matplotlib.pyplot as plt\n",
    "%matplotlib inline"
   ]
  },
  {
   "cell_type": "code",
   "execution_count": null,
   "metadata": {
    "colab": {
     "base_uri": "https://localhost:8080/",
     "height": 269
    },
    "id": "K4c6CU7hPhC_",
    "outputId": "8f2cdb05-646e-49cb-fc50-43e9280ada5b"
   },
   "outputs": [
    {
     "data": {
      "image/png": "[encoded data removed]",
      "text/plain": [
       "<Figure size 432x288 with 1 Axes>"
      ]
     },
     "metadata": {
      "needs_background": "light"
     },
     "output_type": "display_data"
    }
   ],
   "source": [
    "plt.hist(y_train, label=\"Train\")\n",
    "plt.hist(y_test, label=\"Test\")\n",
    "plt.legend()\n",
    "plt.show()"
   ]
  },
  {
   "cell_type": "markdown",
   "metadata": {
    "id": "A1lqz4No0s-n"
   },
   "source": [
    "## KNN"
   ]
  },
  {
   "cell_type": "code",
   "execution_count": null,
   "metadata": {
    "id": "0Gi4p4tD0s-o",
    "outputId": "85f93046-f6c4-4807-fcb7-fc41d0c60343"
   },
   "outputs": [
    {
     "name": "stdout",
     "output_type": "stream",
     "text": [
      "% de aciertos sobre el set de evaluación: 0.8121176383872633\n",
      "CPU times: total: 1.16 s\n",
      "Wall time: 1.15 s\n"
     ]
    }
   ],
   "source": [
    "%%time\n",
    "from sklearn.neighbors import KNeighborsClassifier\n",
    "# Paso 1\n",
    "knn = KNeighborsClassifier(n_neighbors=3, random_state=11)#hiperparametros\n",
    "\n",
    "# Paso 2\n",
    "knn.fit(X_train, y_train)\n",
    "\n",
    "# Paso 3\n",
    "y_test_pred = knn.predict(X_test) #Prediccion en Test\n",
    "\n",
    "#Calculo el accuracy en Test\n",
    "test_accuracy = accuracy_score(y_test, y_test_pred)\n",
    "\n",
    "print('% de aciertos sobre el set de evaluación:',test_accuracy)"
   ]
  },
  {
   "cell_type": "markdown",
   "metadata": {
    "id": "rI7rVtHq0s-o"
   },
   "source": [
    "## Regresión logística"
   ]
  },
  {
   "cell_type": "code",
   "execution_count": null,
   "metadata": {
    "id": "NPxXWl_f0s-o",
    "outputId": "993224b9-6ab3-4f7b-fc6f-c317cc485683"
   },
   "outputs": [
    {
     "name": "stdout",
     "output_type": "stream",
     "text": [
      "% de aciertos sobre el set de evaluación: 0.8153608019458981\n",
      "CPU times: total: 1.75 s\n",
      "Wall time: 328 ms\n"
     ]
    },
    {
     "name": "stderr",
     "output_type": "stream",
     "text": [
      "C:\\Users\\Omar\\anaconda3\\envs\\normal\\lib\\site-packages\\sklearn\\linear_model\\_logistic.py:814: ConvergenceWarning: lbfgs failed to converge (status=1):\n",
      "STOP: TOTAL NO. of ITERATIONS REACHED LIMIT.\n",
      "\n",
      "Increase the number of iterations (max_iter) or scale the data as shown in:\n",
      "    https://scikit-learn.org/stable/modules/preprocessing.html\n",
      "Please also refer to the documentation for alternative solver options:\n",
      "    https://scikit-learn.org/stable/modules/linear_model.html#logistic-regression\n",
      "  n_iter_i = _check_optimize_result(\n"
     ]
    }
   ],
   "source": [
    "%%time\n",
    "from sklearn.linear_model import LogisticRegression\n",
    "\n",
    "# Paso 1\n",
    "regresion_logistica = LogisticRegression(random_state=11)\n",
    "\n",
    "# Paso 2\n",
    "regresion_logistica.fit(X,y)\n",
    "\n",
    "# Paso 3\n",
    "y_test_pred = regresion_logistica.predict(X_test) #Prediccion en Test\n",
    "\n",
    "#Calculo el accuracy en Test\n",
    "test_accuracy = accuracy_score(y_test, y_test_pred)\n",
    "\n",
    "print('% de aciertos sobre el set de evaluación:',test_accuracy)"
   ]
  },
  {
   "cell_type": "markdown",
   "metadata": {
    "id": "ajPIazbm0s-o"
   },
   "source": [
    "## Random Forest"
   ]
  },
  {
   "cell_type": "code",
   "execution_count": null,
   "metadata": {
    "id": "xRGWPcz_0s-o",
    "outputId": "8beadd0f-d876-4fdc-a09f-8c0159587bb6"
   },
   "outputs": [
    {
     "name": "stdout",
     "output_type": "stream",
     "text": [
      "% de aciertos sobre el set de evaluación: 0.8459497309648412\n",
      "CPU times: total: 2.69 s\n",
      "Wall time: 625 ms\n"
     ]
    }
   ],
   "source": [
    "%%time\n",
    "from sklearn.ensemble import RandomForestClassifier\n",
    "# Paso 1\n",
    "model = RandomForestClassifier(random_state=11, n_jobs=6, max_features: 0.2, n_estimators: 2048)\n",
    "# Paso 2\n",
    "model.fit(X_train, y_train)\n",
    "# Paso 3\n",
    "y_test_pred = model.predict(X_test) #Prediccion en Test\n",
    "\n",
    "#Calculo el accuracy en Test\n",
    "test_accuracy = accuracy_score(y_test, y_test_pred)\n",
    "\n",
    "print('% de aciertos sobre el set de evaluación:',test_accuracy)"
   ]
  },
  {
   "cell_type": "code",
   "execution_count": null,
   "metadata": {
    "id": "PQMtFKYO0s-o",
    "outputId": "fb2883e5-2597-4d9b-e74d-5cb8ce321329"
   },
   "outputs": [
    {
     "name": "stdout",
     "output_type": "stream",
     "text": [
      "Importancia de características:\n",
      "Característica workclass (0.226440)\n",
      "Característica fnlwgt (0.123168)\n",
      "Característica educational-num (0.109252)\n",
      "Característica race (0.102467)\n",
      "Característica relationship (0.097103)\n",
      "Característica capital-gain (0.085873)\n",
      "Característica gender (0.082430)\n",
      "Característica marital-status (0.049239)\n",
      "Característica education (0.039599)\n",
      "Característica occupation (0.036313)\n",
      "Característica native-country (0.020023)\n",
      "Característica capital-loss (0.016426)\n",
      "Característica hours-per-week (0.011668)\n"
     ]
    }
   ],
   "source": [
    "importances = model.feature_importances_\n",
    "indices = np.argsort(importances)[::-1]\n",
    "\n",
    "print(\"Importancia de características:\")\n",
    "\n",
    "for f in range(X_train.shape[1]):\n",
    "    print(\"Característica %s (%f)\" % (df.columns[int(1+indices[f])], importances[indices[f]]))"
   ]
  },
  {
   "cell_type": "code",
   "execution_count": null,
   "metadata": {
    "id": "dY8olzSY0s-p",
    "outputId": "614657c5-c7a4-4410-b640-dbaaa2d3f239"
   },
   "outputs": [
    {
     "data": {
      "image/png": "[encoded data removed]",
      "text/plain": [
       "<Figure size 432x288 with 1 Axes>"
      ]
     },
     "metadata": {
      "needs_background": "light"
     },
     "output_type": "display_data"
    }
   ],
   "source": [
    "plt.figure()\n",
    "plt.title(\"Importancia de las características\")\n",
    "plt.bar(range(X_train.shape[1]), importances[indices],\n",
    "       align=\"center\")\n",
    "xticks_labels = [df.columns[1+i] for i in indices]\n",
    "plt.xticks(range(X.shape[1]), xticks_labels, rotation=90)\n",
    "plt.xlim([-1, X.shape[1]])\n",
    "plt.show()"
   ]
  },
  {
   "cell_type": "markdown",
   "metadata": {
    "id": "lNODBi5Z0s-p"
   },
   "source": [
    "## SVM"
   ]
  },
  {
   "cell_type": "code",
   "execution_count": null,
   "metadata": {
    "id": "Iakd_s_L0s-p",
    "outputId": "57e42ee2-6066-47a7-eb1d-edf407a468d4"
   },
   "outputs": [
    {
     "name": "stdout",
     "output_type": "stream",
     "text": [
      "% de aciertos sobre el set de evaluación: 0.831945161052554\n",
      "CPU times: total: 1min 50s\n",
      "Wall time: 1min 50s\n"
     ]
    }
   ],
   "source": [
    "%%time\n",
    "from sklearn.svm import SVC\n",
    "# Paso 1\n",
    "modelo = SVC(C = 100, kernel = 'linear', random_state=123)\n",
    "# Paso 2\n",
    "modelo.fit(X_train, y_train)\n",
    "# Paso 3\n",
    "y_test_pred = modelo.predict(X_test) #Prediccion en Test\n",
    "\n",
    "#Calculo el accuracy en Test\n",
    "test_accuracy = accuracy_score(y_test, y_test_pred)\n",
    "\n",
    "print('% de aciertos sobre el set de evaluación:',test_accuracy)"
   ]
  },
  {
   "cell_type": "code",
   "execution_count": null,
   "metadata": {
    "id": "wjZg8fcY0s-p",
    "outputId": "97f65542-bd41-4962-bedf-9a994fe582bd"
   },
   "outputs": [
    {
     "name": "stdout",
     "output_type": "stream",
     "text": [
      "% de aciertos sobre el set de evaluación: 0.8276700818161716\n",
      "CPU times: total: 30 s\n",
      "Wall time: 30.1 s\n"
     ]
    }
   ],
   "source": [
    "%%time\n",
    "# Paso 1\n",
    "modelo = SVC(C = 100, kernel = 'poly', random_state=123)\n",
    "# Paso 2\n",
    "modelo.fit(X_train, y_train)\n",
    "# Paso 3\n",
    "y_test_pred = modelo.predict(X_test) #Prediccion en Test\n",
    "\n",
    "#Calculo el accuracy en Test\n",
    "test_accuracy = accuracy_score(y_test, y_test_pred)\n",
    "\n",
    "print('% de aciertos sobre el set de evaluación:',test_accuracy)"
   ]
  },
  {
   "cell_type": "code",
   "execution_count": null,
   "metadata": {
    "id": "Xpa6RzTR0s-p",
    "outputId": "2d942805-e2b0-4009-9a57-daf6be0df8ee"
   },
   "outputs": [
    {
     "name": "stdout",
     "output_type": "stream",
     "text": [
      "% de aciertos sobre el set de evaluación: 0.8200044224957618\n",
      "CPU times: total: 42.4 s\n",
      "Wall time: 42.6 s\n"
     ]
    }
   ],
   "source": [
    "%%time\n",
    "# Paso 1\n",
    "modelo = SVC(C = 100, kernel = 'rbf', random_state=123)\n",
    "# Paso 2\n",
    "modelo.fit(X_train, y_train)\n",
    "# Paso 3\n",
    "y_test_pred = modelo.predict(X_test) #Prediccion en Test\n",
    "\n",
    "#Calculo el accuracy en Test\n",
    "test_accuracy = accuracy_score(y_test, y_test_pred)\n",
    "\n",
    "print('% de aciertos sobre el set de evaluación:',test_accuracy)"
   ]
  },
  {
   "cell_type": "code",
   "execution_count": null,
   "metadata": {
    "id": "GNOkn5mh0s-q",
    "outputId": "0dffd9ff-dfe0-48f7-8f72-bc7abc193b92"
   },
   "outputs": [
    {
     "name": "stdout",
     "output_type": "stream",
     "text": [
      "% de aciertos sobre el set de evaluación: 0.744084911918626\n",
      "CPU times: total: 26.3 s\n",
      "Wall time: 26.4 s\n"
     ]
    }
   ],
   "source": [
    "%%time\n",
    "# Paso 1\n",
    "modelo = SVC(C = 100, kernel = 'sigmoid', random_state=123)\n",
    "# Paso 2\n",
    "modelo.fit(X_train, y_train)\n",
    "# Paso 3\n",
    "y_test_pred = modelo.predict(X_test) #Prediccion en Test\n",
    "\n",
    "#Calculo el accuracy en Test\n",
    "test_accuracy = accuracy_score(y_test, y_test_pred)\n",
    "\n",
    "print('% de aciertos sobre el set de evaluación:',test_accuracy)"
   ]
  },
  {
   "cell_type": "markdown",
   "metadata": {
    "id": "yEUxPxmK0s-q"
   },
   "source": [
    "## Gradiente potenciado basado en árboles"
   ]
  },
  {
   "cell_type": "code",
   "execution_count": null,
   "metadata": {
    "id": "Lfm8jtMj0s-q",
    "outputId": "04bf71c3-5b11-40eb-8263-af81b72e8f83"
   },
   "outputs": [
    {
     "name": "stdout",
     "output_type": "stream",
     "text": [
      "% de aciertos sobre el set de evaluación: 0.8707157072307806\n"
     ]
    }
   ],
   "source": [
    "from lightgbm import LGBMClassifier\n",
    "# Paso 1\n",
    "modelo = LGBMClassifier(random_state=123)\n",
    "# Paso 2\n",
    "modelo.fit(X_train, y_train)\n",
    "# Paso 3\n",
    "y_test_pred = modelo.predict(X_test) #Prediccion en Test\n",
    "\n",
    "#Calculo el accuracy en Test\n",
    "test_accuracy = accuracy_score(y_test, y_test_pred)\n",
    "\n",
    "print('% de aciertos sobre el set de evaluación:',test_accuracy)"
   ]
  },
  {
   "cell_type": "markdown",
   "metadata": {
    "id": "Aawv2MFL0s-q"
   },
   "source": [
    "# HYPERPARAMETER TUNING"
   ]
  },
  {
   "cell_type": "markdown",
   "metadata": {
    "id": "eyyVh41j0s-q"
   },
   "source": [
    "### GRID SEARCH CV - Busqueda de hiperparametros en grilla"
   ]
  },
  {
   "cell_type": "code",
   "execution_count": null,
   "metadata": {
    "id": "lSKSJ1mbRP7N"
   },
   "outputs": [],
   "source": [
    "# Definir la grilla de los parametros, cada combinación es un modelo adicional\n",
    "# Esto implica que entre más exahusiva sea la busqueda el tiempo de entrenamiento será mayor\n",
    "param_grid = {'n_estimators': [4, 8, 16, 32, 64, 128, 256, 512, 1024, 2048],\n",
    "              'max_features': [0.1, 0.2, 0.3, 0.4, 0.5, 0.6, 0.7, 0.8, 0.9, 1.0]}"
   ]
  },
  {
   "cell_type": "code",
   "execution_count": null,
   "metadata": {
    "id": "0fNOu7NrTwVh"
   },
   "outputs": [],
   "source": [
    "# Paso 1\n",
    "clf = RandomForestClassifier()\n",
    "\n",
    "# Paso NUEVO\n",
    "from sklearn.model_selection import GridSearchCV\n",
    "GS_RF = GridSearchCV(clf,\n",
    "                     param_grid=param_grid,\n",
    "                     cv=5,\n",
    "                     n_jobs=4,\n",
    "                     verbose=0)"
   ]
  },
  {
   "cell_type": "code",
   "execution_count": null,
   "metadata": {
    "colab": {
     "base_uri": "https://localhost:8080/",
     "height": 523
    },
    "id": "zg-SGF5wT8i0",
    "outputId": "e46108ad-fe2b-4a57-8e5d-2c7ca7d3f599"
   },
   "outputs": [
    {
     "name": "stdout",
     "output_type": "stream",
     "text": [
      "CPU times: total: 34.1 s\n",
      "Wall time: 24min 35s\n"
     ]
    },
    {
     "data": {
      "text/plain": [
       "GridSearchCV(cv=5, estimator=RandomForestClassifier(), n_jobs=4,\n",
       "             param_grid={'max_features': [0.1, 0.2, 0.3, 0.4, 0.5, 0.6, 0.7,\n",
       "                                          0.8, 0.9, 1.0],\n",
       "                         'n_estimators': [4, 8, 16, 32, 64, 128, 256, 512, 1024,\n",
       "                                          2048]})"
      ]
     },
     "execution_count": 32,
     "metadata": {},
     "output_type": "execute_result"
    }
   ],
   "source": [
    "%%time\n",
    "# Paso 2\n",
    "GS_RF.fit(X_train, y_train)"
   ]
  },
  {
   "cell_type": "code",
   "execution_count": null,
   "metadata": {
    "id": "ylT1yLHZ0s-r",
    "outputId": "0858896d-1588-41f7-eaa9-83f28567f291"
   },
   "outputs": [
    {
     "data": {
      "text/plain": [
       "{'max_features': 0.2, 'n_estimators': 2048}"
      ]
     },
     "execution_count": 92,
     "metadata": {},
     "output_type": "execute_result"
    }
   ],
   "source": [
    "GS_RF.best_params_"
   ]
  },
  {
   "cell_type": "code",
   "execution_count": null,
   "metadata": {
    "id": "PeqvMps60s-r",
    "outputId": "f672e85a-e534-4ae0-85f6-de7c127b4423"
   },
   "outputs": [
    {
     "name": "stdout",
     "output_type": "stream",
     "text": [
      "% de aciertos sobre el set de evaluación: 0.8465393970664111\n"
     ]
    }
   ],
   "source": [
    "clf_op = GS_RF.best_estimator_\n",
    "y_test_pred = clf_op.predict(X_test) #Prediccion en Test\n",
    "\n",
    "#Calculo el accuracy en Test\n",
    "test_accuracy = accuracy_score(y_test, y_test_pred)\n",
    "\n",
    "print('% de aciertos sobre el set de evaluación:',test_accuracy)"
   ]
  },
  {
   "cell_type": "code",
   "execution_count": null,
   "metadata": {
    "id": "8M27B3Px0s-r",
    "outputId": "61fc69f8-e15f-4725-9cdb-666b35a1d91c"
   },
   "outputs": [
    {
     "data": {
      "text/html": [
       "<div>\n",
       "<style scoped>\n",
       "    .dataframe tbody tr th:only-of-type {\n",
       "        vertical-align: middle;\n",
       "    }\n",
       "\n",
       "    .dataframe tbody tr th {\n",
       "        vertical-align: top;\n",
       "    }\n",
       "\n",
       "    .dataframe thead th {\n",
       "        text-align: right;\n",
       "    }\n",
       "</style>\n",
       "<table border=\"1\" class=\"dataframe\">\n",
       "  <thead>\n",
       "    <tr style=\"text-align: right;\">\n",
       "      <th></th>\n",
       "      <th>max_features</th>\n",
       "      <th>n_estimators</th>\n",
       "      <th>mean_test_score</th>\n",
       "    </tr>\n",
       "  </thead>\n",
       "  <tbody>\n",
       "    <tr>\n",
       "      <th>0</th>\n",
       "      <td>0.1</td>\n",
       "      <td>4</td>\n",
       "      <td>0.832286</td>\n",
       "    </tr>\n",
       "    <tr>\n",
       "      <th>1</th>\n",
       "      <td>0.1</td>\n",
       "      <td>8</td>\n",
       "      <td>0.839172</td>\n",
       "    </tr>\n",
       "    <tr>\n",
       "      <th>2</th>\n",
       "      <td>0.1</td>\n",
       "      <td>16</td>\n",
       "      <td>0.841700</td>\n",
       "    </tr>\n",
       "    <tr>\n",
       "      <th>3</th>\n",
       "      <td>0.1</td>\n",
       "      <td>32</td>\n",
       "      <td>0.842331</td>\n",
       "    </tr>\n",
       "    <tr>\n",
       "      <th>4</th>\n",
       "      <td>0.1</td>\n",
       "      <td>64</td>\n",
       "      <td>0.844732</td>\n",
       "    </tr>\n",
       "    <tr>\n",
       "      <th>...</th>\n",
       "      <td>...</td>\n",
       "      <td>...</td>\n",
       "      <td>...</td>\n",
       "    </tr>\n",
       "    <tr>\n",
       "      <th>95</th>\n",
       "      <td>1.0</td>\n",
       "      <td>128</td>\n",
       "      <td>0.842774</td>\n",
       "    </tr>\n",
       "    <tr>\n",
       "      <th>96</th>\n",
       "      <td>1.0</td>\n",
       "      <td>256</td>\n",
       "      <td>0.842868</td>\n",
       "    </tr>\n",
       "    <tr>\n",
       "      <th>97</th>\n",
       "      <td>1.0</td>\n",
       "      <td>512</td>\n",
       "      <td>0.842995</td>\n",
       "    </tr>\n",
       "    <tr>\n",
       "      <th>98</th>\n",
       "      <td>1.0</td>\n",
       "      <td>1024</td>\n",
       "      <td>0.842995</td>\n",
       "    </tr>\n",
       "    <tr>\n",
       "      <th>99</th>\n",
       "      <td>1.0</td>\n",
       "      <td>2048</td>\n",
       "      <td>0.843090</td>\n",
       "    </tr>\n",
       "  </tbody>\n",
       "</table>\n",
       "<p>100 rows × 3 columns</p>\n",
       "</div>"
      ],
      "text/plain": [
       "    max_features  n_estimators  mean_test_score\n",
       "0            0.1             4         0.832286\n",
       "1            0.1             8         0.839172\n",
       "2            0.1            16         0.841700\n",
       "3            0.1            32         0.842331\n",
       "4            0.1            64         0.844732\n",
       "..           ...           ...              ...\n",
       "95           1.0           128         0.842774\n",
       "96           1.0           256         0.842868\n",
       "97           1.0           512         0.842995\n",
       "98           1.0          1024         0.842995\n",
       "99           1.0          2048         0.843090\n",
       "\n",
       "[100 rows x 3 columns]"
      ]
     },
     "execution_count": 35,
     "metadata": {},
     "output_type": "execute_result"
    }
   ],
   "source": [
    "resultados = pd.concat([pd.DataFrame(GS_RF.cv_results_['params']),\n",
    "                        pd.DataFrame(GS_RF.cv_results_['mean_test_score'], columns=['mean_test_score'])], axis=1)\n",
    "resultados"
   ]
  },
  {
   "cell_type": "code",
   "execution_count": null,
   "metadata": {
    "id": "GlRiWQrN0s-r",
    "outputId": "e1f076e1-b578-428b-db6a-224eb243c760"
   },
   "outputs": [
    {
     "data": {
      "text/plain": [
       "<AxesSubplot:xlabel='max_features', ylabel='n_estimators'>"
      ]
     },
     "execution_count": 36,
     "metadata": {},
     "output_type": "execute_result"
    },
    {
     "data": {
      "image/png": "[encoded data removed]",
      "text/plain": [
       "<Figure size 432x288 with 2 Axes>"
      ]
     },
     "metadata": {
      "needs_background": "light"
     },
     "output_type": "display_data"
    }
   ],
   "source": [
    "import seaborn as sns\n",
    "sns.heatmap(resultados.pivot('n_estimators', 'max_features', 'mean_test_score'), cmap='Greens')"
   ]
  },
  {
   "cell_type": "markdown",
   "metadata": {
    "id": "bm98Tf8l0s-s"
   },
   "source": [
    "## RANDOM SEARCH CV - Busqueda aleatoria de hiperparametros"
   ]
  },
  {
   "cell_type": "code",
   "execution_count": null,
   "metadata": {
    "id": "JnhGD2ih0s-s"
   },
   "outputs": [],
   "source": [
    "# Definir las distribuciones de los parametros para esto nos apoyamos scipy\n",
    "from scipy.stats import uniform, randint\n",
    "\n",
    "param_dist = {\"n_estimators\": randint(4, 2048),\n",
    "              \"max_features\": uniform(0, 1)}\n",
    "\n",
    "# y el número de iteraciones, dependiendo de esto se consume más tiempo\n",
    "\n",
    "iteraciones = 50"
   ]
  },
  {
   "cell_type": "code",
   "execution_count": null,
   "metadata": {
    "id": "nuMQ0DBX0s-s"
   },
   "outputs": [],
   "source": [
    "# Importar librerias\n",
    "from sklearn.model_selection import RandomizedSearchCV\n",
    "from sklearn.ensemble import RandomForestClassifier\n",
    "# Paso 1\n",
    "clf = RandomForestClassifier()\n",
    "# Paso NUEVO\n",
    "RS_RF = RandomizedSearchCV(clf,\n",
    "                           param_distributions =param_dist,\n",
    "                           n_iter = iteraciones,\n",
    "                           cv=5,\n",
    "                           n_jobs=4,\n",
    "                           verbose=0)"
   ]
  },
  {
   "cell_type": "code",
   "execution_count": null,
   "metadata": {
    "id": "bCH0Mtzc0s-s",
    "outputId": "4e25126e-ac56-4161-954a-32ab02261b12"
   },
   "outputs": [
    {
     "name": "stdout",
     "output_type": "stream",
     "text": [
      "CPU times: total: 14.1 s\n",
      "Wall time: 5min 28s\n"
     ]
    },
    {
     "data": {
      "text/plain": [
       "RandomizedSearchCV(cv=5, estimator=RandomForestClassifier(), n_jobs=4,\n",
       "                   param_distributions={'max_features': <scipy.stats._distn_infrastructure.rv_frozen object at 0x00000157148F5960>,\n",
       "                                        'n_estimators': <scipy.stats._distn_infrastructure.rv_frozen object at 0x00000157148F5C30>})"
      ]
     },
     "execution_count": 44,
     "metadata": {},
     "output_type": "execute_result"
    }
   ],
   "source": [
    "%%time\n",
    "RS_RF.fit(X_train, y_train)"
   ]
  },
  {
   "cell_type": "code",
   "execution_count": null,
   "metadata": {
    "id": "S24g73Gc0s-s",
    "outputId": "b7d827d5-be95-403e-fa72-27082acf08e9"
   },
   "outputs": [
    {
     "data": {
      "text/plain": [
       "{'max_features': 0.2813641082296572, 'n_estimators': 747}"
      ]
     },
     "execution_count": 45,
     "metadata": {},
     "output_type": "execute_result"
    }
   ],
   "source": [
    "RS_RF.best_params_"
   ]
  },
  {
   "cell_type": "code",
   "execution_count": null,
   "metadata": {
    "id": "X_R2MebB0s-s"
   },
   "outputs": [],
   "source": [
    "clf_op = RS_RF.best_estimator_"
   ]
  },
  {
   "cell_type": "code",
   "execution_count": null,
   "metadata": {
    "id": "XWCofu_00s-t",
    "outputId": "42c791bc-0042-451f-c00c-989a57aafbc9"
   },
   "outputs": [
    {
     "name": "stdout",
     "output_type": "stream",
     "text": [
      "% de aciertos sobre el set de evaluación: 0.8458023144394486\n"
     ]
    }
   ],
   "source": [
    "y_test_pred = clf_op.predict(X_test) #Prediccion en Test\n",
    "\n",
    "#Calculo el accuracy en Test\n",
    "test_accuracy = accuracy_score(y_test, y_test_pred)\n",
    "\n",
    "print('% de aciertos sobre el set de evaluación:',test_accuracy)"
   ]
  },
  {
   "cell_type": "markdown",
   "metadata": {
    "id": "oRLEsFTB0s-t"
   },
   "source": [
    "Para comprender mejor algunas diferencias haga este ejercicio y analice los resultados <br>\n",
    "https://scikit-learn.org/stable/auto_examples/model_selection/plot_randomized_search.html?highlight=gridsearchcv%20randomizedsearch"
   ]
  },
  {
   "cell_type": "code",
   "execution_count": null,
   "metadata": {
    "id": "i5-zlRB00s-v",
    "outputId": "600f96af-7b1c-4b0e-c2d4-3f86792e8163"
   },
   "outputs": [
    {
     "name": "stdout",
     "output_type": "stream",
     "text": [
      "RandomizedSearchCV took 0.88 seconds for 15 candidates parameter settings.\n",
      "Model with rank: 1\n",
      "Mean validation score: 0.991 (std: 0.012)\n",
      "Parameters: {'alpha': 0.0470950442615072, 'average': False, 'l1_ratio': 0.8529931145148744}\n",
      "\n",
      "Model with rank: 2\n",
      "Mean validation score: 0.987 (std: 0.007)\n",
      "Parameters: {'alpha': 0.03130345536434546, 'average': False, 'l1_ratio': 0.13209144347169233}\n",
      "\n",
      "Model with rank: 3\n",
      "Mean validation score: 0.985 (std: 0.013)\n",
      "Parameters: {'alpha': 0.2683240013986273, 'average': False, 'l1_ratio': 0.23721274988762886}\n",
      "\n",
      "GridSearchCV took 2.85 seconds for 60 candidate parameter settings.\n",
      "Model with rank: 1\n",
      "Mean validation score: 0.993 (std: 0.007)\n",
      "Parameters: {'alpha': 0.1, 'average': False, 'l1_ratio': 0.0}\n",
      "\n",
      "Model with rank: 2\n",
      "Mean validation score: 0.989 (std: 0.015)\n",
      "Parameters: {'alpha': 0.01, 'average': False, 'l1_ratio': 0.0}\n",
      "\n",
      "Model with rank: 3\n",
      "Mean validation score: 0.987 (std: 0.007)\n",
      "Parameters: {'alpha': 0.01, 'average': False, 'l1_ratio': 0.3333333333333333}\n",
      "\n",
      "Model with rank: 3\n",
      "Mean validation score: 0.987 (std: 0.014)\n",
      "Parameters: {'alpha': 0.01, 'average': False, 'l1_ratio': 0.6666666666666666}\n",
      "\n"
     ]
    }
   ],
   "source": [
    "# https://scikit-learn.org/stable/auto_examples/classification/plot_digits_classification.html#sphx-glr-auto-examples-classification-plot-digits-classification-py\n",
    "import numpy as np\n",
    "\n",
    "from time import time\n",
    "import scipy.stats as stats\n",
    "from sklearn.utils.fixes import loguniform\n",
    "\n",
    "from sklearn.model_selection import GridSearchCV, RandomizedSearchCV\n",
    "from sklearn.datasets import load_digits\n",
    "from sklearn.linear_model import SGDClassifier\n",
    "\n",
    "# get some data\n",
    "X, y = load_digits(return_X_y=True, n_class=3)\n",
    "\n",
    "# build a classifier\n",
    "clf = SGDClassifier(loss=\"hinge\", penalty=\"elasticnet\", fit_intercept=True)\n",
    "\n",
    "\n",
    "# Utility function to report best scores\n",
    "def report(results, n_top=3):\n",
    "    for i in range(1, n_top + 1):\n",
    "        candidates = np.flatnonzero(results[\"rank_test_score\"] == i)\n",
    "        for candidate in candidates:\n",
    "            print(\"Model with rank: {0}\".format(i))\n",
    "            print(\n",
    "                \"Mean validation score: {0:.3f} (std: {1:.3f})\".format(\n",
    "                    results[\"mean_test_score\"][candidate],\n",
    "                    results[\"std_test_score\"][candidate],\n",
    "                )\n",
    "            )\n",
    "            print(\"Parameters: {0}\".format(results[\"params\"][candidate]))\n",
    "            print(\"\")\n",
    "\n",
    "\n",
    "# specify parameters and distributions to sample from\n",
    "param_dist = {\n",
    "    \"average\": [True, False],\n",
    "    \"l1_ratio\": stats.uniform(0, 1),\n",
    "    \"alpha\": loguniform(1e-2, 1e0),\n",
    "}\n",
    "\n",
    "# run randomized search\n",
    "n_iter_search = 15\n",
    "random_search = RandomizedSearchCV(\n",
    "    clf, param_distributions=param_dist, n_iter=n_iter_search\n",
    ")\n",
    "\n",
    "start = time()\n",
    "random_search.fit(X, y)\n",
    "print(\n",
    "    \"RandomizedSearchCV took %.2f seconds for %d candidates parameter settings.\"\n",
    "    % ((time() - start), n_iter_search)\n",
    ")\n",
    "report(random_search.cv_results_)\n",
    "\n",
    "# use a full grid over all parameters\n",
    "param_grid = {\n",
    "    \"average\": [True, False],\n",
    "    \"l1_ratio\": np.linspace(0, 1, num=10),\n",
    "    \"alpha\": np.power(10, np.arange(-2, 1, dtype=float)),\n",
    "}\n",
    "\n",
    "# run grid search\n",
    "grid_search = GridSearchCV(clf, param_grid=param_grid)\n",
    "start = time()\n",
    "grid_search.fit(X, y)\n",
    "\n",
    "print(\n",
    "    \"GridSearchCV took %.2f seconds for %d candidate parameter settings.\"\n",
    "    % (time() - start, len(grid_search.cv_results_[\"params\"]))\n",
    ")\n",
    "report(grid_search.cv_results_)"
   ]
  }
 ],
 "metadata": {
  "colab": {
   "provenance": []
  },
  "kernelspec": {
   "display_name": "Python 3 (ipykernel)",
   "language": "python",
   "name": "python3"
  },
  "language_info": {
   "codemirror_mode": {
    "name": "ipython",
    "version": 3
   },
   "file_extension": ".py",
   "mimetype": "text/x-python",
   "name": "python",
   "nbconvert_exporter": "python",
   "pygments_lexer": "ipython3",
   "version": "3.10.13"
  }
 },
 "nbformat": 4,
 "nbformat_minor": 4
}
