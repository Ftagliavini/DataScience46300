{
 "cells": [
  {
   "cell_type": "markdown",
   "metadata": {},
   "source": [
    "## Clase 4 NUMPY"
   ]
  },
  {
   "cell_type": "markdown",
   "metadata": {},
   "source": [
    "pagina de Numpy? esta [aca](https://numpy.org/)."
   ]
  },
  {
   "cell_type": "markdown",
   "metadata": {},
   "source": [
    "### Listas"
   ]
  },
  {
   "cell_type": "code",
   "execution_count": null,
   "metadata": {},
   "outputs": [],
   "source": [
    "l = [0,1,2,3,4,5,6,7,8,9]\n",
    "l"
   ]
  },
  {
   "cell_type": "code",
   "execution_count": null,
   "metadata": {
    "colab": {
     "base_uri": "https://localhost:8080/"
    },
    "executionInfo": {
     "elapsed": 5,
     "status": "ok",
     "timestamp": 1640464416184,
     "user": {
      "displayName": "david francisco bustos usta",
      "photoUrl": "https://lh3.googleusercontent.com/a-/AOh14Gi4e7mWJaOA2l-1KUn-omyigRGSrm83lG6XLzS5=s64",
      "userId": "04741209928239412574"
     },
     "user_tz": 300
    },
    "id": "FGpd_WTSSgVf",
    "outputId": "32ed941b-49d3-4641-d15f-d91b468c94d5"
   },
   "outputs": [],
   "source": [
    "L = list(range(10))\n",
    "L"
   ]
  },
  {
   "cell_type": "markdown",
   "metadata": {},
   "source": [
    "### Tuplas"
   ]
  },
  {
   "cell_type": "code",
   "execution_count": null,
   "metadata": {},
   "outputs": [],
   "source": [
    "t = (1,2,3,4,5,6,7,8,9)\n",
    "t"
   ]
  },
  {
   "cell_type": "code",
   "execution_count": null,
   "metadata": {
    "colab": {
     "base_uri": "https://localhost:8080/"
    },
    "executionInfo": {
     "elapsed": 533,
     "status": "ok",
     "timestamp": 1640464421291,
     "user": {
      "displayName": "david francisco bustos usta",
      "photoUrl": "https://lh3.googleusercontent.com/a-/AOh14Gi4e7mWJaOA2l-1KUn-omyigRGSrm83lG6XLzS5=s64",
      "userId": "04741209928239412574"
     },
     "user_tz": 300
    },
    "id": "UY4mn9XSTGOX",
    "outputId": "f5fe5f46-1996-44df-d66a-eaa53ccfef2f"
   },
   "outputs": [],
   "source": [
    "T = tuple(range(10))\n",
    "T"
   ]
  },
  {
   "cell_type": "markdown",
   "metadata": {},
   "source": [
    "----"
   ]
  },
  {
   "cell_type": "markdown",
   "metadata": {},
   "source": [
    "### Numpy"
   ]
  },
  {
   "cell_type": "code",
   "execution_count": null,
   "metadata": {},
   "outputs": [],
   "source": [
    "# otra forma de saber\n",
    "\n",
    "import numpy as np\n",
    "np.__version__"
   ]
  },
  {
   "cell_type": "markdown",
   "metadata": {},
   "source": [
    "---"
   ]
  },
  {
   "cell_type": "markdown",
   "metadata": {},
   "source": [
    "### Creacion de un array."
   ]
  },
  {
   "cell_type": "code",
   "execution_count": null,
   "metadata": {},
   "outputs": [],
   "source": [
    "# Numpy es optimizado para numeros...pero que pasa si guardo cosas que NO son numeros?\n",
    "\n",
    "mi_arreglo = np.array([1, 'Hola', 3.14, True])\n",
    "\n",
    "print(type(mi_arreglo))\n",
    "mi_arreglo"
   ]
  },
  {
   "cell_type": "markdown",
   "metadata": {},
   "source": [
    "el mensaje de dtype='<U32' me dice que almacena datos en formato Unicode (cadenas de caracteres) con una longitud máxima de 32 caracteres, es decir que no podriamos hacer operaciones matematicas mas alla de que sea un array."
   ]
  },
  {
   "cell_type": "code",
   "execution_count": null,
   "metadata": {
    "colab": {
     "base_uri": "https://localhost:8080/"
    },
    "executionInfo": {
     "elapsed": 5,
     "status": "ok",
     "timestamp": 1640464438825,
     "user": {
      "displayName": "david francisco bustos usta",
      "photoUrl": "https://lh3.googleusercontent.com/a-/AOh14Gi4e7mWJaOA2l-1KUn-omyigRGSrm83lG6XLzS5=s64",
      "userId": "04741209928239412574"
     },
     "user_tz": 300
    },
    "id": "dXLG4hMNTJH7",
    "outputId": "92e037eb-8dc5-4c86-bc22-beabcff3afc8"
   },
   "outputs": [],
   "source": [
    "# ahora si...Numpy con elementos para lo que fue optimizado...NUMEROS!\n",
    "\n",
    "import numpy as np\n",
    "Npa = np.array(range(10))\n",
    "\n",
    "print(type(Npa))\n",
    "Npa"
   ]
  },
  {
   "cell_type": "markdown",
   "metadata": {},
   "source": [
    "En este caso no tenemos un mensaje de \"dtype\" ya que los elementos que componen mi arreglo son numeros!"
   ]
  },
  {
   "cell_type": "code",
   "execution_count": null,
   "metadata": {
    "colab": {
     "base_uri": "https://localhost:8080/"
    },
    "executionInfo": {
     "elapsed": 410,
     "status": "ok",
     "timestamp": 1640464450964,
     "user": {
      "displayName": "david francisco bustos usta",
      "photoUrl": "https://lh3.googleusercontent.com/a-/AOh14Gi4e7mWJaOA2l-1KUn-omyigRGSrm83lG6XLzS5=s64",
      "userId": "04741209928239412574"
     },
     "user_tz": 300
    },
    "id": "-QBnIys9TNk8",
    "outputId": "c75f8bf1-39b2-44d7-cde3-07482e975f4e"
   },
   "outputs": [],
   "source": [
    "Np_cero = np.zeros(10)\n",
    "Np_cero"
   ]
  },
  {
   "cell_type": "code",
   "execution_count": null,
   "metadata": {
    "colab": {
     "base_uri": "https://localhost:8080/"
    },
    "executionInfo": {
     "elapsed": 530,
     "status": "ok",
     "timestamp": 1640464465097,
     "user": {
      "displayName": "david francisco bustos usta",
      "photoUrl": "https://lh3.googleusercontent.com/a-/AOh14Gi4e7mWJaOA2l-1KUn-omyigRGSrm83lG6XLzS5=s64",
      "userId": "04741209928239412574"
     },
     "user_tz": 300
    },
    "id": "n4joSFqVTRL2",
    "outputId": "b0a8e5aa-1250-407a-ecc7-30bca128a375"
   },
   "outputs": [],
   "source": [
    "Np_cero_int = np.zeros(10,dtype = int)\n",
    "Np_cero_int"
   ]
  },
  {
   "cell_type": "code",
   "execution_count": null,
   "metadata": {
    "colab": {
     "base_uri": "https://localhost:8080/"
    },
    "executionInfo": {
     "elapsed": 416,
     "status": "ok",
     "timestamp": 1640464473739,
     "user": {
      "displayName": "david francisco bustos usta",
      "photoUrl": "https://lh3.googleusercontent.com/a-/AOh14Gi4e7mWJaOA2l-1KUn-omyigRGSrm83lG6XLzS5=s64",
      "userId": "04741209928239412574"
     },
     "user_tz": 300
    },
    "id": "ZRXUyWmITUEW",
    "outputId": "6c3e41de-ec48-4c52-9d3b-2b725449d289"
   },
   "outputs": [],
   "source": [
    "Np_uno = np.ones(10)\n",
    "Np_uno"
   ]
  },
  {
   "cell_type": "code",
   "execution_count": null,
   "metadata": {
    "colab": {
     "base_uri": "https://localhost:8080/"
    },
    "executionInfo": {
     "elapsed": 578,
     "status": "ok",
     "timestamp": 1640464481281,
     "user": {
      "displayName": "david francisco bustos usta",
      "photoUrl": "https://lh3.googleusercontent.com/a-/AOh14Gi4e7mWJaOA2l-1KUn-omyigRGSrm83lG6XLzS5=s64",
      "userId": "04741209928239412574"
     },
     "user_tz": 300
    },
    "id": "IpBOWjtSTWCf",
    "outputId": "4ba99ff9-bf41-4a5a-d07b-1a128dd70cec"
   },
   "outputs": [],
   "source": [
    "Np_relleno = np.full(10,256)\n",
    "Np_relleno"
   ]
  },
  {
   "cell_type": "code",
   "execution_count": null,
   "metadata": {
    "colab": {
     "base_uri": "https://localhost:8080/"
    },
    "executionInfo": {
     "elapsed": 413,
     "status": "ok",
     "timestamp": 1640464495619,
     "user": {
      "displayName": "david francisco bustos usta",
      "photoUrl": "https://lh3.googleusercontent.com/a-/AOh14Gi4e7mWJaOA2l-1KUn-omyigRGSrm83lG6XLzS5=s64",
      "userId": "04741209928239412574"
     },
     "user_tz": 300
    },
    "id": "k3cgfzbtTX4L",
    "outputId": "da00adb3-5b77-4e76-abf0-bf7e6997b343"
   },
   "outputs": [],
   "source": [
    "Np_rango = np.arange(10)\n",
    "Np_rango"
   ]
  },
  {
   "cell_type": "markdown",
   "metadata": {},
   "source": [
    "Numeros aleatorios en Numpy (nos puede servir para crear data de practica!)"
   ]
  },
  {
   "cell_type": "markdown",
   "metadata": {},
   "source": [
    "*   **np.random.rand()**: Genera números aleatorios en el intervalo [0, 1) con una distribución uniforme.\n",
    "\n",
    "*   **np.random.randint()**: Genera números enteros aleatorios dentro de un rango específico.\n",
    "\n",
    "*   **np.random.randn()**: Genera números aleatorios con una distribución normal (gaussiana) con media 0 y desviación estándar 1.\n",
    "\n",
    "*   **np.random.choice()**: Permite seleccionar elementos aleatorios de un arreglo dado.\n",
    "\n",
    "*   **np.random.shuffle()**: Permite mezclar (barajar) los elementos de un arreglo."
   ]
  },
  {
   "cell_type": "code",
   "execution_count": null,
   "metadata": {
    "colab": {
     "base_uri": "https://localhost:8080/"
    },
    "executionInfo": {
     "elapsed": 625,
     "status": "ok",
     "timestamp": 1640464509543,
     "user": {
      "displayName": "david francisco bustos usta",
      "photoUrl": "https://lh3.googleusercontent.com/a-/AOh14Gi4e7mWJaOA2l-1KUn-omyigRGSrm83lG6XLzS5=s64",
      "userId": "04741209928239412574"
     },
     "user_tz": 300
    },
    "id": "vFI_hk_tTbRl",
    "outputId": "64c4cdda-343b-475f-e208-1f846c8d6d1b"
   },
   "outputs": [],
   "source": [
    "Np_random_dimensiones = np.random.randint(14, size=(3, 4))\n",
    "Np_random_dimensiones"
   ]
  },
  {
   "cell_type": "markdown",
   "metadata": {},
   "source": [
    "---"
   ]
  },
  {
   "cell_type": "markdown",
   "metadata": {},
   "source": [
    "### Verificando el tipo de dato de un array"
   ]
  },
  {
   "cell_type": "code",
   "execution_count": null,
   "metadata": {
    "colab": {
     "base_uri": "https://localhost:8080/"
    },
    "executionInfo": {
     "elapsed": 6,
     "status": "ok",
     "timestamp": 1640464543950,
     "user": {
      "displayName": "david francisco bustos usta",
      "photoUrl": "https://lh3.googleusercontent.com/a-/AOh14Gi4e7mWJaOA2l-1KUn-omyigRGSrm83lG6XLzS5=s64",
      "userId": "04741209928239412574"
     },
     "user_tz": 300
    },
    "id": "ocX4vPBvTe02",
    "outputId": "f6469f05-ad62-4958-9fbd-d9ccc5b764a6"
   },
   "outputs": [],
   "source": [
    "# Verificando el tipo de dato de array\n",
    "\n",
    "arr = np.array([1, 2, 3, 4])\n",
    "print(arr.dtype)"
   ]
  },
  {
   "cell_type": "code",
   "execution_count": null,
   "metadata": {},
   "outputs": [],
   "source": [
    "# no confundir con \"type\" ya que en este caso me dice que tipo de elemento es la variable\n",
    "\n",
    "print(type(arr))\n",
    "print(arr.dtype) "
   ]
  },
  {
   "cell_type": "code",
   "execution_count": null,
   "metadata": {
    "colab": {
     "base_uri": "https://localhost:8080/"
    },
    "executionInfo": {
     "elapsed": 488,
     "status": "ok",
     "timestamp": 1640464698960,
     "user": {
      "displayName": "david francisco bustos usta",
      "photoUrl": "https://lh3.googleusercontent.com/a-/AOh14Gi4e7mWJaOA2l-1KUn-omyigRGSrm83lG6XLzS5=s64",
      "userId": "04741209928239412574"
     },
     "user_tz": 300
    },
    "id": "SugzRX2MULfo",
    "outputId": "fe71d578-d67b-47c5-f9a0-b246c32bb6a5"
   },
   "outputs": [],
   "source": [
    "arr = np.array(['apple', 'banana', 'cherry'])\n",
    "print(arr.dtype) "
   ]
  },
  {
   "cell_type": "code",
   "execution_count": null,
   "metadata": {
    "colab": {
     "base_uri": "https://localhost:8080/"
    },
    "executionInfo": {
     "elapsed": 12,
     "status": "ok",
     "timestamp": 1640464827966,
     "user": {
      "displayName": "david francisco bustos usta",
      "photoUrl": "https://lh3.googleusercontent.com/a-/AOh14Gi4e7mWJaOA2l-1KUn-omyigRGSrm83lG6XLzS5=s64",
      "userId": "04741209928239412574"
     },
     "user_tz": 300
    },
    "id": "MeEB6snIUrry",
    "outputId": "7ec9e3e7-8ee5-4653-8e06-e024d8644aa1"
   },
   "outputs": [],
   "source": [
    "arr = np.array([1, 2, 3, 4], dtype='S')\n",
    "\n",
    "print(arr)\n",
    "print(arr.dtype)"
   ]
  },
  {
   "cell_type": "code",
   "execution_count": null,
   "metadata": {
    "colab": {
     "base_uri": "https://localhost:8080/"
    },
    "executionInfo": {
     "elapsed": 7,
     "status": "ok",
     "timestamp": 1640464905308,
     "user": {
      "displayName": "david francisco bustos usta",
      "photoUrl": "https://lh3.googleusercontent.com/a-/AOh14Gi4e7mWJaOA2l-1KUn-omyigRGSrm83lG6XLzS5=s64",
      "userId": "04741209928239412574"
     },
     "user_tz": 300
    },
    "id": "R8pKx9tvU9Q8",
    "outputId": "1390307e-0647-46ed-ae74-e6bae120d2df"
   },
   "outputs": [],
   "source": [
    "arr = np.array([1, 2, 3, 4], dtype='i8') \n",
    "print(arr)\n",
    "print(arr.dtype) "
   ]
  },
  {
   "cell_type": "markdown",
   "metadata": {},
   "source": [
    "Los numeros despues de las letras en \"dtype\" indica para representar un número de punto flotante\n",
    "pudiendo ser de 16 a 64 bits de precision, pudiendo tener los valores de 2, 4 y 8."
   ]
  },
  {
   "cell_type": "markdown",
   "metadata": {},
   "source": [
    "### Cambiando el tipo de dato de un array."
   ]
  },
  {
   "cell_type": "code",
   "execution_count": null,
   "metadata": {
    "colab": {
     "base_uri": "https://localhost:8080/"
    },
    "executionInfo": {
     "elapsed": 9,
     "status": "ok",
     "timestamp": 1640465083701,
     "user": {
      "displayName": "david francisco bustos usta",
      "photoUrl": "https://lh3.googleusercontent.com/a-/AOh14Gi4e7mWJaOA2l-1KUn-omyigRGSrm83lG6XLzS5=s64",
      "userId": "04741209928239412574"
     },
     "user_tz": 300
    },
    "id": "f2twKO9uVp31",
    "outputId": "e1208f15-7bc3-40e1-df66-f56224c73f0c"
   },
   "outputs": [],
   "source": [
    "arr = np.array([1.1, 2.1, 3.1])\n",
    "newarr = arr.astype('i')\n",
    "\n",
    "print(newarr)\n",
    "print(newarr.dtype)"
   ]
  },
  {
   "cell_type": "code",
   "execution_count": null,
   "metadata": {
    "colab": {
     "base_uri": "https://localhost:8080/"
    },
    "executionInfo": {
     "elapsed": 13,
     "status": "ok",
     "timestamp": 1640465187965,
     "user": {
      "displayName": "david francisco bustos usta",
      "photoUrl": "https://lh3.googleusercontent.com/a-/AOh14Gi4e7mWJaOA2l-1KUn-omyigRGSrm83lG6XLzS5=s64",
      "userId": "04741209928239412574"
     },
     "user_tz": 300
    },
    "id": "dif0JLepWDo8",
    "outputId": "3b3a2bf6-e7ca-4f12-af04-b1b67d9ad64c"
   },
   "outputs": [],
   "source": [
    "arr = np.array([1, 0, 5, 0, 34]) # Cualquier valor diferente de cero sera True\n",
    "newarr = arr.astype(bool)\n",
    "\n",
    "print(newarr)\n",
    "print(newarr.dtype) "
   ]
  },
  {
   "cell_type": "markdown",
   "metadata": {},
   "source": [
    "---"
   ]
  },
  {
   "cell_type": "markdown",
   "metadata": {},
   "source": [
    "### Atributos de un array:"
   ]
  },
  {
   "cell_type": "markdown",
   "metadata": {},
   "source": [
    "### Cantidad de dimensiones"
   ]
  },
  {
   "cell_type": "code",
   "execution_count": null,
   "metadata": {
    "colab": {
     "base_uri": "https://localhost:8080/"
    },
    "executionInfo": {
     "elapsed": 6,
     "status": "ok",
     "timestamp": 1640465386507,
     "user": {
      "displayName": "david francisco bustos usta",
      "photoUrl": "https://lh3.googleusercontent.com/a-/AOh14Gi4e7mWJaOA2l-1KUn-omyigRGSrm83lG6XLzS5=s64",
      "userId": "04741209928239412574"
     },
     "user_tz": 300
    },
    "id": "2uerdhjVWzM5",
    "outputId": "e9e903de-9fb3-404c-d2a8-4e70c259bc8d"
   },
   "outputs": [],
   "source": [
    "Np_cero.ndim"
   ]
  },
  {
   "cell_type": "code",
   "execution_count": null,
   "metadata": {
    "colab": {
     "base_uri": "https://localhost:8080/"
    },
    "executionInfo": {
     "elapsed": 7,
     "status": "ok",
     "timestamp": 1640465415326,
     "user": {
      "displayName": "david francisco bustos usta",
      "photoUrl": "https://lh3.googleusercontent.com/a-/AOh14Gi4e7mWJaOA2l-1KUn-omyigRGSrm83lG6XLzS5=s64",
      "userId": "04741209928239412574"
     },
     "user_tz": 300
    },
    "id": "2YYIjFpOW1EO",
    "outputId": "e1286696-8613-44f7-a8f2-f1a2c3ac4848"
   },
   "outputs": [],
   "source": [
    "Np_random_dimensiones.ndim"
   ]
  },
  {
   "cell_type": "markdown",
   "metadata": {},
   "source": [
    "### que forma tiene mi arreglo?"
   ]
  },
  {
   "cell_type": "code",
   "execution_count": null,
   "metadata": {
    "colab": {
     "base_uri": "https://localhost:8080/"
    },
    "executionInfo": {
     "elapsed": 7,
     "status": "ok",
     "timestamp": 1640465433810,
     "user": {
      "displayName": "david francisco bustos usta",
      "photoUrl": "https://lh3.googleusercontent.com/a-/AOh14Gi4e7mWJaOA2l-1KUn-omyigRGSrm83lG6XLzS5=s64",
      "userId": "04741209928239412574"
     },
     "user_tz": 300
    },
    "id": "164VOCNCW3mq",
    "outputId": "ba94ed68-6410-4371-c86c-75f2db7b7872"
   },
   "outputs": [],
   "source": [
    "Np_random_dimensiones.shape"
   ]
  },
  {
   "cell_type": "markdown",
   "metadata": {},
   "source": [
    "### cauntos elementos tiene mi arreglo?"
   ]
  },
  {
   "cell_type": "code",
   "execution_count": null,
   "metadata": {
    "colab": {
     "base_uri": "https://localhost:8080/"
    },
    "executionInfo": {
     "elapsed": 5,
     "status": "ok",
     "timestamp": 1640465453338,
     "user": {
      "displayName": "david francisco bustos usta",
      "photoUrl": "https://lh3.googleusercontent.com/a-/AOh14Gi4e7mWJaOA2l-1KUn-omyigRGSrm83lG6XLzS5=s64",
      "userId": "04741209928239412574"
     },
     "user_tz": 300
    },
    "id": "bwrf1ydEXAl6",
    "outputId": "9d3342c4-d883-4c83-ecc0-7d639b8ca34b"
   },
   "outputs": [],
   "source": [
    "Np_random_dimensiones.size"
   ]
  },
  {
   "cell_type": "markdown",
   "metadata": {},
   "source": [
    "### de que tipo es mi arreglo?"
   ]
  },
  {
   "cell_type": "code",
   "execution_count": null,
   "metadata": {
    "colab": {
     "base_uri": "https://localhost:8080/"
    },
    "executionInfo": {
     "elapsed": 6,
     "status": "ok",
     "timestamp": 1640465476207,
     "user": {
      "displayName": "david francisco bustos usta",
      "photoUrl": "https://lh3.googleusercontent.com/a-/AOh14Gi4e7mWJaOA2l-1KUn-omyigRGSrm83lG6XLzS5=s64",
      "userId": "04741209928239412574"
     },
     "user_tz": 300
    },
    "id": "Dv0UiqAQXH5j",
    "outputId": "31e7be00-4d48-4d9b-956f-7471fe9611db"
   },
   "outputs": [],
   "source": [
    "Np_cero.dtype"
   ]
  },
  {
   "cell_type": "code",
   "execution_count": null,
   "metadata": {
    "colab": {
     "base_uri": "https://localhost:8080/"
    },
    "executionInfo": {
     "elapsed": 9,
     "status": "ok",
     "timestamp": 1640465495680,
     "user": {
      "displayName": "david francisco bustos usta",
      "photoUrl": "https://lh3.googleusercontent.com/a-/AOh14Gi4e7mWJaOA2l-1KUn-omyigRGSrm83lG6XLzS5=s64",
      "userId": "04741209928239412574"
     },
     "user_tz": 300
    },
    "id": "DnESWMeyXOuu",
    "outputId": "14402312-d07a-4eca-ea76-6ee1751a4677"
   },
   "outputs": [],
   "source": [
    "Np_cero_int.dtype"
   ]
  },
  {
   "cell_type": "code",
   "execution_count": null,
   "metadata": {
    "colab": {
     "base_uri": "https://localhost:8080/"
    },
    "executionInfo": {
     "elapsed": 8,
     "status": "ok",
     "timestamp": 1640465515008,
     "user": {
      "displayName": "david francisco bustos usta",
      "photoUrl": "https://lh3.googleusercontent.com/a-/AOh14Gi4e7mWJaOA2l-1KUn-omyigRGSrm83lG6XLzS5=s64",
      "userId": "04741209928239412574"
     },
     "user_tz": 300
    },
    "id": "Kthccg5UXS3H",
    "outputId": "742cf1f5-82d6-4af9-eb67-d6f4d4cedb54"
   },
   "outputs": [],
   "source": [
    "Np_random_dimensiones.itemsize # para obtener el número de bytes ocupados por cada elemento del arreglo NumPy"
   ]
  },
  {
   "cell_type": "code",
   "execution_count": null,
   "metadata": {
    "colab": {
     "base_uri": "https://localhost:8080/"
    },
    "executionInfo": {
     "elapsed": 5,
     "status": "ok",
     "timestamp": 1640465525968,
     "user": {
      "displayName": "david francisco bustos usta",
      "photoUrl": "https://lh3.googleusercontent.com/a-/AOh14Gi4e7mWJaOA2l-1KUn-omyigRGSrm83lG6XLzS5=s64",
      "userId": "04741209928239412574"
     },
     "user_tz": 300
    },
    "id": "Rt7QLWByXWG8",
    "outputId": "309c55b0-aca0-46c6-940d-3b8c3d010a49"
   },
   "outputs": [],
   "source": [
    "Np_cero.nbytes # para obtener el número total de bytes ocupados por un arreglo NumPy"
   ]
  },
  {
   "cell_type": "code",
   "execution_count": null,
   "metadata": {
    "colab": {
     "base_uri": "https://localhost:8080/"
    },
    "executionInfo": {
     "elapsed": 4,
     "status": "ok",
     "timestamp": 1640465534363,
     "user": {
      "displayName": "david francisco bustos usta",
      "photoUrl": "https://lh3.googleusercontent.com/a-/AOh14Gi4e7mWJaOA2l-1KUn-omyigRGSrm83lG6XLzS5=s64",
      "userId": "04741209928239412574"
     },
     "user_tz": 300
    },
    "id": "0wNrrFu0XXA3",
    "outputId": "caae8162-2834-44cf-bf6b-1bbd1d23d2e4"
   },
   "outputs": [],
   "source": [
    "Np_cero_int.nbytes # para obtener el número total de bytes ocupados por un arreglo NumPy"
   ]
  },
  {
   "cell_type": "markdown",
   "metadata": {},
   "source": [
    "---"
   ]
  },
  {
   "cell_type": "markdown",
   "metadata": {},
   "source": [
    "### Ingresando a elementos de mi array."
   ]
  },
  {
   "cell_type": "code",
   "execution_count": null,
   "metadata": {
    "colab": {
     "base_uri": "https://localhost:8080/"
    },
    "executionInfo": {
     "elapsed": 432,
     "status": "ok",
     "timestamp": 1640465548682,
     "user": {
      "displayName": "david francisco bustos usta",
      "photoUrl": "https://lh3.googleusercontent.com/a-/AOh14Gi4e7mWJaOA2l-1KUn-omyigRGSrm83lG6XLzS5=s64",
      "userId": "04741209928239412574"
     },
     "user_tz": 300
    },
    "id": "7CmgXqgJXbwf",
    "outputId": "0dc27759-fd30-4035-e6ef-4134f67c11e8"
   },
   "outputs": [],
   "source": [
    "rango = range(1,11)\n",
    "Np_diez_numeros = np.array(rango)\n",
    "Np_diez_numeros"
   ]
  },
  {
   "cell_type": "code",
   "execution_count": null,
   "metadata": {
    "colab": {
     "base_uri": "https://localhost:8080/"
    },
    "executionInfo": {
     "elapsed": 9,
     "status": "ok",
     "timestamp": 1640465560574,
     "user": {
      "displayName": "david francisco bustos usta",
      "photoUrl": "https://lh3.googleusercontent.com/a-/AOh14Gi4e7mWJaOA2l-1KUn-omyigRGSrm83lG6XLzS5=s64",
      "userId": "04741209928239412574"
     },
     "user_tz": 300
    },
    "id": "LBeRM-srXeXp",
    "outputId": "8a4b0ac3-8990-418b-bf2f-7782f0008f8f"
   },
   "outputs": [],
   "source": [
    "Np_diez_numeros[0] # el numero hace referencia a la posicion en el array"
   ]
  },
  {
   "cell_type": "code",
   "execution_count": null,
   "metadata": {
    "colab": {
     "base_uri": "https://localhost:8080/"
    },
    "executionInfo": {
     "elapsed": 9,
     "status": "ok",
     "timestamp": 1640465572485,
     "user": {
      "displayName": "david francisco bustos usta",
      "photoUrl": "https://lh3.googleusercontent.com/a-/AOh14Gi4e7mWJaOA2l-1KUn-omyigRGSrm83lG6XLzS5=s64",
      "userId": "04741209928239412574"
     },
     "user_tz": 300
    },
    "id": "jUrO8syBXfMB",
    "outputId": "bb14a3f4-39d2-4455-e343-1d8116b47fa4"
   },
   "outputs": [],
   "source": [
    "Np_diez_numeros[4]"
   ]
  },
  {
   "cell_type": "code",
   "execution_count": null,
   "metadata": {
    "colab": {
     "base_uri": "https://localhost:8080/"
    },
    "executionInfo": {
     "elapsed": 6,
     "status": "ok",
     "timestamp": 1640465584933,
     "user": {
      "displayName": "david francisco bustos usta",
      "photoUrl": "https://lh3.googleusercontent.com/a-/AOh14Gi4e7mWJaOA2l-1KUn-omyigRGSrm83lG6XLzS5=s64",
      "userId": "04741209928239412574"
     },
     "user_tz": 300
    },
    "id": "MAzlqL-6XkmN",
    "outputId": "01d81324-25c3-4805-eb4c-3734b4a8121f"
   },
   "outputs": [],
   "source": [
    "Np_diez_numeros[-1] # el numero hace referencia a la posicion, pero comenzando desde el final, que el ultimo valor siempre es -1"
   ]
  },
  {
   "cell_type": "code",
   "execution_count": null,
   "metadata": {
    "colab": {
     "base_uri": "https://localhost:8080/"
    },
    "executionInfo": {
     "elapsed": 10,
     "status": "ok",
     "timestamp": 1640465588724,
     "user": {
      "displayName": "david francisco bustos usta",
      "photoUrl": "https://lh3.googleusercontent.com/a-/AOh14Gi4e7mWJaOA2l-1KUn-omyigRGSrm83lG6XLzS5=s64",
      "userId": "04741209928239412574"
     },
     "user_tz": 300
    },
    "id": "4tb_Q2dPXlOB",
    "outputId": "73b20ba8-ddc8-4be5-fbc0-d04feb9ef838"
   },
   "outputs": [],
   "source": [
    "Np_diez_numeros[-2]"
   ]
  },
  {
   "cell_type": "code",
   "execution_count": null,
   "metadata": {
    "colab": {
     "base_uri": "https://localhost:8080/"
    },
    "executionInfo": {
     "elapsed": 5,
     "status": "ok",
     "timestamp": 1640465597631,
     "user": {
      "displayName": "david francisco bustos usta",
      "photoUrl": "https://lh3.googleusercontent.com/a-/AOh14Gi4e7mWJaOA2l-1KUn-omyigRGSrm83lG6XLzS5=s64",
      "userId": "04741209928239412574"
     },
     "user_tz": 300
    },
    "id": "fjkuSXmfXnxV",
    "outputId": "d140430a-35c4-4fa7-a1ee-67aa6170a1d3"
   },
   "outputs": [],
   "source": [
    "Np_random_dimensiones"
   ]
  },
  {
   "cell_type": "code",
   "execution_count": null,
   "metadata": {
    "colab": {
     "base_uri": "https://localhost:8080/"
    },
    "executionInfo": {
     "elapsed": 8,
     "status": "ok",
     "timestamp": 1640465607188,
     "user": {
      "displayName": "david francisco bustos usta",
      "photoUrl": "https://lh3.googleusercontent.com/a-/AOh14Gi4e7mWJaOA2l-1KUn-omyigRGSrm83lG6XLzS5=s64",
      "userId": "04741209928239412574"
     },
     "user_tz": 300
    },
    "id": "uIFq9OxDXoeY",
    "outputId": "dcb307f3-3143-4fc3-b055-4bb401bcf6a9"
   },
   "outputs": [],
   "source": [
    "Np_random_dimensiones[1, 2] # primer numero corresponde a la fila, segundo numero la posicion"
   ]
  },
  {
   "cell_type": "markdown",
   "metadata": {},
   "source": [
    "### Varios elementos de una array (slicing)"
   ]
  },
  {
   "cell_type": "code",
   "execution_count": null,
   "metadata": {},
   "outputs": [],
   "source": [
    "Np_diez_numeros"
   ]
  },
  {
   "cell_type": "code",
   "execution_count": null,
   "metadata": {
    "colab": {
     "base_uri": "https://localhost:8080/"
    },
    "executionInfo": {
     "elapsed": 11,
     "status": "ok",
     "timestamp": 1640465624689,
     "user": {
      "displayName": "david francisco bustos usta",
      "photoUrl": "https://lh3.googleusercontent.com/a-/AOh14Gi4e7mWJaOA2l-1KUn-omyigRGSrm83lG6XLzS5=s64",
      "userId": "04741209928239412574"
     },
     "user_tz": 300
    },
    "id": "PbPsxPuoXtpL",
    "outputId": "59a1ff87-4a31-4a89-c57b-6b45867f8e02"
   },
   "outputs": [],
   "source": [
    "Np_diez_numeros[:4] # indico desde el primero hasta la posicion 4 SIN INCLUIR LA POSCION 4!"
   ]
  },
  {
   "cell_type": "code",
   "execution_count": null,
   "metadata": {
    "colab": {
     "base_uri": "https://localhost:8080/"
    },
    "executionInfo": {
     "elapsed": 6,
     "status": "ok",
     "timestamp": 1640465632912,
     "user": {
      "displayName": "david francisco bustos usta",
      "photoUrl": "https://lh3.googleusercontent.com/a-/AOh14Gi4e7mWJaOA2l-1KUn-omyigRGSrm83lG6XLzS5=s64",
      "userId": "04741209928239412574"
     },
     "user_tz": 300
    },
    "id": "oVL7JUG3XvUV",
    "outputId": "381a6dc9-d94a-4b69-f256-c42e10c01ec3"
   },
   "outputs": [],
   "source": [
    "Np_diez_numeros[3:] # indico desde la 3ra posicion INCLUIVE hasta el final."
   ]
  },
  {
   "cell_type": "code",
   "execution_count": null,
   "metadata": {
    "colab": {
     "base_uri": "https://localhost:8080/"
    },
    "executionInfo": {
     "elapsed": 5,
     "status": "ok",
     "timestamp": 1640465639814,
     "user": {
      "displayName": "david francisco bustos usta",
      "photoUrl": "https://lh3.googleusercontent.com/a-/AOh14Gi4e7mWJaOA2l-1KUn-omyigRGSrm83lG6XLzS5=s64",
      "userId": "04741209928239412574"
     },
     "user_tz": 300
    },
    "id": "u_CQy0IeXw7V",
    "outputId": "3f8355e2-2830-4896-a3d4-a37ce62e5d2c"
   },
   "outputs": [],
   "source": [
    "Np_diez_numeros[4:7] # indico desde la 4ta posicion INCLUIVE hasta la 7ma NO INCLUSIVE."
   ]
  },
  {
   "cell_type": "code",
   "execution_count": null,
   "metadata": {
    "colab": {
     "base_uri": "https://localhost:8080/"
    },
    "executionInfo": {
     "elapsed": 5,
     "status": "ok",
     "timestamp": 1640465647262,
     "user": {
      "displayName": "david francisco bustos usta",
      "photoUrl": "https://lh3.googleusercontent.com/a-/AOh14Gi4e7mWJaOA2l-1KUn-omyigRGSrm83lG6XLzS5=s64",
      "userId": "04741209928239412574"
     },
     "user_tz": 300
    },
    "id": "sYFJaavsXyjt",
    "outputId": "07fd5416-3a61-4cec-83a4-4109d0e7a198"
   },
   "outputs": [],
   "source": [
    "Np_diez_numeros[::2] # el :: indicara los \"saltos\" en este caso de 2 en 2"
   ]
  },
  {
   "cell_type": "code",
   "execution_count": null,
   "metadata": {
    "colab": {
     "base_uri": "https://localhost:8080/"
    },
    "executionInfo": {
     "elapsed": 12,
     "status": "ok",
     "timestamp": 1640465655205,
     "user": {
      "displayName": "david francisco bustos usta",
      "photoUrl": "https://lh3.googleusercontent.com/a-/AOh14Gi4e7mWJaOA2l-1KUn-omyigRGSrm83lG6XLzS5=s64",
      "userId": "04741209928239412574"
     },
     "user_tz": 300
    },
    "id": "Y46_w5kmX0bl",
    "outputId": "5975a8bf-d127-4dc2-95b2-34cb289719d7"
   },
   "outputs": [],
   "source": [
    "Np_diez_numeros[::-2] # el :: indicara los \"saltos\" en este caso de 2 en 2 PERO COMO ES NEGATIVO, COMENZARA DESDE EL FINAL."
   ]
  },
  {
   "cell_type": "code",
   "execution_count": null,
   "metadata": {},
   "outputs": [],
   "source": [
    "Np_random_dimensiones"
   ]
  },
  {
   "cell_type": "code",
   "execution_count": null,
   "metadata": {
    "colab": {
     "base_uri": "https://localhost:8080/"
    },
    "executionInfo": {
     "elapsed": 11,
     "status": "ok",
     "timestamp": 1640465664573,
     "user": {
      "displayName": "david francisco bustos usta",
      "photoUrl": "https://lh3.googleusercontent.com/a-/AOh14Gi4e7mWJaOA2l-1KUn-omyigRGSrm83lG6XLzS5=s64",
      "userId": "04741209928239412574"
     },
     "user_tz": 300
    },
    "id": "AzBGBDIxX2XD",
    "outputId": "fcd2cdb9-18e7-4f9f-f3c6-72bb385733cb"
   },
   "outputs": [],
   "source": [
    "Np_random_dimensiones[2,] # tercera fila....todas las columnas"
   ]
  },
  {
   "cell_type": "code",
   "execution_count": null,
   "metadata": {
    "colab": {
     "base_uri": "https://localhost:8080/"
    },
    "executionInfo": {
     "elapsed": 6,
     "status": "ok",
     "timestamp": 1640465671877,
     "user": {
      "displayName": "david francisco bustos usta",
      "photoUrl": "https://lh3.googleusercontent.com/a-/AOh14Gi4e7mWJaOA2l-1KUn-omyigRGSrm83lG6XLzS5=s64",
      "userId": "04741209928239412574"
     },
     "user_tz": 300
    },
    "id": "yZo63EOjX4u8",
    "outputId": "ef5a1e0e-3422-4127-995a-4795ffdd02ba"
   },
   "outputs": [],
   "source": [
    "Np_random_dimensiones[:2, :2] # primeras dos filas, primeras dos columnas"
   ]
  },
  {
   "cell_type": "code",
   "execution_count": null,
   "metadata": {
    "colab": {
     "base_uri": "https://localhost:8080/"
    },
    "executionInfo": {
     "elapsed": 4,
     "status": "ok",
     "timestamp": 1640465680373,
     "user": {
      "displayName": "david francisco bustos usta",
      "photoUrl": "https://lh3.googleusercontent.com/a-/AOh14Gi4e7mWJaOA2l-1KUn-omyigRGSrm83lG6XLzS5=s64",
      "userId": "04741209928239412574"
     },
     "user_tz": 300
    },
    "id": "1C0PH-jiX6X-",
    "outputId": "0f2c0538-9b39-45c9-90e1-483ac8d56498"
   },
   "outputs": [],
   "source": [
    "Np_random_dimensiones[2, 3] # tercera fila, cuarta columna"
   ]
  },
  {
   "cell_type": "markdown",
   "metadata": {},
   "source": [
    "---"
   ]
  },
  {
   "cell_type": "markdown",
   "metadata": {},
   "source": [
    "### Reshape...reforma!"
   ]
  },
  {
   "cell_type": "code",
   "execution_count": null,
   "metadata": {},
   "outputs": [],
   "source": [
    "array = np.arange(1,65)\n",
    "\n",
    "print(array.ndim)\n",
    "print(array.shape)\n",
    "print(array)"
   ]
  },
  {
   "cell_type": "code",
   "execution_count": null,
   "metadata": {
    "colab": {
     "base_uri": "https://localhost:8080/"
    },
    "executionInfo": {
     "elapsed": 494,
     "status": "ok",
     "timestamp": 1640465791608,
     "user": {
      "displayName": "david francisco bustos usta",
      "photoUrl": "https://lh3.googleusercontent.com/a-/AOh14Gi4e7mWJaOA2l-1KUn-omyigRGSrm83lG6XLzS5=s64",
      "userId": "04741209928239412574"
     },
     "user_tz": 300
    },
    "id": "TcwAIEBfX8aH",
    "outputId": "0d224768-d74e-4dd8-fb8d-fae34f003395"
   },
   "outputs": [],
   "source": [
    "Ajedrez_64 = np.arange(1,65).reshape(8,8) # reshape me permite \"dar forma\" a mi array.\n",
    "\n",
    "print(Ajedrez_64)\n",
    "print(\"+-+-+-+-+-+-+-+-+-+-+-+\") # un bonito separador made in nacho!\n",
    "print(Ajedrez_64.ndim)"
   ]
  },
  {
   "cell_type": "code",
   "execution_count": null,
   "metadata": {},
   "outputs": [],
   "source": [
    "Ajedrez_64.shape"
   ]
  },
  {
   "cell_type": "markdown",
   "metadata": {},
   "source": [
    "### Concatenacion."
   ]
  },
  {
   "cell_type": "markdown",
   "metadata": {},
   "source": [
    "Basicamente lo que hacemos es \"juntar\" nuestros arreglo de alguna forma especifica."
   ]
  },
  {
   "cell_type": "code",
   "execution_count": null,
   "metadata": {},
   "outputs": [],
   "source": [
    "Array_1 = np.random.randint(10, size=5)\n",
    "print(Array_1)\n",
    "\n",
    "Array_2 = np.random.randint(10, size=5)\n",
    "print(Array_2)"
   ]
  },
  {
   "cell_type": "code",
   "execution_count": null,
   "metadata": {
    "colab": {
     "base_uri": "https://localhost:8080/"
    },
    "executionInfo": {
     "elapsed": 8,
     "status": "ok",
     "timestamp": 1640465813602,
     "user": {
      "displayName": "david francisco bustos usta",
      "photoUrl": "https://lh3.googleusercontent.com/a-/AOh14Gi4e7mWJaOA2l-1KUn-omyigRGSrm83lG6XLzS5=s64",
      "userId": "04741209928239412574"
     },
     "user_tz": 300
    },
    "id": "_XwMrHx-YX4M",
    "outputId": "00f0d087-feb6-4e33-b304-3dc9fdd2d80e"
   },
   "outputs": [],
   "source": [
    "Arrays_concatenados = np.concatenate([Array_1, Array_2])\n",
    "print(Arrays_concatenados)"
   ]
  },
  {
   "cell_type": "markdown",
   "metadata": {},
   "source": [
    "Bien, pero no es la unica forma....ya que puede ser vertical como horizontal..lo vemos con una matriz?"
   ]
  },
  {
   "cell_type": "code",
   "execution_count": null,
   "metadata": {
    "colab": {
     "base_uri": "https://localhost:8080/"
    },
    "executionInfo": {
     "elapsed": 9,
     "status": "ok",
     "timestamp": 1640465826175,
     "user": {
      "displayName": "david francisco bustos usta",
      "photoUrl": "https://lh3.googleusercontent.com/a-/AOh14Gi4e7mWJaOA2l-1KUn-omyigRGSrm83lG6XLzS5=s64",
      "userId": "04741209928239412574"
     },
     "user_tz": 300
    },
    "id": "NG0JUK2XYfn3",
    "outputId": "85f872bc-0506-4b59-a187-5a5356b45f9b"
   },
   "outputs": [],
   "source": [
    "Array_extra = np.array([[10],[20]])\n",
    "Array_extra"
   ]
  },
  {
   "cell_type": "code",
   "execution_count": null,
   "metadata": {},
   "outputs": [],
   "source": [
    "Array_extra.shape"
   ]
  },
  {
   "cell_type": "markdown",
   "metadata": {},
   "source": [
    " De manera vertcial..."
   ]
  },
  {
   "cell_type": "code",
   "execution_count": null,
   "metadata": {
    "colab": {
     "base_uri": "https://localhost:8080/"
    },
    "executionInfo": {
     "elapsed": 8,
     "status": "ok",
     "timestamp": 1640465838572,
     "user": {
      "displayName": "david francisco bustos usta",
      "photoUrl": "https://lh3.googleusercontent.com/a-/AOh14Gi4e7mWJaOA2l-1KUn-omyigRGSrm83lG6XLzS5=s64",
      "userId": "04741209928239412574"
     },
     "user_tz": 300
    },
    "id": "jHVn-GpvYie6",
    "outputId": "6c179b11-176d-4262-c701-6f9482bbf164"
   },
   "outputs": [],
   "source": [
    "Array_apilados_v = np.vstack([Array_extra, Array_extra])\n",
    "Array_apilados_v"
   ]
  },
  {
   "cell_type": "markdown",
   "metadata": {},
   "source": [
    "De manera horizontal..."
   ]
  },
  {
   "cell_type": "code",
   "execution_count": null,
   "metadata": {
    "colab": {
     "base_uri": "https://localhost:8080/"
    },
    "executionInfo": {
     "elapsed": 6,
     "status": "ok",
     "timestamp": 1640465847934,
     "user": {
      "displayName": "david francisco bustos usta",
      "photoUrl": "https://lh3.googleusercontent.com/a-/AOh14Gi4e7mWJaOA2l-1KUn-omyigRGSrm83lG6XLzS5=s64",
      "userId": "04741209928239412574"
     },
     "user_tz": 300
    },
    "id": "AxVfWSEbYjc4",
    "outputId": "1944ccff-a1fd-4b75-8f81-13c3bab2bc3e"
   },
   "outputs": [],
   "source": [
    "Array_apilados_h = np.hstack([Array_extra, Array_extra])\n",
    "Array_apilados_h"
   ]
  },
  {
   "cell_type": "markdown",
   "metadata": {},
   "source": [
    "No te gusta esta forma? podemos indicarles la dimension por la cual se puede concatenar!"
   ]
  },
  {
   "cell_type": "markdown",
   "metadata": {},
   "source": [
    "*   Con axis = 0 para unirlos de manera vertical."
   ]
  },
  {
   "cell_type": "code",
   "execution_count": null,
   "metadata": {},
   "outputs": [],
   "source": [
    "Array_apilados = np.concatenate([Array_extra, Array_extra],axis=0)\n",
    "print(Array_apilados)"
   ]
  },
  {
   "cell_type": "markdown",
   "metadata": {},
   "source": [
    "*   Con axis = 1 para unirlos de manera horizontal."
   ]
  },
  {
   "cell_type": "code",
   "execution_count": null,
   "metadata": {},
   "outputs": [],
   "source": [
    "Array_apilados = np.concatenate([Array_extra, Array_extra],axis=1)\n",
    "print(Array_apilados)"
   ]
  },
  {
   "cell_type": "markdown",
   "metadata": {},
   "source": [
    "Otro ejemplo, mas con un array de una dimension"
   ]
  },
  {
   "cell_type": "markdown",
   "metadata": {},
   "source": [
    "De manera vertical..."
   ]
  },
  {
   "cell_type": "code",
   "execution_count": null,
   "metadata": {},
   "outputs": [],
   "source": [
    "arr1 = np.array([1, 2, 3])\n",
    "arr2 = np.array([4, 5, 6])\n",
    "\n",
    "resultado = np.vstack((arr1, arr2))\n",
    "resultado"
   ]
  },
  {
   "cell_type": "markdown",
   "metadata": {},
   "source": [
    "De manera horizontal..."
   ]
  },
  {
   "cell_type": "code",
   "execution_count": null,
   "metadata": {},
   "outputs": [],
   "source": [
    "arr1 = np.array([1, 2, 3])\n",
    "arr2 = np.array([4, 5, 6])\n",
    "\n",
    "resultado = np.hstack((arr1, arr2))\n",
    "\n",
    "resultado"
   ]
  },
  {
   "cell_type": "markdown",
   "metadata": {},
   "source": [
    "---"
   ]
  },
  {
   "cell_type": "markdown",
   "metadata": {},
   "source": [
    "### Splitting o como dividir mis arreglos."
   ]
  },
  {
   "cell_type": "code",
   "execution_count": null,
   "metadata": {
    "colab": {
     "base_uri": "https://localhost:8080/"
    },
    "executionInfo": {
     "elapsed": 8,
     "status": "ok",
     "timestamp": 1640465862383,
     "user": {
      "displayName": "david francisco bustos usta",
      "photoUrl": "https://lh3.googleusercontent.com/a-/AOh14Gi4e7mWJaOA2l-1KUn-omyigRGSrm83lG6XLzS5=s64",
      "userId": "04741209928239412574"
     },
     "user_tz": 300
    },
    "id": "i4TRPe8aYntH",
    "outputId": "7669112b-5226-4598-b7d7-b7c67eaac075"
   },
   "outputs": [],
   "source": [
    "Arrays_concatenados"
   ]
  },
  {
   "cell_type": "code",
   "execution_count": null,
   "metadata": {
    "colab": {
     "base_uri": "https://localhost:8080/"
    },
    "executionInfo": {
     "elapsed": 9,
     "status": "ok",
     "timestamp": 1640465870259,
     "user": {
      "displayName": "david francisco bustos usta",
      "photoUrl": "https://lh3.googleusercontent.com/a-/AOh14Gi4e7mWJaOA2l-1KUn-omyigRGSrm83lG6XLzS5=s64",
      "userId": "04741209928239412574"
     },
     "user_tz": 300
    },
    "id": "YnW9NpmgYo-b",
    "outputId": "7ecb788e-7e5b-4740-dcca-226144a3117e"
   },
   "outputs": [],
   "source": [
    "Array_partido = np.split(Arrays_concatenados, [2]) # punto de \"corte\" a partir de la segunda posicion INCLUSIVE.\n",
    "Array_partido"
   ]
  },
  {
   "cell_type": "code",
   "execution_count": null,
   "metadata": {
    "colab": {
     "base_uri": "https://localhost:8080/"
    },
    "executionInfo": {
     "elapsed": 399,
     "status": "ok",
     "timestamp": 1640465879510,
     "user": {
      "displayName": "david francisco bustos usta",
      "photoUrl": "https://lh3.googleusercontent.com/a-/AOh14Gi4e7mWJaOA2l-1KUn-omyigRGSrm83lG6XLzS5=s64",
      "userId": "04741209928239412574"
     },
     "user_tz": 300
    },
    "id": "HjQMcR8gYq5D",
    "outputId": "f5752387-7db1-44bc-ad77-6c077ce982a2"
   },
   "outputs": [],
   "source": [
    "Array_partido_2 = np.split(Arrays_concatenados, [2, 8])\n",
    "Array_partido_2"
   ]
  },
  {
   "cell_type": "code",
   "execution_count": null,
   "metadata": {
    "colab": {
     "base_uri": "https://localhost:8080/"
    },
    "executionInfo": {
     "elapsed": 5,
     "status": "ok",
     "timestamp": 1640465890398,
     "user": {
      "displayName": "david francisco bustos usta",
      "photoUrl": "https://lh3.googleusercontent.com/a-/AOh14Gi4e7mWJaOA2l-1KUn-omyigRGSrm83lG6XLzS5=s64",
      "userId": "04741209928239412574"
     },
     "user_tz": 300
    },
    "id": "bLeML28qYtD-",
    "outputId": "e170c961-67c4-43e2-d700-50995deb686d"
   },
   "outputs": [],
   "source": [
    "# Ya dividi mi array...pero me gustaria guardar esos cortes....asignemosle variables a esos cortes!\n",
    "\n",
    "Parte_1, Parte_2, Parte_3 = Array_partido_2\n",
    "\n",
    "print(Parte_1)\n",
    "print(Parte_2)\n",
    "print(Parte_3)"
   ]
  },
  {
   "cell_type": "code",
   "execution_count": null,
   "metadata": {
    "colab": {
     "base_uri": "https://localhost:8080/"
    },
    "executionInfo": {
     "elapsed": 421,
     "status": "ok",
     "timestamp": 1640465909780,
     "user": {
      "displayName": "david francisco bustos usta",
      "photoUrl": "https://lh3.googleusercontent.com/a-/AOh14Gi4e7mWJaOA2l-1KUn-omyigRGSrm83lG6XLzS5=s64",
      "userId": "04741209928239412574"
     },
     "user_tz": 300
    },
    "id": "slLq5LngYxiw",
    "outputId": "5deefa01-6eca-49f8-9db4-d0f1e44026d9"
   },
   "outputs": [],
   "source": [
    "Ajedrez_partido_1 = np.hsplit(Ajedrez_64, [4])\n",
    "Ajedrez_partido_1"
   ]
  },
  {
   "cell_type": "code",
   "execution_count": null,
   "metadata": {
    "colab": {
     "base_uri": "https://localhost:8080/"
    },
    "executionInfo": {
     "elapsed": 445,
     "status": "ok",
     "timestamp": 1640465916792,
     "user": {
      "displayName": "david francisco bustos usta",
      "photoUrl": "https://lh3.googleusercontent.com/a-/AOh14Gi4e7mWJaOA2l-1KUn-omyigRGSrm83lG6XLzS5=s64",
      "userId": "04741209928239412574"
     },
     "user_tz": 300
    },
    "id": "oLOcWUZfY0Z3",
    "outputId": "f733b479-fcfc-4ad8-e9b9-68212fbe1899"
   },
   "outputs": [],
   "source": [
    "Ajedrez_partido_2 = np.vsplit(Ajedrez_64, [4])\n",
    "Ajedrez_partido_2"
   ]
  },
  {
   "cell_type": "markdown",
   "metadata": {},
   "source": [
    "----"
   ]
  },
  {
   "cell_type": "code",
   "execution_count": null,
   "metadata": {
    "colab": {
     "base_uri": "https://localhost:8080/"
    },
    "executionInfo": {
     "elapsed": 21,
     "status": "ok",
     "timestamp": 1640466025300,
     "user": {
      "displayName": "david francisco bustos usta",
      "photoUrl": "https://lh3.googleusercontent.com/a-/AOh14Gi4e7mWJaOA2l-1KUn-omyigRGSrm83lG6XLzS5=s64",
      "userId": "04741209928239412574"
     },
     "user_tz": 300
    },
    "id": "PlcWVmUeY2PQ",
    "outputId": "b5d1f691-979d-496f-d0ff-c5f346e6457b"
   },
   "outputs": [],
   "source": [
    "Array_aleatorio = np.random.randint(10, size=10)\n",
    "print(Array_aleatorio)\n",
    "\n",
    "suma = 0\n",
    "for i in Array_aleatorio:\n",
    "    suma += i\n",
    "promedio = suma / np.size(Array_aleatorio)\n",
    "print(promedio)"
   ]
  },
  {
   "cell_type": "code",
   "execution_count": null,
   "metadata": {
    "colab": {
     "base_uri": "https://localhost:8080/"
    },
    "executionInfo": {
     "elapsed": 13,
     "status": "ok",
     "timestamp": 1640466040269,
     "user": {
      "displayName": "david francisco bustos usta",
      "photoUrl": "https://lh3.googleusercontent.com/a-/AOh14Gi4e7mWJaOA2l-1KUn-omyigRGSrm83lG6XLzS5=s64",
      "userId": "04741209928239412574"
     },
     "user_tz": 300
    },
    "id": "7EBwFBHzZRuc",
    "outputId": "6ae64c96-cc7c-423c-c7d7-6ecdfb081afe"
   },
   "outputs": [],
   "source": [
    "Array_aleatorio.sum()"
   ]
  },
  {
   "cell_type": "code",
   "execution_count": null,
   "metadata": {
    "colab": {
     "base_uri": "https://localhost:8080/"
    },
    "executionInfo": {
     "elapsed": 7,
     "status": "ok",
     "timestamp": 1640466045576,
     "user": {
      "displayName": "david francisco bustos usta",
      "photoUrl": "https://lh3.googleusercontent.com/a-/AOh14Gi4e7mWJaOA2l-1KUn-omyigRGSrm83lG6XLzS5=s64",
      "userId": "04741209928239412574"
     },
     "user_tz": 300
    },
    "id": "NrtaclxkZUVY",
    "outputId": "14401b7c-3c8d-4862-c0bd-e533db599e5f"
   },
   "outputs": [],
   "source": [
    "Array_aleatorio.mean()"
   ]
  },
  {
   "cell_type": "code",
   "execution_count": null,
   "metadata": {
    "colab": {
     "base_uri": "https://localhost:8080/"
    },
    "executionInfo": {
     "elapsed": 4,
     "status": "ok",
     "timestamp": 1640466054537,
     "user": {
      "displayName": "david francisco bustos usta",
      "photoUrl": "https://lh3.googleusercontent.com/a-/AOh14Gi4e7mWJaOA2l-1KUn-omyigRGSrm83lG6XLzS5=s64",
      "userId": "04741209928239412574"
     },
     "user_tz": 300
    },
    "id": "XyuxZXj3ZVdO",
    "outputId": "782f3d50-25d7-4d56-c8ee-a1a9ac70ca8a"
   },
   "outputs": [],
   "source": [
    "Array_aleatorio.max()"
   ]
  },
  {
   "cell_type": "code",
   "execution_count": null,
   "metadata": {
    "colab": {
     "base_uri": "https://localhost:8080/"
    },
    "executionInfo": {
     "elapsed": 6,
     "status": "ok",
     "timestamp": 1640466066837,
     "user": {
      "displayName": "david francisco bustos usta",
      "photoUrl": "https://lh3.googleusercontent.com/a-/AOh14Gi4e7mWJaOA2l-1KUn-omyigRGSrm83lG6XLzS5=s64",
      "userId": "04741209928239412574"
     },
     "user_tz": 300
    },
    "id": "zUI5p4VMZXxb",
    "outputId": "895f04f8-3bfd-44f7-a07f-3339d1ec7c0c"
   },
   "outputs": [],
   "source": [
    "np.median(Array_aleatorio)"
   ]
  },
  {
   "cell_type": "code",
   "execution_count": null,
   "metadata": {
    "colab": {
     "base_uri": "https://localhost:8080/"
    },
    "executionInfo": {
     "elapsed": 8,
     "status": "ok",
     "timestamp": 1640466082021,
     "user": {
      "displayName": "david francisco bustos usta",
      "photoUrl": "https://lh3.googleusercontent.com/a-/AOh14Gi4e7mWJaOA2l-1KUn-omyigRGSrm83lG6XLzS5=s64",
      "userId": "04741209928239412574"
     },
     "user_tz": 300
    },
    "id": "9BBRiH2nZayv",
    "outputId": "cbee6942-27ca-46bb-dc56-e3545b873f06"
   },
   "outputs": [],
   "source": [
    "np.std(Array_aleatorio)"
   ]
  },
  {
   "cell_type": "code",
   "execution_count": null,
   "metadata": {
    "colab": {
     "base_uri": "https://localhost:8080/"
    },
    "executionInfo": {
     "elapsed": 4,
     "status": "ok",
     "timestamp": 1640466089136,
     "user": {
      "displayName": "david francisco bustos usta",
      "photoUrl": "https://lh3.googleusercontent.com/a-/AOh14Gi4e7mWJaOA2l-1KUn-omyigRGSrm83lG6XLzS5=s64",
      "userId": "04741209928239412574"
     },
     "user_tz": 300
    },
    "id": "ET4t0krHZels",
    "outputId": "854b114f-39f4-453c-b66b-52501a7e9412"
   },
   "outputs": [],
   "source": [
    "np.var(Array_aleatorio)"
   ]
  },
  {
   "cell_type": "code",
   "execution_count": null,
   "metadata": {
    "colab": {
     "base_uri": "https://localhost:8080/"
    },
    "executionInfo": {
     "elapsed": 5,
     "status": "ok",
     "timestamp": 1640466137719,
     "user": {
      "displayName": "david francisco bustos usta",
      "photoUrl": "https://lh3.googleusercontent.com/a-/AOh14Gi4e7mWJaOA2l-1KUn-omyigRGSrm83lG6XLzS5=s64",
      "userId": "04741209928239412574"
     },
     "user_tz": 300
    },
    "id": "JYC5AGFnZglX",
    "outputId": "8adf2db1-100c-4721-9c23-b15cc7ee7a58"
   },
   "outputs": [],
   "source": [
    "Array_1"
   ]
  },
  {
   "cell_type": "code",
   "execution_count": null,
   "metadata": {
    "colab": {
     "base_uri": "https://localhost:8080/"
    },
    "executionInfo": {
     "elapsed": 442,
     "status": "ok",
     "timestamp": 1640466146824,
     "user": {
      "displayName": "david francisco bustos usta",
      "photoUrl": "https://lh3.googleusercontent.com/a-/AOh14Gi4e7mWJaOA2l-1KUn-omyigRGSrm83lG6XLzS5=s64",
      "userId": "04741209928239412574"
     },
     "user_tz": 300
    },
    "id": "Elrzmh_lZtpz",
    "outputId": "e7d61c41-ad13-4576-ea82-9e3b275f684e"
   },
   "outputs": [],
   "source": [
    "Array_2"
   ]
  },
  {
   "cell_type": "code",
   "execution_count": null,
   "metadata": {
    "colab": {
     "base_uri": "https://localhost:8080/"
    },
    "executionInfo": {
     "elapsed": 6,
     "status": "ok",
     "timestamp": 1640466151877,
     "user": {
      "displayName": "david francisco bustos usta",
      "photoUrl": "https://lh3.googleusercontent.com/a-/AOh14Gi4e7mWJaOA2l-1KUn-omyigRGSrm83lG6XLzS5=s64",
      "userId": "04741209928239412574"
     },
     "user_tz": 300
    },
    "id": "fkmUZMlTZuUr",
    "outputId": "40e6b2b2-66e3-4dfb-ecc3-666009a1c790"
   },
   "outputs": [],
   "source": [
    "Array_1+5"
   ]
  },
  {
   "cell_type": "code",
   "execution_count": null,
   "metadata": {
    "colab": {
     "base_uri": "https://localhost:8080/"
    },
    "executionInfo": {
     "elapsed": 5,
     "status": "ok",
     "timestamp": 1640466158819,
     "user": {
      "displayName": "david francisco bustos usta",
      "photoUrl": "https://lh3.googleusercontent.com/a-/AOh14Gi4e7mWJaOA2l-1KUn-omyigRGSrm83lG6XLzS5=s64",
      "userId": "04741209928239412574"
     },
     "user_tz": 300
    },
    "id": "-hXwpuKHZvaC",
    "outputId": "b7b33e7a-aa2f-4402-b220-a950d3b83be4"
   },
   "outputs": [],
   "source": [
    "Array_1 + Array_2"
   ]
  },
  {
   "cell_type": "code",
   "execution_count": null,
   "metadata": {
    "colab": {
     "base_uri": "https://localhost:8080/"
    },
    "executionInfo": {
     "elapsed": 424,
     "status": "ok",
     "timestamp": 1640466165384,
     "user": {
      "displayName": "david francisco bustos usta",
      "photoUrl": "https://lh3.googleusercontent.com/a-/AOh14Gi4e7mWJaOA2l-1KUn-omyigRGSrm83lG6XLzS5=s64",
      "userId": "04741209928239412574"
     },
     "user_tz": 300
    },
    "id": "K3ZH_7hOZxQC",
    "outputId": "a00948f3-84ef-4cff-e691-c42e71689727"
   },
   "outputs": [],
   "source": [
    "np.add(Array_1, Array_2)"
   ]
  },
  {
   "cell_type": "code",
   "execution_count": null,
   "metadata": {},
   "outputs": [],
   "source": [
    "Array_1 = np.random.randint(10, size=(3, 3))\n",
    "Array_2 = np.random.randint(10, size=(3, 3))"
   ]
  },
  {
   "cell_type": "code",
   "execution_count": null,
   "metadata": {},
   "outputs": [],
   "source": [
    "print(Array_1)\n",
    "print(\"+-+-+-+-+-+-+-+-+-+-+-+\") # un bonito separador made in nacho!\n",
    "print(Array_2)"
   ]
  },
  {
   "cell_type": "code",
   "execution_count": null,
   "metadata": {
    "colab": {
     "base_uri": "https://localhost:8080/"
    },
    "executionInfo": {
     "elapsed": 6,
     "status": "ok",
     "timestamp": 1640466180002,
     "user": {
      "displayName": "david francisco bustos usta",
      "photoUrl": "https://lh3.googleusercontent.com/a-/AOh14Gi4e7mWJaOA2l-1KUn-omyigRGSrm83lG6XLzS5=s64",
      "userId": "04741209928239412574"
     },
     "user_tz": 300
    },
    "id": "TUomBkU7ZzAy",
    "outputId": "ca04335b-d4a5-4e0e-8ed3-2660a8e61c0c"
   },
   "outputs": [],
   "source": [
    "np.matmul(Array_1, Array_2)"
   ]
  }
 ],
 "metadata": {
  "colab": {
   "authorship_tag": "ABX9TyNYxhnG6TJ+u5RFthNz6/5d",
   "collapsed_sections": [],
   "name": "Clase_05.ipynb",
   "provenance": []
  },
  "kernelspec": {
   "display_name": "Python 3 (ipykernel)",
   "language": "python",
   "name": "python3"
  },
  "language_info": {
   "codemirror_mode": {
    "name": "ipython",
    "version": 3
   },
   "file_extension": ".py",
   "mimetype": "text/x-python",
   "name": "python",
   "nbconvert_exporter": "python",
   "pygments_lexer": "ipython3",
   "version": "3.9.7"
  }
 },
 "nbformat": 4,
 "nbformat_minor": 1
}
