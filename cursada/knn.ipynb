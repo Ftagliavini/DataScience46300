{
  "cells": [
    {
      "cell_type": "markdown",
      "metadata": {
        "id": "8AnQbCQq5pjY"
      },
      "source": [
        "# K-vecinos más cercanos (KNN)\n",
        "## Datos de clientes bancarios: crédito"
      ]
    },
    {
      "cell_type": "code",
      "source": [
        "# Montando el drive\n",
        "from google.colab import drive\n",
        "drive.mount('/content/drive')"
      ],
      "metadata": {
        "colab": {
          "base_uri": "https://localhost:8080/"
        },
        "id": "1obTSAo-5u6j",
        "outputId": "5fb6dc9f-aebc-4dac-d56f-2e2440c0120e"
      },
      "execution_count": null,
      "outputs": [
        {
          "output_type": "stream",
          "name": "stdout",
          "text": [
            "Mounted at /content/drive\n"
          ]
        }
      ]
    },
    {
      "cell_type": "code",
      "source": [
        "%cd /content/drive/MyDrive/CoderHouse/29745-data-science/Clase 17 - Modelos Analíticos para Ciencia de Datos (parte 2) /"
      ],
      "metadata": {
        "colab": {
          "base_uri": "https://localhost:8080/"
        },
        "id": "2T84xUWg5w9P",
        "outputId": "ed12c732-a3eb-4aa9-fa55-8c3d8e2938c3"
      },
      "execution_count": null,
      "outputs": [
        {
          "output_type": "stream",
          "name": "stdout",
          "text": [
            "/content/drive/MyDrive/CoderHouse/29745-data-science/Clase 17 - Modelos Analíticos para Ciencia de Datos (parte 2) \n"
          ]
        }
      ]
    },
    {
      "cell_type": "code",
      "execution_count": null,
      "metadata": {
        "colab": {
          "base_uri": "https://localhost:8080/",
          "height": 423
        },
        "id": "dZ-khBC95pjc",
        "outputId": "86150009-a11d-4f7a-8086-b58698bd6c96"
      },
      "outputs": [
        {
          "output_type": "execute_result",
          "data": {
            "text/plain": [
              "     edad  credito  cumplio\n",
              "0      18   363112        0\n",
              "1      19   477965        1\n",
              "2      20   239072        0\n",
              "3      22   195265        0\n",
              "4      22   482174        0\n",
              "..    ...      ...      ...\n",
              "195    55   100000        0\n",
              "196    55   523144        0\n",
              "197    55   543771        0\n",
              "198    56   285288        0\n",
              "199    57   422969        0\n",
              "\n",
              "[200 rows x 3 columns]"
            ],
            "text/html": [
              "\n",
              "  <div id=\"df-1b5e11c9-7170-41b7-9ffe-5bd18a863207\">\n",
              "    <div class=\"colab-df-container\">\n",
              "      <div>\n",
              "<style scoped>\n",
              "    .dataframe tbody tr th:only-of-type {\n",
              "        vertical-align: middle;\n",
              "    }\n",
              "\n",
              "    .dataframe tbody tr th {\n",
              "        vertical-align: top;\n",
              "    }\n",
              "\n",
              "    .dataframe thead th {\n",
              "        text-align: right;\n",
              "    }\n",
              "</style>\n",
              "<table border=\"1\" class=\"dataframe\">\n",
              "  <thead>\n",
              "    <tr style=\"text-align: right;\">\n",
              "      <th></th>\n",
              "      <th>edad</th>\n",
              "      <th>credito</th>\n",
              "      <th>cumplio</th>\n",
              "    </tr>\n",
              "  </thead>\n",
              "  <tbody>\n",
              "    <tr>\n",
              "      <th>0</th>\n",
              "      <td>18</td>\n",
              "      <td>363112</td>\n",
              "      <td>0</td>\n",
              "    </tr>\n",
              "    <tr>\n",
              "      <th>1</th>\n",
              "      <td>19</td>\n",
              "      <td>477965</td>\n",
              "      <td>1</td>\n",
              "    </tr>\n",
              "    <tr>\n",
              "      <th>2</th>\n",
              "      <td>20</td>\n",
              "      <td>239072</td>\n",
              "      <td>0</td>\n",
              "    </tr>\n",
              "    <tr>\n",
              "      <th>3</th>\n",
              "      <td>22</td>\n",
              "      <td>195265</td>\n",
              "      <td>0</td>\n",
              "    </tr>\n",
              "    <tr>\n",
              "      <th>4</th>\n",
              "      <td>22</td>\n",
              "      <td>482174</td>\n",
              "      <td>0</td>\n",
              "    </tr>\n",
              "    <tr>\n",
              "      <th>...</th>\n",
              "      <td>...</td>\n",
              "      <td>...</td>\n",
              "      <td>...</td>\n",
              "    </tr>\n",
              "    <tr>\n",
              "      <th>195</th>\n",
              "      <td>55</td>\n",
              "      <td>100000</td>\n",
              "      <td>0</td>\n",
              "    </tr>\n",
              "    <tr>\n",
              "      <th>196</th>\n",
              "      <td>55</td>\n",
              "      <td>523144</td>\n",
              "      <td>0</td>\n",
              "    </tr>\n",
              "    <tr>\n",
              "      <th>197</th>\n",
              "      <td>55</td>\n",
              "      <td>543771</td>\n",
              "      <td>0</td>\n",
              "    </tr>\n",
              "    <tr>\n",
              "      <th>198</th>\n",
              "      <td>56</td>\n",
              "      <td>285288</td>\n",
              "      <td>0</td>\n",
              "    </tr>\n",
              "    <tr>\n",
              "      <th>199</th>\n",
              "      <td>57</td>\n",
              "      <td>422969</td>\n",
              "      <td>0</td>\n",
              "    </tr>\n",
              "  </tbody>\n",
              "</table>\n",
              "<p>200 rows × 3 columns</p>\n",
              "</div>\n",
              "      <button class=\"colab-df-convert\" onclick=\"convertToInteractive('df-1b5e11c9-7170-41b7-9ffe-5bd18a863207')\"\n",
              "              title=\"Convert this dataframe to an interactive table.\"\n",
              "              style=\"display:none;\">\n",
              "        \n",
              "  <svg xmlns=\"http://www.w3.org/2000/svg\" height=\"24px\"viewBox=\"0 0 24 24\"\n",
              "       width=\"24px\">\n",
              "    <path d=\"M0 0h24v24H0V0z\" fill=\"none\"/>\n",
              "    <path d=\"M18.56 5.44l.94 2.06.94-2.06 2.06-.94-2.06-.94-.94-2.06-.94 2.06-2.06.94zm-11 1L8.5 8.5l.94-2.06 2.06-.94-2.06-.94L8.5 2.5l-.94 2.06-2.06.94zm10 10l.94 2.06.94-2.06 2.06-.94-2.06-.94-.94-2.06-.94 2.06-2.06.94z\"/><path d=\"M17.41 7.96l-1.37-1.37c-.4-.4-.92-.59-1.43-.59-.52 0-1.04.2-1.43.59L10.3 9.45l-7.72 7.72c-.78.78-.78 2.05 0 2.83L4 21.41c.39.39.9.59 1.41.59.51 0 1.02-.2 1.41-.59l7.78-7.78 2.81-2.81c.8-.78.8-2.07 0-2.86zM5.41 20L4 18.59l7.72-7.72 1.47 1.35L5.41 20z\"/>\n",
              "  </svg>\n",
              "      </button>\n",
              "      \n",
              "  <style>\n",
              "    .colab-df-container {\n",
              "      display:flex;\n",
              "      flex-wrap:wrap;\n",
              "      gap: 12px;\n",
              "    }\n",
              "\n",
              "    .colab-df-convert {\n",
              "      background-color: #E8F0FE;\n",
              "      border: none;\n",
              "      border-radius: 50%;\n",
              "      cursor: pointer;\n",
              "      display: none;\n",
              "      fill: #1967D2;\n",
              "      height: 32px;\n",
              "      padding: 0 0 0 0;\n",
              "      width: 32px;\n",
              "    }\n",
              "\n",
              "    .colab-df-convert:hover {\n",
              "      background-color: #E2EBFA;\n",
              "      box-shadow: 0px 1px 2px rgba(60, 64, 67, 0.3), 0px 1px 3px 1px rgba(60, 64, 67, 0.15);\n",
              "      fill: #174EA6;\n",
              "    }\n",
              "\n",
              "    [theme=dark] .colab-df-convert {\n",
              "      background-color: #3B4455;\n",
              "      fill: #D2E3FC;\n",
              "    }\n",
              "\n",
              "    [theme=dark] .colab-df-convert:hover {\n",
              "      background-color: #434B5C;\n",
              "      box-shadow: 0px 1px 3px 1px rgba(0, 0, 0, 0.15);\n",
              "      filter: drop-shadow(0px 1px 2px rgba(0, 0, 0, 0.3));\n",
              "      fill: #FFFFFF;\n",
              "    }\n",
              "  </style>\n",
              "\n",
              "      <script>\n",
              "        const buttonEl =\n",
              "          document.querySelector('#df-1b5e11c9-7170-41b7-9ffe-5bd18a863207 button.colab-df-convert');\n",
              "        buttonEl.style.display =\n",
              "          google.colab.kernel.accessAllowed ? 'block' : 'none';\n",
              "\n",
              "        async function convertToInteractive(key) {\n",
              "          const element = document.querySelector('#df-1b5e11c9-7170-41b7-9ffe-5bd18a863207');\n",
              "          const dataTable =\n",
              "            await google.colab.kernel.invokeFunction('convertToInteractive',\n",
              "                                                     [key], {});\n",
              "          if (!dataTable) return;\n",
              "\n",
              "          const docLinkHtml = 'Like what you see? Visit the ' +\n",
              "            '<a target=\"_blank\" href=https://colab.research.google.com/notebooks/data_table.ipynb>data table notebook</a>'\n",
              "            + ' to learn more about interactive tables.';\n",
              "          element.innerHTML = '';\n",
              "          dataTable['output_type'] = 'display_data';\n",
              "          await google.colab.output.renderOutput(dataTable, element);\n",
              "          const docLink = document.createElement('div');\n",
              "          docLink.innerHTML = docLinkHtml;\n",
              "          element.appendChild(docLink);\n",
              "        }\n",
              "      </script>\n",
              "    </div>\n",
              "  </div>\n",
              "  "
            ]
          },
          "metadata": {},
          "execution_count": 3
        }
      ],
      "source": [
        "import pandas as pd\n",
        "import numpy as np\n",
        "import matplotlib.pyplot as plt\n",
        "from sklearn import preprocessing\n",
        "from sklearn.neighbors import KNeighborsClassifier\n",
        "\n",
        "clientes = pd.read_csv(\"creditos.csv\")\n",
        "clientes\n",
        "\n",
        "# Edad minima 18 años y maximo de credito 600.000"
      ]
    },
    {
      "cell_type": "markdown",
      "metadata": {
        "id": "HPEMKjjU5pjd"
      },
      "source": [
        "# Pagadores VS Deudores"
      ]
    },
    {
      "cell_type": "code",
      "execution_count": null,
      "metadata": {
        "colab": {
          "base_uri": "https://localhost:8080/",
          "height": 423
        },
        "id": "tCmttcdK5pjd",
        "outputId": "dd2eaaeb-f217-444b-8081-01fe7720335c"
      },
      "outputs": [
        {
          "output_type": "execute_result",
          "data": {
            "text/plain": [
              "     edad  credito  cumplio\n",
              "1      19   477965        1\n",
              "6      23   583565        1\n",
              "7      24   100000        1\n",
              "8      24   199272        1\n",
              "13     25   195341        1\n",
              "..    ...      ...      ...\n",
              "187    51   354045        1\n",
              "188    51   379188        1\n",
              "189    51   396544        1\n",
              "190    52   100000        1\n",
              "192    53   130475        1\n",
              "\n",
              "[167 rows x 3 columns]"
            ],
            "text/html": [
              "\n",
              "  <div id=\"df-e1c7334f-52c3-4b8e-a433-070cc20d2f96\">\n",
              "    <div class=\"colab-df-container\">\n",
              "      <div>\n",
              "<style scoped>\n",
              "    .dataframe tbody tr th:only-of-type {\n",
              "        vertical-align: middle;\n",
              "    }\n",
              "\n",
              "    .dataframe tbody tr th {\n",
              "        vertical-align: top;\n",
              "    }\n",
              "\n",
              "    .dataframe thead th {\n",
              "        text-align: right;\n",
              "    }\n",
              "</style>\n",
              "<table border=\"1\" class=\"dataframe\">\n",
              "  <thead>\n",
              "    <tr style=\"text-align: right;\">\n",
              "      <th></th>\n",
              "      <th>edad</th>\n",
              "      <th>credito</th>\n",
              "      <th>cumplio</th>\n",
              "    </tr>\n",
              "  </thead>\n",
              "  <tbody>\n",
              "    <tr>\n",
              "      <th>1</th>\n",
              "      <td>19</td>\n",
              "      <td>477965</td>\n",
              "      <td>1</td>\n",
              "    </tr>\n",
              "    <tr>\n",
              "      <th>6</th>\n",
              "      <td>23</td>\n",
              "      <td>583565</td>\n",
              "      <td>1</td>\n",
              "    </tr>\n",
              "    <tr>\n",
              "      <th>7</th>\n",
              "      <td>24</td>\n",
              "      <td>100000</td>\n",
              "      <td>1</td>\n",
              "    </tr>\n",
              "    <tr>\n",
              "      <th>8</th>\n",
              "      <td>24</td>\n",
              "      <td>199272</td>\n",
              "      <td>1</td>\n",
              "    </tr>\n",
              "    <tr>\n",
              "      <th>13</th>\n",
              "      <td>25</td>\n",
              "      <td>195341</td>\n",
              "      <td>1</td>\n",
              "    </tr>\n",
              "    <tr>\n",
              "      <th>...</th>\n",
              "      <td>...</td>\n",
              "      <td>...</td>\n",
              "      <td>...</td>\n",
              "    </tr>\n",
              "    <tr>\n",
              "      <th>187</th>\n",
              "      <td>51</td>\n",
              "      <td>354045</td>\n",
              "      <td>1</td>\n",
              "    </tr>\n",
              "    <tr>\n",
              "      <th>188</th>\n",
              "      <td>51</td>\n",
              "      <td>379188</td>\n",
              "      <td>1</td>\n",
              "    </tr>\n",
              "    <tr>\n",
              "      <th>189</th>\n",
              "      <td>51</td>\n",
              "      <td>396544</td>\n",
              "      <td>1</td>\n",
              "    </tr>\n",
              "    <tr>\n",
              "      <th>190</th>\n",
              "      <td>52</td>\n",
              "      <td>100000</td>\n",
              "      <td>1</td>\n",
              "    </tr>\n",
              "    <tr>\n",
              "      <th>192</th>\n",
              "      <td>53</td>\n",
              "      <td>130475</td>\n",
              "      <td>1</td>\n",
              "    </tr>\n",
              "  </tbody>\n",
              "</table>\n",
              "<p>167 rows × 3 columns</p>\n",
              "</div>\n",
              "      <button class=\"colab-df-convert\" onclick=\"convertToInteractive('df-e1c7334f-52c3-4b8e-a433-070cc20d2f96')\"\n",
              "              title=\"Convert this dataframe to an interactive table.\"\n",
              "              style=\"display:none;\">\n",
              "        \n",
              "  <svg xmlns=\"http://www.w3.org/2000/svg\" height=\"24px\"viewBox=\"0 0 24 24\"\n",
              "       width=\"24px\">\n",
              "    <path d=\"M0 0h24v24H0V0z\" fill=\"none\"/>\n",
              "    <path d=\"M18.56 5.44l.94 2.06.94-2.06 2.06-.94-2.06-.94-.94-2.06-.94 2.06-2.06.94zm-11 1L8.5 8.5l.94-2.06 2.06-.94-2.06-.94L8.5 2.5l-.94 2.06-2.06.94zm10 10l.94 2.06.94-2.06 2.06-.94-2.06-.94-.94-2.06-.94 2.06-2.06.94z\"/><path d=\"M17.41 7.96l-1.37-1.37c-.4-.4-.92-.59-1.43-.59-.52 0-1.04.2-1.43.59L10.3 9.45l-7.72 7.72c-.78.78-.78 2.05 0 2.83L4 21.41c.39.39.9.59 1.41.59.51 0 1.02-.2 1.41-.59l7.78-7.78 2.81-2.81c.8-.78.8-2.07 0-2.86zM5.41 20L4 18.59l7.72-7.72 1.47 1.35L5.41 20z\"/>\n",
              "  </svg>\n",
              "      </button>\n",
              "      \n",
              "  <style>\n",
              "    .colab-df-container {\n",
              "      display:flex;\n",
              "      flex-wrap:wrap;\n",
              "      gap: 12px;\n",
              "    }\n",
              "\n",
              "    .colab-df-convert {\n",
              "      background-color: #E8F0FE;\n",
              "      border: none;\n",
              "      border-radius: 50%;\n",
              "      cursor: pointer;\n",
              "      display: none;\n",
              "      fill: #1967D2;\n",
              "      height: 32px;\n",
              "      padding: 0 0 0 0;\n",
              "      width: 32px;\n",
              "    }\n",
              "\n",
              "    .colab-df-convert:hover {\n",
              "      background-color: #E2EBFA;\n",
              "      box-shadow: 0px 1px 2px rgba(60, 64, 67, 0.3), 0px 1px 3px 1px rgba(60, 64, 67, 0.15);\n",
              "      fill: #174EA6;\n",
              "    }\n",
              "\n",
              "    [theme=dark] .colab-df-convert {\n",
              "      background-color: #3B4455;\n",
              "      fill: #D2E3FC;\n",
              "    }\n",
              "\n",
              "    [theme=dark] .colab-df-convert:hover {\n",
              "      background-color: #434B5C;\n",
              "      box-shadow: 0px 1px 3px 1px rgba(0, 0, 0, 0.15);\n",
              "      filter: drop-shadow(0px 1px 2px rgba(0, 0, 0, 0.3));\n",
              "      fill: #FFFFFF;\n",
              "    }\n",
              "  </style>\n",
              "\n",
              "      <script>\n",
              "        const buttonEl =\n",
              "          document.querySelector('#df-e1c7334f-52c3-4b8e-a433-070cc20d2f96 button.colab-df-convert');\n",
              "        buttonEl.style.display =\n",
              "          google.colab.kernel.accessAllowed ? 'block' : 'none';\n",
              "\n",
              "        async function convertToInteractive(key) {\n",
              "          const element = document.querySelector('#df-e1c7334f-52c3-4b8e-a433-070cc20d2f96');\n",
              "          const dataTable =\n",
              "            await google.colab.kernel.invokeFunction('convertToInteractive',\n",
              "                                                     [key], {});\n",
              "          if (!dataTable) return;\n",
              "\n",
              "          const docLinkHtml = 'Like what you see? Visit the ' +\n",
              "            '<a target=\"_blank\" href=https://colab.research.google.com/notebooks/data_table.ipynb>data table notebook</a>'\n",
              "            + ' to learn more about interactive tables.';\n",
              "          element.innerHTML = '';\n",
              "          dataTable['output_type'] = 'display_data';\n",
              "          await google.colab.output.renderOutput(dataTable, element);\n",
              "          const docLink = document.createElement('div');\n",
              "          docLink.innerHTML = docLinkHtml;\n",
              "          element.appendChild(docLink);\n",
              "        }\n",
              "      </script>\n",
              "    </div>\n",
              "  </div>\n",
              "  "
            ]
          },
          "metadata": {},
          "execution_count": 4
        }
      ],
      "source": [
        "buenos = clientes[clientes[\"cumplio\"]==1]\n",
        "malos = clientes[clientes[\"cumplio\"]==0]\n",
        "buenos"
      ]
    },
    {
      "cell_type": "markdown",
      "metadata": {
        "id": "cmAqDN4a5pje"
      },
      "source": [
        "# Gráfica: Pagadores VS Deudores"
      ]
    },
    {
      "cell_type": "code",
      "execution_count": null,
      "metadata": {
        "colab": {
          "base_uri": "https://localhost:8080/",
          "height": 279
        },
        "id": "4nLFSlnT5pje",
        "outputId": "97a25077-8cd3-4b72-a774-608890ed66fc"
      },
      "outputs": [
        {
          "output_type": "display_data",
          "data": {
            "text/plain": [
              "<Figure size 432x288 with 1 Axes>"
            ],
            "image/png": "[encoded data removed]"
          },
          "metadata": {
            "needs_background": "light"
          }
        }
      ],
      "source": [
        "plt.scatter(buenos[\"edad\"], buenos[\"credito\"],\n",
        "            marker=\"*\", s=150, color=\"skyblue\",\n",
        "            label=\"Sí pagó (Clase: 1)\")\n",
        "\n",
        "plt.scatter(malos[\"edad\"], malos[\"credito\"],\n",
        "            marker=\"*\", s=150, color=\"red\",\n",
        "            label=\"No pagó (Clase: 0)\")\n",
        "\n",
        "plt.ylabel(\"Monto del crédito\")\n",
        "plt.xlabel(\"Edad\")\n",
        "plt.legend(bbox_to_anchor=(1, 0.2))\n",
        "plt.show()"
      ]
    },
    {
      "cell_type": "markdown",
      "metadata": {
        "id": "N4fXzUyc5pje"
      },
      "source": [
        "# Preparación de los datos (Escalar)"
      ]
    },
    {
      "cell_type": "code",
      "execution_count": null,
      "metadata": {
        "colab": {
          "base_uri": "https://localhost:8080/"
        },
        "id": "22pM25J-5pjf",
        "outputId": "8d5f996b-f35c-4d6d-d3fe-6045d6898eb4"
      },
      "outputs": [
        {
          "output_type": "execute_result",
          "data": {
            "text/plain": [
              "array([[0.        , 0.52964444],\n",
              "       [0.02564103, 0.76084353],\n",
              "       [0.05128205, 0.27995193],\n",
              "       [0.1025641 , 0.19176844],\n",
              "       [0.1025641 , 0.76931624],\n",
              "       [0.12820513, 0.74242458],\n",
              "       [0.12820513, 0.97341632],\n",
              "       [0.15384615, 0.        ],\n",
              "       [0.15384615, 0.19983453],\n",
              "       [0.15384615, 0.29429053],\n",
              "       [0.15384615, 0.67122276],\n",
              "       [0.17948718, 0.        ],\n",
              "       [0.17948718, 0.12374716],\n",
              "       [0.17948718, 0.19192143],\n",
              "       [0.17948718, 0.76130249],\n",
              "       [0.17948718, 0.79673129],\n",
              "       [0.20512821, 0.        ],\n",
              "       [0.20512821, 0.21862589],\n",
              "       [0.20512821, 0.33577846],\n",
              "       [0.20512821, 0.35571521],\n",
              "       [0.20512821, 0.38628463],\n",
              "       [0.20512821, 0.61926119],\n",
              "       [0.20512821, 0.69480706],\n",
              "       [0.23076923, 0.21664509],\n",
              "       [0.23076923, 0.23805134],\n",
              "       [0.23076923, 0.60140789],\n",
              "       [0.23076923, 0.90058196],\n",
              "       [0.25641026, 0.        ],\n",
              "       [0.25641026, 0.03816245],\n",
              "       [0.25641026, 0.03904616],\n",
              "       [0.25641026, 0.10798336],\n",
              "       [0.25641026, 0.17607107],\n",
              "       [0.25641026, 0.28867627],\n",
              "       [0.25641026, 0.32202564],\n",
              "       [0.25641026, 0.3484986 ],\n",
              "       [0.25641026, 0.35193882],\n",
              "       [0.25641026, 0.38080524],\n",
              "       [0.25641026, 0.42070089],\n",
              "       [0.25641026, 0.51803547],\n",
              "       [0.25641026, 0.65311582],\n",
              "       [0.25641026, 0.66896618],\n",
              "       [0.25641026, 0.67041756],\n",
              "       [0.25641026, 0.68417239],\n",
              "       [0.25641026, 0.7695256 ],\n",
              "       [0.25641026, 0.86175924],\n",
              "       [0.28205128, 0.        ],\n",
              "       [0.28205128, 0.        ],\n",
              "       [0.28205128, 0.23669256],\n",
              "       [0.28205128, 0.33414591],\n",
              "       [0.28205128, 0.41334538],\n",
              "       [0.28205128, 0.52864197],\n",
              "       [0.28205128, 0.56609383],\n",
              "       [0.28205128, 0.59165692],\n",
              "       [0.28205128, 0.9871631 ],\n",
              "       [0.28205128, 0.99844194],\n",
              "       [0.30769231, 0.10506249],\n",
              "       [0.30769231, 0.11505704],\n",
              "       [0.30769231, 0.23968187],\n",
              "       [0.30769231, 0.46505734],\n",
              "       [0.30769231, 0.5445809 ],\n",
              "       [0.30769231, 0.66118393],\n",
              "       [0.30769231, 0.67767643],\n",
              "       [0.33333333, 0.        ],\n",
              "       [0.33333333, 0.00144131],\n",
              "       [0.33333333, 0.14846277],\n",
              "       [0.33333333, 0.15601555],\n",
              "       [0.33333333, 0.41040238],\n",
              "       [0.33333333, 0.41226239],\n",
              "       [0.33333333, 0.58786242],\n",
              "       [0.33333333, 0.62965431],\n",
              "       [0.35897436, 0.        ],\n",
              "       [0.35897436, 0.13110669],\n",
              "       [0.35897436, 0.14760926],\n",
              "       [0.35897436, 0.1842056 ],\n",
              "       [0.35897436, 0.19186104],\n",
              "       [0.35897436, 0.26212078],\n",
              "       [0.35897436, 0.46707034],\n",
              "       [0.35897436, 0.49443909],\n",
              "       [0.35897436, 0.98325989],\n",
              "       [0.38461538, 0.00194858],\n",
              "       [0.38461538, 0.08159293],\n",
              "       [0.38461538, 0.18069291],\n",
              "       [0.38461538, 0.5175745 ],\n",
              "       [0.38461538, 0.6179004 ],\n",
              "       [0.41025641, 0.1938217 ],\n",
              "       [0.41025641, 0.31511099],\n",
              "       [0.41025641, 0.35138525],\n",
              "       [0.41025641, 0.51919899],\n",
              "       [0.41025641, 0.5375656 ],\n",
              "       [0.43589744, 0.        ],\n",
              "       [0.43589744, 0.1428928 ],\n",
              "       [0.43589744, 0.15645237],\n",
              "       [0.43589744, 0.40213901],\n",
              "       [0.43589744, 0.84784941],\n",
              "       [0.46153846, 0.        ],\n",
              "       [0.46153846, 0.01688706],\n",
              "       [0.46153846, 0.27926147],\n",
              "       [0.46153846, 0.94219067],\n",
              "       [0.48717949, 0.40089699],\n",
              "       [0.48717949, 0.58110477],\n",
              "       [0.51282051, 0.        ],\n",
              "       [0.51282051, 0.14469846],\n",
              "       [0.51282051, 0.15542171],\n",
              "       [0.51282051, 0.34177518],\n",
              "       [0.51282051, 0.36099531],\n",
              "       [0.51282051, 0.47841359],\n",
              "       [0.51282051, 0.76446894],\n",
              "       [0.53846154, 0.11912129],\n",
              "       [0.53846154, 0.13935999],\n",
              "       [0.53846154, 0.20150331],\n",
              "       [0.53846154, 0.41053926],\n",
              "       [0.53846154, 0.56211212],\n",
              "       [0.56410256, 0.        ],\n",
              "       [0.56410256, 0.        ],\n",
              "       [0.56410256, 0.06082279],\n",
              "       [0.56410256, 0.08730783],\n",
              "       [0.56410256, 0.4086088 ],\n",
              "       [0.56410256, 0.54189355],\n",
              "       [0.56410256, 0.72462765],\n",
              "       [0.58974359, 0.0233508 ],\n",
              "       [0.58974359, 0.02456061],\n",
              "       [0.58974359, 0.09865713],\n",
              "       [0.58974359, 0.25586236],\n",
              "       [0.58974359, 0.33618911],\n",
              "       [0.58974359, 0.58974054],\n",
              "       [0.61538462, 0.        ],\n",
              "       [0.61538462, 0.01820557],\n",
              "       [0.61538462, 0.04190865],\n",
              "       [0.61538462, 0.1276242 ],\n",
              "       [0.61538462, 0.5212603 ],\n",
              "       [0.61538462, 0.54850424],\n",
              "       [0.61538462, 0.84706032],\n",
              "       [0.61538462, 0.91333029],\n",
              "       [0.64102564, 0.55489954],\n",
              "       [0.64102564, 0.63549201],\n",
              "       [0.64102564, 0.80180808],\n",
              "       [0.66666667, 0.        ],\n",
              "       [0.66666667, 0.15576191],\n",
              "       [0.66666667, 0.18310248],\n",
              "       [0.66666667, 0.27592996],\n",
              "       [0.66666667, 0.3173736 ],\n",
              "       [0.66666667, 0.33859263],\n",
              "       [0.66666667, 0.34302123],\n",
              "       [0.66666667, 0.38686236],\n",
              "       [0.66666667, 0.42094849],\n",
              "       [0.66666667, 0.58263868],\n",
              "       [0.66666667, 0.77766214],\n",
              "       [0.69230769, 0.        ],\n",
              "       [0.69230769, 0.        ],\n",
              "       [0.69230769, 0.02250131],\n",
              "       [0.69230769, 0.11049357],\n",
              "       [0.69230769, 0.36288149],\n",
              "       [0.71794872, 0.04009292],\n",
              "       [0.71794872, 0.24613152],\n",
              "       [0.71794872, 0.36865477],\n",
              "       [0.71794872, 0.41930588],\n",
              "       [0.71794872, 0.6498447 ],\n",
              "       [0.71794872, 0.7260448 ],\n",
              "       [0.71794872, 0.74921443],\n",
              "       [0.71794872, 0.98495484],\n",
              "       [0.71794872, 1.        ],\n",
              "       [0.74358974, 0.09649718],\n",
              "       [0.74358974, 0.11829394],\n",
              "       [0.74358974, 0.27399144],\n",
              "       [0.74358974, 0.27564814],\n",
              "       [0.74358974, 0.30626385],\n",
              "       [0.74358974, 0.36214272],\n",
              "       [0.74358974, 0.36285129],\n",
              "       [0.74358974, 0.43263798],\n",
              "       [0.74358974, 0.89424101],\n",
              "       [0.76923077, 0.19786984],\n",
              "       [0.76923077, 0.34318026],\n",
              "       [0.76923077, 0.42691099],\n",
              "       [0.76923077, 0.64719358],\n",
              "       [0.79487179, 0.1878451 ],\n",
              "       [0.79487179, 0.28133687],\n",
              "       [0.79487179, 0.59716248],\n",
              "       [0.79487179, 0.61554922],\n",
              "       [0.79487179, 0.64292199],\n",
              "       [0.82051282, 0.        ],\n",
              "       [0.82051282, 0.06170247],\n",
              "       [0.82051282, 0.30497151],\n",
              "       [0.82051282, 0.46384753],\n",
              "       [0.82051282, 0.50160335],\n",
              "       [0.82051282, 0.63033671],\n",
              "       [0.82051282, 0.6333381 ],\n",
              "       [0.82051282, 0.68934982],\n",
              "       [0.84615385, 0.51139257],\n",
              "       [0.84615385, 0.56200543],\n",
              "       [0.84615385, 0.59694306],\n",
              "       [0.87179487, 0.        ],\n",
              "       [0.87179487, 0.48666891],\n",
              "       [0.8974359 , 0.06134617],\n",
              "       [0.8974359 , 0.57012587],\n",
              "       [0.92307692, 0.35380286],\n",
              "       [0.94871795, 0.        ],\n",
              "       [0.94871795, 0.85178885],\n",
              "       [0.94871795, 0.893311  ],\n",
              "       [0.97435897, 0.37298474],\n",
              "       [1.        , 0.65013658]])"
            ]
          },
          "metadata": {},
          "execution_count": 6
        }
      ],
      "source": [
        "datos = clientes[[\"edad\", \"credito\"]]\n",
        "clase = clientes[\"cumplio\"]\n",
        "\n",
        "escalador = preprocessing.MinMaxScaler()\n",
        "\n",
        "datos = escalador.fit_transform(datos)\n",
        "datos"
      ]
    },
    {
      "cell_type": "markdown",
      "metadata": {
        "id": "2BAjmhvh5pjf"
      },
      "source": [
        "# Creación del Modelo KNN\n",
        "## Valor de K"
      ]
    },
    {
      "cell_type": "code",
      "execution_count": null,
      "metadata": {
        "colab": {
          "base_uri": "https://localhost:8080/"
        },
        "id": "F4FRDMxu5pjg",
        "outputId": "ed24e707-3602-4bd1-8373-6d4061accff8"
      },
      "outputs": [
        {
          "output_type": "execute_result",
          "data": {
            "text/plain": [
              "KNeighborsClassifier(n_neighbors=3)"
            ]
          },
          "metadata": {},
          "execution_count": 7
        }
      ],
      "source": [
        "clasificador = KNeighborsClassifier(n_neighbors=3)\n",
        "\n",
        "clasificador.fit(datos, clase)"
      ]
    },
    {
      "cell_type": "markdown",
      "metadata": {
        "id": "kyMHlaMA5pjg"
      },
      "source": [
        "# Nuevo Solicitante (Clasificación)"
      ]
    },
    {
      "cell_type": "code",
      "execution_count": null,
      "metadata": {
        "colab": {
          "base_uri": "https://localhost:8080/",
          "height": 350
        },
        "id": "8m4KORDW5pjg",
        "outputId": "e924be85-03f5-4129-9af3-1da60f197e51"
      },
      "outputs": [
        {
          "output_type": "stream",
          "name": "stdout",
          "text": [
            "Clase: [0]\n",
            "Probabilidades por clase [[0.66666667 0.33333333]]\n"
          ]
        },
        {
          "output_type": "stream",
          "name": "stderr",
          "text": [
            "/usr/local/lib/python3.7/dist-packages/sklearn/base.py:451: UserWarning: X does not have valid feature names, but MinMaxScaler was fitted with feature names\n",
            "  \"X does not have valid feature names, but\"\n"
          ]
        },
        {
          "output_type": "display_data",
          "data": {
            "text/plain": [
              "<Figure size 432x288 with 1 Axes>"
            ],
            "image/png": "[encoded data removed]"
          },
          "metadata": {
            "needs_background": "light"
          }
        }
      ],
      "source": [
        "edad = 53\n",
        "monto = 350000\n",
        "\n",
        "#Escalar los datos del nuevo solicitante\n",
        "solicitante = escalador.transform([[edad, monto]])\n",
        "\n",
        "#Calcular clase y probabilidades\n",
        "print(\"Clase:\", clasificador.predict(solicitante))\n",
        "print(\"Probabilidades por clase\",\n",
        "      clasificador.predict_proba(solicitante))\n",
        "\n",
        "#Código para graficar\n",
        "plt.scatter(buenos[\"edad\"], buenos[\"credito\"],\n",
        "            marker=\"*\", s=150, color=\"skyblue\", label=\"Sí pagó (Clase: 1)\")\n",
        "plt.scatter(malos[\"edad\"], malos[\"credito\"],\n",
        "            marker=\"*\", s=150, color=\"red\", label=\"No pagó (Clase: 0)\")\n",
        "plt.scatter(edad, monto, marker=\"P\", s=250, color=\"green\", label=\"Solicitante\")\n",
        "plt.ylabel(\"Monto del crédito\")\n",
        "plt.xlabel(\"Edad\")\n",
        "plt.legend(bbox_to_anchor=(1, 0.3)) #Se usa para que la caja de los labels se encuentre fuera del grafico\n",
        "plt.show()"
      ]
    },
    {
      "cell_type": "code",
      "execution_count": null,
      "metadata": {
        "id": "LvwVAMg85pjh"
      },
      "outputs": [],
      "source": []
    }
  ],
  "metadata": {
    "kernelspec": {
      "display_name": "Python 3 (ipykernel)",
      "language": "python",
      "name": "python3"
    },
    "language_info": {
      "codemirror_mode": {
        "name": "ipython",
        "version": 3
      },
      "file_extension": ".py",
      "mimetype": "text/x-python",
      "name": "python",
      "nbconvert_exporter": "python",
      "pygments_lexer": "ipython3",
      "version": "3.9.5"
    },
    "colab": {
      "provenance": []
    }
  },
  "nbformat": 4,
  "nbformat_minor": 0
}