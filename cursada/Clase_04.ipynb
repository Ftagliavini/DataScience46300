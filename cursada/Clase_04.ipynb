{
 "cells": [
  {
   "cell_type": "markdown",
   "metadata": {},
   "source": [
    "## Clase 5..que era la clase 4!"
   ]
  },
  {
   "cell_type": "code",
   "execution_count": null,
   "metadata": {},
   "outputs": [],
   "source": [
    "# mucho muy importante! primero importar la libreria que quiero suar, en este caso Pandas.\n",
    "\n",
    "import pandas as pd\n",
    "\n",
    "# ahora nada puede malir sal...."
   ]
  },
  {
   "cell_type": "code",
   "execution_count": null,
   "metadata": {},
   "outputs": [],
   "source": [
    "# creando una serie simple..\n",
    "\n",
    "numeros = range(50,70,2) #valores entre 50 y 70, con \"saltos\" de a 2.\n",
    "\n",
    "numeros_serie = pd.Series(numeros) # creo una serie que contiene los valores de mi variable \"numeros\"\n",
    "\n",
    "print(numeros_serie)\n",
    "print(type(numeros_serie))"
   ]
  },
  {
   "cell_type": "code",
   "execution_count": null,
   "metadata": {},
   "outputs": [],
   "source": [
    "# si quiero acceder a algun valor de mi serie, lo podria hacer a tarves de su indice\n",
    "\n",
    "print(numeros_serie[3])"
   ]
  },
  {
   "cell_type": "markdown",
   "metadata": {},
   "source": [
    "### Nuestra serie de pandas esta formada por:\n",
    "\n",
    "*   Indices:"
   ]
  },
  {
   "cell_type": "code",
   "execution_count": null,
   "metadata": {},
   "outputs": [],
   "source": [
    "print(numeros_serie.index)"
   ]
  },
  {
   "cell_type": "markdown",
   "metadata": {},
   "source": [
    "*   Valores:"
   ]
  },
  {
   "cell_type": "code",
   "execution_count": null,
   "metadata": {},
   "outputs": [],
   "source": [
    "print(numeros_serie.values)"
   ]
  },
  {
   "cell_type": "markdown",
   "metadata": {},
   "source": [
    "Incluso podriamos sacar esos valores y guardarlos pero como un array de numpy..."
   ]
  },
  {
   "cell_type": "code",
   "execution_count": null,
   "metadata": {},
   "outputs": [],
   "source": [
    "nueva_lista = numeros_serie.values\n",
    "\n",
    "print(nueva_lista)\n",
    "print(type(nueva_lista))"
   ]
  },
  {
   "cell_type": "markdown",
   "metadata": {},
   "source": [
    "Podriamos cambiar el valor de los indices? claro que si, pero para eso deberiamos definir una nueva lista con los indices e indicarselo a nuestra serie de pandas...hagamoslo!"
   ]
  },
  {
   "cell_type": "code",
   "execution_count": null,
   "metadata": {},
   "outputs": [],
   "source": [
    "Numeros_en_texto = ['primero','segundo','tercero','cuarto','quinto','sexto','séptimo','octavo','noveno','décimo']\n",
    "\n",
    "numeros_serie = pd.Series(numeros,index=Numeros_en_texto)\n",
    "\n",
    "numeros_serie"
   ]
  },
  {
   "cell_type": "code",
   "execution_count": null,
   "metadata": {
    "colab": {
     "base_uri": "https://localhost:8080/"
    },
    "executionInfo": {
     "elapsed": 5,
     "status": "ok",
     "timestamp": 1640301713510,
     "user": {
      "displayName": "david francisco bustos usta",
      "photoUrl": "https://lh3.googleusercontent.com/a-/AOh14Gi4e7mWJaOA2l-1KUn-omyigRGSrm83lG6XLzS5=s64",
      "userId": "04741209928239412574"
     },
     "user_tz": 300
    },
    "id": "muZ-KWpxZhsT",
    "outputId": "00d5450e-be52-4c7a-d7cb-ef6ef9678adf"
   },
   "outputs": [],
   "source": [
    "# Vamos a crear una estructura de serie\n",
    "\n",
    "import pandas as pd\n",
    "serie= pd.Series(data=[1,2,3,4],index=['David','Juan',1,2],name='SerieX')\n",
    "serie"
   ]
  },
  {
   "cell_type": "code",
   "execution_count": null,
   "metadata": {
    "colab": {
     "base_uri": "https://localhost:8080/"
    },
    "executionInfo": {
     "elapsed": 313,
     "status": "ok",
     "timestamp": 1640301926617,
     "user": {
      "displayName": "david francisco bustos usta",
      "photoUrl": "https://lh3.googleusercontent.com/a-/AOh14Gi4e7mWJaOA2l-1KUn-omyigRGSrm83lG6XLzS5=s64",
      "userId": "04741209928239412574"
     },
     "user_tz": 300
    },
    "id": "x-VwR4c4mfP9",
    "outputId": "2ce43cd7-6e8b-4fff-b94c-91990470ddc2"
   },
   "outputs": [],
   "source": [
    "# Algunas propiedades de la serie\n",
    "\n",
    "print('Indice de la serie:',serie.index)\n",
    "print('Valores de la serie:',serie.values)\n",
    "print('Longitud de serie:',serie.count())\n",
    "\n",
    "# Verificar nulos en la serie\n",
    "serie.isna()"
   ]
  },
  {
   "cell_type": "markdown",
   "metadata": {},
   "source": [
    "Indexamiento para Series de pandas..."
   ]
  },
  {
   "cell_type": "code",
   "execution_count": null,
   "metadata": {
    "colab": {
     "base_uri": "https://localhost:8080/"
    },
    "executionInfo": {
     "elapsed": 261,
     "status": "ok",
     "timestamp": 1640301965013,
     "user": {
      "displayName": "david francisco bustos usta",
      "photoUrl": "https://lh3.googleusercontent.com/a-/AOh14Gi4e7mWJaOA2l-1KUn-omyigRGSrm83lG6XLzS5=s64",
      "userId": "04741209928239412574"
     },
     "user_tz": 300
    },
    "id": "2Y6KLud9nXRH",
    "outputId": "0fa31634-c4f3-4eff-83f7-0d3b93303042"
   },
   "outputs": [],
   "source": [
    "# Filtrar un indice por el valor del indice.\n",
    "\n",
    "serie.loc['Juan']"
   ]
  },
  {
   "cell_type": "code",
   "execution_count": null,
   "metadata": {
    "colab": {
     "base_uri": "https://localhost:8080/"
    },
    "executionInfo": {
     "elapsed": 383,
     "status": "ok",
     "timestamp": 1640301972708,
     "user": {
      "displayName": "david francisco bustos usta",
      "photoUrl": "https://lh3.googleusercontent.com/a-/AOh14Gi4e7mWJaOA2l-1KUn-omyigRGSrm83lG6XLzS5=s64",
      "userId": "04741209928239412574"
     },
     "user_tz": 300
    },
    "id": "H0qo33OynbaM",
    "outputId": "4d3c749a-eb88-403d-e7b6-2bbb62081ece"
   },
   "outputs": [],
   "source": [
    "# Filtrar pero de otra forma, ahora por la poscion del indice.\n",
    "\n",
    "serie.iloc[1]"
   ]
  },
  {
   "cell_type": "code",
   "execution_count": null,
   "metadata": {
    "colab": {
     "base_uri": "https://localhost:8080/"
    },
    "executionInfo": {
     "elapsed": 309,
     "status": "ok",
     "timestamp": 1640302000178,
     "user": {
      "displayName": "david francisco bustos usta",
      "photoUrl": "https://lh3.googleusercontent.com/a-/AOh14Gi4e7mWJaOA2l-1KUn-omyigRGSrm83lG6XLzS5=s64",
      "userId": "04741209928239412574"
     },
     "user_tz": 300
    },
    "id": "zTsXcmK2ngO3",
    "outputId": "5e4dcb9c-f569-4143-86a6-a2ad5d8cf8d5"
   },
   "outputs": [],
   "source": [
    "# Filtrar varios indices\n",
    "\n",
    "serie.loc[['Juan',1]]"
   ]
  },
  {
   "cell_type": "code",
   "execution_count": null,
   "metadata": {
    "colab": {
     "base_uri": "https://localhost:8080/"
    },
    "executionInfo": {
     "elapsed": 7,
     "status": "ok",
     "timestamp": 1640302162436,
     "user": {
      "displayName": "david francisco bustos usta",
      "photoUrl": "https://lh3.googleusercontent.com/a-/AOh14Gi4e7mWJaOA2l-1KUn-omyigRGSrm83lG6XLzS5=s64",
      "userId": "04741209928239412574"
     },
     "user_tz": 300
    },
    "id": "nMCii5Nen2u9",
    "outputId": "b763ba3d-640e-46c0-d1b0-ba861d116ef0"
   },
   "outputs": [],
   "source": [
    "import numpy as np\n",
    "\n",
    "serie_2= pd.Series(data=[1,2,2,2,3,5,5,np.nan , 20,np.nan])\n",
    "serie_2"
   ]
  },
  {
   "cell_type": "code",
   "execution_count": null,
   "metadata": {
    "colab": {
     "base_uri": "https://localhost:8080/"
    },
    "executionInfo": {
     "elapsed": 4,
     "status": "ok",
     "timestamp": 1640302197609,
     "user": {
      "displayName": "david francisco bustos usta",
      "photoUrl": "https://lh3.googleusercontent.com/a-/AOh14Gi4e7mWJaOA2l-1KUn-omyigRGSrm83lG6XLzS5=s64",
      "userId": "04741209928239412574"
     },
     "user_tz": 300
    },
    "id": "pybnOTlEoNLP",
    "outputId": "96a90fe0-2ab4-4131-f60e-686d3e5ee1ab"
   },
   "outputs": [],
   "source": [
    "# Suma de nulos, primero preguntamos por los valores nulos, y si existen sumarlos para saber cuantos hay\n",
    "\n",
    "serie_2.isnull().sum()"
   ]
  },
  {
   "cell_type": "code",
   "execution_count": null,
   "metadata": {
    "colab": {
     "base_uri": "https://localhost:8080/"
    },
    "executionInfo": {
     "elapsed": 414,
     "status": "ok",
     "timestamp": 1640302290589,
     "user": {
      "displayName": "david francisco bustos usta",
      "photoUrl": "https://lh3.googleusercontent.com/a-/AOh14Gi4e7mWJaOA2l-1KUn-omyigRGSrm83lG6XLzS5=s64",
      "userId": "04741209928239412574"
     },
     "user_tz": 300
    },
    "id": "n8Om7dPIoVT-",
    "outputId": "734d5944-bcbd-46bd-8b3b-04893870f0e6"
   },
   "outputs": [],
   "source": [
    "# Conteo de valores no tiene en cuenta los NaN\n",
    "\n",
    "serie_2.value_counts()"
   ]
  },
  {
   "cell_type": "markdown",
   "metadata": {},
   "source": [
    "Funciones vectorizadas desde numpy en pandas\n",
    "\n",
    "Nos permite operar con las series si tenemos en cuenta que tienen los mismo indices, para eso vamos a crear una nueva serie llamada \"numeros_serie_2\" porque ya tenemos creada una llamada \"numeros_serie\"."
   ]
  },
  {
   "cell_type": "code",
   "execution_count": null,
   "metadata": {},
   "outputs": [],
   "source": [
    "numeros_2 = range(51,70,2)\n",
    "numeros_serie_2 = pd.Series(numeros_2,index=Numeros_en_texto) # recordar que ya se habia creado el indice...\n",
    "\n",
    "numeros_serie_2"
   ]
  },
  {
   "cell_type": "code",
   "execution_count": null,
   "metadata": {},
   "outputs": [],
   "source": [
    "# podemos sumar estas dos series, lo haran combinandose a traves de sus indices..\n",
    "# hay varias formas de hacerlo, la primera es simplemente sumarlos (en el caso de querer sumarlos, claro)\n",
    "\n",
    "numeros_serie_2 + numeros_serie"
   ]
  },
  {
   "cell_type": "code",
   "execution_count": null,
   "metadata": {},
   "outputs": [],
   "source": [
    "# otar forma de hacer lo mismo, es utilizando elmetodo \"add()\"\n",
    "\n",
    "numeros_serie_2.add(numeros_serie)"
   ]
  },
  {
   "cell_type": "markdown",
   "metadata": {},
   "source": [
    "Bien! pero que pasaria si usaramos indices incompatibles?"
   ]
  },
  {
   "cell_type": "code",
   "execution_count": null,
   "metadata": {},
   "outputs": [],
   "source": [
    "numeros_serie_2_porcion = numeros_serie_2[4:7]\n",
    "numeros_serie_porcion = numeros_serie[5:8]\n",
    "\n",
    "print(numeros_serie_2_porcion)\n",
    "print(\"-+-+-+-+-+-+-+-+-+-+-+-\") # soy un separador made in nacho!\n",
    "print(numeros_serie_porcion)"
   ]
  },
  {
   "cell_type": "code",
   "execution_count": null,
   "metadata": {},
   "outputs": [],
   "source": [
    "print(numeros_serie_porcion + numeros_serie_2_porcion)"
   ]
  },
  {
   "cell_type": "markdown",
   "metadata": {},
   "source": [
    "Tenemos el problema de que hay valores faltantes! pero no se desesperen que hay una forma de rellenarlos con un valor...que podemos determinar nosotros o incluso podriamos usar algun metodo de rellenado...por ahora solo le daremos un valor"
   ]
  },
  {
   "cell_type": "code",
   "execution_count": null,
   "metadata": {},
   "outputs": [],
   "source": [
    "numeros_serie_porcion.add(numeros_serie_2_porcion,fill_value=0) #usamos fill_value para rellenar lo que falta."
   ]
  },
  {
   "cell_type": "markdown",
   "metadata": {},
   "source": [
    "incluso podria suceder que simplemente nos deshagamos de esos valores indeseados, usaremos el metodo \"dropna()\" para sacar los valores NaN."
   ]
  },
  {
   "cell_type": "code",
   "execution_count": null,
   "metadata": {},
   "outputs": [],
   "source": [
    "# usemos el mismo ejemplo anterior!\n",
    "\n",
    "numeros_con_nan = numeros_serie_porcion + numeros_serie_2_porcion\n",
    "print(numeros_con_nan)"
   ]
  },
  {
   "cell_type": "code",
   "execution_count": null,
   "metadata": {},
   "outputs": [],
   "source": [
    "# ahora si...adios a esos valores Nan!\n",
    "\n",
    "numeros_con_nan = numeros_con_nan.dropna()\n",
    "print(numeros_con_nan)"
   ]
  },
  {
   "cell_type": "code",
   "execution_count": null,
   "metadata": {},
   "outputs": [],
   "source": [
    "# aunque si no queremos eliminarlos, podriamos ponerle un valor a esos faltantes...hagamos eso!\n",
    "\n",
    "numeros_serie_2_porcion = numeros_serie_2[4:7]\n",
    "numeros_serie_porcion = numeros_serie[5:8]\n",
    "\n",
    "numeros_con_nan = numeros_serie_porcion + numeros_serie_2_porcion\n",
    "print(numeros_con_nan)"
   ]
  },
  {
   "cell_type": "code",
   "execution_count": null,
   "metadata": {},
   "outputs": [],
   "source": [
    "# ahora en esa variable, voy a completar los valores NaN con algun valor en particular!\n",
    "\n",
    "numeros_con_nan = numeros_con_nan.fillna(3) # CUIDADO! No confundir fillna() con fill_value()\n",
    "print(numeros_con_nan)"
   ]
  },
  {
   "cell_type": "markdown",
   "metadata": {},
   "source": [
    "----"
   ]
  },
  {
   "cell_type": "markdown",
   "metadata": {
    "id": "DZAYHjI6ZeEL"
   },
   "source": [
    "# Manipulacion de series y dataframes (Ejemplo en vivo)"
   ]
  },
  {
   "cell_type": "code",
   "execution_count": null,
   "metadata": {},
   "outputs": [],
   "source": [
    "# hay varias formas de crear un dataframe con pandas.\n",
    "# podemos crearlo a traves de combinar varias series de pandas, como por ejemplo lo siguiente.\n",
    "\n",
    "# 1) crando primero las listas con los elementos que quiero convertir en series.\n",
    "\n",
    "modelos = ['A4 3.0 Quattro 4dr manual','A4 3.0 Quattro 4dr auto','A6 3.0 4dr','A6 3.0 Quattro 4dr','A4 3.0 convertible 2dr']\n",
    "\n",
    "peso = [3583, 3627, 3561, 3880, 3814]\n",
    "\n",
    "precios = ['$33,430', '$34,480', '$36,640', '$39,640', '$42,490']"
   ]
  },
  {
   "cell_type": "code",
   "execution_count": null,
   "metadata": {},
   "outputs": [],
   "source": [
    "# 2) convirtiendo esos valores a series de pandas!\n",
    "\n",
    "Autos_peso = pd.Series(peso,index=modelos)\n",
    "Autos_precio = pd.Series(precios,index=modelos) \n",
    "\n",
    "print(Autos_precio)\n",
    "print(\"-+-+-+-+-+-+-+-+-+-+-+-\") # soy un separador made in nacho!\n",
    "print(Autos_peso)"
   ]
  },
  {
   "cell_type": "code",
   "execution_count": null,
   "metadata": {},
   "outputs": [],
   "source": [
    "# 3) construir mi dataframe en base a las series de pandas creadas anteriormente.\n",
    "\n",
    "Autos = pd.DataFrame({'Peso':Autos_peso,'Precio':Autos_precio})\n",
    "print(Autos)\n",
    "print(\"-+-+-+-+-+-+-+-+-+-+-+-\") # soy un separador made in nacho!\n",
    "print(type(Autos))"
   ]
  },
  {
   "cell_type": "code",
   "execution_count": null,
   "metadata": {},
   "outputs": [],
   "source": [
    "Autos"
   ]
  },
  {
   "cell_type": "markdown",
   "metadata": {},
   "source": [
    "Ya tenemos nuestro datafram, ahora podriamos ver como buscar valores dentro de mi objeto bidimensional...."
   ]
  },
  {
   "cell_type": "code",
   "execution_count": null,
   "metadata": {},
   "outputs": [],
   "source": [
    "# Quisiera saber todos los valores de la columna \"Peso\"\n",
    "\n",
    "Autos[\"Peso\"]"
   ]
  },
  {
   "cell_type": "code",
   "execution_count": null,
   "metadata": {},
   "outputs": [],
   "source": [
    "# y si quiero una fila en particular? aca podemos usar dos metodos, el primero es con loc, si conozco el nombre del indice\n",
    "\n",
    "Autos.loc['A4 3.0 Quattro 4dr auto']"
   ]
  },
  {
   "cell_type": "code",
   "execution_count": null,
   "metadata": {},
   "outputs": [],
   "source": [
    "# el segundo metodo es con iloc, sabien la posicion de mi registro (mi fila)\n",
    "\n",
    "Autos.iloc[1]"
   ]
  },
  {
   "cell_type": "code",
   "execution_count": null,
   "metadata": {},
   "outputs": [],
   "source": [
    "# incluso podria seleccionar teniendo en cuenta una condicion...supongamos que quiero el precio de los autos que pesas mas de 3600..usemos loc!\n",
    "\n",
    "Autos.loc[Autos.Peso >= 3600,'Precio']"
   ]
  },
  {
   "cell_type": "markdown",
   "metadata": {},
   "source": [
    "Nota!!! hay otra forma de escribir lo mismo...es la siguiente!!"
   ]
  },
  {
   "cell_type": "code",
   "execution_count": null,
   "metadata": {},
   "outputs": [],
   "source": [
    "Autos.loc[Autos[\"Peso\"] >= 3600,'Precio']"
   ]
  },
  {
   "cell_type": "markdown",
   "metadata": {},
   "source": [
    "Un concepto importante es que podemos tambien trabajar con operaciones vectorizadas en un dataframe, lo vemos? primero voy a crear un dataframe nuevo!"
   ]
  },
  {
   "cell_type": "code",
   "execution_count": null,
   "metadata": {},
   "outputs": [],
   "source": [
    "# nuevo dataframe con pesos y largo de los autos\n",
    "\n",
    "largo = [179, 179, 192, 192, 180]\n",
    "Autos_2 = pd.DataFrame({'Peso':peso,'Largo':largo},index=modelos)\n",
    "Autos_2"
   ]
  },
  {
   "cell_type": "code",
   "execution_count": null,
   "metadata": {},
   "outputs": [],
   "source": [
    "# supongamos que yo quiero comparar a los autos, y tomo como ejemplo al primero de mi dataframe (es decir en la posicion cero) y quiero ver los valores relativos a mi auto de ejemplo.\n",
    "\n",
    "Autos_2 / Autos_2.iloc[0] * 100"
   ]
  },
  {
   "cell_type": "markdown",
   "metadata": {},
   "source": [
    "En lugar de hacer esto, podriamos utilizar un metodo llamado \"pct_change()\" que nos permite calcular el cambio porcentual en base al valor anterior (recordar que es base al valor anterior!)"
   ]
  },
  {
   "cell_type": "code",
   "execution_count": null,
   "metadata": {},
   "outputs": [],
   "source": [
    "Autos_2['Cambio Porcentual Largo'] = Autos_2['Largo'].pct_change()\n",
    "Autos_2"
   ]
  },
  {
   "cell_type": "code",
   "execution_count": null,
   "metadata": {
    "colab": {
     "base_uri": "https://localhost:8080/",
     "height": 238
    },
    "executionInfo": {
     "elapsed": 269,
     "status": "ok",
     "timestamp": 1640302619052,
     "user": {
      "displayName": "david francisco bustos usta",
      "photoUrl": "https://lh3.googleusercontent.com/a-/AOh14Gi4e7mWJaOA2l-1KUn-omyigRGSrm83lG6XLzS5=s64",
      "userId": "04741209928239412574"
     },
     "user_tz": 300
    },
    "id": "VXzbE9vwovjP",
    "outputId": "3e9c53c2-3630-4faa-db48-f2c77226a72c"
   },
   "outputs": [],
   "source": [
    "# Creemos un dataframe directamente con las listas en un solo paso!\n",
    "\n",
    "valores= [1000, 3500, 3000, 4000, 3000 , 2450]\n",
    "nombres= ['David','Juan','Pedro','Lucas','Andrea','Felipe']\n",
    "genero=['M','M','M','M','F','M']\n",
    "\n",
    "df= pd.DataFrame(data={'salarios':valores, 'genero':genero},index=nombres)\n",
    "df"
   ]
  },
  {
   "cell_type": "code",
   "execution_count": null,
   "metadata": {},
   "outputs": [],
   "source": [
    "df.index"
   ]
  },
  {
   "cell_type": "code",
   "execution_count": null,
   "metadata": {},
   "outputs": [],
   "source": [
    "df.columns"
   ]
  },
  {
   "cell_type": "code",
   "execution_count": null,
   "metadata": {},
   "outputs": [],
   "source": [
    "df.values"
   ]
  },
  {
   "cell_type": "markdown",
   "metadata": {},
   "source": [
    "Como no nos gusta ver este dataframe en esta perspectiva, podriamos cambiar el eje X por el eje Y, es decir \"transponer\" el dataframe....lo hacemos simple con la letra \"T\""
   ]
  },
  {
   "cell_type": "code",
   "execution_count": null,
   "metadata": {},
   "outputs": [],
   "source": [
    "df.T"
   ]
  },
  {
   "cell_type": "code",
   "execution_count": null,
   "metadata": {
    "colab": {
     "base_uri": "https://localhost:8080/"
    },
    "executionInfo": {
     "elapsed": 5,
     "status": "ok",
     "timestamp": 1640302620472,
     "user": {
      "displayName": "david francisco bustos usta",
      "photoUrl": "https://lh3.googleusercontent.com/a-/AOh14Gi4e7mWJaOA2l-1KUn-omyigRGSrm83lG6XLzS5=s64",
      "userId": "04741209928239412574"
     },
     "user_tz": 300
    },
    "id": "qsaA9EVopWCt",
    "outputId": "2fbd2e27-bb0b-4924-9a31-03c61f209337"
   },
   "outputs": [],
   "source": [
    "# filtremos por genero, pero cuidado! aca guardaremos los resultados en una nueva variable!\n",
    "\n",
    "df_m= df[df['genero']=='M']\n",
    "print(df_m)\n",
    "\n",
    "print('------')\n",
    "\n",
    "df_f=df[df['genero']=='F']\n",
    "print(df_f)"
   ]
  },
  {
   "cell_type": "code",
   "execution_count": null,
   "metadata": {
    "colab": {
     "base_uri": "https://localhost:8080/"
    },
    "executionInfo": {
     "elapsed": 440,
     "status": "ok",
     "timestamp": 1640302832683,
     "user": {
      "displayName": "david francisco bustos usta",
      "photoUrl": "https://lh3.googleusercontent.com/a-/AOh14Gi4e7mWJaOA2l-1KUn-omyigRGSrm83lG6XLzS5=s64",
      "userId": "04741209928239412574"
     },
     "user_tz": 300
    },
    "id": "Pv2Nwu0BqgZ0",
    "outputId": "aa91cc01-7bf2-4b91-da5a-ad0f9975c4d9"
   },
   "outputs": [],
   "source": [
    "# Otra forma...teniendo en cuenta una condicion o FILTRO ya armado\n",
    "\n",
    "condicion_h = df['genero']=='M'\n",
    "condicion_m = df['genero']=='F'\n",
    "\n",
    "print(df[condicion_h])\n",
    "print('-------------')\n",
    "print(df[condicion_m])"
   ]
  },
  {
   "cell_type": "code",
   "execution_count": null,
   "metadata": {
    "colab": {
     "base_uri": "https://localhost:8080/"
    },
    "executionInfo": {
     "elapsed": 309,
     "status": "ok",
     "timestamp": 1640302721082,
     "user": {
      "displayName": "david francisco bustos usta",
      "photoUrl": "https://lh3.googleusercontent.com/a-/AOh14Gi4e7mWJaOA2l-1KUn-omyigRGSrm83lG6XLzS5=s64",
      "userId": "04741209928239412574"
     },
     "user_tz": 300
    },
    "id": "s_KCupa4ptGH",
    "outputId": "332c27cc-843c-4bbc-f084-124231690730"
   },
   "outputs": [],
   "source": [
    "# Algunas cosas adicionales\n",
    "\n",
    "df.loc['David'][['salarios','genero']]"
   ]
  },
  {
   "cell_type": "code",
   "execution_count": null,
   "metadata": {
    "colab": {
     "base_uri": "https://localhost:8080/",
     "height": 112
    },
    "executionInfo": {
     "elapsed": 264,
     "status": "ok",
     "timestamp": 1640302733762,
     "user": {
      "displayName": "david francisco bustos usta",
      "photoUrl": "https://lh3.googleusercontent.com/a-/AOh14Gi4e7mWJaOA2l-1KUn-omyigRGSrm83lG6XLzS5=s64",
      "userId": "04741209928239412574"
     },
     "user_tz": 300
    },
    "id": "6XxDVtzAqUZ4",
    "outputId": "1cacf7fa-bacc-4337-bc11-53801be8e8a4"
   },
   "outputs": [],
   "source": [
    "df.loc[['David','Juan']][['salarios','genero']]"
   ]
  },
  {
   "cell_type": "markdown",
   "metadata": {},
   "source": [
    "----"
   ]
  },
  {
   "cell_type": "markdown",
   "metadata": {
    "id": "WUA7-zARStyN"
   },
   "source": [
    "# Lectura de csv t txt"
   ]
  },
  {
   "cell_type": "markdown",
   "metadata": {},
   "source": [
    "Antes que nada, deberia saber donde estamos parados, ya que lo recomendable es que usemos los archivos con datos del mismo directorio, pero como sabemos en que directorio estamos parados? podemos usar pwd."
   ]
  },
  {
   "cell_type": "code",
   "execution_count": null,
   "metadata": {},
   "outputs": [],
   "source": [
    "pwd"
   ]
  },
  {
   "cell_type": "code",
   "execution_count": null,
   "metadata": {},
   "outputs": [],
   "source": [
    "os.listdir('C:\\\\Users\\\\Ignacio\\\\Documents\\\\CODERHOUSE')"
   ]
  },
  {
   "cell_type": "markdown",
   "metadata": {},
   "source": [
    "Perfecto! ahora se que archivos tengo! y sobre todo sus extensiones"
   ]
  },
  {
   "cell_type": "markdown",
   "metadata": {},
   "source": [
    "### Desde entorno local (lectura CSV)"
   ]
  },
  {
   "cell_type": "code",
   "execution_count": null,
   "metadata": {},
   "outputs": [],
   "source": [
    "# leyendo un csv\n",
    "\n",
    "import pandas as pd\n",
    "\n",
    "mi_csv = \"winequality-red.csv\" # mis datos\n",
    "\n",
    "df= pd.read_csv(mi_csv,sep=',') # uso read_csv ya que es un CSV y le digo como esta separado el CSV \n",
    "\n",
    "df.head() # Este head() me trae los primeros 5 datos del csv, si le ponemos un numero adentro me traera esa cantidad."
   ]
  },
  {
   "cell_type": "code",
   "execution_count": null,
   "metadata": {},
   "outputs": [],
   "source": [
    "# Tengo muchas columnas!!! como podria verlas y solo elegir las que necesito?\n",
    "\n",
    "df.columns # el .columns me da las columnas de mi dataframe"
   ]
  },
  {
   "cell_type": "code",
   "execution_count": null,
   "metadata": {},
   "outputs": [],
   "source": [
    "# Ok, solo necesito 'density','pH','sulphates','alcohol','quality'\n",
    "\n",
    "df[['density','pH','sulphates','alcohol','quality']].head()"
   ]
  },
  {
   "cell_type": "code",
   "execution_count": null,
   "metadata": {},
   "outputs": [],
   "source": [
    "# pero es un dataframe grande en cantidad de registros...si quisiera ver los ultimos? utilizo el metodo \"tail()\"\n",
    "\n",
    "df[['density','pH','sulphates','alcohol','quality']].tail()"
   ]
  },
  {
   "cell_type": "markdown",
   "metadata": {},
   "source": [
    "### Desde Google Colab (lectura CSV)"
   ]
  },
  {
   "cell_type": "code",
   "execution_count": null,
   "metadata": {
    "colab": {
     "base_uri": "https://localhost:8080/"
    },
    "executionInfo": {
     "elapsed": 4218,
     "status": "ok",
     "timestamp": 1640281125261,
     "user": {
      "displayName": "david francisco bustos usta",
      "photoUrl": "https://lh3.googleusercontent.com/a-/AOh14Gi4e7mWJaOA2l-1KUn-omyigRGSrm83lG6XLzS5=s64",
      "userId": "04741209928239412574"
     },
     "user_tz": 300
    },
    "id": "1X1zRCSjVh_M",
    "outputId": "8f938195-90ec-47d2-c0d4-d4597a12df37"
   },
   "outputs": [],
   "source": [
    "from google.colab import drive\n",
    "import os\n",
    "drive.mount('/content/gdrive')"
   ]
  },
  {
   "cell_type": "code",
   "execution_count": null,
   "metadata": {
    "colab": {
     "base_uri": "https://localhost:8080/"
    },
    "executionInfo": {
     "elapsed": 286,
     "status": "ok",
     "timestamp": 1640280984514,
     "user": {
      "displayName": "david francisco bustos usta",
      "photoUrl": "https://lh3.googleusercontent.com/a-/AOh14Gi4e7mWJaOA2l-1KUn-omyigRGSrm83lG6XLzS5=s64",
      "userId": "04741209928239412574"
     },
     "user_tz": 300
    },
    "id": "sbNsOIcAXLSC",
    "outputId": "3654a33a-4c9a-4fe0-e0e4-504d39378337"
   },
   "outputs": [],
   "source": [
    "%cd '/content/gdrive/MyDrive'\n",
    "df= pd.read_csv('winequality-red.csv',sep=',')\n",
    "print(df[['density','pH','sulphates','alcohol','quality']].head())"
   ]
  },
  {
   "cell_type": "markdown",
   "metadata": {},
   "source": [
    "### Desde entorno local (lectura txt)"
   ]
  },
  {
   "cell_type": "code",
   "execution_count": null,
   "metadata": {},
   "outputs": [],
   "source": [
    "# leyendo un txt\n",
    "\n",
    "import pandas as pd\n",
    "\n",
    "mi_txt = \"pokemon_data.txt\" # mis datos\n",
    "\n",
    "df= pd.read_csv(mi_txt,delimiter='\\t') # uso read_csv ya que es un TXT y le digo como esta delimitado el TXT \n",
    "\n",
    "df[['Name','Type 1','HP','Attack','Defense']].head() # quiero ver esas columnas, las primeras (uso el metodo \"head()\")"
   ]
  },
  {
   "cell_type": "markdown",
   "metadata": {},
   "source": [
    "### Desde Google Colab (lectura txt)"
   ]
  },
  {
   "cell_type": "code",
   "execution_count": null,
   "metadata": {
    "colab": {
     "base_uri": "https://localhost:8080/"
    },
    "executionInfo": {
     "elapsed": 380,
     "status": "ok",
     "timestamp": 1640281178996,
     "user": {
      "displayName": "david francisco bustos usta",
      "photoUrl": "https://lh3.googleusercontent.com/a-/AOh14Gi4e7mWJaOA2l-1KUn-omyigRGSrm83lG6XLzS5=s64",
      "userId": "04741209928239412574"
     },
     "user_tz": 300
    },
    "id": "EewYtQM3XzPL",
    "outputId": "387719b4-6e00-4ec5-e92d-59d2dbc775fe"
   },
   "outputs": [],
   "source": [
    "%cd '/content/gdrive/MyDrive'\n",
    "df= pd.read_csv('pokemon_data.txt',delimiter='\\t')\n",
    "print(df[['Name','Type 1','HP','Attack','Defense']].head())"
   ]
  },
  {
   "cell_type": "markdown",
   "metadata": {
    "id": "mP1vJAa-S0rV"
   },
   "source": [
    "### Desde entorno local (lectura xlsx)"
   ]
  },
  {
   "cell_type": "code",
   "execution_count": null,
   "metadata": {},
   "outputs": [],
   "source": [
    "# leyendo un xlsx\n",
    "\n",
    "import pandas as pd\n",
    "\n",
    "mi_xlsx = \"defaultoutput.xlsx\" # mis datos\n",
    "\n",
    "df= pd.read_excel(mi_xlsx) # uso read_excel ya que es un xlsx.\n",
    "\n",
    "df[['index','ID','Year_Birth','Education','Income']].head() # quiero ver esas columnas, las primeras (uso el metodo \"head()\")"
   ]
  },
  {
   "cell_type": "markdown",
   "metadata": {},
   "source": [
    "### Desde Google Colab (lectura xlsx)"
   ]
  },
  {
   "cell_type": "code",
   "execution_count": null,
   "metadata": {
    "colab": {
     "base_uri": "https://localhost:8080/"
    },
    "executionInfo": {
     "elapsed": 2368,
     "status": "ok",
     "timestamp": 1640280768637,
     "user": {
      "displayName": "david francisco bustos usta",
      "photoUrl": "https://lh3.googleusercontent.com/a-/AOh14Gi4e7mWJaOA2l-1KUn-omyigRGSrm83lG6XLzS5=s64",
      "userId": "04741209928239412574"
     },
     "user_tz": 300
    },
    "id": "J_zpcwnaS0nQ",
    "outputId": "078328bb-08a0-4564-a58f-08ef9dd355d7"
   },
   "outputs": [],
   "source": [
    "%cd '/content/gdrive/MyDrive'\n",
    "df= pd.read_excel('defaultoutput.xlsx')\n",
    "print(df[['index','ID','Year_Birth','Education','Income']].head())"
   ]
  },
  {
   "cell_type": "markdown",
   "metadata": {
    "id": "R8WGdo9RS2I0"
   },
   "source": [
    "# Lectura desde Github /Apis"
   ]
  },
  {
   "cell_type": "code",
   "execution_count": null,
   "metadata": {
    "colab": {
     "base_uri": "https://localhost:8080/"
    },
    "executionInfo": {
     "elapsed": 267,
     "status": "ok",
     "timestamp": 1640280015379,
     "user": {
      "displayName": "david francisco bustos usta",
      "photoUrl": "https://lh3.googleusercontent.com/a-/AOh14Gi4e7mWJaOA2l-1KUn-omyigRGSrm83lG6XLzS5=s64",
      "userId": "04741209928239412574"
     },
     "user_tz": 300
    },
    "id": "1dpyS-ywTWyw",
    "outputId": "18925378-662c-45b9-e842-607434b1ef44"
   },
   "outputs": [],
   "source": [
    "import pandas as pd\n",
    "\n",
    "url = 'https://raw.githubusercontent.com/JJTorresDS/stocks-ds-edu/main/stocks.csv'\n",
    "df = pd.read_csv(url, index_col=0)\n",
    "print(df[['AMZN','MCD','SBUX','GOOG','MSFT']].head(5).round(1))"
   ]
  },
  {
   "cell_type": "markdown",
   "metadata": {},
   "source": [
    "---"
   ]
  },
  {
   "cell_type": "markdown",
   "metadata": {
    "id": "Ofv1tHEg7dVT"
   },
   "source": [
    "# Lectura de informacion  --EJERCICIO--\n",
    "\n",
    "Los datos se encuentran en la siguiente link:\n",
    "[Data Acciones](https://raw.githubusercontent.com/JJTorresDS/stocks-ds-edu/main/stocks.csv)\n",
    "\n"
   ]
  },
  {
   "cell_type": "code",
   "execution_count": null,
   "metadata": {
    "colab": {
     "base_uri": "https://localhost:8080/"
    },
    "executionInfo": {
     "elapsed": 508,
     "status": "ok",
     "timestamp": 1639585950270,
     "user": {
      "displayName": "david francisco bustos usta",
      "photoUrl": "https://lh3.googleusercontent.com/a-/AOh14Gi4e7mWJaOA2l-1KUn-omyigRGSrm83lG6XLzS5=s64",
      "userId": "04741209928239412574"
     },
     "user_tz": 300
    },
    "id": "UBQeIbm17wPf",
    "outputId": "10be5729-75f4-4b1b-c49a-2f5bb8600494"
   },
   "outputs": [],
   "source": [
    "import pandas as pd\n",
    "\n",
    "url = 'https://raw.githubusercontent.com/JJTorresDS/stocks-ds-edu/main/stocks.csv'\n",
    "df = pd.read_csv(url)\n",
    "df.head()"
   ]
  }
 ],
 "metadata": {
  "colab": {
   "authorship_tag": "ABX9TyO9lDjLixRfgGp8QGQPvQa+",
   "collapsed_sections": [],
   "name": "Clase02_Acciones.ipynb",
   "provenance": []
  },
  "kernelspec": {
   "display_name": "Python 3 (ipykernel)",
   "language": "python",
   "name": "python3"
  },
  "language_info": {
   "codemirror_mode": {
    "name": "ipython",
    "version": 3
   },
   "file_extension": ".py",
   "mimetype": "text/x-python",
   "name": "python",
   "nbconvert_exporter": "python",
   "pygments_lexer": "ipython3",
   "version": "3.9.12"
  }
 },
 "nbformat": 4,
 "nbformat_minor": 1
}
