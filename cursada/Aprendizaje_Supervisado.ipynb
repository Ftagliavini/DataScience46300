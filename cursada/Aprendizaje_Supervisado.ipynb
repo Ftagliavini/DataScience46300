{
  "cells": [
    {
      "cell_type": "markdown",
      "id": "ce2c1acb",
      "metadata": {
        "id": "ce2c1acb"
      },
      "source": [
        "# Arbol de decisión\n"
      ]
    },
    {
      "cell_type": "code",
      "execution_count": null,
      "id": "4c0d9604",
      "metadata": {
        "id": "4c0d9604"
      },
      "outputs": [],
      "source": [
        "from sklearn.datasets import load_iris # datos de iris\n",
        "from sklearn.tree import DecisionTreeClassifier # árbol de decisión para clasificación\n",
        "from sklearn.tree import plot_tree\n",
        "from sklearn.model_selection import train_test_split\n",
        "\n",
        "import pandas as pd\n",
        "import matplotlib.pyplot as plt\n",
        "iris = load_iris()"
      ]
    },
    {
      "cell_type": "code",
      "execution_count": null,
      "id": "4b2558a5",
      "metadata": {
        "colab": {
          "base_uri": "https://localhost:8080/"
        },
        "id": "4b2558a5",
        "outputId": "d63fe457-e876-464f-ee18-430505dae327"
      },
      "outputs": [
        {
          "output_type": "execute_result",
          "data": {
            "text/plain": [
              "DecisionTreeClassifier(max_depth=3, random_state=42)"
            ]
          },
          "metadata": {},
          "execution_count": 2
        }
      ],
      "source": [
        "#    :Informacion importante:\n",
        "#        - sepal length en cm\n",
        "#        - sepal width en cm\n",
        "#        - petal length en cm\n",
        "#        - petal width en cm\n",
        "#        - clases:\n",
        "#                - Iris-Setosa\n",
        "#                - Iris-Versicolour\n",
        "#                - Iris-Virginica\n",
        "\n",
        "\n",
        "# La clase 0 es Iris-Setosa, la 1 es Iris-Versicolor y la 2 es Iris-Virginica\n",
        "\n",
        "# Vamos a crear y entrenar un árbol de decisión para clasificar los datos de Iris\n",
        "tree = DecisionTreeClassifier(max_depth=3, random_state=42)\n",
        "\n",
        "X_train, X_test, y_train, y_test = train_test_split(iris.data, iris.target)\n",
        "\n",
        "tree.fit(X_train, y_train) # entrenamiento del árbol"
      ]
    },
    {
      "cell_type": "code",
      "execution_count": null,
      "id": "1381577d",
      "metadata": {
        "colab": {
          "base_uri": "https://localhost:8080/"
        },
        "id": "1381577d",
        "outputId": "09c4703d-0f54-4f79-9daa-27baa87112c8"
      },
      "outputs": [
        {
          "output_type": "stream",
          "name": "stdout",
          "text": [
            "[1 2 2 2 0 0 0 2 0 2 0 1 2 1 1 1 1 0 1 2 1 1 0 0 0 0 0 2 1 0 2 1 1 1 2 2 2\n",
            " 0]\n",
            "[1 2 2 2 0 0 0 2 0 2 0 1 2 1 1 2 1 0 1 2 1 1 0 0 0 0 0 2 1 0 2 1 1 2 2 2 2\n",
            " 0]\n"
          ]
        }
      ],
      "source": [
        "# podemos usar el método predict para obtener predicciones\n",
        "print(tree.predict(X_test))\n",
        "print(y_test)"
      ]
    },
    {
      "cell_type": "code",
      "execution_count": null,
      "id": "a255100c",
      "metadata": {
        "colab": {
          "base_uri": "https://localhost:8080/"
        },
        "id": "a255100c",
        "outputId": "78b9d60f-1c3e-475e-af57-11b9efdea06d"
      },
      "outputs": [
        {
          "output_type": "stream",
          "name": "stdout",
          "text": [
            "[[0.         0.5        0.5       ]\n",
            " [0.         0.02941176 0.97058824]\n",
            " [0.         0.02941176 0.97058824]\n",
            " [0.         0.02941176 0.97058824]\n",
            " [1.         0.         0.        ]\n",
            " [1.         0.         0.        ]\n",
            " [1.         0.         0.        ]\n",
            " [0.         0.02941176 0.97058824]\n",
            " [1.         0.         0.        ]\n",
            " [0.         0.02941176 0.97058824]\n",
            " [1.         0.         0.        ]\n",
            " [0.         1.         0.        ]\n",
            " [0.         0.02941176 0.97058824]\n",
            " [0.         1.         0.        ]\n",
            " [0.         1.         0.        ]\n",
            " [0.         0.5        0.5       ]\n",
            " [0.         1.         0.        ]\n",
            " [1.         0.         0.        ]\n",
            " [0.         1.         0.        ]\n",
            " [0.         0.02941176 0.97058824]\n",
            " [0.         1.         0.        ]\n",
            " [0.         1.         0.        ]\n",
            " [1.         0.         0.        ]\n",
            " [1.         0.         0.        ]\n",
            " [1.         0.         0.        ]\n",
            " [1.         0.         0.        ]\n",
            " [1.         0.         0.        ]\n",
            " [0.         0.02941176 0.97058824]\n",
            " [0.         1.         0.        ]\n",
            " [1.         0.         0.        ]\n",
            " [0.         0.02941176 0.97058824]\n",
            " [0.         1.         0.        ]\n",
            " [0.         0.5        0.5       ]\n",
            " [0.         1.         0.        ]\n",
            " [0.         0.02941176 0.97058824]\n",
            " [0.         0.02941176 0.97058824]\n",
            " [0.         0.02941176 0.97058824]\n",
            " [1.         0.         0.        ]]\n"
          ]
        }
      ],
      "source": [
        "# si queremos saber las probabilidades podemos usar el método predict_proba\n",
        "print(tree.predict_proba(X_test))"
      ]
    },
    {
      "cell_type": "code",
      "execution_count": null,
      "id": "0d23cef1",
      "metadata": {
        "colab": {
          "base_uri": "https://localhost:8080/"
        },
        "id": "0d23cef1",
        "outputId": "8d4b9d44-84e0-4657-ad65-9edeffe3abb6"
      },
      "outputs": [
        {
          "output_type": "execute_result",
          "data": {
            "text/plain": [
              "0.9473684210526315"
            ]
          },
          "metadata": {},
          "execution_count": 5
        }
      ],
      "source": [
        "tree.score(X_test, y_test)"
      ]
    },
    {
      "cell_type": "code",
      "execution_count": null,
      "id": "4801c170",
      "metadata": {
        "colab": {
          "base_uri": "https://localhost:8080/",
          "height": 466
        },
        "id": "4801c170",
        "outputId": "42802a74-1491-47a5-a6f5-9bd42fa1b54b"
      },
      "outputs": [
        {
          "output_type": "display_data",
          "data": {
            "text/plain": [
              "<Figure size 864x576 with 1 Axes>"
            ],
            "image/png": "[encoded data removed]"
          },
          "metadata": {
            "needs_background": "light"
          }
        }
      ],
      "source": [
        "plt.figure(figsize=(12,8))\n",
        "plot_tree(decision_tree = tree, feature_names=iris.feature_names, filled = True);"
      ]
    },
    {
      "cell_type": "markdown",
      "id": "860ad259",
      "metadata": {
        "id": "860ad259"
      },
      "source": [
        "#  KNN"
      ]
    },
    {
      "cell_type": "code",
      "execution_count": null,
      "id": "8d9016cc",
      "metadata": {
        "id": "8d9016cc"
      },
      "outputs": [],
      "source": [
        "import matplotlib.pyplot as plt\n",
        "import pandas as pd\n",
        "from sklearn.neighbors import KNeighborsClassifier"
      ]
    },
    {
      "cell_type": "code",
      "execution_count": null,
      "id": "5a8386a5",
      "metadata": {
        "colab": {
          "base_uri": "https://localhost:8080/",
          "height": 279
        },
        "id": "5a8386a5",
        "outputId": "d5cc9181-10a7-473c-d7c6-a7dc0f3a8e43"
      },
      "outputs": [
        {
          "output_type": "display_data",
          "data": {
            "text/plain": [
              "<Figure size 432x288 with 1 Axes>"
            ],
            "image/png": "[encoded data removed]"
          },
          "metadata": {
            "needs_background": "light"
          }
        }
      ],
      "source": [
        "data = {'Masa': [50, 80, 90, 45, 60, 60, 30, 70, 70, 55],\n",
        "        'Altura': [1.48, 1.82, 1.85, 1.55, 1.60, 1.58, 1.92, 1.95, 1.70, 1.45],\n",
        "        'Genero': ['m', 'h', 'h', 'm', 'm', 'm', 'h', 'h', 'm', 'm']}\n",
        "\n",
        "punto_nuevo = {'Masa': [70],\n",
        "               'Altura': [1.82]}\n",
        "\n",
        "df = pd.DataFrame(data)\n",
        "punto_nuevo = pd.DataFrame(punto_nuevo)\n",
        "\n",
        "ax = plt.axes()\n",
        "\n",
        "ax.scatter(df.loc[df['Genero'] == 'h', 'Masa'],\n",
        "           df.loc[df['Genero'] == 'h', 'Altura'],\n",
        "           c=\"red\",\n",
        "           label=\"Hombre\")\n",
        "ax.scatter(df.loc[df['Genero'] == 'm', 'Masa'],\n",
        "           df.loc[df['Genero'] == 'm', 'Altura'],\n",
        "           c=\"blue\",\n",
        "           label=\"Mujer\")\n",
        "ax.scatter(punto_nuevo['Masa'],\n",
        "           punto_nuevo['Altura'],\n",
        "           c=\"black\")\n",
        "plt.xlabel(\"Masa\")\n",
        "plt.ylabel(\"Altura\")\n",
        "ax.legend()\n",
        "plt.show()"
      ]
    },
    {
      "cell_type": "code",
      "execution_count": null,
      "id": "d0a5011c",
      "metadata": {
        "colab": {
          "base_uri": "https://localhost:8080/"
        },
        "id": "d0a5011c",
        "outputId": "6798de3f-52f0-4fa8-cd0b-7339c1b52eda"
      },
      "outputs": [
        {
          "output_type": "execute_result",
          "data": {
            "text/plain": [
              "KNeighborsClassifier(n_neighbors=3)"
            ]
          },
          "metadata": {},
          "execution_count": 21
        }
      ],
      "source": [
        "knn = KNeighborsClassifier(n_neighbors=3)\n",
        "X = df[['Masa', 'Altura']]\n",
        "y = df['Genero']\n",
        "\n",
        "knn.fit(X, y)\n"
      ]
    },
    {
      "cell_type": "code",
      "execution_count": null,
      "id": "0147f337",
      "metadata": {
        "colab": {
          "base_uri": "https://localhost:8080/"
        },
        "id": "0147f337",
        "outputId": "1c98405c-f4b0-47eb-d176-34141ab9bd7b"
      },
      "outputs": [
        {
          "output_type": "stream",
          "name": "stdout",
          "text": [
            "['h']\n"
          ]
        }
      ],
      "source": [
        "prediccion = knn.predict(punto_nuevo) # Clasificando el modelo en una categoría\n",
        "print(prediccion)"
      ]
    },
    {
      "cell_type": "code",
      "execution_count": null,
      "id": "dca8ff95",
      "metadata": {
        "colab": {
          "base_uri": "https://localhost:8080/"
        },
        "id": "dca8ff95",
        "outputId": "449c7fb3-f559-46cd-d301-9fc9562bbe38"
      },
      "outputs": [
        {
          "output_type": "stream",
          "name": "stdout",
          "text": [
            "[[0.66666667 0.33333333]]\n"
          ]
        }
      ],
      "source": [
        "prediccion = knn.predict_proba(punto_nuevo) # Predicción\n",
        "print(prediccion)"
      ]
    },
    {
      "cell_type": "markdown",
      "id": "4af6ba53",
      "metadata": {
        "id": "4af6ba53"
      },
      "source": [
        "# Regresion Logistica\n",
        "    Vamos a suponer que queremos predecir cuál es la probabilidad que tiene un estudiante de aprobar un examen en función de las horas que ha estudiado"
      ]
    },
    {
      "cell_type": "code",
      "execution_count": null,
      "id": "517044f1",
      "metadata": {
        "id": "517044f1"
      },
      "outputs": [],
      "source": [
        "import numpy as np\n",
        "from sklearn.linear_model import LogisticRegression"
      ]
    },
    {
      "cell_type": "code",
      "execution_count": null,
      "id": "0d7b020c",
      "metadata": {
        "id": "0d7b020c"
      },
      "outputs": [],
      "source": [
        "# Preparamos los datos\n",
        "X = np.array([0.5, 0.75, 1, 1.25, 1.5, 1.75, 1.75, 2, 2.25, 2.5, 2.75, 3, 3.25, 3.5, 4, 4.25, 4.5, 4.75, 5, 5.5]).reshape(-1,1)\n",
        "y = np.array([0, 0, 0, 0, 0, 0, 1, 0, 1, 0, 1, 0, 1, 0, 1, 1, 1, 1, 1, 1])"
      ]
    },
    {
      "cell_type": "code",
      "execution_count": null,
      "id": "8c29fbee",
      "metadata": {
        "colab": {
          "base_uri": "https://localhost:8080/"
        },
        "id": "8c29fbee",
        "outputId": "1e54dfdd-dafa-41b8-c7bb-f9a3f379e857"
      },
      "outputs": [
        {
          "output_type": "execute_result",
          "data": {
            "text/plain": [
              "LogisticRegression()"
            ]
          },
          "metadata": {},
          "execution_count": 26
        }
      ],
      "source": [
        "regresion_logistica = LogisticRegression()\n",
        "regresion_logistica.fit(X,y)"
      ]
    },
    {
      "cell_type": "code",
      "execution_count": null,
      "id": "1f80e010",
      "metadata": {
        "colab": {
          "base_uri": "https://localhost:8080/"
        },
        "id": "1f80e010",
        "outputId": "a3996ce6-7003-4183-b251-e0ec018ca961"
      },
      "outputs": [
        {
          "output_type": "stream",
          "name": "stdout",
          "text": [
            "[0 0 1 1 1 1]\n"
          ]
        }
      ],
      "source": [
        "X_nuevo = np.array([1, 2, 3, 4, 5, 6]).reshape(-1,1)\n",
        "prediccion = regresion_logistica.predict(X_nuevo)\n",
        "print(prediccion)"
      ]
    },
    {
      "cell_type": "code",
      "execution_count": null,
      "id": "eef22c07",
      "metadata": {
        "colab": {
          "base_uri": "https://localhost:8080/"
        },
        "id": "eef22c07",
        "outputId": "b7782993-54e9-4222-80f5-bbd318534054"
      },
      "outputs": [
        {
          "output_type": "stream",
          "name": "stdout",
          "text": [
            "[[0.87984046 0.12015954]\n",
            " [0.69895285 0.30104715]\n",
            " [0.42402118 0.57597882]\n",
            " [0.18924992 0.81075008]\n",
            " [0.06891381 0.93108619]\n",
            " [0.02293029 0.97706971]]\n"
          ]
        }
      ],
      "source": [
        "probabilidades_prediccion = regresion_logistica.predict_proba(X_nuevo)\n",
        "print(probabilidades_prediccion)\n",
        "# La primer columna es la probabilidad de desaprobar y la segunda de aprobar"
      ]
    },
    {
      "cell_type": "code",
      "execution_count": null,
      "id": "42049003",
      "metadata": {
        "colab": {
          "base_uri": "https://localhost:8080/"
        },
        "id": "42049003",
        "outputId": "db46f098-7609-4498-837e-c88a2a475f70"
      },
      "outputs": [
        {
          "output_type": "stream",
          "name": "stdout",
          "text": [
            "[0.12015954 0.30104715 0.57597882 0.81075008 0.93108619 0.97706971]\n"
          ]
        }
      ],
      "source": [
        "print(probabilidades_prediccion[:,1])"
      ]
    },
    {
      "cell_type": "code",
      "execution_count": null,
      "id": "4be2b1c7",
      "metadata": {
        "id": "4be2b1c7"
      },
      "outputs": [],
      "source": []
    }
  ],
  "metadata": {
    "kernelspec": {
      "display_name": "Python 3 (ipykernel)",
      "language": "python",
      "name": "python3"
    },
    "language_info": {
      "codemirror_mode": {
        "name": "ipython",
        "version": 3
      },
      "file_extension": ".py",
      "mimetype": "text/x-python",
      "name": "python",
      "nbconvert_exporter": "python",
      "pygments_lexer": "ipython3",
      "version": "3.9.5"
    },
    "colab": {
      "provenance": []
    }
  },
  "nbformat": 4,
  "nbformat_minor": 5
}