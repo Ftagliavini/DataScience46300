{
 "cells": [
  {
   "cell_type": "code",
   "execution_count": 3,
   "id": "c0d73cc5-0f80-4a0f-927d-f21ac3cb6a47",
   "metadata": {},
   "outputs": [],
   "source": [
    "import numpy as np\n",
    "import pandas as pd \n",
    "import matplotlib.pyplot as plt \n",
    "import seaborn as sns \n",
    "%matplotlib inline\n",
    "\n",
    "import os"
   ]
  },
  {
   "cell_type": "code",
   "execution_count": 9,
   "id": "0168c073-9789-4aac-8b2c-06f859b3306c",
   "metadata": {},
   "outputs": [
    {
     "name": "stdout",
     "output_type": "stream",
     "text": [
      "data/Live.csv\n"
     ]
    }
   ],
   "source": [
    "for dirname, _, filenames in os.walk('data/'):\n",
    "    for filename in filenames:\n",
    "        print(os.path.join(dirname, filename))"
   ]
  },
  {
   "cell_type": "markdown",
   "id": "8b6048ea-3fab-4729-8c2f-efbc4796b076",
   "metadata": {},
   "source": [
    "# ETL"
   ]
  },
  {
   "cell_type": "code",
   "execution_count": 8,
   "id": "959f44d1-fef1-4fb2-a633-ef1adcc116c4",
   "metadata": {},
   "outputs": [],
   "source": [
    "import warnings\n",
    "\n",
    "warnings.filterwarnings('ignore')"
   ]
  },
  {
   "cell_type": "code",
   "execution_count": 18,
   "id": "1a84cfe7-9f28-483d-b662-2aacbd28b311",
   "metadata": {},
   "outputs": [],
   "source": [
    "data = 'data/Live.csv'\n",
    "df = pd.read_csv(data, engine=\"pyarrow\")"
   ]
  },
  {
   "cell_type": "code",
   "execution_count": 21,
   "id": "f145f966-7ec4-49ff-843e-579e83884f28",
   "metadata": {},
   "outputs": [
    {
     "name": "stdout",
     "output_type": "stream",
     "text": [
      "Dimensionalidad: 7050x16\n"
     ]
    }
   ],
   "source": [
    "print(f'Dimensionalidad: {df.shape[0]}x{df.shape[1]}')"
   ]
  },
  {
   "cell_type": "code",
   "execution_count": 23,
   "id": "f5dd99a3-c5e2-46c6-896e-f884f8ef2251",
   "metadata": {},
   "outputs": [
    {
     "data": {
      "text/html": [
       "<div>\n",
       "<style scoped>\n",
       "    .dataframe tbody tr th:only-of-type {\n",
       "        vertical-align: middle;\n",
       "    }\n",
       "\n",
       "    .dataframe tbody tr th {\n",
       "        vertical-align: top;\n",
       "    }\n",
       "\n",
       "    .dataframe thead th {\n",
       "        text-align: right;\n",
       "    }\n",
       "</style>\n",
       "<table border=\"1\" class=\"dataframe\">\n",
       "  <thead>\n",
       "    <tr style=\"text-align: right;\">\n",
       "      <th></th>\n",
       "      <th>status_id</th>\n",
       "      <th>status_type</th>\n",
       "      <th>status_published</th>\n",
       "      <th>num_reactions</th>\n",
       "      <th>num_comments</th>\n",
       "      <th>num_shares</th>\n",
       "      <th>num_likes</th>\n",
       "      <th>num_loves</th>\n",
       "      <th>num_wows</th>\n",
       "      <th>num_hahas</th>\n",
       "      <th>num_sads</th>\n",
       "      <th>num_angrys</th>\n",
       "      <th>Column1</th>\n",
       "      <th>Column2</th>\n",
       "      <th>Column3</th>\n",
       "      <th>Column4</th>\n",
       "    </tr>\n",
       "  </thead>\n",
       "  <tbody>\n",
       "    <tr>\n",
       "      <th>1218</th>\n",
       "      <td>246675545449582_742505282533270</td>\n",
       "      <td>video</td>\n",
       "      <td>4/24/2015 4:26</td>\n",
       "      <td>2374</td>\n",
       "      <td>8</td>\n",
       "      <td>9</td>\n",
       "      <td>2374</td>\n",
       "      <td>0</td>\n",
       "      <td>0</td>\n",
       "      <td>0</td>\n",
       "      <td>0</td>\n",
       "      <td>0</td>\n",
       "      <td>NaN</td>\n",
       "      <td>NaN</td>\n",
       "      <td>NaN</td>\n",
       "      <td>NaN</td>\n",
       "    </tr>\n",
       "    <tr>\n",
       "      <th>4609</th>\n",
       "      <td>725980084255106_841076602745453</td>\n",
       "      <td>status</td>\n",
       "      <td>3/30/2018 1:46</td>\n",
       "      <td>1394</td>\n",
       "      <td>239</td>\n",
       "      <td>7</td>\n",
       "      <td>1365</td>\n",
       "      <td>8</td>\n",
       "      <td>21</td>\n",
       "      <td>0</td>\n",
       "      <td>0</td>\n",
       "      <td>0</td>\n",
       "      <td>NaN</td>\n",
       "      <td>NaN</td>\n",
       "      <td>NaN</td>\n",
       "      <td>NaN</td>\n",
       "    </tr>\n",
       "    <tr>\n",
       "      <th>752</th>\n",
       "      <td>246675545449582_940589126058217</td>\n",
       "      <td>photo</td>\n",
       "      <td>4/23/2016 5:03</td>\n",
       "      <td>534</td>\n",
       "      <td>0</td>\n",
       "      <td>0</td>\n",
       "      <td>526</td>\n",
       "      <td>5</td>\n",
       "      <td>2</td>\n",
       "      <td>0</td>\n",
       "      <td>0</td>\n",
       "      <td>1</td>\n",
       "      <td>NaN</td>\n",
       "      <td>NaN</td>\n",
       "      <td>NaN</td>\n",
       "      <td>NaN</td>\n",
       "    </tr>\n",
       "    <tr>\n",
       "      <th>1128</th>\n",
       "      <td>246675545449582_798726310244500</td>\n",
       "      <td>photo</td>\n",
       "      <td>8/14/2015 23:34</td>\n",
       "      <td>2264</td>\n",
       "      <td>284</td>\n",
       "      <td>78</td>\n",
       "      <td>2264</td>\n",
       "      <td>0</td>\n",
       "      <td>0</td>\n",
       "      <td>0</td>\n",
       "      <td>0</td>\n",
       "      <td>0</td>\n",
       "      <td>NaN</td>\n",
       "      <td>NaN</td>\n",
       "      <td>NaN</td>\n",
       "      <td>NaN</td>\n",
       "    </tr>\n",
       "    <tr>\n",
       "      <th>6735</th>\n",
       "      <td>1050855161656896_1410390842369991</td>\n",
       "      <td>video</td>\n",
       "      <td>10/2/2017 12:19</td>\n",
       "      <td>163</td>\n",
       "      <td>3392</td>\n",
       "      <td>114</td>\n",
       "      <td>122</td>\n",
       "      <td>24</td>\n",
       "      <td>3</td>\n",
       "      <td>7</td>\n",
       "      <td>7</td>\n",
       "      <td>0</td>\n",
       "      <td>NaN</td>\n",
       "      <td>NaN</td>\n",
       "      <td>NaN</td>\n",
       "      <td>NaN</td>\n",
       "    </tr>\n",
       "  </tbody>\n",
       "</table>\n",
       "</div>"
      ],
      "text/plain": [
       "                              status_id status_type status_published  \\\n",
       "1218    246675545449582_742505282533270       video   4/24/2015 4:26   \n",
       "4609    725980084255106_841076602745453      status   3/30/2018 1:46   \n",
       "752     246675545449582_940589126058217       photo   4/23/2016 5:03   \n",
       "1128    246675545449582_798726310244500       photo  8/14/2015 23:34   \n",
       "6735  1050855161656896_1410390842369991       video  10/2/2017 12:19   \n",
       "\n",
       "      num_reactions  num_comments  num_shares  num_likes  num_loves  num_wows  \\\n",
       "1218           2374             8           9       2374          0         0   \n",
       "4609           1394           239           7       1365          8        21   \n",
       "752             534             0           0        526          5         2   \n",
       "1128           2264           284          78       2264          0         0   \n",
       "6735            163          3392         114        122         24         3   \n",
       "\n",
       "      num_hahas  num_sads  num_angrys  Column1  Column2  Column3  Column4  \n",
       "1218          0         0           0      NaN      NaN      NaN      NaN  \n",
       "4609          0         0           0      NaN      NaN      NaN      NaN  \n",
       "752           0         0           1      NaN      NaN      NaN      NaN  \n",
       "1128          0         0           0      NaN      NaN      NaN      NaN  \n",
       "6735          7         7           0      NaN      NaN      NaN      NaN  "
      ]
     },
     "execution_count": 23,
     "metadata": {},
     "output_type": "execute_result"
    }
   ],
   "source": [
    "df.sample(5)"
   ]
  },
  {
   "cell_type": "code",
   "execution_count": 24,
   "id": "f7a9bedb-c065-43b5-892a-abe1ebac074f",
   "metadata": {},
   "outputs": [
    {
     "name": "stdout",
     "output_type": "stream",
     "text": [
      "<class 'pandas.core.frame.DataFrame'>\n",
      "RangeIndex: 7050 entries, 0 to 7049\n",
      "Data columns (total 16 columns):\n",
      " #   Column            Non-Null Count  Dtype  \n",
      "---  ------            --------------  -----  \n",
      " 0   status_id         7050 non-null   object \n",
      " 1   status_type       7050 non-null   object \n",
      " 2   status_published  7050 non-null   object \n",
      " 3   num_reactions     7050 non-null   int64  \n",
      " 4   num_comments      7050 non-null   int64  \n",
      " 5   num_shares        7050 non-null   int64  \n",
      " 6   num_likes         7050 non-null   int64  \n",
      " 7   num_loves         7050 non-null   int64  \n",
      " 8   num_wows          7050 non-null   int64  \n",
      " 9   num_hahas         7050 non-null   int64  \n",
      " 10  num_sads          7050 non-null   int64  \n",
      " 11  num_angrys        7050 non-null   int64  \n",
      " 12  Column1           0 non-null      float64\n",
      " 13  Column2           0 non-null      float64\n",
      " 14  Column3           0 non-null      float64\n",
      " 15  Column4           0 non-null      float64\n",
      "dtypes: float64(4), int64(9), object(3)\n",
      "memory usage: 881.4+ KB\n"
     ]
    }
   ],
   "source": [
    "df.info()"
   ]
  },
  {
   "cell_type": "code",
   "execution_count": 25,
   "id": "ea0e3cdd-faa3-41db-8f54-7c4fd73b5393",
   "metadata": {},
   "outputs": [
    {
     "data": {
      "text/plain": [
       "status_id              0\n",
       "status_type            0\n",
       "status_published       0\n",
       "num_reactions          0\n",
       "num_comments           0\n",
       "num_shares             0\n",
       "num_likes              0\n",
       "num_loves              0\n",
       "num_wows               0\n",
       "num_hahas              0\n",
       "num_sads               0\n",
       "num_angrys             0\n",
       "Column1             7050\n",
       "Column2             7050\n",
       "Column3             7050\n",
       "Column4             7050\n",
       "dtype: int64"
      ]
     },
     "execution_count": 25,
     "metadata": {},
     "output_type": "execute_result"
    }
   ],
   "source": [
    "df.isnull().sum()"
   ]
  },
  {
   "cell_type": "code",
   "execution_count": 26,
   "id": "aff2b516-a6d3-4156-8541-488da22be3d2",
   "metadata": {},
   "outputs": [],
   "source": [
    "df.drop(['Column1', 'Column2', 'Column3', 'Column4'], axis=1, inplace=True)"
   ]
  },
  {
   "cell_type": "code",
   "execution_count": 40,
   "id": "15fd6e2f-84a2-40aa-b89b-a5a4a86059fd",
   "metadata": {},
   "outputs": [],
   "source": [
    "df.drop(['status_id', 'status_published'], axis=1, inplace=True)"
   ]
  },
  {
   "cell_type": "code",
   "execution_count": 27,
   "id": "093ac6b9-4153-48c4-810a-7fbf1fa38019",
   "metadata": {},
   "outputs": [
    {
     "data": {
      "text/html": [
       "<div>\n",
       "<style scoped>\n",
       "    .dataframe tbody tr th:only-of-type {\n",
       "        vertical-align: middle;\n",
       "    }\n",
       "\n",
       "    .dataframe tbody tr th {\n",
       "        vertical-align: top;\n",
       "    }\n",
       "\n",
       "    .dataframe thead th {\n",
       "        text-align: right;\n",
       "    }\n",
       "</style>\n",
       "<table border=\"1\" class=\"dataframe\">\n",
       "  <thead>\n",
       "    <tr style=\"text-align: right;\">\n",
       "      <th></th>\n",
       "      <th>num_reactions</th>\n",
       "      <th>num_comments</th>\n",
       "      <th>num_shares</th>\n",
       "      <th>num_likes</th>\n",
       "      <th>num_loves</th>\n",
       "      <th>num_wows</th>\n",
       "      <th>num_hahas</th>\n",
       "      <th>num_sads</th>\n",
       "      <th>num_angrys</th>\n",
       "    </tr>\n",
       "  </thead>\n",
       "  <tbody>\n",
       "    <tr>\n",
       "      <th>count</th>\n",
       "      <td>7050.000000</td>\n",
       "      <td>7050.000000</td>\n",
       "      <td>7050.000000</td>\n",
       "      <td>7050.000000</td>\n",
       "      <td>7050.000000</td>\n",
       "      <td>7050.000000</td>\n",
       "      <td>7050.000000</td>\n",
       "      <td>7050.000000</td>\n",
       "      <td>7050.000000</td>\n",
       "    </tr>\n",
       "    <tr>\n",
       "      <th>mean</th>\n",
       "      <td>230.117163</td>\n",
       "      <td>224.356028</td>\n",
       "      <td>40.022553</td>\n",
       "      <td>215.043121</td>\n",
       "      <td>12.728652</td>\n",
       "      <td>1.289362</td>\n",
       "      <td>0.696454</td>\n",
       "      <td>0.243688</td>\n",
       "      <td>0.113191</td>\n",
       "    </tr>\n",
       "    <tr>\n",
       "      <th>std</th>\n",
       "      <td>462.625309</td>\n",
       "      <td>889.636820</td>\n",
       "      <td>131.599965</td>\n",
       "      <td>449.472357</td>\n",
       "      <td>39.972930</td>\n",
       "      <td>8.719650</td>\n",
       "      <td>3.957183</td>\n",
       "      <td>1.597156</td>\n",
       "      <td>0.726812</td>\n",
       "    </tr>\n",
       "    <tr>\n",
       "      <th>min</th>\n",
       "      <td>0.000000</td>\n",
       "      <td>0.000000</td>\n",
       "      <td>0.000000</td>\n",
       "      <td>0.000000</td>\n",
       "      <td>0.000000</td>\n",
       "      <td>0.000000</td>\n",
       "      <td>0.000000</td>\n",
       "      <td>0.000000</td>\n",
       "      <td>0.000000</td>\n",
       "    </tr>\n",
       "    <tr>\n",
       "      <th>25%</th>\n",
       "      <td>17.000000</td>\n",
       "      <td>0.000000</td>\n",
       "      <td>0.000000</td>\n",
       "      <td>17.000000</td>\n",
       "      <td>0.000000</td>\n",
       "      <td>0.000000</td>\n",
       "      <td>0.000000</td>\n",
       "      <td>0.000000</td>\n",
       "      <td>0.000000</td>\n",
       "    </tr>\n",
       "    <tr>\n",
       "      <th>50%</th>\n",
       "      <td>59.500000</td>\n",
       "      <td>4.000000</td>\n",
       "      <td>0.000000</td>\n",
       "      <td>58.000000</td>\n",
       "      <td>0.000000</td>\n",
       "      <td>0.000000</td>\n",
       "      <td>0.000000</td>\n",
       "      <td>0.000000</td>\n",
       "      <td>0.000000</td>\n",
       "    </tr>\n",
       "    <tr>\n",
       "      <th>75%</th>\n",
       "      <td>219.000000</td>\n",
       "      <td>23.000000</td>\n",
       "      <td>4.000000</td>\n",
       "      <td>184.750000</td>\n",
       "      <td>3.000000</td>\n",
       "      <td>0.000000</td>\n",
       "      <td>0.000000</td>\n",
       "      <td>0.000000</td>\n",
       "      <td>0.000000</td>\n",
       "    </tr>\n",
       "    <tr>\n",
       "      <th>max</th>\n",
       "      <td>4710.000000</td>\n",
       "      <td>20990.000000</td>\n",
       "      <td>3424.000000</td>\n",
       "      <td>4710.000000</td>\n",
       "      <td>657.000000</td>\n",
       "      <td>278.000000</td>\n",
       "      <td>157.000000</td>\n",
       "      <td>51.000000</td>\n",
       "      <td>31.000000</td>\n",
       "    </tr>\n",
       "  </tbody>\n",
       "</table>\n",
       "</div>"
      ],
      "text/plain": [
       "       num_reactions  num_comments   num_shares    num_likes    num_loves  \\\n",
       "count    7050.000000   7050.000000  7050.000000  7050.000000  7050.000000   \n",
       "mean      230.117163    224.356028    40.022553   215.043121    12.728652   \n",
       "std       462.625309    889.636820   131.599965   449.472357    39.972930   \n",
       "min         0.000000      0.000000     0.000000     0.000000     0.000000   \n",
       "25%        17.000000      0.000000     0.000000    17.000000     0.000000   \n",
       "50%        59.500000      4.000000     0.000000    58.000000     0.000000   \n",
       "75%       219.000000     23.000000     4.000000   184.750000     3.000000   \n",
       "max      4710.000000  20990.000000  3424.000000  4710.000000   657.000000   \n",
       "\n",
       "          num_wows    num_hahas     num_sads   num_angrys  \n",
       "count  7050.000000  7050.000000  7050.000000  7050.000000  \n",
       "mean      1.289362     0.696454     0.243688     0.113191  \n",
       "std       8.719650     3.957183     1.597156     0.726812  \n",
       "min       0.000000     0.000000     0.000000     0.000000  \n",
       "25%       0.000000     0.000000     0.000000     0.000000  \n",
       "50%       0.000000     0.000000     0.000000     0.000000  \n",
       "75%       0.000000     0.000000     0.000000     0.000000  \n",
       "max     278.000000   157.000000    51.000000    31.000000  "
      ]
     },
     "execution_count": 27,
     "metadata": {},
     "output_type": "execute_result"
    }
   ],
   "source": [
    "df.describe()"
   ]
  },
  {
   "cell_type": "markdown",
   "id": "bc3df3ee-c264-41ee-9888-51636f6868e7",
   "metadata": {},
   "source": [
    "# EDA"
   ]
  },
  {
   "cell_type": "code",
   "execution_count": 33,
   "id": "5c95d739-286a-424c-a326-3c6e07bdd9d9",
   "metadata": {},
   "outputs": [
    {
     "data": {
      "text/plain": [
       "<Axes: ylabel='num_reactions'>"
      ]
     },
     "execution_count": 33,
     "metadata": {},
     "output_type": "execute_result"
    },
    {
     "data": {
      "image/png": "[encoded data removed]",
      "text/plain": [
       "<Figure size 640x480 with 1 Axes>"
      ]
     },
     "metadata": {},
     "output_type": "display_data"
    }
   ],
   "source": [
    "sns.lineplot(data=df['num_reactions'])"
   ]
  },
  {
   "cell_type": "code",
   "execution_count": 34,
   "id": "6e46d1ea-8427-411c-a28c-8d1a5879062e",
   "metadata": {},
   "outputs": [
    {
     "data": {
      "text/plain": [
       "<Axes: ylabel='num_sads'>"
      ]
     },
     "execution_count": 34,
     "metadata": {},
     "output_type": "execute_result"
    },
    {
     "data": {
      "image/png": "[encoded data removed]",
      "text/plain": [
       "<Figure size 640x480 with 1 Axes>"
      ]
     },
     "metadata": {},
     "output_type": "display_data"
    }
   ],
   "source": [
    "sns.lineplot(data=df['num_sads'])"
   ]
  },
  {
   "cell_type": "code",
   "execution_count": 35,
   "id": "f425f4e8-d9ff-44a8-9755-c0fd3df104fa",
   "metadata": {},
   "outputs": [
    {
     "data": {
      "text/plain": [
       "<Axes: ylabel='num_comments'>"
      ]
     },
     "execution_count": 35,
     "metadata": {},
     "output_type": "execute_result"
    },
    {
     "data": {
      "image/png": "[encoded data removed]",
      "text/plain": [
       "<Figure size 640x480 with 1 Axes>"
      ]
     },
     "metadata": {},
     "output_type": "display_data"
    }
   ],
   "source": [
    "sns.lineplot(data=df['num_comments'])"
   ]
  },
  {
   "cell_type": "code",
   "execution_count": 39,
   "id": "c16f7175-d588-4d27-998e-56e5809528a6",
   "metadata": {},
   "outputs": [
    {
     "data": {
      "text/plain": [
       "['video', 'photo', 'link', 'status']"
      ]
     },
     "execution_count": 39,
     "metadata": {},
     "output_type": "execute_result"
    }
   ],
   "source": [
    "list(df['status_type'].unique())"
   ]
  },
  {
   "cell_type": "markdown",
   "id": "88e9dd43-a275-4d35-afff-0ff683ff2ca4",
   "metadata": {},
   "source": [
    "# Escalado y preprocesamiento de datos"
   ]
  },
  {
   "cell_type": "code",
   "execution_count": 73,
   "id": "f5c22265-8eb7-45f6-8df5-be24b265f01d",
   "metadata": {},
   "outputs": [],
   "source": [
    "X, y = df, df['status_type']"
   ]
  },
  {
   "cell_type": "code",
   "execution_count": 74,
   "id": "58b7c639-0840-48ac-a0f7-bb0a74927a48",
   "metadata": {},
   "outputs": [],
   "source": [
    "from sklearn.preprocessing import LabelEncoder"
   ]
  },
  {
   "cell_type": "markdown",
   "id": "164bbf0b-0488-493c-9acd-bb00dd2e37df",
   "metadata": {},
   "source": [
    "Convertimos las variables categóricas en numéricas"
   ]
  },
  {
   "cell_type": "code",
   "execution_count": 75,
   "id": "2e18e97a-ec54-4edc-9985-c7ba27aba231",
   "metadata": {},
   "outputs": [],
   "source": [
    "le = LabelEncoder()\n",
    "\n",
    "X['status_type'] = le.fit_transform(X['status_type'])\n",
    "\n",
    "y = le.transform(y)"
   ]
  },
  {
   "cell_type": "code",
   "execution_count": 76,
   "id": "755a715f-6370-4486-bb6e-ebe352c3ae4d",
   "metadata": {},
   "outputs": [],
   "source": [
    "columnas: np.array = X.columns"
   ]
  },
  {
   "cell_type": "code",
   "execution_count": 78,
   "id": "aabb1dde-fafd-489d-9106-ca0f001be380",
   "metadata": {},
   "outputs": [
    {
     "data": {
      "text/plain": [
       "numpy.ndarray"
      ]
     },
     "execution_count": 78,
     "metadata": {},
     "output_type": "execute_result"
    }
   ],
   "source": [
    "type(X)"
   ]
  },
  {
   "cell_type": "markdown",
   "id": "aaf0ffb3-113e-488a-922d-781bef1cac97",
   "metadata": {},
   "source": [
    "El proceso de escalado se utiliza comúnmente en el preprocesamiento de datos para ajustar las características dentro de un rango específico, generalmente entre 0 y 1 o -1 y 1, manteniendo la proporción relativa entre ellas."
   ]
  },
  {
   "cell_type": "code",
   "execution_count": 79,
   "id": "a7a73c33-4b7d-496e-961c-5cf689e1b1df",
   "metadata": {},
   "outputs": [],
   "source": [
    "from sklearn.preprocessing import MinMaxScaler\n",
    "\n",
    "ms = MinMaxScaler()\n",
    "\n",
    "X = ms.fit_transform(X)"
   ]
  },
  {
   "cell_type": "code",
   "execution_count": 80,
   "id": "2fd837d8-d79f-466b-8c57-f402e728e83b",
   "metadata": {},
   "outputs": [],
   "source": [
    "X = pd.DataFrame(X, columns=[columnas])"
   ]
  },
  {
   "cell_type": "code",
   "execution_count": 81,
   "id": "e31660b1-334d-4ba1-a8be-c44806b49f10",
   "metadata": {},
   "outputs": [
    {
     "data": {
      "text/plain": [
       "pandas.core.frame.DataFrame"
      ]
     },
     "execution_count": 81,
     "metadata": {},
     "output_type": "execute_result"
    }
   ],
   "source": [
    "type(X)"
   ]
  },
  {
   "cell_type": "markdown",
   "id": "cc0b491b-1035-4bc7-b156-4343bcfe7cc1",
   "metadata": {},
   "source": [
    "# KMeans"
   ]
  },
  {
   "cell_type": "code",
   "execution_count": 82,
   "id": "c3cf01cc-71de-4d27-925c-cf2aadc44c2e",
   "metadata": {},
   "outputs": [
    {
     "data": {
      "text/html": [
       "<style>#sk-container-id-1 {color: black;}#sk-container-id-1 pre{padding: 0;}#sk-container-id-1 div.sk-toggleable {background-color: white;}#sk-container-id-1 label.sk-toggleable__label {cursor: pointer;display: block;width: 100%;margin-bottom: 0;padding: 0.3em;box-sizing: border-box;text-align: center;}#sk-container-id-1 label.sk-toggleable__label-arrow:before {content: \"▸\";float: left;margin-right: 0.25em;color: #696969;}#sk-container-id-1 label.sk-toggleable__label-arrow:hover:before {color: black;}#sk-container-id-1 div.sk-estimator:hover label.sk-toggleable__label-arrow:before {color: black;}#sk-container-id-1 div.sk-toggleable__content {max-height: 0;max-width: 0;overflow: hidden;text-align: left;background-color: #f0f8ff;}#sk-container-id-1 div.sk-toggleable__content pre {margin: 0.2em;color: black;border-radius: 0.25em;background-color: #f0f8ff;}#sk-container-id-1 input.sk-toggleable__control:checked~div.sk-toggleable__content {max-height: 200px;max-width: 100%;overflow: auto;}#sk-container-id-1 input.sk-toggleable__control:checked~label.sk-toggleable__label-arrow:before {content: \"▾\";}#sk-container-id-1 div.sk-estimator input.sk-toggleable__control:checked~label.sk-toggleable__label {background-color: #d4ebff;}#sk-container-id-1 div.sk-label input.sk-toggleable__control:checked~label.sk-toggleable__label {background-color: #d4ebff;}#sk-container-id-1 input.sk-hidden--visually {border: 0;clip: rect(1px 1px 1px 1px);clip: rect(1px, 1px, 1px, 1px);height: 1px;margin: -1px;overflow: hidden;padding: 0;position: absolute;width: 1px;}#sk-container-id-1 div.sk-estimator {font-family: monospace;background-color: #f0f8ff;border: 1px dotted black;border-radius: 0.25em;box-sizing: border-box;margin-bottom: 0.5em;}#sk-container-id-1 div.sk-estimator:hover {background-color: #d4ebff;}#sk-container-id-1 div.sk-parallel-item::after {content: \"\";width: 100%;border-bottom: 1px solid gray;flex-grow: 1;}#sk-container-id-1 div.sk-label:hover label.sk-toggleable__label {background-color: #d4ebff;}#sk-container-id-1 div.sk-serial::before {content: \"\";position: absolute;border-left: 1px solid gray;box-sizing: border-box;top: 0;bottom: 0;left: 50%;z-index: 0;}#sk-container-id-1 div.sk-serial {display: flex;flex-direction: column;align-items: center;background-color: white;padding-right: 0.2em;padding-left: 0.2em;position: relative;}#sk-container-id-1 div.sk-item {position: relative;z-index: 1;}#sk-container-id-1 div.sk-parallel {display: flex;align-items: stretch;justify-content: center;background-color: white;position: relative;}#sk-container-id-1 div.sk-item::before, #sk-container-id-1 div.sk-parallel-item::before {content: \"\";position: absolute;border-left: 1px solid gray;box-sizing: border-box;top: 0;bottom: 0;left: 50%;z-index: -1;}#sk-container-id-1 div.sk-parallel-item {display: flex;flex-direction: column;z-index: 1;position: relative;background-color: white;}#sk-container-id-1 div.sk-parallel-item:first-child::after {align-self: flex-end;width: 50%;}#sk-container-id-1 div.sk-parallel-item:last-child::after {align-self: flex-start;width: 50%;}#sk-container-id-1 div.sk-parallel-item:only-child::after {width: 0;}#sk-container-id-1 div.sk-dashed-wrapped {border: 1px dashed gray;margin: 0 0.4em 0.5em 0.4em;box-sizing: border-box;padding-bottom: 0.4em;background-color: white;}#sk-container-id-1 div.sk-label label {font-family: monospace;font-weight: bold;display: inline-block;line-height: 1.2em;}#sk-container-id-1 div.sk-label-container {text-align: center;}#sk-container-id-1 div.sk-container {/* jupyter's `normalize.less` sets `[hidden] { display: none; }` but bootstrap.min.css set `[hidden] { display: none !important; }` so we also need the `!important` here to be able to override the default hidden behavior on the sphinx rendered scikit-learn.org. See: https://github.com/scikit-learn/scikit-learn/issues/21755 */display: inline-block !important;position: relative;}#sk-container-id-1 div.sk-text-repr-fallback {display: none;}</style><div id=\"sk-container-id-1\" class=\"sk-top-container\"><div class=\"sk-text-repr-fallback\"><pre>KMeans(n_clusters=2, random_state=0)</pre><b>In a Jupyter environment, please rerun this cell to show the HTML representation or trust the notebook. <br />On GitHub, the HTML representation is unable to render, please try loading this page with nbviewer.org.</b></div><div class=\"sk-container\" hidden><div class=\"sk-item\"><div class=\"sk-estimator sk-toggleable\"><input class=\"sk-toggleable__control sk-hidden--visually\" id=\"sk-estimator-id-1\" type=\"checkbox\" checked><label for=\"sk-estimator-id-1\" class=\"sk-toggleable__label sk-toggleable__label-arrow\">KMeans</label><div class=\"sk-toggleable__content\"><pre>KMeans(n_clusters=2, random_state=0)</pre></div></div></div></div></div>"
      ],
      "text/plain": [
       "KMeans(n_clusters=2, random_state=0)"
      ]
     },
     "execution_count": 82,
     "metadata": {},
     "output_type": "execute_result"
    }
   ],
   "source": [
    "from sklearn.cluster import KMeans\n",
    "\n",
    "kmeans = KMeans(n_clusters=2, random_state=0) \n",
    "\n",
    "kmeans.fit(X)"
   ]
  },
  {
   "cell_type": "code",
   "execution_count": 83,
   "id": "4c932b32-54b2-471a-8118-af054c0f6d67",
   "metadata": {},
   "outputs": [
    {
     "data": {
      "text/plain": [
       "array([[9.54921576e-01, 6.46330441e-02, 2.67028654e-02, 2.93171709e-02,\n",
       "        5.71231462e-02, 4.71007076e-02, 8.18581889e-03, 9.65207685e-03,\n",
       "        8.04219428e-03, 7.19501847e-03],\n",
       "       [3.28506857e-01, 3.90710874e-02, 7.54854864e-04, 7.53667113e-04,\n",
       "        3.85438884e-02, 2.17448568e-03, 2.43721364e-03, 1.20039760e-03,\n",
       "        2.75348016e-03, 1.45313276e-03]])"
      ]
     },
     "execution_count": 83,
     "metadata": {},
     "output_type": "execute_result"
    }
   ],
   "source": [
    "kmeans.cluster_centers_"
   ]
  },
  {
   "cell_type": "code",
   "execution_count": 88,
   "id": "f2fa56c1-b49d-48cf-b52b-5fd2edd3ca22",
   "metadata": {},
   "outputs": [
    {
     "name": "stdout",
     "output_type": "stream",
     "text": [
      "60.823% de las etiquetas fueron correctamente etiquetadas.\n"
     ]
    }
   ],
   "source": [
    "labels = kmeans.labels_\n",
    "\n",
    "correct_labels = sum(y == labels)\n",
    "\n",
    "porcentaje: int = round(correct_labels / y.size * 100, 3)\n",
    "print(f'{porcentaje}% de las etiquetas fueron correctamente etiquetadas.')"
   ]
  },
  {
   "cell_type": "markdown",
   "id": "3ee88443-d86c-4102-b80b-8a17107e5881",
   "metadata": {},
   "source": [
    "## Método del codo\n",
    "Graficamos la función de costo\n",
    "\r\n",
    "kmeans.inertia_ es un atributo de un modelo KMeans en la biblioteca scikit-learn de Python. Representa la suma de las distancias al cuadrado de cada punto de datos dentro de su respectivo cluster, en relación con el centroide de ese cluster.\r\n",
    "\r\n",
    "En términos simples, kmeans.inertia_ proporciona una medida de la dispersión de los puntos de datos dentro de los clusters encontrados por el modelo KMeans. Cuanto menor sea el valor de inertia_, más compactos y cohesivos serán los clusters, ya que indica que los puntos de datos están más cerca de sus centroides respectivos. Por lo tanto, se utiliza como una métrica para evaluar qué tan bien se ajustan los datos al modelo de clusteri\n",
    "\n",
    "En el siguiente gráfico el pliegue está en\n",
    "\r\n",
    "\r\n",
    "\r\n",
    "\r\n"
   ]
  },
  {
   "cell_type": "code",
   "execution_count": 90,
   "id": "f3185a13-486d-43f4-8d2c-6e744b3e567a",
   "metadata": {},
   "outputs": [
    {
     "data": {
      "image/png": "[encoded data removed]",
      "text/plain": [
       "<Figure size 640x480 with 1 Axes>"
      ]
     },
     "metadata": {},
     "output_type": "display_data"
    }
   ],
   "source": [
    "from sklearn.cluster import KMeans\n",
    "cs = []\n",
    "for i in range(1, 11):\n",
    "    kmeans = KMeans(n_clusters = i, \n",
    "                    init = 'k-means++',\n",
    "                    max_iter = 300,\n",
    "                    n_init = 10,\n",
    "                    random_state = 0)\n",
    "    kmeans.fit(X)\n",
    "    cs.append(kmeans.inertia_)\n",
    "    \n",
    "plt.plot(range(1, 11), cs)\n",
    "plt.title('Metodo del code')\n",
    "plt.xlabel('Numero de clusters')\n",
    "plt.ylabel('Dispersión')\n",
    "plt.show()"
   ]
  },
  {
   "cell_type": "markdown",
   "id": "a7934ea5-c0a8-472e-a6e3-e34cfe61777f",
   "metadata": {},
   "source": [
    "$$|\\frac{d}{dx}(f(x)-\\alpha)-\\frac{d}{dx}(f(x)+\\alpha)|$$ \n",
    "$$donde$$ \n",
    "$$\\alpha \\approx 0$$"
   ]
  },
  {
   "cell_type": "code",
   "execution_count": 93,
   "id": "d75e46f2-952d-42cf-968c-8a0ca85aebf1",
   "metadata": {},
   "outputs": [
    {
     "name": "stdout",
     "output_type": "stream",
     "text": [
      "60.823% de las etiquetas fueron correctamente etiquetadas.\n",
      "Puntaje de presición: 0.61\n"
     ]
    }
   ],
   "source": [
    "from sklearn.cluster import KMeans\n",
    "\n",
    "kmeans = KMeans(n_clusters=2,\n",
    "                random_state=0)\n",
    "\n",
    "kmeans.fit(X)\n",
    "\n",
    "labels = kmeans.labels_\n",
    "\n",
    "correct_labels = sum(y == labels)\n",
    "\n",
    "porcentaje: int = round(correct_labels / y.size * 100, 3)\n",
    "\n",
    "print(f'{porcentaje}% de las etiquetas fueron correctamente etiquetadas.')\n",
    "print('Puntaje de presición: {0:0.2f}'. format(correct_labels/float(y.size)))"
   ]
  },
  {
   "cell_type": "code",
   "execution_count": 98,
   "id": "a5916370-e351-473c-b72a-05c3b4d6ee40",
   "metadata": {},
   "outputs": [
    {
     "name": "stdout",
     "output_type": "stream",
     "text": [
      "1.461% de las etiquetas fueron correctamente etiquetadas.\n",
      "Puntaje de presición: 0.01\n"
     ]
    }
   ],
   "source": [
    "from sklearn.cluster import KMeans\n",
    "\n",
    "kmeans = KMeans(n_clusters=7,\n",
    "                random_state=0)\n",
    "\n",
    "kmeans.fit(X)\n",
    "\n",
    "labels = kmeans.labels_\n",
    "\n",
    "correct_labels = sum(y == labels)\n",
    "\n",
    "porcentaje: int = round(correct_labels / y.size * 100, 3)\n",
    "\n",
    "print(f'{porcentaje}% de las etiquetas fueron correctamente etiquetadas.')\n",
    "print('Puntaje de presición: {0:0.2f}'. format(correct_labels/float(y.size)))"
   ]
  },
  {
   "cell_type": "markdown",
   "id": "f46db3a0-9e82-4c89-8be3-36a4c309bcc5",
   "metadata": {},
   "source": [
    "# Conclusiones\n",
    "En este proyecto, he implementado la técnica de clustering no supervisado más popular llamada Clustering K-Means.\r\n",
    "\r\n",
    "He aplicado el método del codo y encontré que k=2 (donde k es el número de clusters) puede considerarse un buen número de clusters para agrupar estos datos.\r\n",
    "\r\n",
    "Observé que el modelo tiene una inercia muy alta de 237.7572. Por lo tanto, este modelo no se ajusta bien a los datos.\r\n",
    "\r\n",
    "Logré una débil precisión de clasificación del 1% con k=2 utilizando nuestro modelo no supervisado.\r\n",
    "\r\n",
    "Así que cambié el valor de k y encontré una precisión de clasificación relativamente mayor del 62% con k=4.\r\n",
    "\r\n",
    "Por lo tanto, podemos concluir que k=4 es el número óptimo de clusters."
   ]
  },
  {
   "cell_type": "code",
   "execution_count": null,
   "id": "f792ce71-7285-4184-9ca5-888b0d7d8782",
   "metadata": {},
   "outputs": [],
   "source": []
  }
 ],
 "metadata": {
  "kernelspec": {
   "display_name": "Python 3 (ipykernel)",
   "language": "python",
   "name": "python3"
  },
  "language_info": {
   "codemirror_mode": {
    "name": "ipython",
    "version": 3
   },
   "file_extension": ".py",
   "mimetype": "text/x-python",
   "name": "python",
   "nbconvert_exporter": "python",
   "pygments_lexer": "ipython3",
   "version": "3.11.5"
  }
 },
 "nbformat": 4,
 "nbformat_minor": 5
}
