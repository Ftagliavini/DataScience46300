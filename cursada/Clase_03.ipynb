{
 "cells": [
  {
   "cell_type": "markdown",
   "metadata": {
    "id": "5P_AVQCeKgAB"
   },
   "source": [
    "# Clase 3"
   ]
  },
  {
   "cell_type": "code",
   "execution_count": 6,
   "metadata": {},
   "outputs": [
    {
     "name": "stdout",
     "output_type": "stream",
     "text": [
      "[1, 2, 3, 4]\n",
      "[1, 2, 3, 4, 5]\n"
     ]
    }
   ],
   "source": [
    "# lista...es mutable!\n",
    "\n",
    "lista = [1,2,3,4]\n",
    "print(lista)\n",
    "\n",
    "lista.append(5)\n",
    "print(lista)"
   ]
  },
  {
   "cell_type": "code",
   "execution_count": 7,
   "metadata": {},
   "outputs": [
    {
     "name": "stdout",
     "output_type": "stream",
     "text": [
      "(1, 2, 3, 4)\n"
     ]
    },
    {
     "ename": "AttributeError",
     "evalue": "'tuple' object has no attribute 'append'",
     "output_type": "error",
     "traceback": [
      "\u001b[1;31m---------------------------------------------------------------------------\u001b[0m",
      "\u001b[1;31mAttributeError\u001b[0m                            Traceback (most recent call last)",
      "Cell \u001b[1;32mIn[7], line 6\u001b[0m\n\u001b[0;32m      3\u001b[0m tupla \u001b[38;5;241m=\u001b[39m (\u001b[38;5;241m1\u001b[39m,\u001b[38;5;241m2\u001b[39m,\u001b[38;5;241m3\u001b[39m,\u001b[38;5;241m4\u001b[39m)\n\u001b[0;32m      4\u001b[0m \u001b[38;5;28mprint\u001b[39m(tupla)\n\u001b[1;32m----> 6\u001b[0m \u001b[43mtupla\u001b[49m\u001b[38;5;241;43m.\u001b[39;49m\u001b[43mappend\u001b[49m(\u001b[38;5;241m5\u001b[39m)\n\u001b[0;32m      7\u001b[0m \u001b[38;5;28mprint\u001b[39m(tupla)\n",
      "\u001b[1;31mAttributeError\u001b[0m: 'tuple' object has no attribute 'append'"
     ]
    }
   ],
   "source": [
    "# tupla....no es mutable!\n",
    "\n",
    "tupla = (1,2,3,4)\n",
    "print(tupla)\n",
    "\n",
    "tupla.append(5)\n",
    "print(tupla)"
   ]
  },
  {
   "cell_type": "code",
   "execution_count": 8,
   "metadata": {},
   "outputs": [
    {
     "name": "stdout",
     "output_type": "stream",
     "text": [
      "(1, 2, 3)\n",
      "(1, 2, 3, 4)\n"
     ]
    }
   ],
   "source": [
    "# peeroooooo...hay un truquito\n",
    "\n",
    "tupla_original = (1, 2, 3)\n",
    "\n",
    "print(tupla_original)\n",
    "\n",
    "nuevo_elemento = 4\n",
    "\n",
    "nueva_tupla = tupla_original + (nuevo_elemento,)\n",
    "\n",
    "print(nueva_tupla)"
   ]
  },
  {
   "cell_type": "markdown",
   "metadata": {},
   "source": [
    "## Estructuras de control"
   ]
  },
  {
   "cell_type": "code",
   "execution_count": null,
   "metadata": {},
   "outputs": [],
   "source": [
    "# ciclo FOR\n",
    "\n",
    "for i in range(1,8):\n",
    "    print(i)"
   ]
  },
  {
   "cell_type": "code",
   "execution_count": null,
   "metadata": {},
   "outputs": [],
   "source": [
    "# otro ejemplo de ciclo for con una lista\n",
    "\n",
    "for i in [\"alumnos\",1,2,3]:\n",
    "    print(i)"
   ]
  },
  {
   "cell_type": "code",
   "execution_count": null,
   "metadata": {},
   "outputs": [],
   "source": [
    "# ciclo WHILE\n",
    "\n",
    "i = 4\n",
    "\n",
    "while i < 10:\n",
    "    print(i)\n",
    "    i += 1"
   ]
  },
  {
   "cell_type": "code",
   "execution_count": 5,
   "metadata": {},
   "outputs": [
    {
     "name": "stdout",
     "output_type": "stream",
     "text": [
      "es igual a 10\n"
     ]
    }
   ],
   "source": [
    "# ciclo IF\n",
    "\n",
    "x = 10\n",
    "\n",
    "if x < 10:\n",
    "    print(\"es menor que 10\")\n",
    "elif x > 10:\n",
    "    print(\"es mayor que 10\")\n",
    "else:\n",
    "    print(\"es igual a 10\")"
   ]
  },
  {
   "cell_type": "markdown",
   "metadata": {
    "id": "CijARi_MMmc8"
   },
   "source": [
    "## Comparando elementos de una lista"
   ]
  },
  {
   "cell_type": "code",
   "execution_count": null,
   "metadata": {
    "colab": {
     "base_uri": "https://localhost:8080/"
    },
    "executionInfo": {
     "elapsed": 270,
     "status": "ok",
     "timestamp": 1639758389932,
     "user": {
      "displayName": "david francisco bustos usta",
      "photoUrl": "https://lh3.googleusercontent.com/a-/AOh14Gi4e7mWJaOA2l-1KUn-omyigRGSrm83lG6XLzS5=s64",
      "userId": "04741209928239412574"
     },
     "user_tz": 300
    },
    "id": "82i68M17MlQk",
    "outputId": "8afdd050-7f40-4127-b248-d441893ce61b"
   },
   "outputs": [],
   "source": [
    "\n",
    "# Creamos una lsita con los valores \n",
    "valores = [200, 225, 232, 221, 243, 256, 255]\n",
    "\n",
    "# Utilizar un bucle for para recorrer la lista de valores\n",
    "for valor in valores:\n",
    "    # Verificar si el valor es menor que 220\n",
    "    if valor < 230:\n",
    "        # Si es menor, imprimir \"ES MENOR QUE 220\"\n",
    "        print(\"ES MENOR QUE 220\")\n",
    "    else:\n",
    "        # Si no es menor, imprimir el valor\n",
    "        print(valor)"
   ]
  },
  {
   "cell_type": "markdown",
   "metadata": {},
   "source": [
    "## Armando una funcion!"
   ]
  },
  {
   "cell_type": "code",
   "execution_count": null,
   "metadata": {},
   "outputs": [],
   "source": [
    "# Definición de la función 'calcular_area_rectangulo'\n",
    "def calcular_area_rectangulo(ancho, alto):\n",
    "    area = ancho * alto\n",
    "    return area\n",
    "\n",
    "# Llamada a la función 'calcular_area_rectangulo' con dos argumentos\n",
    "ancho = 5\n",
    "alto = 3\n",
    "area_resultante = calcular_area_rectangulo(ancho, alto)\n",
    "\n",
    "# Imprimir el área resultante\n",
    "print(\"El área de un rectángulo con ancho\", ancho, \"y alto\", alto, \"es igual a\", area_resultante)"
   ]
  }
 ],
 "metadata": {
  "colab": {
   "authorship_tag": "ABX9TyOnhZys1OGaUetJMDTlPhPt",
   "collapsed_sections": [],
   "name": "Clase_04.ipynb",
   "provenance": []
  },
  "kernelspec": {
   "display_name": "Python 3 (ipykernel)",
   "language": "python",
   "name": "python3"
  },
  "language_info": {
   "codemirror_mode": {
    "name": "ipython",
    "version": 3
   },
   "file_extension": ".py",
   "mimetype": "text/x-python",
   "name": "python",
   "nbconvert_exporter": "python",
   "pygments_lexer": "ipython3",
   "version": "3.9.7"
  }
 },
 "nbformat": 4,
 "nbformat_minor": 1
}
