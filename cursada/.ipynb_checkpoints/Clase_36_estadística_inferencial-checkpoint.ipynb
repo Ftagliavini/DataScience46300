{
  "nbformat": 4,
  "nbformat_minor": 0,
  "metadata": {
    "colab": {
      "provenance": []
    },
    "kernelspec": {
      "name": "python3",
      "display_name": "Python 3"
    },
    "language_info": {
      "name": "python"
    }
  },
  "cells": [
    {
      "cell_type": "markdown",
      "source": [
        "## CLASE 36 -Analisis bivariado\n",
        "### Coderhouse - Data Science\n"
      ],
      "metadata": {
        "id": "T-5tT1ZBIFLO"
      }
    },
    {
      "cell_type": "code",
      "execution_count": 1,
      "metadata": {
        "id": "7TiJwJbZA8Vb"
      },
      "outputs": [],
      "source": [
        "#Importamos las librerias\n",
        "\n",
        "# Operaciones Basicas\n",
        "import numpy as np\n",
        "import pandas as pd\n",
        "\n",
        "# Operaciones estadísticas\n",
        "import scipy.stats as stats\n",
        "\n",
        "# Visualizacion de Datos\n",
        "import matplotlib.pyplot as plt\n",
        "import seaborn as sns\n",
        "\n",
        "# revisar http://saber.ucv.ve/bitstream/10872/18490/1/Otros%20Coeficientes%20Correlaci%C3%B3n_FHE_UCV.pdf"
      ]
    },
    {
      "cell_type": "markdown",
      "source": [
        "## p value\n",
        "\n",
        "El valor de p no representa la probabilidad de que la hipótesis nula sea cierta:partimos del supuesto de que la hipótesis nula es cierta y es bajo ese supuesto en el que calculamos el valor de p.\n",
        "\n",
        "Una p < 0,05 significa que la hipótesis nula es falsa y una p > 0,05 que la hipótesis nula es verdadera: siempre nos movemos en el terreno de la probabilidad. Una p < 0,05 quiere simplemente decir que es poco probable que la H0 sea cierta, luego la rechazamos para abrazar la alternativa, pero siempre tenemos cierta probabilidad de cometer lo que se denomina un error de tipo 1: rechazar la hipótesis nula cuando en realidad es verdadera. Por otra parte, el valor de p > 0,05 no afirma que la H0 sea verdadera, ya que puede ocurrir que la diferencia sea real y el estudio no tenga potencia para detectarla. Estaremos ante el error de tipo 2: no rechazar la hipótesis de nulidad (y afirmar que no existe el efecto) cuando en realidad sí que existe en la población.\n",
        "\n",
        "\n",
        "El valor de p tiene relación con la fiabilidad del estudio, cuyo resultado será más fiable cuanto menor sea la p: en realidad, el valor de p nos indicaría la probabilidad de obtener un valor semejante si se realiza el experimento en las mismas condiciones, pero hay muchos factores que pueden intervenir además del hecho de que exista o no diferencia real: el tamaño de la muestra, la varianza de la variable medida, el tamaño del efecto, la distribución de probabilidad empleada, etc.\n",
        "\n",
        "Fuente: https://scielo.isciii.es/scielo.php?script=sci_arttext&pid=S1139-76322017000500014"
      ],
      "metadata": {
        "id": "ttO1HvCuccr9"
      }
    },
    {
      "cell_type": "markdown",
      "source": [
        "##Coeficiente de correlación de Pearson:\n",
        "\n",
        "Utilizaremos las siguientes hipótesis:\n",
        "\n",
        "Ho= no hay correlación lineal entre las variables\n",
        "\n",
        "Ha= si hay correlación lineal entre las variables\n",
        "\n",
        "\n",
        "\n"
      ],
      "metadata": {
        "id": "fb_eFnxTLOlf"
      }
    },
    {
      "cell_type": "markdown",
      "source": [
        "El valor del coeficiente de correlación de pearson, punto biserial y spearman pueden oscilar entre -1 y 1. Un valor de 0 indica que no existe correlación entre las dos variables. Un valor positivo indica que las dos variables están correlacionadas positivamente, lo que significa que los valores de una variable tienden a aumentar con los valores de la otra variable. Un valor negativo indica que las dos variables están correlacionadas negativamente, lo que significa que los valores de una variable tienden a disminuir con los valores de la otra variable.\n",
        "\n",
        "revisar https://support.minitab.com/es-mx/minitab/21/help-and-how-to/statistics/basic-statistics/supporting-topics/correlation-and-covariance/a-comparison-of-the-pearson-and-spearman-correlation-methods/"
      ],
      "metadata": {
        "id": "ioc5iRkdh-hh"
      }
    },
    {
      "cell_type": "code",
      "source": [
        "\n",
        "\n",
        "# Ejemplo de dos variables numéricas\n",
        "x = [1, 2.1, 3, 4, 5]\n",
        "y = [2, 4, 6, 8, 10]\n",
        "\n",
        "# Calcular la correlación de Pearson y su valor p\n",
        "correlation, p_value = stats.pearsonr(x, y)\n",
        "\n",
        "# Imprimir los resultados\n",
        "print(\"Correlación de Pearson:\", correlation)\n",
        "print(\"Valor p:\", p_value)\n",
        "\n",
        "# Crear el gráfico de dispersión\n",
        "plt.scatter(x, y)\n",
        "plt.xlabel('Variable X')\n",
        "plt.ylabel('Variable Y')\n",
        "plt.show()\n",
        "\n",
        "\n"
      ],
      "metadata": {
        "colab": {
          "base_uri": "https://localhost:8080/",
          "height": 484
        },
        "id": "3DVGmrVLMIXM",
        "outputId": "03346888-f82b-48a3-bda5-cd9b56715b26"
      },
      "execution_count": 2,
      "outputs": [
        {
          "output_type": "stream",
          "name": "stdout",
          "text": [
            "Correlación de Pearson: 0.999643084755999\n",
            "Valor p: 8.093907763950646e-06\n"
          ]
        },
        {
          "output_type": "display_data",
          "data": {
            "text/plain": [
              "<Figure size 640x480 with 1 Axes>"
            ],
            "image/png": "[encoded data removed]"
          },
          "metadata": {}
        }
      ]
    },
    {
      "cell_type": "markdown",
      "source": [
        " Si el valor p es menor que el nivel de significancia predefinido (por ejemplo, 0.05), se rechaza la hipótesis nula a favor de la hipótesis alternativa, que afirma que hay una correlación lineal significativa entre las variables."
      ],
      "metadata": {
        "id": "H0Mpz55LM3lI"
      }
    },
    {
      "cell_type": "markdown",
      "source": [
        "##Coeficiente de Spearman:"
      ],
      "metadata": {
        "id": "El1H88ppODTR"
      }
    },
    {
      "cell_type": "markdown",
      "source": [
        "Utilizaremos las siguientes hipótesis:\n",
        "\n",
        "Ho= no hay correlación entre las variables\n",
        "\n",
        "Ha= si hay correlación entre las variables\n",
        "\n",
        "La interpretación del valor p en el coeficiente de Spearman es similar a la interpretación en otros contextos estadísticos. Un valor p pequeño (generalmente menor que 0.05) indica que la probabilidad de obtener una correlación tan fuerte o más fuerte que la observada bajo la hipótesis nula es baja. Por lo tanto, se considera que hay evidencia suficiente para rechazar la hipótesis nula y concluir que existe una correlación significativa entre las variables.\n",
        "\n",
        "Por otro lado, un valor p grande (generalmente mayor que 0.05) indica que la probabilidad de obtener una correlación tan fuerte o más fuerte que la observada bajo la hipótesis nula es alta. En este caso, no hay suficiente evidencia para rechazar la hipótesis nula y se concluye que no hay una correlación significativa entre las variables."
      ],
      "metadata": {
        "id": "EpwUvKn5VbGw"
      }
    },
    {
      "cell_type": "code",
      "source": [
        "import scipy.stats as stats\n",
        "import pandas as pd\n",
        "# Datos de ejemplo\n",
        "#Satisfaccion_producto = [\"Muy insatisfecho\", \"indiferente\",\"Muy satisfecho\", \"Satisfecho\", \"Muy satisfecho\",  \"Insatisfecho\", \"Insatisfecho\", \"insatisfecho\"]\n",
        "#Calidad_servicio_empresa = [\"Insatisfecho\", \"indiferente\",\"Muy satisfecho\", \"Muy Satisfecho\", \"Muy satisfecho\",  \"Insatisfecho\", \"Insatisfecho\", \"Muy insatisfecho\"]\n",
        "Satisfaccion_producto= [1, 3, 5, 4, 5, 2, 2, 2]\n",
        "Calidad_servicio_empresa = [2, 3, 5, 5, 5, 2, 2, 1]\n",
        "df = pd.DataFrame({\n",
        "    \"Satisfacción del producto\": Satisfaccion_producto,\n",
        "    \"Calidad del servicio\": Calidad_servicio_empresa})\n",
        "df\n"
      ],
      "metadata": {
        "colab": {
          "base_uri": "https://localhost:8080/",
          "height": 300
        },
        "id": "FN_hqODQVDHf",
        "outputId": "93c48f59-70a3-432f-87af-47fe33f31a96"
      },
      "execution_count": 3,
      "outputs": [
        {
          "output_type": "execute_result",
          "data": {
            "text/plain": [
              "   Satisfacción del producto  Calidad del servicio\n",
              "0                          1                     2\n",
              "1                          3                     3\n",
              "2                          5                     5\n",
              "3                          4                     5\n",
              "4                          5                     5\n",
              "5                          2                     2\n",
              "6                          2                     2\n",
              "7                          2                     1"
            ],
            "text/html": [
              "\n",
              "  <div id=\"df-f39294a7-01a3-43c5-a5ec-aebc33c3e79b\" class=\"colab-df-container\">\n",
              "    <div>\n",
              "<style scoped>\n",
              "    .dataframe tbody tr th:only-of-type {\n",
              "        vertical-align: middle;\n",
              "    }\n",
              "\n",
              "    .dataframe tbody tr th {\n",
              "        vertical-align: top;\n",
              "    }\n",
              "\n",
              "    .dataframe thead th {\n",
              "        text-align: right;\n",
              "    }\n",
              "</style>\n",
              "<table border=\"1\" class=\"dataframe\">\n",
              "  <thead>\n",
              "    <tr style=\"text-align: right;\">\n",
              "      <th></th>\n",
              "      <th>Satisfacción del producto</th>\n",
              "      <th>Calidad del servicio</th>\n",
              "    </tr>\n",
              "  </thead>\n",
              "  <tbody>\n",
              "    <tr>\n",
              "      <th>0</th>\n",
              "      <td>1</td>\n",
              "      <td>2</td>\n",
              "    </tr>\n",
              "    <tr>\n",
              "      <th>1</th>\n",
              "      <td>3</td>\n",
              "      <td>3</td>\n",
              "    </tr>\n",
              "    <tr>\n",
              "      <th>2</th>\n",
              "      <td>5</td>\n",
              "      <td>5</td>\n",
              "    </tr>\n",
              "    <tr>\n",
              "      <th>3</th>\n",
              "      <td>4</td>\n",
              "      <td>5</td>\n",
              "    </tr>\n",
              "    <tr>\n",
              "      <th>4</th>\n",
              "      <td>5</td>\n",
              "      <td>5</td>\n",
              "    </tr>\n",
              "    <tr>\n",
              "      <th>5</th>\n",
              "      <td>2</td>\n",
              "      <td>2</td>\n",
              "    </tr>\n",
              "    <tr>\n",
              "      <th>6</th>\n",
              "      <td>2</td>\n",
              "      <td>2</td>\n",
              "    </tr>\n",
              "    <tr>\n",
              "      <th>7</th>\n",
              "      <td>2</td>\n",
              "      <td>1</td>\n",
              "    </tr>\n",
              "  </tbody>\n",
              "</table>\n",
              "</div>\n",
              "    <div class=\"colab-df-buttons\">\n",
              "\n",
              "  <div class=\"colab-df-container\">\n",
              "    <button class=\"colab-df-convert\" onclick=\"convertToInteractive('df-f39294a7-01a3-43c5-a5ec-aebc33c3e79b')\"\n",
              "            title=\"Convert this dataframe to an interactive table.\"\n",
              "            style=\"display:none;\">\n",
              "\n",
              "  <svg xmlns=\"http://www.w3.org/2000/svg\" height=\"24px\" viewBox=\"0 -960 960 960\">\n",
              "    <path d=\"M120-120v-720h720v720H120Zm60-500h600v-160H180v160Zm220 220h160v-160H400v160Zm0 220h160v-160H400v160ZM180-400h160v-160H180v160Zm440 0h160v-160H620v160ZM180-180h160v-160H180v160Zm440 0h160v-160H620v160Z\"/>\n",
              "  </svg>\n",
              "    </button>\n",
              "\n",
              "  <style>\n",
              "    .colab-df-container {\n",
              "      display:flex;\n",
              "      gap: 12px;\n",
              "    }\n",
              "\n",
              "    .colab-df-convert {\n",
              "      background-color: #E8F0FE;\n",
              "      border: none;\n",
              "      border-radius: 50%;\n",
              "      cursor: pointer;\n",
              "      display: none;\n",
              "      fill: #1967D2;\n",
              "      height: 32px;\n",
              "      padding: 0 0 0 0;\n",
              "      width: 32px;\n",
              "    }\n",
              "\n",
              "    .colab-df-convert:hover {\n",
              "      background-color: #E2EBFA;\n",
              "      box-shadow: 0px 1px 2px rgba(60, 64, 67, 0.3), 0px 1px 3px 1px rgba(60, 64, 67, 0.15);\n",
              "      fill: #174EA6;\n",
              "    }\n",
              "\n",
              "    .colab-df-buttons div {\n",
              "      margin-bottom: 4px;\n",
              "    }\n",
              "\n",
              "    [theme=dark] .colab-df-convert {\n",
              "      background-color: #3B4455;\n",
              "      fill: #D2E3FC;\n",
              "    }\n",
              "\n",
              "    [theme=dark] .colab-df-convert:hover {\n",
              "      background-color: #434B5C;\n",
              "      box-shadow: 0px 1px 3px 1px rgba(0, 0, 0, 0.15);\n",
              "      filter: drop-shadow(0px 1px 2px rgba(0, 0, 0, 0.3));\n",
              "      fill: #FFFFFF;\n",
              "    }\n",
              "  </style>\n",
              "\n",
              "    <script>\n",
              "      const buttonEl =\n",
              "        document.querySelector('#df-f39294a7-01a3-43c5-a5ec-aebc33c3e79b button.colab-df-convert');\n",
              "      buttonEl.style.display =\n",
              "        google.colab.kernel.accessAllowed ? 'block' : 'none';\n",
              "\n",
              "      async function convertToInteractive(key) {\n",
              "        const element = document.querySelector('#df-f39294a7-01a3-43c5-a5ec-aebc33c3e79b');\n",
              "        const dataTable =\n",
              "          await google.colab.kernel.invokeFunction('convertToInteractive',\n",
              "                                                    [key], {});\n",
              "        if (!dataTable) return;\n",
              "\n",
              "        const docLinkHtml = 'Like what you see? Visit the ' +\n",
              "          '<a target=\"_blank\" href=https://colab.research.google.com/notebooks/data_table.ipynb>data table notebook</a>'\n",
              "          + ' to learn more about interactive tables.';\n",
              "        element.innerHTML = '';\n",
              "        dataTable['output_type'] = 'display_data';\n",
              "        await google.colab.output.renderOutput(dataTable, element);\n",
              "        const docLink = document.createElement('div');\n",
              "        docLink.innerHTML = docLinkHtml;\n",
              "        element.appendChild(docLink);\n",
              "      }\n",
              "    </script>\n",
              "  </div>\n",
              "\n",
              "\n",
              "<div id=\"df-5bd74da4-b3d3-4c34-8226-9e4673470763\">\n",
              "  <button class=\"colab-df-quickchart\" onclick=\"quickchart('df-5bd74da4-b3d3-4c34-8226-9e4673470763')\"\n",
              "            title=\"Suggest charts\"\n",
              "            style=\"display:none;\">\n",
              "\n",
              "<svg xmlns=\"http://www.w3.org/2000/svg\" height=\"24px\"viewBox=\"0 0 24 24\"\n",
              "     width=\"24px\">\n",
              "    <g>\n",
              "        <path d=\"M19 3H5c-1.1 0-2 .9-2 2v14c0 1.1.9 2 2 2h14c1.1 0 2-.9 2-2V5c0-1.1-.9-2-2-2zM9 17H7v-7h2v7zm4 0h-2V7h2v10zm4 0h-2v-4h2v4z\"/>\n",
              "    </g>\n",
              "</svg>\n",
              "  </button>\n",
              "\n",
              "<style>\n",
              "  .colab-df-quickchart {\n",
              "      --bg-color: #E8F0FE;\n",
              "      --fill-color: #1967D2;\n",
              "      --hover-bg-color: #E2EBFA;\n",
              "      --hover-fill-color: #174EA6;\n",
              "      --disabled-fill-color: #AAA;\n",
              "      --disabled-bg-color: #DDD;\n",
              "  }\n",
              "\n",
              "  [theme=dark] .colab-df-quickchart {\n",
              "      --bg-color: #3B4455;\n",
              "      --fill-color: #D2E3FC;\n",
              "      --hover-bg-color: #434B5C;\n",
              "      --hover-fill-color: #FFFFFF;\n",
              "      --disabled-bg-color: #3B4455;\n",
              "      --disabled-fill-color: #666;\n",
              "  }\n",
              "\n",
              "  .colab-df-quickchart {\n",
              "    background-color: var(--bg-color);\n",
              "    border: none;\n",
              "    border-radius: 50%;\n",
              "    cursor: pointer;\n",
              "    display: none;\n",
              "    fill: var(--fill-color);\n",
              "    height: 32px;\n",
              "    padding: 0;\n",
              "    width: 32px;\n",
              "  }\n",
              "\n",
              "  .colab-df-quickchart:hover {\n",
              "    background-color: var(--hover-bg-color);\n",
              "    box-shadow: 0 1px 2px rgba(60, 64, 67, 0.3), 0 1px 3px 1px rgba(60, 64, 67, 0.15);\n",
              "    fill: var(--button-hover-fill-color);\n",
              "  }\n",
              "\n",
              "  .colab-df-quickchart-complete:disabled,\n",
              "  .colab-df-quickchart-complete:disabled:hover {\n",
              "    background-color: var(--disabled-bg-color);\n",
              "    fill: var(--disabled-fill-color);\n",
              "    box-shadow: none;\n",
              "  }\n",
              "\n",
              "  .colab-df-spinner {\n",
              "    border: 2px solid var(--fill-color);\n",
              "    border-color: transparent;\n",
              "    border-bottom-color: var(--fill-color);\n",
              "    animation:\n",
              "      spin 1s steps(1) infinite;\n",
              "  }\n",
              "\n",
              "  @keyframes spin {\n",
              "    0% {\n",
              "      border-color: transparent;\n",
              "      border-bottom-color: var(--fill-color);\n",
              "      border-left-color: var(--fill-color);\n",
              "    }\n",
              "    20% {\n",
              "      border-color: transparent;\n",
              "      border-left-color: var(--fill-color);\n",
              "      border-top-color: var(--fill-color);\n",
              "    }\n",
              "    30% {\n",
              "      border-color: transparent;\n",
              "      border-left-color: var(--fill-color);\n",
              "      border-top-color: var(--fill-color);\n",
              "      border-right-color: var(--fill-color);\n",
              "    }\n",
              "    40% {\n",
              "      border-color: transparent;\n",
              "      border-right-color: var(--fill-color);\n",
              "      border-top-color: var(--fill-color);\n",
              "    }\n",
              "    60% {\n",
              "      border-color: transparent;\n",
              "      border-right-color: var(--fill-color);\n",
              "    }\n",
              "    80% {\n",
              "      border-color: transparent;\n",
              "      border-right-color: var(--fill-color);\n",
              "      border-bottom-color: var(--fill-color);\n",
              "    }\n",
              "    90% {\n",
              "      border-color: transparent;\n",
              "      border-bottom-color: var(--fill-color);\n",
              "    }\n",
              "  }\n",
              "</style>\n",
              "\n",
              "  <script>\n",
              "    async function quickchart(key) {\n",
              "      const quickchartButtonEl =\n",
              "        document.querySelector('#' + key + ' button');\n",
              "      quickchartButtonEl.disabled = true;  // To prevent multiple clicks.\n",
              "      quickchartButtonEl.classList.add('colab-df-spinner');\n",
              "      try {\n",
              "        const charts = await google.colab.kernel.invokeFunction(\n",
              "            'suggestCharts', [key], {});\n",
              "      } catch (error) {\n",
              "        console.error('Error during call to suggestCharts:', error);\n",
              "      }\n",
              "      quickchartButtonEl.classList.remove('colab-df-spinner');\n",
              "      quickchartButtonEl.classList.add('colab-df-quickchart-complete');\n",
              "    }\n",
              "    (() => {\n",
              "      let quickchartButtonEl =\n",
              "        document.querySelector('#df-5bd74da4-b3d3-4c34-8226-9e4673470763 button');\n",
              "      quickchartButtonEl.style.display =\n",
              "        google.colab.kernel.accessAllowed ? 'block' : 'none';\n",
              "    })();\n",
              "  </script>\n",
              "</div>\n",
              "\n",
              "  <div id=\"id_e00564e1-219e-4982-92f9-327f7368f83d\">\n",
              "    <style>\n",
              "      .colab-df-generate {\n",
              "        background-color: #E8F0FE;\n",
              "        border: none;\n",
              "        border-radius: 50%;\n",
              "        cursor: pointer;\n",
              "        display: none;\n",
              "        fill: #1967D2;\n",
              "        height: 32px;\n",
              "        padding: 0 0 0 0;\n",
              "        width: 32px;\n",
              "      }\n",
              "\n",
              "      .colab-df-generate:hover {\n",
              "        background-color: #E2EBFA;\n",
              "        box-shadow: 0px 1px 2px rgba(60, 64, 67, 0.3), 0px 1px 3px 1px rgba(60, 64, 67, 0.15);\n",
              "        fill: #174EA6;\n",
              "      }\n",
              "\n",
              "      [theme=dark] .colab-df-generate {\n",
              "        background-color: #3B4455;\n",
              "        fill: #D2E3FC;\n",
              "      }\n",
              "\n",
              "      [theme=dark] .colab-df-generate:hover {\n",
              "        background-color: #434B5C;\n",
              "        box-shadow: 0px 1px 3px 1px rgba(0, 0, 0, 0.15);\n",
              "        filter: drop-shadow(0px 1px 2px rgba(0, 0, 0, 0.3));\n",
              "        fill: #FFFFFF;\n",
              "      }\n",
              "    </style>\n",
              "    <button class=\"colab-df-generate\" onclick=\"generateWithVariable('df')\"\n",
              "            title=\"Generate code using this dataframe.\"\n",
              "            style=\"display:none;\">\n",
              "\n",
              "  <svg xmlns=\"http://www.w3.org/2000/svg\" height=\"24px\"viewBox=\"0 0 24 24\"\n",
              "       width=\"24px\">\n",
              "    <path d=\"M7,19H8.4L18.45,9,17,7.55,7,17.6ZM5,21V16.75L18.45,3.32a2,2,0,0,1,2.83,0l1.4,1.43a1.91,1.91,0,0,1,.58,1.4,1.91,1.91,0,0,1-.58,1.4L9.25,21ZM18.45,9,17,7.55Zm-12,3A5.31,5.31,0,0,0,4.9,8.1,5.31,5.31,0,0,0,1,6.5,5.31,5.31,0,0,0,4.9,4.9,5.31,5.31,0,0,0,6.5,1,5.31,5.31,0,0,0,8.1,4.9,5.31,5.31,0,0,0,12,6.5,5.46,5.46,0,0,0,6.5,12Z\"/>\n",
              "  </svg>\n",
              "    </button>\n",
              "    <script>\n",
              "      (() => {\n",
              "      const buttonEl =\n",
              "        document.querySelector('#id_e00564e1-219e-4982-92f9-327f7368f83d button.colab-df-generate');\n",
              "      buttonEl.style.display =\n",
              "        google.colab.kernel.accessAllowed ? 'block' : 'none';\n",
              "\n",
              "      buttonEl.onclick = () => {\n",
              "        google.colab.notebook.generateWithVariable('df');\n",
              "      }\n",
              "      })();\n",
              "    </script>\n",
              "  </div>\n",
              "\n",
              "    </div>\n",
              "  </div>\n"
            ]
          },
          "metadata": {},
          "execution_count": 3
        }
      ]
    },
    {
      "cell_type": "code",
      "source": [
        "\n",
        "# Calcular el coeficiente de Spearman\n",
        "coeficiente, p_valor = stats.spearmanr(df[\"Satisfacción del producto\"], df[\"Calidad del servicio\"])\n",
        "\n",
        "# Imprimir el coeficiente de Spearman y el p-valor\n",
        "print(\"Coeficiente de Spearman:\", coeficiente)\n",
        "print(\"P-valor:\", p_valor)\n",
        "\n",
        "# leer https://estadisticacienciassocialesr.rbind.io/relaci%C3%B3n-entre-variables-el-an%C3%A1lisis.html"
      ],
      "metadata": {
        "colab": {
          "base_uri": "https://localhost:8080/"
        },
        "id": "m1wmI20FarR8",
        "outputId": "f3c410fe-3e91-4c6e-fef3-ea1620c578a7"
      },
      "execution_count": 4,
      "outputs": [
        {
          "output_type": "stream",
          "name": "stdout",
          "text": [
            "Coeficiente de Spearman: 0.8775837459634346\n",
            "P-valor: 0.004175481184953827\n"
          ]
        }
      ]
    },
    {
      "cell_type": "markdown",
      "source": [
        "En este caso se rechaza la hipotesis nula y se acepta la alternativa donde si hay correlación significativa entre las variables"
      ],
      "metadata": {
        "id": "21W7hpGLPT19"
      }
    },
    {
      "cell_type": "markdown",
      "source": [
        "\n",
        "##Coeficiente Biserial\n",
        "Hipótesis nula: No existe correlación entre una variable dicotómica y una variable métrica.\n",
        "\n",
        "\n",
        "Hipótesis alternativa: Existe correlación entre una variable dicotómica y una variable métrica.\n",
        "\n",
        "\n"
      ],
      "metadata": {
        "id": "wUWgO1WhgA6w"
      }
    },
    {
      "cell_type": "code",
      "source": [
        "import scipy.stats as stats\n",
        "import numpy as np\n",
        "\n",
        "#Variable dicotómica: ¿El animal es un elefante? donde 1 es elefenate y 0 es otro animal.\n",
        "\n",
        "#Variable métrica: ¿Cuánto tiempo vive el animal?\n",
        "\n",
        "# Datos de ejemplo\n",
        "variable_categorica = [0, 0, 1, 1, 0, 1, 1, 0, 0, 1]  # Variable categórica binaria\n",
        "variable_numerica = [10, 7.8, 40, 55.1, 12.7, 34.2, 64.9, 11.5, 10.1, 43.7]  # Variable numérica\n",
        "\n",
        "# Calcular el coeficiente de correlación de punto biserial\n",
        "coeficiente, p_valor = stats.pointbiserialr(variable_categorica, variable_numerica)\n",
        "\n",
        "# Imprimir el coeficiente de correlación de punto biserial y el p-valor\n",
        "print(\"Coeficiente de correlación de punto biserial:\", coeficiente)\n",
        "print(\"P-valor:\", p_valor)"
      ],
      "metadata": {
        "colab": {
          "base_uri": "https://localhost:8080/"
        },
        "id": "7PmPhvZwW44h",
        "outputId": "080bfd8f-504f-4f7a-e826-e944a9128bb8"
      },
      "execution_count": 5,
      "outputs": [
        {
          "output_type": "stream",
          "name": "stdout",
          "text": [
            "Coeficiente de correlación de punto biserial: 0.9205535474913543\n",
            "P-valor: 0.0001582190481275363\n"
          ]
        }
      ]
    },
    {
      "cell_type": "markdown",
      "source": [
        "## Daños por granizo en cultivos, estimación de daños:"
      ],
      "metadata": {
        "id": "v8i4WgfExo_l"
      }
    },
    {
      "cell_type": "code",
      "source": [
        "df= pd.read_csv(\"daños_cultivos.csv\")\n",
        "df.head()"
      ],
      "metadata": {
        "colab": {
          "base_uri": "https://localhost:8080/",
          "height": 206
        },
        "id": "VS5Whsoixt6k",
        "outputId": "f97f7ddf-5c0c-4a6c-9ea9-ca52942e933a"
      },
      "execution_count": null,
      "outputs": [
        {
          "output_type": "execute_result",
          "data": {
            "text/plain": [
              "  CULTIVO  DAÑO   DESPUES     ANTES\n",
              "0   TRIGO  44.4  0.226424  0.339636\n",
              "1   TRIGO  23.4  0.194901  0.292352\n",
              "2   TRIGO  32.2  0.226369  0.339554\n",
              "3   TRIGO  72.3  0.207483  0.311225\n",
              "4   TRIGO  67.7  0.309072  0.463609"
            ],
            "text/html": [
              "\n",
              "  <div id=\"df-ac047443-1a2c-45ac-ac06-b74e09d3dc96\" class=\"colab-df-container\">\n",
              "    <div>\n",
              "<style scoped>\n",
              "    .dataframe tbody tr th:only-of-type {\n",
              "        vertical-align: middle;\n",
              "    }\n",
              "\n",
              "    .dataframe tbody tr th {\n",
              "        vertical-align: top;\n",
              "    }\n",
              "\n",
              "    .dataframe thead th {\n",
              "        text-align: right;\n",
              "    }\n",
              "</style>\n",
              "<table border=\"1\" class=\"dataframe\">\n",
              "  <thead>\n",
              "    <tr style=\"text-align: right;\">\n",
              "      <th></th>\n",
              "      <th>CULTIVO</th>\n",
              "      <th>DAÑO</th>\n",
              "      <th>DESPUES</th>\n",
              "      <th>ANTES</th>\n",
              "    </tr>\n",
              "  </thead>\n",
              "  <tbody>\n",
              "    <tr>\n",
              "      <th>0</th>\n",
              "      <td>TRIGO</td>\n",
              "      <td>44.4</td>\n",
              "      <td>0.226424</td>\n",
              "      <td>0.339636</td>\n",
              "    </tr>\n",
              "    <tr>\n",
              "      <th>1</th>\n",
              "      <td>TRIGO</td>\n",
              "      <td>23.4</td>\n",
              "      <td>0.194901</td>\n",
              "      <td>0.292352</td>\n",
              "    </tr>\n",
              "    <tr>\n",
              "      <th>2</th>\n",
              "      <td>TRIGO</td>\n",
              "      <td>32.2</td>\n",
              "      <td>0.226369</td>\n",
              "      <td>0.339554</td>\n",
              "    </tr>\n",
              "    <tr>\n",
              "      <th>3</th>\n",
              "      <td>TRIGO</td>\n",
              "      <td>72.3</td>\n",
              "      <td>0.207483</td>\n",
              "      <td>0.311225</td>\n",
              "    </tr>\n",
              "    <tr>\n",
              "      <th>4</th>\n",
              "      <td>TRIGO</td>\n",
              "      <td>67.7</td>\n",
              "      <td>0.309072</td>\n",
              "      <td>0.463609</td>\n",
              "    </tr>\n",
              "  </tbody>\n",
              "</table>\n",
              "</div>\n",
              "    <div class=\"colab-df-buttons\">\n",
              "\n",
              "  <div class=\"colab-df-container\">\n",
              "    <button class=\"colab-df-convert\" onclick=\"convertToInteractive('df-ac047443-1a2c-45ac-ac06-b74e09d3dc96')\"\n",
              "            title=\"Convert this dataframe to an interactive table.\"\n",
              "            style=\"display:none;\">\n",
              "\n",
              "  <svg xmlns=\"http://www.w3.org/2000/svg\" height=\"24px\" viewBox=\"0 -960 960 960\">\n",
              "    <path d=\"M120-120v-720h720v720H120Zm60-500h600v-160H180v160Zm220 220h160v-160H400v160Zm0 220h160v-160H400v160ZM180-400h160v-160H180v160Zm440 0h160v-160H620v160ZM180-180h160v-160H180v160Zm440 0h160v-160H620v160Z\"/>\n",
              "  </svg>\n",
              "    </button>\n",
              "\n",
              "  <style>\n",
              "    .colab-df-container {\n",
              "      display:flex;\n",
              "      gap: 12px;\n",
              "    }\n",
              "\n",
              "    .colab-df-convert {\n",
              "      background-color: #E8F0FE;\n",
              "      border: none;\n",
              "      border-radius: 50%;\n",
              "      cursor: pointer;\n",
              "      display: none;\n",
              "      fill: #1967D2;\n",
              "      height: 32px;\n",
              "      padding: 0 0 0 0;\n",
              "      width: 32px;\n",
              "    }\n",
              "\n",
              "    .colab-df-convert:hover {\n",
              "      background-color: #E2EBFA;\n",
              "      box-shadow: 0px 1px 2px rgba(60, 64, 67, 0.3), 0px 1px 3px 1px rgba(60, 64, 67, 0.15);\n",
              "      fill: #174EA6;\n",
              "    }\n",
              "\n",
              "    .colab-df-buttons div {\n",
              "      margin-bottom: 4px;\n",
              "    }\n",
              "\n",
              "    [theme=dark] .colab-df-convert {\n",
              "      background-color: #3B4455;\n",
              "      fill: #D2E3FC;\n",
              "    }\n",
              "\n",
              "    [theme=dark] .colab-df-convert:hover {\n",
              "      background-color: #434B5C;\n",
              "      box-shadow: 0px 1px 3px 1px rgba(0, 0, 0, 0.15);\n",
              "      filter: drop-shadow(0px 1px 2px rgba(0, 0, 0, 0.3));\n",
              "      fill: #FFFFFF;\n",
              "    }\n",
              "  </style>\n",
              "\n",
              "    <script>\n",
              "      const buttonEl =\n",
              "        document.querySelector('#df-ac047443-1a2c-45ac-ac06-b74e09d3dc96 button.colab-df-convert');\n",
              "      buttonEl.style.display =\n",
              "        google.colab.kernel.accessAllowed ? 'block' : 'none';\n",
              "\n",
              "      async function convertToInteractive(key) {\n",
              "        const element = document.querySelector('#df-ac047443-1a2c-45ac-ac06-b74e09d3dc96');\n",
              "        const dataTable =\n",
              "          await google.colab.kernel.invokeFunction('convertToInteractive',\n",
              "                                                    [key], {});\n",
              "        if (!dataTable) return;\n",
              "\n",
              "        const docLinkHtml = 'Like what you see? Visit the ' +\n",
              "          '<a target=\"_blank\" href=https://colab.research.google.com/notebooks/data_table.ipynb>data table notebook</a>'\n",
              "          + ' to learn more about interactive tables.';\n",
              "        element.innerHTML = '';\n",
              "        dataTable['output_type'] = 'display_data';\n",
              "        await google.colab.output.renderOutput(dataTable, element);\n",
              "        const docLink = document.createElement('div');\n",
              "        docLink.innerHTML = docLinkHtml;\n",
              "        element.appendChild(docLink);\n",
              "      }\n",
              "    </script>\n",
              "  </div>\n",
              "\n",
              "\n",
              "<div id=\"df-f404236a-e712-409a-ac8d-73399f0a7211\">\n",
              "  <button class=\"colab-df-quickchart\" onclick=\"quickchart('df-f404236a-e712-409a-ac8d-73399f0a7211')\"\n",
              "            title=\"Suggest charts\"\n",
              "            style=\"display:none;\">\n",
              "\n",
              "<svg xmlns=\"http://www.w3.org/2000/svg\" height=\"24px\"viewBox=\"0 0 24 24\"\n",
              "     width=\"24px\">\n",
              "    <g>\n",
              "        <path d=\"M19 3H5c-1.1 0-2 .9-2 2v14c0 1.1.9 2 2 2h14c1.1 0 2-.9 2-2V5c0-1.1-.9-2-2-2zM9 17H7v-7h2v7zm4 0h-2V7h2v10zm4 0h-2v-4h2v4z\"/>\n",
              "    </g>\n",
              "</svg>\n",
              "  </button>\n",
              "\n",
              "<style>\n",
              "  .colab-df-quickchart {\n",
              "      --bg-color: #E8F0FE;\n",
              "      --fill-color: #1967D2;\n",
              "      --hover-bg-color: #E2EBFA;\n",
              "      --hover-fill-color: #174EA6;\n",
              "      --disabled-fill-color: #AAA;\n",
              "      --disabled-bg-color: #DDD;\n",
              "  }\n",
              "\n",
              "  [theme=dark] .colab-df-quickchart {\n",
              "      --bg-color: #3B4455;\n",
              "      --fill-color: #D2E3FC;\n",
              "      --hover-bg-color: #434B5C;\n",
              "      --hover-fill-color: #FFFFFF;\n",
              "      --disabled-bg-color: #3B4455;\n",
              "      --disabled-fill-color: #666;\n",
              "  }\n",
              "\n",
              "  .colab-df-quickchart {\n",
              "    background-color: var(--bg-color);\n",
              "    border: none;\n",
              "    border-radius: 50%;\n",
              "    cursor: pointer;\n",
              "    display: none;\n",
              "    fill: var(--fill-color);\n",
              "    height: 32px;\n",
              "    padding: 0;\n",
              "    width: 32px;\n",
              "  }\n",
              "\n",
              "  .colab-df-quickchart:hover {\n",
              "    background-color: var(--hover-bg-color);\n",
              "    box-shadow: 0 1px 2px rgba(60, 64, 67, 0.3), 0 1px 3px 1px rgba(60, 64, 67, 0.15);\n",
              "    fill: var(--button-hover-fill-color);\n",
              "  }\n",
              "\n",
              "  .colab-df-quickchart-complete:disabled,\n",
              "  .colab-df-quickchart-complete:disabled:hover {\n",
              "    background-color: var(--disabled-bg-color);\n",
              "    fill: var(--disabled-fill-color);\n",
              "    box-shadow: none;\n",
              "  }\n",
              "\n",
              "  .colab-df-spinner {\n",
              "    border: 2px solid var(--fill-color);\n",
              "    border-color: transparent;\n",
              "    border-bottom-color: var(--fill-color);\n",
              "    animation:\n",
              "      spin 1s steps(1) infinite;\n",
              "  }\n",
              "\n",
              "  @keyframes spin {\n",
              "    0% {\n",
              "      border-color: transparent;\n",
              "      border-bottom-color: var(--fill-color);\n",
              "      border-left-color: var(--fill-color);\n",
              "    }\n",
              "    20% {\n",
              "      border-color: transparent;\n",
              "      border-left-color: var(--fill-color);\n",
              "      border-top-color: var(--fill-color);\n",
              "    }\n",
              "    30% {\n",
              "      border-color: transparent;\n",
              "      border-left-color: var(--fill-color);\n",
              "      border-top-color: var(--fill-color);\n",
              "      border-right-color: var(--fill-color);\n",
              "    }\n",
              "    40% {\n",
              "      border-color: transparent;\n",
              "      border-right-color: var(--fill-color);\n",
              "      border-top-color: var(--fill-color);\n",
              "    }\n",
              "    60% {\n",
              "      border-color: transparent;\n",
              "      border-right-color: var(--fill-color);\n",
              "    }\n",
              "    80% {\n",
              "      border-color: transparent;\n",
              "      border-right-color: var(--fill-color);\n",
              "      border-bottom-color: var(--fill-color);\n",
              "    }\n",
              "    90% {\n",
              "      border-color: transparent;\n",
              "      border-bottom-color: var(--fill-color);\n",
              "    }\n",
              "  }\n",
              "</style>\n",
              "\n",
              "  <script>\n",
              "    async function quickchart(key) {\n",
              "      const quickchartButtonEl =\n",
              "        document.querySelector('#' + key + ' button');\n",
              "      quickchartButtonEl.disabled = true;  // To prevent multiple clicks.\n",
              "      quickchartButtonEl.classList.add('colab-df-spinner');\n",
              "      try {\n",
              "        const charts = await google.colab.kernel.invokeFunction(\n",
              "            'suggestCharts', [key], {});\n",
              "      } catch (error) {\n",
              "        console.error('Error during call to suggestCharts:', error);\n",
              "      }\n",
              "      quickchartButtonEl.classList.remove('colab-df-spinner');\n",
              "      quickchartButtonEl.classList.add('colab-df-quickchart-complete');\n",
              "    }\n",
              "    (() => {\n",
              "      let quickchartButtonEl =\n",
              "        document.querySelector('#df-f404236a-e712-409a-ac8d-73399f0a7211 button');\n",
              "      quickchartButtonEl.style.display =\n",
              "        google.colab.kernel.accessAllowed ? 'block' : 'none';\n",
              "    })();\n",
              "  </script>\n",
              "</div>\n",
              "    </div>\n",
              "  </div>\n"
            ]
          },
          "metadata": {},
          "execution_count": 6
        }
      ]
    },
    {
      "cell_type": "code",
      "source": [
        "df.columns"
      ],
      "metadata": {
        "colab": {
          "base_uri": "https://localhost:8080/"
        },
        "id": "zeAGRR3FB7q9",
        "outputId": "d6be2512-9f8d-46f1-8c68-fa0871a48e45"
      },
      "execution_count": null,
      "outputs": [
        {
          "output_type": "execute_result",
          "data": {
            "text/plain": [
              "Index(['CULTIVO', 'DAÑO', 'DESPUES', 'ANTES'], dtype='object')"
            ]
          },
          "metadata": {},
          "execution_count": 7
        }
      ]
    },
    {
      "cell_type": "code",
      "source": [
        "# Calcular las medias\n",
        "\n",
        "medias = df[['ANTES', 'DESPUES']].mean()\n",
        "\n",
        "medias.plot(kind='bar')\n",
        "\n",
        "# Personalizar el gráfico\n",
        "plt.xlabel('Variables')\n",
        "plt.ylabel('NDVI')\n",
        "plt.title('Gráfico de barras de medias')\n",
        "\n",
        "plt.show()"
      ],
      "metadata": {
        "colab": {
          "base_uri": "https://localhost:8080/",
          "height": 522
        },
        "id": "5Pz8DfUXBMKt",
        "outputId": "2faa264d-26a1-4c15-acb0-2a97d0d1bc35"
      },
      "execution_count": null,
      "outputs": [
        {
          "output_type": "display_data",
          "data": {
            "text/plain": [
              "<Figure size 640x480 with 1 Axes>"
            ],
            "image/png": "[encoded data removed]"
          },
          "metadata": {}
        }
      ]
    },
    {
      "cell_type": "markdown",
      "source": [
        "Las pruebas t de muestras dependientes o pareadas, consisten\n",
        "típicamente en una muestra de pares de valores con similares unidades estadísticas, o un grupo de unidades que han sido evaluadas en dos ocasiones diferentes (Martelo, 2009). Un ejemplo típico de prueba t para muestras pareadas sería el caso de estudio analizado donde se requiere evaluar una respuesta\n",
        "espectral de los cultivos antes y después del impacto por granizo."
      ],
      "metadata": {
        "id": "Y9gsfq7BAasH"
      }
    },
    {
      "cell_type": "markdown",
      "source": [
        "Al tener un gráfico de barras donde por pocos decimales se ve un\n",
        "decrecimiento posiblemente por daños de granizo, surgió la necesidad de comprobar si realmente las medias de los índices satelitales antes y después del impacto eran o no iguales. Para este fin se empleó un test de comparación de medias (t de Student). Sánchez, en el 2015 realizó un trabajo titulado “t-Student. Usos y abusos”. En la cual hace hincapié en la necesidad de verificar la normalidad de los datos\n",
        "antes de aplicar la prueba t-Student. Ergo, fue el paso previo que se realizó antes de plantear un test de hipótesis."
      ],
      "metadata": {
        "id": "uD8mu2LSA2yZ"
      }
    },
    {
      "cell_type": "code",
      "source": [
        "# Calcular la media\n",
        "media = df['ANTES'].mean()\n",
        "\n",
        "# Calcular la mediana\n",
        "mediana = df['ANTES'].median()\n",
        "\n",
        "# Calcular la moda\n",
        "moda = df['ANTES'].mode().values[0]\n",
        "\n",
        "# Calcular la asimetría\n",
        "asimetria = df['ANTES'].skew()\n",
        "\n",
        "# Imprimir los resultados\n",
        "print(\"Media:\", media)\n",
        "print(\"Mediana:\", mediana)\n",
        "print(\"Moda:\", moda)\n",
        "print(\"Asimetría:\", asimetria)"
      ],
      "metadata": {
        "colab": {
          "base_uri": "https://localhost:8080/"
        },
        "id": "XYbykjVc8WEK",
        "outputId": "e89a259b-78bc-4492-e12f-56719f2e3091"
      },
      "execution_count": null,
      "outputs": [
        {
          "output_type": "stream",
          "name": "stdout",
          "text": [
            "Media: 0.35923585700151983\n",
            "Mediana: 0.34725075798207\n",
            "Moda: 0.3245439280617102\n",
            "Asimetría: 0.015442710799842814\n"
          ]
        }
      ]
    },
    {
      "cell_type": "code",
      "source": [
        "# Calcular la media\n",
        "media = df['DESPUES'].mean()\n",
        "\n",
        "# Calcular la mediana\n",
        "mediana = df['DESPUES'].median()\n",
        "\n",
        "# Calcular la moda\n",
        "moda = df['DESPUES'].mode().values[0]\n",
        "\n",
        "# Calcular la asimetría\n",
        "asimetria = df['DESPUES'].skew()\n",
        "\n",
        "# Imprimir los resultados\n",
        "print(\"Media:\", media)\n",
        "print(\"Mediana:\", mediana)\n",
        "print(\"Moda:\", moda)\n",
        "print(\"Asimetría:\", asimetria)"
      ],
      "metadata": {
        "colab": {
          "base_uri": "https://localhost:8080/"
        },
        "id": "lFA1VhAP8vgD",
        "outputId": "3dcb7d97-3f3c-47ae-8858-30e1900a3803"
      },
      "execution_count": null,
      "outputs": [
        {
          "output_type": "stream",
          "name": "stdout",
          "text": [
            "Media: 0.2394905713343466\n",
            "Mediana: 0.23150050532138\n",
            "Moda: 0.2163626187078068\n",
            "Asimetría: 0.015442710799840552\n"
          ]
        }
      ]
    },
    {
      "cell_type": "code",
      "source": [
        "# Realizar la prueba de normalidad Shapiro-Wilk\n",
        "estadistico, p_valor = stats.shapiro(df.ANTES)\n",
        "\n",
        "# Imprimir el estadístico de la prueba y el p-valor\n",
        "print(\"Estadístico de la prueba:\", estadistico)\n",
        "print(\"P-valor:\", p_valor)"
      ],
      "metadata": {
        "colab": {
          "base_uri": "https://localhost:8080/"
        },
        "id": "mMqC8w-6ypqY",
        "outputId": "8791b7fd-b17b-483c-e1f0-7866978c17be"
      },
      "execution_count": null,
      "outputs": [
        {
          "output_type": "stream",
          "name": "stdout",
          "text": [
            "Estadístico de la prueba: 0.9904489517211914\n",
            "P-valor: 0.6311466097831726\n"
          ]
        }
      ]
    },
    {
      "cell_type": "markdown",
      "source": [
        "Ho: Datos normales\n",
        "\n",
        "Hip. Alterna: H1 : Datos NO normales\n",
        "\n",
        " Recuerden que p value es la probabilidad de obtener un resultado igual o más extremo al observado, suponiendo que la hipótesis nula sea verdadera\n",
        "\n",
        " Cuanto menor sea el valor p, menor será la probabilidad de obtener ese resultado si la hipótesis nula fuera cierta."
      ],
      "metadata": {
        "id": "1OhtXSXpFX7n"
      }
    },
    {
      "cell_type": "code",
      "source": [
        "# Realizar la prueba de normalidad Shapiro-Wilk\n",
        "estadistico, p_valor = stats.shapiro(df.DESPUES)\n",
        "\n",
        "# Imprimir el estadístico de la prueba y el p-valor\n",
        "print(\"Estadístico de la prueba:\", estadistico)\n",
        "print(\"P-valor:\", p_valor)"
      ],
      "metadata": {
        "colab": {
          "base_uri": "https://localhost:8080/"
        },
        "id": "Wbpe1voD89xR",
        "outputId": "4887f0b0-ce6a-4726-dbd3-0060d87b16bc"
      },
      "execution_count": null,
      "outputs": [
        {
          "output_type": "stream",
          "name": "stdout",
          "text": [
            "Estadístico de la prueba: 0.9904487133026123\n",
            "P-valor: 0.6311269402503967\n"
          ]
        }
      ]
    },
    {
      "cell_type": "code",
      "source": [
        "from scipy.stats import ttest_rel\n",
        "#from scipy.stats import ttest_ind en caso de muestras independientes no relacionadas\n",
        "\n",
        "\n",
        "# Calcular la prueba t para muestras pareadas\n",
        "resultado = ttest_rel(df.ANTES, df.DESPUES)\n",
        "\n",
        "# Imprimir el resultado\n",
        "print(\"Estadístico t:\", resultado.statistic)\n",
        "print(\"Valor p:\", resultado.pvalue)"
      ],
      "metadata": {
        "colab": {
          "base_uri": "https://localhost:8080/"
        },
        "id": "VFiv2mzI9TLz",
        "outputId": "d5548e84-ea3e-4236-df2b-add2f11d4435"
      },
      "execution_count": null,
      "outputs": [
        {
          "output_type": "stream",
          "name": "stdout",
          "text": [
            "Estadístico t: 38.691073868648495\n",
            "Valor p: 6.935945438638028e-66\n"
          ]
        }
      ]
    },
    {
      "cell_type": "markdown",
      "source": [
        "Hipótesis nula (Ho)\n",
        "\n",
        "Ho: µAntes = µDespués\n",
        "\n",
        "Y una hipótesis alternativa (Ha)\n",
        "\n",
        "Ha: µAntes ≠ µDespués\n",
        "\n",
        "µAntes: promedio de los valores de índices satelitales antes del impacto.\n",
        "\n",
        "µDespués: promedio de los valores de índices satelitales despues del impacto.\n",
        "\n",
        "\n",
        "\n",
        "La hipótesis nula para esta prueba establece que no hay diferencia significativa entre las dos muestras emparejadas. Si el valor p es menor que un umbral de significancia predefinido (por ejemplo, 0.05), se puede rechazar la hipótesis nula y concluir que hay una diferencia significativa entre las muestras emparejadas."
      ],
      "metadata": {
        "id": "6ya-Aj54-h_y"
      }
    },
    {
      "cell_type": "markdown",
      "source": [
        "La prueba t de Student se utiliza comúnmente para comparar las medias de dos grupos y determinar si hay una diferencia significativa entre ellos. Al realizar esta comparación, se asume que los datos siguen una distribución normal y que las varianzas de los dos grupos son iguales (en el caso de la prueba t para muestras independientes) o que las diferencias entre las mediciones emparejadas siguen una distribución normal (en el caso de la prueba t para muestras pareadas).\n",
        "\n",
        "Un ejemplo de su aplicación en salud:\n",
        "\n",
        "En estudios científicos y médicos, se puede utilizar para comparar las medias de dos grupos de pacientes que reciben diferentes tratamientos y determinar si hay una diferencia significativa en los resultados.\n",
        "\n"
      ],
      "metadata": {
        "id": "Fyy3oNmMDGGu"
      }
    },
    {
      "cell_type": "markdown",
      "source": [
        "leer https://es.wikipedia.org/wiki/Teorema_del_l%C3%ADmite_central para profundizar en el teorema del limite central"
      ],
      "metadata": {
        "id": "XjKBPGT8KmC2"
      }
    }
  ]
}